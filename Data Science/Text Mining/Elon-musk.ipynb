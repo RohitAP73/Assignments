{
 "cells": [
  {
   "cell_type": "markdown",
   "id": "0993feaf",
   "metadata": {},
   "source": [
    "## 1) Perform sentimental analysis on the Elon-musk tweets (Elon-musk.csv)"
   ]
  },
  {
   "cell_type": "code",
   "execution_count": 1,
   "id": "72332750",
   "metadata": {
    "ExecuteTime": {
     "end_time": "2023-03-08T21:36:57.414962Z",
     "start_time": "2023-03-08T21:36:56.518387Z"
    }
   },
   "outputs": [],
   "source": [
    "import pandas as pd\n",
    "import nltk\n",
    "from nltk.corpus import stopwords\n",
    "from nltk.stem import PorterStemmer, WordNetLemmatizer\n",
    "from nltk.tokenize import sent_tokenize, word_tokenize, TweetTokenizer\n",
    "from sklearn.feature_extraction.text import CountVectorizer, TfidfVectorizer\n",
    "from textblob import TextBlob\n",
    "import re"
   ]
  },
  {
   "cell_type": "code",
   "execution_count": 2,
   "id": "6e76109f",
   "metadata": {
    "ExecuteTime": {
     "end_time": "2023-03-08T21:36:57.446579Z",
     "start_time": "2023-03-08T21:36:57.414962Z"
    },
    "collapsed": true
   },
   "outputs": [
    {
     "data": {
      "text/html": [
       "<div>\n",
       "<style scoped>\n",
       "    .dataframe tbody tr th:only-of-type {\n",
       "        vertical-align: middle;\n",
       "    }\n",
       "\n",
       "    .dataframe tbody tr th {\n",
       "        vertical-align: top;\n",
       "    }\n",
       "\n",
       "    .dataframe thead th {\n",
       "        text-align: right;\n",
       "    }\n",
       "</style>\n",
       "<table border=\"1\" class=\"dataframe\">\n",
       "  <thead>\n",
       "    <tr style=\"text-align: right;\">\n",
       "      <th></th>\n",
       "      <th>Unnamed: 0</th>\n",
       "      <th>Text</th>\n",
       "    </tr>\n",
       "  </thead>\n",
       "  <tbody>\n",
       "    <tr>\n",
       "      <th>0</th>\n",
       "      <td>1</td>\n",
       "      <td>@kunalb11 Im an alien</td>\n",
       "    </tr>\n",
       "    <tr>\n",
       "      <th>1</th>\n",
       "      <td>2</td>\n",
       "      <td>@ID_AA_Carmack Ray tracing on Cyberpunk with H...</td>\n",
       "    </tr>\n",
       "    <tr>\n",
       "      <th>2</th>\n",
       "      <td>3</td>\n",
       "      <td>@joerogan @Spotify Great interview!</td>\n",
       "    </tr>\n",
       "    <tr>\n",
       "      <th>3</th>\n",
       "      <td>4</td>\n",
       "      <td>@gtera27 Doge is underestimated</td>\n",
       "    </tr>\n",
       "    <tr>\n",
       "      <th>4</th>\n",
       "      <td>5</td>\n",
       "      <td>@teslacn Congratulations Tesla China for amazi...</td>\n",
       "    </tr>\n",
       "    <tr>\n",
       "      <th>...</th>\n",
       "      <td>...</td>\n",
       "      <td>...</td>\n",
       "    </tr>\n",
       "    <tr>\n",
       "      <th>1994</th>\n",
       "      <td>1995</td>\n",
       "      <td>@flcnhvy True, it sounds so surreal, but the n...</td>\n",
       "    </tr>\n",
       "    <tr>\n",
       "      <th>1995</th>\n",
       "      <td>1996</td>\n",
       "      <td>@PPathole Make sure to read ur terms &amp;amp; con...</td>\n",
       "    </tr>\n",
       "    <tr>\n",
       "      <th>1996</th>\n",
       "      <td>1997</td>\n",
       "      <td>@TeslaGong @PPathole Samwise Gamgee</td>\n",
       "    </tr>\n",
       "    <tr>\n",
       "      <th>1997</th>\n",
       "      <td>1998</td>\n",
       "      <td>@PPathole Altho Dumb and Dumber is &lt;U+0001F525...</td>\n",
       "    </tr>\n",
       "    <tr>\n",
       "      <th>1998</th>\n",
       "      <td>1999</td>\n",
       "      <td>Progress update August 28</td>\n",
       "    </tr>\n",
       "  </tbody>\n",
       "</table>\n",
       "<p>1999 rows × 2 columns</p>\n",
       "</div>"
      ],
      "text/plain": [
       "      Unnamed: 0                                               Text\n",
       "0              1                             @kunalb11 Im an alien\n",
       "1              2  @ID_AA_Carmack Ray tracing on Cyberpunk with H...\n",
       "2              3                @joerogan @Spotify Great interview!\n",
       "3              4                    @gtera27 Doge is underestimated\n",
       "4              5  @teslacn Congratulations Tesla China for amazi...\n",
       "...          ...                                                ...\n",
       "1994        1995  @flcnhvy True, it sounds so surreal, but the n...\n",
       "1995        1996  @PPathole Make sure to read ur terms &amp; con...\n",
       "1996        1997                @TeslaGong @PPathole Samwise Gamgee\n",
       "1997        1998  @PPathole Altho Dumb and Dumber is <U+0001F525...\n",
       "1998        1999                          Progress update August 28\n",
       "\n",
       "[1999 rows x 2 columns]"
      ]
     },
     "execution_count": 2,
     "metadata": {},
     "output_type": "execute_result"
    }
   ],
   "source": [
    "df = pd.read_csv(r\"C:\\Users\\rohit\\Downloads\\Assignments\\data science assignment\\15-Text Mining\\Elon_musk.csv\", \n",
    "                 encoding='latin-1')\n",
    "df"
   ]
  },
  {
   "cell_type": "markdown",
   "id": "2c7fc037",
   "metadata": {},
   "source": [
    "## EDA"
   ]
  },
  {
   "cell_type": "code",
   "execution_count": 3,
   "id": "ba882987",
   "metadata": {
    "ExecuteTime": {
     "end_time": "2023-03-08T21:36:57.462529Z",
     "start_time": "2023-03-08T21:36:57.446579Z"
    },
    "collapsed": true
   },
   "outputs": [
    {
     "data": {
      "text/html": [
       "<div>\n",
       "<style scoped>\n",
       "    .dataframe tbody tr th:only-of-type {\n",
       "        vertical-align: middle;\n",
       "    }\n",
       "\n",
       "    .dataframe tbody tr th {\n",
       "        vertical-align: top;\n",
       "    }\n",
       "\n",
       "    .dataframe thead th {\n",
       "        text-align: right;\n",
       "    }\n",
       "</style>\n",
       "<table border=\"1\" class=\"dataframe\">\n",
       "  <thead>\n",
       "    <tr style=\"text-align: right;\">\n",
       "      <th></th>\n",
       "      <th>Text</th>\n",
       "    </tr>\n",
       "  </thead>\n",
       "  <tbody>\n",
       "    <tr>\n",
       "      <th>0</th>\n",
       "      <td>@kunalb11 Im an alien</td>\n",
       "    </tr>\n",
       "    <tr>\n",
       "      <th>1</th>\n",
       "      <td>@ID_AA_Carmack Ray tracing on Cyberpunk with H...</td>\n",
       "    </tr>\n",
       "    <tr>\n",
       "      <th>2</th>\n",
       "      <td>@joerogan @Spotify Great interview!</td>\n",
       "    </tr>\n",
       "    <tr>\n",
       "      <th>3</th>\n",
       "      <td>@gtera27 Doge is underestimated</td>\n",
       "    </tr>\n",
       "    <tr>\n",
       "      <th>4</th>\n",
       "      <td>@teslacn Congratulations Tesla China for amazi...</td>\n",
       "    </tr>\n",
       "    <tr>\n",
       "      <th>...</th>\n",
       "      <td>...</td>\n",
       "    </tr>\n",
       "    <tr>\n",
       "      <th>1994</th>\n",
       "      <td>@flcnhvy True, it sounds so surreal, but the n...</td>\n",
       "    </tr>\n",
       "    <tr>\n",
       "      <th>1995</th>\n",
       "      <td>@PPathole Make sure to read ur terms &amp;amp; con...</td>\n",
       "    </tr>\n",
       "    <tr>\n",
       "      <th>1996</th>\n",
       "      <td>@TeslaGong @PPathole Samwise Gamgee</td>\n",
       "    </tr>\n",
       "    <tr>\n",
       "      <th>1997</th>\n",
       "      <td>@PPathole Altho Dumb and Dumber is &lt;U+0001F525...</td>\n",
       "    </tr>\n",
       "    <tr>\n",
       "      <th>1998</th>\n",
       "      <td>Progress update August 28</td>\n",
       "    </tr>\n",
       "  </tbody>\n",
       "</table>\n",
       "<p>1999 rows × 1 columns</p>\n",
       "</div>"
      ],
      "text/plain": [
       "                                                   Text\n",
       "0                                @kunalb11 Im an alien\n",
       "1     @ID_AA_Carmack Ray tracing on Cyberpunk with H...\n",
       "2                   @joerogan @Spotify Great interview!\n",
       "3                       @gtera27 Doge is underestimated\n",
       "4     @teslacn Congratulations Tesla China for amazi...\n",
       "...                                                 ...\n",
       "1994  @flcnhvy True, it sounds so surreal, but the n...\n",
       "1995  @PPathole Make sure to read ur terms &amp; con...\n",
       "1996                @TeslaGong @PPathole Samwise Gamgee\n",
       "1997  @PPathole Altho Dumb and Dumber is <U+0001F525...\n",
       "1998                          Progress update August 28\n",
       "\n",
       "[1999 rows x 1 columns]"
      ]
     },
     "execution_count": 3,
     "metadata": {},
     "output_type": "execute_result"
    }
   ],
   "source": [
    "df.drop(columns='Unnamed: 0', inplace=True)\n",
    "df"
   ]
  },
  {
   "cell_type": "markdown",
   "id": "ceb1ff14",
   "metadata": {},
   "source": [
    "## Text pre-processing"
   ]
  },
  {
   "cell_type": "code",
   "execution_count": 4,
   "id": "e3c05ccf",
   "metadata": {
    "ExecuteTime": {
     "end_time": "2023-03-08T21:36:57.494460Z",
     "start_time": "2023-03-08T21:36:57.468046Z"
    },
    "collapsed": true
   },
   "outputs": [
    {
     "data": {
      "text/plain": [
       "0                                  @kunalb11 im an alien\n",
       "1       @id_aa_carmack ray tracing on cyberpunk with h...\n",
       "2                     @joerogan @spotify great interview!\n",
       "3                         @gtera27 doge is underestimated\n",
       "4       @teslacn congratulations tesla china for amazi...\n",
       "                              ...                        \n",
       "1994    @flcnhvy true, it sounds so surreal, but the n...\n",
       "1995    @ppathole make sure to read ur terms &amp; con...\n",
       "1996                  @teslagong @ppathole samwise gamgee\n",
       "1997    @ppathole altho dumb and dumber is <u+0001f525...\n",
       "1998                            progress update august 28\n",
       "Name: Text, Length: 1999, dtype: object"
      ]
     },
     "execution_count": 4,
     "metadata": {},
     "output_type": "execute_result"
    }
   ],
   "source": [
    "# text normalization\n",
    "txt = df['Text'].apply(lambda x:' '.join(x.lower() for x in x.split()))\n",
    "txt"
   ]
  },
  {
   "cell_type": "code",
   "execution_count": 5,
   "id": "856ae168",
   "metadata": {
    "ExecuteTime": {
     "end_time": "2023-03-08T21:36:57.604323Z",
     "start_time": "2023-03-08T21:36:57.494460Z"
    },
    "collapsed": true
   },
   "outputs": [
    {
     "data": {
      "text/plain": [
       "0                                          i  m an alien\n",
       "1       ray tracing on cyberpunk with hdr is next-leve...\n",
       "2                                       great interview !\n",
       "3                                  doge is underestimated\n",
       "4       congratulations tesla china for amazing execut...\n",
       "                              ...                        \n",
       "1994    true , it sounds so surreal , but the negative...\n",
       "1995    make sure to read ur terms & conditions before...\n",
       "1996                                       samwise gamgee\n",
       "1997    altho dumb and dumber is <u+0001f525> <u+0001f...\n",
       "1998                            progress update august 28\n",
       "Name: Text, Length: 1999, dtype: object"
      ]
     },
     "execution_count": 5,
     "metadata": {},
     "output_type": "execute_result"
    }
   ],
   "source": [
    "# removal of account name/ id\n",
    "tweettoken = TweetTokenizer(strip_handles=True)\n",
    "txt = txt.apply(lambda x:' '.join(x for x in tweettoken.tokenize(x)))\n",
    "txt"
   ]
  },
  {
   "cell_type": "code",
   "execution_count": 6,
   "id": "e8035056",
   "metadata": {
    "ExecuteTime": {
     "end_time": "2023-03-08T21:36:57.980722Z",
     "start_time": "2023-03-08T21:36:57.604323Z"
    },
    "collapsed": true
   },
   "outputs": [
    {
     "name": "stderr",
     "output_type": "stream",
     "text": [
      "C:\\Users\\rohit\\AppData\\Local\\Temp\\ipykernel_38880\\1159649376.py:2: FutureWarning: The default value of regex will change from True to False in a future version.\n",
      "  txt = txt.str.replace('[^\\w\\s]','')\n"
     ]
    },
    {
     "data": {
      "text/plain": [
       "0                                           i  m an alien\n",
       "1       ray tracing on cyberpunk with hdr is nextlevel...\n",
       "2                                        great interview \n",
       "3                                  doge is underestimated\n",
       "4       congratulations tesla china for amazing execut...\n",
       "                              ...                        \n",
       "1994    true  it sounds so surreal  but the negative p...\n",
       "1995    make sure to read ur terms  conditions before ...\n",
       "1996                                       samwise gamgee\n",
       "1997                           altho dumb and dumber is  \n",
       "1998                            progress update august 28\n",
       "Name: Text, Length: 1999, dtype: object"
      ]
     },
     "execution_count": 6,
     "metadata": {},
     "output_type": "execute_result"
    }
   ],
   "source": [
    "# removal of punctuations\n",
    "txt = txt.str.replace('[^\\w\\s]','')\n",
    "txt = txt.str.replace('u0001f525','')\n",
    "txt"
   ]
  },
  {
   "cell_type": "code",
   "execution_count": 7,
   "id": "268273d7",
   "metadata": {
    "ExecuteTime": {
     "end_time": "2023-03-08T21:36:58.027563Z",
     "start_time": "2023-03-08T21:36:57.980722Z"
    },
    "collapsed": true
   },
   "outputs": [
    {
     "data": {
      "text/plain": [
       "0                                                   alien\n",
       "1               ray tracing cyberpunk hdr nextlevel tried\n",
       "2                                         great interview\n",
       "3                                     doge underestimated\n",
       "4       congratulations tesla china amazing execution ...\n",
       "                              ...                        \n",
       "1994    true sounds surreal negative propaganda still ...\n",
       "1995    make sure read ur terms conditions clicking ac...\n",
       "1996                                       samwise gamgee\n",
       "1997                                    altho dumb dumber\n",
       "1998                            progress update august 28\n",
       "Name: Text, Length: 1999, dtype: object"
      ]
     },
     "execution_count": 7,
     "metadata": {},
     "output_type": "execute_result"
    }
   ],
   "source": [
    "# removal of stopwords\n",
    "stop = stopwords.words('english')\n",
    "txt = txt.apply(lambda x: ' '.join(x for x in x.split() if x not in stop))\n",
    "txt"
   ]
  },
  {
   "cell_type": "code",
   "execution_count": 8,
   "id": "853d2cf1",
   "metadata": {
    "ExecuteTime": {
     "end_time": "2023-03-08T21:36:58.043181Z",
     "start_time": "2023-03-08T21:36:58.027563Z"
    },
    "collapsed": true
   },
   "outputs": [
    {
     "name": "stdout",
     "output_type": "stream",
     "text": [
      "rt           127\n",
      "tesla         96\n",
      "yes           86\n",
      "u0001f923     77\n",
      "great         76\n",
      "haha          55\n",
      "good          51\n",
      "launch        49\n",
      "sure          43\n",
      "would         41\n",
      "dtype: int64\n"
     ]
    }
   ],
   "source": [
    "# removal of high frequency words\n",
    "freq = pd.Series(' '.join(txt).split()).value_counts()[:10]\n",
    "highfreq = list(freq.index)\n",
    "print(freq)"
   ]
  },
  {
   "cell_type": "code",
   "execution_count": 9,
   "id": "8a6e1e54",
   "metadata": {
    "ExecuteTime": {
     "end_time": "2023-03-08T21:36:58.074436Z",
     "start_time": "2023-03-08T21:36:58.043181Z"
    },
    "collapsed": true
   },
   "outputs": [
    {
     "data": {
      "text/plain": [
       "0                                                   alien\n",
       "1               ray tracing cyberpunk hdr nextlevel tried\n",
       "2                                               interview\n",
       "3                                     doge underestimated\n",
       "4       congratulations china amazing execution last y...\n",
       "                              ...                        \n",
       "1994    true sounds surreal negative propaganda still ...\n",
       "1995        make read ur terms conditions clicking accept\n",
       "1996                                       samwise gamgee\n",
       "1997                                    altho dumb dumber\n",
       "1998                            progress update august 28\n",
       "Name: Text, Length: 1999, dtype: object"
      ]
     },
     "execution_count": 9,
     "metadata": {},
     "output_type": "execute_result"
    }
   ],
   "source": [
    "txt = txt.apply(lambda x: \" \".join(x for x in x.split() if x not in highfreq))\n",
    "txt"
   ]
  },
  {
   "cell_type": "code",
   "execution_count": 10,
   "id": "1580a8e2",
   "metadata": {
    "ExecuteTime": {
     "end_time": "2023-03-08T21:36:58.106703Z",
     "start_time": "2023-03-08T21:36:58.080695Z"
    },
    "collapsed": true
   },
   "outputs": [
    {
     "name": "stdout",
     "output_type": "stream",
     "text": [
      "bandwidth             1\n",
      "noticeably            1\n",
      "interventions         1\n",
      "httpstcos5xouoedjt    1\n",
      "steadily              1\n",
      "29                    1\n",
      "httpstcob0lygotobi    1\n",
      "fewer                 1\n",
      "httpstcou90sqjkn8u    1\n",
      "altho                 1\n",
      "dtype: int64\n"
     ]
    }
   ],
   "source": [
    "# removal of low frequency words\n",
    "freq = pd.Series(' '.join(txt).split()).value_counts()[-10:]\n",
    "lowfreq = list(freq.index)\n",
    "print(freq)"
   ]
  },
  {
   "cell_type": "code",
   "execution_count": 11,
   "id": "a77800bc",
   "metadata": {
    "ExecuteTime": {
     "end_time": "2023-03-08T21:36:58.122798Z",
     "start_time": "2023-03-08T21:36:58.106703Z"
    },
    "collapsed": true
   },
   "outputs": [
    {
     "data": {
      "text/plain": [
       "0                                                   alien\n",
       "1               ray tracing cyberpunk hdr nextlevel tried\n",
       "2                                               interview\n",
       "3                                     doge underestimated\n",
       "4       congratulations china amazing execution last y...\n",
       "                              ...                        \n",
       "1994    true sounds surreal negative propaganda still ...\n",
       "1995        make read ur terms conditions clicking accept\n",
       "1996                                       samwise gamgee\n",
       "1997                                          dumb dumber\n",
       "1998                            progress update august 28\n",
       "Name: Text, Length: 1999, dtype: object"
      ]
     },
     "execution_count": 11,
     "metadata": {},
     "output_type": "execute_result"
    }
   ],
   "source": [
    "txt = txt.apply(lambda x: \" \".join(x for x in x.split() if x not in lowfreq))\n",
    "txt"
   ]
  },
  {
   "cell_type": "code",
   "execution_count": 12,
   "id": "2dff08b4",
   "metadata": {
    "ExecuteTime": {
     "end_time": "2023-03-08T21:36:58.248906Z",
     "start_time": "2023-03-08T21:36:58.123421Z"
    },
    "collapsed": true
   },
   "outputs": [
    {
     "data": {
      "text/plain": [
       "0                                                   alien\n",
       "1                   ray trace cyberpunk hdr nextlevel tri\n",
       "2                                               interview\n",
       "3                                         doge underestim\n",
       "4         congratul china amaz execut last year next even\n",
       "                              ...                        \n",
       "1994    true sound surreal neg propaganda still easi f...\n",
       "1995                make read ur term condit click accept\n",
       "1996                                         samwis gamge\n",
       "1997                                          dumb dumber\n",
       "1998                             progress updat august 28\n",
       "Name: Text, Length: 1999, dtype: object"
      ]
     },
     "execution_count": 12,
     "metadata": {},
     "output_type": "execute_result"
    }
   ],
   "source": [
    "st = PorterStemmer()\n",
    "txt.apply(lambda x: \" \".join([st.stem(word) for word in x.split()]))"
   ]
  },
  {
   "cell_type": "code",
   "execution_count": 13,
   "id": "9211c321",
   "metadata": {
    "ExecuteTime": {
     "end_time": "2023-03-08T21:36:59.093251Z",
     "start_time": "2023-03-08T21:36:58.248906Z"
    },
    "collapsed": true
   },
   "outputs": [
    {
     "data": {
      "text/plain": [
       "0                                                   alien\n",
       "1               ray tracing cyberpunk hdr nextlevel tried\n",
       "2                                               interview\n",
       "3                                     doge underestimated\n",
       "4       congratulation china amazing execution last ye...\n",
       "                              ...                        \n",
       "1994    true sound surreal negative propaganda still e...\n",
       "1995          make read ur term condition clicking accept\n",
       "1996                                       samwise gamgee\n",
       "1997                                          dumb dumber\n",
       "1998                            progress update august 28\n",
       "Name: Text, Length: 1999, dtype: object"
      ]
     },
     "execution_count": 13,
     "metadata": {},
     "output_type": "execute_result"
    }
   ],
   "source": [
    "lemma = WordNetLemmatizer()\n",
    "txt = txt.apply(lambda x: \" \".join([lemma.lemmatize(word) for word in x.split()]))\n",
    "txt"
   ]
  },
  {
   "cell_type": "markdown",
   "id": "c12896dd",
   "metadata": {},
   "source": [
    "## Feature Extaction"
   ]
  },
  {
   "cell_type": "markdown",
   "id": "94bf3e50",
   "metadata": {},
   "source": [
    "### 1. Using CountVectorizer"
   ]
  },
  {
   "cell_type": "code",
   "execution_count": 14,
   "id": "7c34a5f7",
   "metadata": {
    "ExecuteTime": {
     "end_time": "2023-03-08T21:36:59.140542Z",
     "start_time": "2023-03-08T21:36:59.093251Z"
    },
    "collapsed": true
   },
   "outputs": [
    {
     "data": {
      "text/plain": [
       "array([[0, 0, 0, ..., 0, 0, 0],\n",
       "       [0, 0, 0, ..., 0, 0, 0],\n",
       "       [0, 0, 0, ..., 0, 0, 0],\n",
       "       ...,\n",
       "       [0, 0, 0, ..., 0, 0, 0],\n",
       "       [0, 0, 0, ..., 0, 0, 0],\n",
       "       [0, 0, 0, ..., 0, 0, 0]], dtype=int64)"
      ]
     },
     "execution_count": 14,
     "metadata": {},
     "output_type": "execute_result"
    }
   ],
   "source": [
    "cv = CountVectorizer()\n",
    "\n",
    "x = cv.fit_transform(txt)\n",
    "x.toarray()"
   ]
  },
  {
   "cell_type": "code",
   "execution_count": 15,
   "id": "dae7fe55",
   "metadata": {
    "ExecuteTime": {
     "end_time": "2023-03-08T21:36:59.156286Z",
     "start_time": "2023-03-08T21:36:59.140542Z"
    },
    "collapsed": true
   },
   "outputs": [
    {
     "name": "stdout",
     "output_type": "stream",
     "text": [
      "['000', '005', '10', '100', '1000', '10000', '100m', '107', '10pm', '10x', '11', '12', '122m', '13', '130', '14', '140', '149', '15', '150', '150m', '155mph', '15km', '16', '162', '17', '18', '1880s', '1b', '1m', '1st', '20', '2007', '2008', '2009', '200mph', '2012', '2017', '2020', '2021', '2024', '2026', '2030', '20k', '20km', '20m', '210', '218', '21st', '22', '225', '23', '230', '24', '240', '25', '250', '250kw', '25gunsteslacom', '25k', '25th', '28', '28th', '2k', '2m', '2nd', '2v', '30', '300', '300km', '301', '304', '304l', '30km', '30m', '31', '33', '330', '360', '37', '3800', '394', '39a', '3d', '3pm', '3rd', '40', '400', '42', '420', '4227', '430', '43rd', '445', '448', '4530', '4680', '479000', '48', '4d', '4th', '50', '50000', '50k', '60', '60000', '65', '69420', '6f', '6k', '6pm', '727', '74', '78', '7th', '90', '9007mm', '922', '948', '95', '99', 'aber', 'able', 'abo', 'aboard', 'abort', 'absence', 'absolute', 'absolutely', 'absorb', 'absorption', 'absurd', 'absurdly', 'ac', 'academia', 'accel', 'accelera', 'accelerate', 'accelerated', 'accelerating', 'acceleration', 'accelerator', 'accept', 'acceptable', 'accepted', 'access', 'accessible', 'accident', 'accidental', 'accommodating', 'account', 'accura', 'accuracy', 'accurate', 'ace', 'achieve', 'achieved', 'achievement', 'achieving', 'achy', 'acquisition', 'across', 'action', 'active', 'activity', 'actual', 'actuall', 'actually', 'actuary', 'adagio', 'add', 'added', 'adding', 'additive', 'addressed', 'administered', 'adult', 'advanc', 'advance', 'advanced', 'advantage', 'adventure', 'advertising', 'advice', 'advised', 'aero', 'afb', 'affair', 'affect', 'affordable', 'africa', 'afternoon', 'age', 'ago', 'agony', 'agree', 'agreed', 'ah', 'ahead', 'ahem', 'ai', 'aim', 'aiming', 'air', 'aircraft', 'airplane', 'ak', 'aka', 'alert', 'alexander', 'algo', 'algorithm', 'alien', 'aligned', 'allocati', 'allocation', 'allow', 'allowed', 'allowing', 'allows', 'alloy', 'almost', 'aloha', 'alone', 'along', 'alpha', 'already', 'also', 'although', 'altit', 'altitude', 'alto', 'aluminum', 'always', 'amaze', 'amazing', 'amazon', 'america', 'american', 'amount', 'amplification', 'amplitude', 'analog', 'analysis', 'anasisii', 'ancient', 'andrej', 'angle', 'annihila', 'announcing', 'annoying', 'anode', 'another', 'answer', 'antenna', 'antibody', 'anybody', 'anyone', 'anything', 'anytime', 'anyway', 'anywhere', 'aok', 'apart', 'apogee', 'apologist', 'app', 'appealing', 'appear', 'appearing', 'appears', 'apple', 'applies', 'apply', 'applying', 'appreciate', 'appreciated', 'approach', 'approval', 'approve', 'approved', 'approximate', 'approximately', 'approximation', 'april', 'aquatic', 'arbeit', 'arbeiten', 'arbiter', 'architectural', 'architecture', 'area', 'argument', 'arise', 'arm', 'armor', 'around', 'array', 'arrive', 'arrived', 'arrives', 'art', 'article', 'ascent', 'ascribe', 'asimilar', 'asimov', 'ask', 'asking', 'aspiring', 'assessment', 'assured', 'ast', 'asteroid', 'astronaughty', 'astronaut', 'astronomer', 'astronomical', 'astronomy', 'atmosphere', 'atmospheric', 'atom', 'atrisk', 'attached', 'attack', 'attempt', 'attention', 'attractive', 'atv', 'auf', 'aug', 'augmentation', 'august', 'austin', 'australia', 'aut', 'authentication', 'authority', 'auto', 'autobahn', 'autocorrect', 'autocoupler', 'autocracy', 'autodelete', 'automated', 'automatic', 'automatically', 'automotive', 'autonomous', 'autonomously', 'autonomy', 'autopilot', 'av', 'avai', 'avatar', 'average', 'aviation', 'avionics', 'avoided', 'avoids', 'awaiting', 'award', 'aware', 'away', 'awesome', 'ba', 'baby', 'back', 'background', 'backup', 'bacteria', 'bad', 'ball', 'ballet', 'ballpark', 'bang', 'bankrupt', 'banner', 'bar', 'barbie', 'bare', 'barked', 'barnraising', 'base', 'based', 'basic', 'basically', 'battery', 'battle', 'battlestar', 'baveria', 'bay', 'bbc', 'bde', 'beast', 'beat', 'beautiful', 'became', 'becau', 'become', 'becomes', 'becoming', 'bed', 'beer', 'begging', 'beginning', 'behalf', 'behavior', 'behind', 'behnken', 'bei', 'beijing', 'believe', 'believed', 'bell', 'benutzen', 'berlin', 'berlinbrandenburg', 'bern', 'bernie', 'besides', 'best', 'bestcase', 'bet', 'beta', 'better', 'bettern', 'betting', 'beverage', 'bevs', 'beyond', 'bias', 'bidirectional', 'big', 'bigger', 'biggest', 'bill', 'billion', 'billy', 'bioreactor', 'bird', 'birthday', 'bisschen', 'bit', 'bitcoin', 'bite', 'bitte', 'biz', 'black', 'blackscholes', 'blade', 'blanket', 'blessed', 'blessing', 'blood', 'blow', 'blown', 'blue', 'bmw', 'boa', 'board', 'boat', 'bob', 'boca', 'body', 'boeing', 'bogle', 'bogus', 'bold', 'bolivia', 'bolivian', 'bolted', 'bombard', 'bonded', 'book', 'boops', 'boost', 'booster', 'booty', 'boring', 'born', 'bos', 'bot', 'bought', 'bow', 'bowl', 'box', 'boy', 'br', 'brain', 'brake', 'brande', 'brandenburg', 'branding', 'brave', 'break', 'brennt', 'brian', 'briefly', 'bright', 'brinell', 'bring', 'bringing', 'britain', 'bro', 'broad', 'broke', 'broken', 'brown', 'brownsville', 'browser', 'btw', 'bu', 'buff', 'bug', 'buil', 'build', 'building', 'built', 'bump', 'burdened', 'bureaucracy', 'burn', 'burned', 'burst', 'bus', 'butt', 'button', 'buttontwiddling', 'buy', 'buying', 'c5', 'c6', 'ca', 'cabin', 'cable', 'cake', 'calculation', 'caliber', 'california', 'call', 'called', 'calm', 'caltech', 'cam', 'came', 'camera', 'canada', 'canadian', 'canceled', 'candidate', 'candy', 'cannot', 'cant', 'capability', 'capable', 'cape', 'capex', 'capital', 'capture', 'captured', 'car', 'carbon', 'card', 'care', 'carefully', 'cargo', 'carousel', 'carried', 'carry', 'carrying', 'cartoon', 'case', 'cash', 'cast', 'casting', 'catapult', 'catch', 'catchy', 'catgirl', 'catl', 'caught', 'cause', 'causing', 'caution', 'cautious', 'cavalier', 'ceiling', 'cell', 'centaur', 'center', 'ceo', 'ceremony', 'cern', 'certainly', 'cgi', 'ch4', 'chad', 'chain', 'chalk', 'challenge', 'challenging', 'chamber', 'champion', 'chance', 'chang', 'change', 'changing', 'channel', 'charge', 'charging', 'charlie', 'chart', 'chasm', 'check', 'checking', 'checkout', 'cheese', 'cherish', 'chest', 'chica', 'china', 'chip', 'choose', 'chop', 'chosen', 'christmas', 'chrome', 'chromosome', 'chrysler', 'chuck', 'churchill', 'chute', 'cigarette', 'circular', 'circumferentia', 'city', 'civilization', 'claire', 'clarify', 'class', 'classic', 'clear', 'clearly', 'clicking', 'clinic', 'clock', 'clos', 'close', 'closed', 'closest', 'closing', 'cloudy', 'clubhouse', 'clue', 'co', 'co2', 'coast', 'cobra', 'code', 'codebase', 'coin', 'cold', 'collapse', 'collect', 'collection', 'college', 'collision', 'colony', 'color', 'combat', 'combined', 'combo', 'combustion', 'come', 'comedy', 'comet', 'coming', 'command', 'comme', 'comment', 'commenting', 'commercial', 'committed', 'common', 'communication', 'community', 'commutatorfree', 'comp', 'company', 'compared', 'compelling', 'compensation', 'competition', 'competitive', 'compiler', 'complete', 'completed', 'completely', 'completing', 'complex', 'complicated', 'comprehensible', 'compression', 'compute', 'computer', 'conceptual', 'concluded', 'concrete', 'condition', 'conference', 'confess', 'confident', 'configurator', 'confirmed', 'conflation', 'confusion', 'congrats', 'congratulation', 'connectivity', 'connector', 'consciousness', 'consider', 'considerably', 'considering', 'consistency', 'constant', 'constantly', 'constellation', 'constituent', 'constrained', 'constraint', 'construction', 'construimos', 'consumer', 'consumption', 'contest', 'context', 'continue', 'continues', 'continuous', 'contribute', 'control', 'controlled', 'controlling', 'conveniently', 'convers', 'conversation', 'convert', 'convertible', 'cook', 'cookie', 'cooking', 'cool', 'cooling', 'copper', 'core', 'corpo', 'corporation', 'correc', 'correct', 'corrosion', 'cortex', 'cost', 'costly', 'cough', 'could', 'count', 'countdown', 'counterintuitive', 'counting', 'countr', 'country', 'course', 'cousin', 'cov', 'cover', 'coverage', 'covering', 'covid', 'crane', 'crash', 'crater', 'crazy', 'cre', 'create', 'creating', 'creative', 'creatively', 'credibilit', 'crew', 'crew1', 'crewdragon', 'crewed', 'crimson', 'critical', 'cropping', 'cruising', 'crush', 'cryo', 'cryoproof', 'crypto', 'crysis', 'ct', 'cu', 'cumulative', 'cure', 'curevac', 'curing', 'curious', 'currency', 'current', 'currently', 'custom', 'customer', 'customtailored', 'cut', 'cute', 'cutting', 'cyber', 'cyberpunk', 'cybertr', 'cybertruck', 'cycle', 'da', 'da1', 'da2', 'daily', 'damaged', 'damian', 'damn', 'damping', 'danger', 'dank', 'dankberg', 'dankeschön', 'darkest', 'data', 'database', 'day', 'dayquil', 'de', 'dead', 'deal', 'dealing', 'death', 'debate', 'decade', 'december', 'decid', 'decide', 'decisionmakers', 'deck', 'decline', 'declined', 'decrypted', 'deep', 'def', 'default', 'definitely', 'deg', 'degree', 'delivered', 'delivery', 'demand', 'demo', 'democracy', 'demolition', 'demonstrated', 'demonstration', 'dense', 'denser', 'densify', 'depart', 'departed', 'departure', 'dependent', 'depending', 'depends', 'deployment', 'depressu', 'depth', 'der', 'descent', 'describe', 'description', 'deserves', 'desig', 'design', 'designed', 'despite', 'destiny', 'destroyer', 'detail', 'detanking', 'detect', 'detected', 'detection', 'deus', 'dev', 'developed', 'developing', 'development', 'deveras', 'device', 'diameter', 'diamond', 'dicey', 'dichotomy', 'die', 'died', 'differe', 'difference', 'different', 'differential', 'difficult', 'difficulty', 'dig', 'digit', 'dilbert', 'diluted', 'dire', 'direct', 'direction', 'directly', 'dirt', 'disc', 'discord', 'discovering', 'discus', 'disk', 'display', 'distance', 'distinction', 'distinguish', 'distract', 'distribution', 'diverter', 'divide', 'division', 'dm', 'dmt', 'dna', 'dock', 'docked', 'docking', 'dof', 'dog', 'doge', 'dogecake', 'dogecoin', 'dojo', 'dollar', 'dome', 'domino', 'donate', 'donated', 'donating', 'done', 'donor', 'dot', 'double', 'doug', 'dozen', 'dr', 'dra', 'drag', 'drago', 'dragon', 'dramatic', 'dramatically', 'drawing', 'dream', 'dress', 'drive', 'driven', 'driver', 'driving', 'drone', 'droneship', 'drop', 'dropped', 'drove', 'dry', 'dual', 'due', 'dug', 'dumb', 'dumber', 'duration', 'duri', 'dust', 'duty', 'dy', 'dynamically', 'döner', 'döpfner', 'ear', 'earlier', 'early', 'earmark', 'earning', 'earnings', 'earth', 'earthling', 'ease', 'easier', 'easily', 'easy', 'eaten', 'eberhard', 'eclipse', 'economic', 'economy', 'edge', 'edison', 'edits', 'eerie', 'effect', 'efficiency', 'efficient', 'efficiently', 'eg', 'ego', 'egypt', 'eight', 'eighth', 'ein', 'einstein', 'eithe', 'either', 'elderly', 'electric', 'electrical', 'electricity', 'electronic', 'element', 'elevator', 'ellison', 'elon', 'else', 'email', 'embarrassing', 'embarrassingly', 'embrace', 'emergency', 'emission', 'emits', 'emphasize', 'employee', 'employer', 'en', 'enable', 'enables', 'enabling', 'encountering', 'end', 'endeavor', 'endeavour', 'energetic', 'energy', 'engin', 'engine', 'engineer', 'engineering', 'enou', 'enough', 'ensure', 'ensures', 'enter', 'entertaining', 'entertainment', 'entire', 'entropy', 'entry', 'ep', 'epa', 'equipment', 'era', 'ergen', 'error', 'escape', 'escaping', 'esp', 'especially', 'essential', 'essentially', 'est', 'establish', 'esthetic', 'esthetically', 'et', 'ethernet', 'etsy', 'europa', 'europe', 'european', 'euwide', 'ev', 'eve', 'even', 'event', 'eventually', 'ever', 'every', 'everyday', 'everyone', 'everything', 'everywhere', 'evidence', 'ex', 'exact', 'exactly', 'exaflop', 'example', 'excellent', 'except', 'exceptional', 'exceptionally', 'exchanging', 'excited', 'excitement', 'exciting', 'excruciating', 'excuse', 'execution', 'exist', 'exists', 'expansion', 'expec', 'expect', 'expected', 'expendable', 'experience', 'experim', 'experimental', 'expert', 'explain', 'explanation', 'exploding', 'explore', 'extend', 'extending', 'extension', 'external', 'extra', 'extreme', 'extremely', 'eye', 'f9', 'faa', 'fabulous', 'face', 'facebook', 'faceted', 'facility', 'facing', 'fact', 'facto', 'factor', 'factorio', 'factory', 'fahrstuhlmusik', 'fail', 'failed', 'failing', 'fails', 'failure', 'fair', 'fairing', 'fairly', 'falcon', 'fall', 'falling', 'fallout', 'falloutthemed', 'false', 'family', 'fan', 'fantasize', 'far', 'faraday', 'farcical', 'farm', 'fart', 'fast', 'faster', 'fastest', 'fat', 'fate', 'fatigue', 'fault', 'favor', 'favorite', 'fear', 'feature', 'fee', 'feed', 'feedback', 'feel', 'feeling', 'feldbrugge', 'felt', 'fermi', 'fermilab', 'fever', 'fiat', 'fiction', 'field', 'figurative', 'figure', 'filled', 'film', 'filter', 'fin', 'final', 'finally', 'finance', 'financially', 'financials', 'financing', 'find', 'fine', 'finish', 'finished', 'finishing', 'fir', 'fire', 'fired', 'firing', 'firmware', 'first', 'fist', 'fit', 'five', 'fix', 'fixed', 'fixing', 'flag', 'flame', 'flameout', 'flamethrower', 'flap', 'flat', 'flew', 'flight', 'flip', 'float', 'floating', 'florida', 'flow', 'flowing', 'flown', 'flu', 'fly', 'flying', 'focus', 'focused', 'fold', 'foldedover', 'food', 'fool', 'foolish', 'footage', 'footprint', 'footstool', 'force', 'ford', 'forever', 'form', 'forming', 'formula', 'fortunately', 'forward', 'found', 'foundation', 'foundational', 'four', 'fourth', 'fp16', 'fp32', 'frame', 'frank', 'frankensteen', 'frankenstein', 'frankly', 'franz', 'free', 'freedom', 'freilich', 'frequency', 'frequent', 'fresh', 'frictionless', 'friday', 'friend', 'fro', 'frodo', 'front', 'frozen', 'fry', 'fsd', 'ft', 'fudgelike', 'fuel', 'fulfilled', 'full', 'fullsize', 'fully', 'fun', 'function', 'functionality', 'fund', 'fundamental', 'fundamentally', 'funding', 'funny', 'fusion', 'future', 'futuristic', 'fwd', 'fwiw', 'für', 'gaining', 'galactica', 'galaxy', 'game', 'gamechanger', 'gamestonk', 'gamgee', 'gaming', 'gantry', 'gap', 'garage', 'garfunkel', 'gary', 'gas', 'gaslight', 'gaslit', 'gate', 'gateway', 'gatsby', 'gauntlet', 'gave', 'gear', 'gearbox', 'gene', 'general', 'generally', 'generate', 'generator', 'genetic', 'genius', 'genuinely', 'geologically', 'germany', 'gespräch', 'get', 'getting', 'ghostworld', 'giant', 'giga', 'gigachad', 'gigafactory', 'gill', 'gimbal', 'gingham', 'girl', 'github', 'give', 'given', 'giving', 'glad', 'glass', 'gliding', 'global', 'glorify', 'gm', 'go', 'goal', 'going', 'gone', 'gonna', 'good', 'goosebump', 'got', 'gotta', 'gotten', 'government', 'govt', 'gps', 'gpt', 'gpus', 'gr', 'graffiti', 'granted', 'granular', 'graph', 'graphic', 'grateful', 'grave', 'gravitas', 'gravity', 'greate', 'greater', 'greatest', 'greatly', 'greece', 'green', 'grid', 'grief', 'ground', 'groundswell', 'group', 'growth', 'grumpy', 'grünheide', 'guaranteed', 'guerre', 'guess', 'guild', 'guillotine', 'gun', 'guy', 'h2', 'h2o', 'habitability', 'half', 'halflife', 'halo', 'hamiltonians', 'hamstring', 'hand', 'hang', 'hangar', 'hanging', 'happen', 'happened', 'happening', 'happens', 'happiness', 'happy', 'hard', 'hardcore', 'harder', 'hardest', 'hardly', 'hardness', 'hardware', 'hardworking', 'hartle', 'harvard', 'hasty', 'hate', 'haunt', 'hav', 'hawking', 'hawthorne', 'hazard', 'hdr', 'head', 'headed', 'header', 'heading', 'healt', 'hear', 'heard', 'hearing', 'heart', 'heat', 'heating', 'heaven', 'heavy', 'hedge', 'hehe', 'height', 'held', 'helicopter', 'helium', 'hell', 'hellenism', 'helm', 'help', 'helpful', 'helping', 'heneghan', 'hepa', 'herb', 'hervorragende', 'herz', 'hex', 'hexagonal', 'hey', 'hg2g', 'hi', 'hidden', 'high', 'highconcept', 'higher', 'highly', 'highreliability', 'highvolume', 'hilarious', 'hill', 'hiring', 'history', 'hit', 'hodl', 'hodler', 'hold', 'hole', 'holiday', 'hollywood', 'home', 'homeland', 'homework', 'homicide', 'honey', 'honor', 'honored', 'hop', 'hope', 'hopefully', 'hoping', 'horn', 'horror', 'hospitalgrade', 'hospitalized', 'hot', 'hotfixes', 'hour', 'house', 'hover', 'however', 'ht', 'http', 'httpstc', 'httpstco07puoramgo', 'httpstco095whx44bx', 'httpstco0ckvhrmtf1', 'httpstco0ct2svangy', 'httpstco0gutz4kgij', 'httpstco0kaav0dtnn', 'httpstco0rc72s0zay', 'httpstco0s0ybscm0p', 'httpstco0srlfg03fg', 'httpstco0vas3cck9p', 'httpstco0y5fkvqpk8', 'httpstco19h4u8ta2a', 'httpstco1dvhg0ntku', 'httpstco1mqxfakpzf', 'httpstco1oltpnw929', 'httpstco1spnwbelpa', 'httpstco1tukv0hvig', 'httpstco1wlybpkmzj', 'httpstco1xhs2awxb9', 'httpstco1zczinfc4u', 'httpstco205zz8al33', 'httpstco26dagjltdy', 'httpstco2hx6tla8f7', 'httpstco2iezyiyyg5', 'httpstco2ja38z8mre', 'httpstco2k8psyqu4j', 'httpstco2klhnfmgz1', 'httpstco2vcoaxsrv3', 'httpstco2wyticewfr', 'httpstco2yg5gatgv9', 'httpstco2z5mrscc4g', 'httpstco2zlkc8fc2d', 'httpstco326rkueyw8', 'httpstco34o80p1hi6', 'httpstco38fzby8pno', 'httpstco3dhapzhixh', 'httpstco3fazzgss8c', 'httpstco3i0bwgjlqp', 'httpstco3lc3l2rgcj', 'httpstco3pwt', 'httpstco3r0owmreup', 'httpstco3rwe9uhsts', 'httpstco3s2xzanace', 'httpstco42z7vrpb9c', 'httpstco44fge3giee', 'httpstco46j2gccjp0', 'httpstco46lbcix7fi', 'httpstco4aq1a5cykh', 'httpstco4qrymb7ii0', 'httpstco4uh4rarc6t', 'httpstco5elyx8pjlg', 'httpstco5lliqzacuu', 'httpstco5lplhqgazw', 'httpstco5lpnpltp24', 'httpstco5mrvvzmekg', 'httpstco5ozlyf7qrf', 'httpstco5t9vgklwda', 'httpstco5u3fnqfhr1', 'httpstco5vcgj8o31r', 'httpstco5z9p2upkqs', 'httpstco5zsyalvczx', 'httpstco64ocngk3ey', 'httpstco6cetazsxco', 'httpstco6du46embni', 'httpstco6gbxaxtn4a', 'httpstco6go7ehq9qy', 'httpstco6gwwllixdg', 'httpstco6hvvkuqdon', 'httpstco6noglix6b5', 'httpstco6ohta09s5l', 'httpstco6ojfysuaxo', 'httpstco6ottsix8af', 'httpstco6qghblfrk8', 'httpstco6vz4xnohf9', 'httpstco6y42kmcpgk', 'httpstco712znztmbj', 'httpstco71cucbgpnx', 'httpstco79jvi22n2r', 'httpstco7c0v16wt6y', 'httpstco7elp9pf9sl', 'httpstco7hkza1ohe4', 'httpstco7j1c92hdjl', 'httpstco7ofbmy1n25', 'httpstco7ojorqnhb6', 'httpstco7ryvzrts18', 'httpstco8bvrd5vdu7', 'httpstco8ehbqc3fa0', 'httpstco8hj3vlxzfp', 'httpstco8lcu71xzvm', 'httpstco8lpvwbec4r', 'httpstco8pbsgffzrp', 'httpstco8pqh2kalcf', 'httpstco8r92iexvvn', 'httpstco8zbt9qjd9h', 'httpstco8zg37stxt9', 'httpstco941a2odu5h', 'httpstco9bgkez9d8a', 'httpstco9cbjmeaavw', 'httpstco9g2n7fvscz', 'httpstco9hoy0ldzg4', 'httpstco9ie40hoihr', 'httpstco9qxyxmmiuj', 'httpstco9sschdkfad', 'httpstco9wfkmyu2oj', 'httpstco9ybabezxcv', 'httpstco9z8ac6skqx', 'httpstcoa6kmk0pegm', 'httpstcoaayypcpp1i', 'httpstcoab5hamo3en', 'httpstcoackoizwcpw', 'httpstcoadojs2uce3', 'httpstcoaduotl537t', 'httpstcoafru9adajy', 'httpstcoag4rar6qnp', 'httpstcoaigaenc8f0', 'httpstcoaipo9gd8ek', 'httpstcoaiwrmzb3d1', 'httpstcoalewbz8nfl', 'httpstcoalexczij1l', 'httpstcoalg6ue95ve', 'httpstcoanite06dlj', 'httpstcoapzngmo0k7', 'httpstcoaqgi0cu2hn', 'httpstcoatqpexe6dk', 'httpstcoau32myf2rn', 'httpstcoawxtjefc2d', 'httpstcoaxz1yheldj', 'httpstcob3zxd384qd', 'httpstcobbchdqhjja', 'httpstcobey7pefpcj', 'httpstcobfverxpoqu', 'httpstcobixl4qih22', 'httpstcobjfjlczwdk', 'httpstcobki5sooroe', 'httpstcobkkeiiicye', 'httpstcobpzwersoys', 'httpstcobqa5piaonk', 'httpstcobqfd2kwhbn', 'httpstcobv5stdwngj', 'httpstcoby0oophpp7', 'httpstcobzc2lfdjzq', 'httpstcoc3o4rravz8', 'httpstcoc7dfuastpm', 'httpstcoc7no6bbwgc', 'httpstcocagyh9nnd0', 'httpstcocdll4ielju', 'httpstcoceofli8lzm', 'httpstcocfkfkffxp0', 'httpstcocgeweqny7s', 'httpstcocgxsnck6uv', 'httpstcochgqmaiyts', 'httpstcocjhtxcselt', 'httpstcocjsgr0sjit', 'httpstcocmvdkmrish', 'httpstcocn2bfbua5q', 'httpstcocnl6t0lq0g', 'httpstcocnof9yjpf1', 'httpstcocqo2rjlrbv', 'httpstcocsizk6sevu', 'httpstcoctbfloi1so', 'httpstcocvi0yrjobe', 'httpstcoczrhlolyvo', 'httpstcoczykfyo0ix', 'httpstcod0i2w8wnkg', 'httpstcod3jkoiasy7', 'httpstcod4uoa1jncx', 'httpstcodaqdiiwb9x', 'httpstcoddbxiodog1', 'httpstcodfwlhxu7ce', 'httpstcodjdzxq4maz', 'httpstcodlmy5rybrk', 'httpstcodm76fjq3hx', 'httpstcodmgov9rcnu', 'httpstcodnkkgadjq4', 'httpstcodsgvwdhgnv', 'httpstcodtpmdm3tqp', 'httpstcodvwzgtppda', 'httpstcodyl0p8xvuf', 'httpstcodynlt5ekgk', 'httpstcodyy2rmhgil', 'httpstcodzfr5bnbff', 'httpstcoe2kf57klxb', 'httpstcoe5wikiugkz', 'httpstcoea14fozdo8', 'httpstcoebknqm6qyf', 'httpstcoebojgshvrq', 'httpstcoecghh5ston', 'httpstcoej7iovx2w4', 'httpstcoekpg5qcbui', 'httpstcoemkzcfgarz', 'httpstcoemuxlx698g', 'httpstcoencu8cblpy', 'httpstcoes5garryvs', 'httpstcoescjtbzo9d', 'httpstcoetfp9ielrf', 'httpstcoetjxxiv2vq', 'httpstcoetxmtyp8hg', 'httpstcoeuxoocfr9t', 'httpstcoewnahc4ch0', 'httpstcoezlaxwg3rp', 'httpstcof0fib1w94z', 'httpstcof23fxqkbce', 'httpstcof2rxgcz964', 'httpstcof8rwy4exee', 'httpstcofa6kd61eba', 'httpstcofb7e5noq2e', 'httpstcofbhkiihsc3', 'httpstcofc9uhqsd7o', 'httpstcofcfjrcwmti', 'httpstcofcnopr2oii', 'httpstcofdligohk01', 'httpstcofdnxdwh4et', 'httpstcoffpvdsqruc', 'httpstcofjdhqrdvdb', 'httpstcofl4lwcp3q0', 'httpstcofo4xhxas9q', 'httpstcofpbckyfysh', 'httpstcofqzotwqt9d', 'httpstcofr9aucywco', 'httpstcofrezwjcwna', 'httpstcofs0pmcioic', 'httpstcofsf77xhiii', 'httpstcofsw5ianl0r', 'httpstcofsya3i0hru', 'httpstcofwk1zihfeg', 'httpstcofwxsmo0f8t', 'httpstcofy4nwwbx56', 'httpstcofyuuio5dtz', 'httpstcog27ohwvnxj', 'httpstcog2iniry9es', 'httpstcog5dlcmg7wc', 'httpstcog7vxpupkvn', 'httpstcogby9nacrsn', 'httpstcogdxmbzx0ct', 'httpstcogf0rg2qoaf', 'httpstcoggoesdif2j', 'httpstcoghoisz1v6r', 'httpstcogl0mhrqjxy', 'httpstcoglnevuneyl', 'httpstcoglz28kfvhu', 'httpstcogmlvewwxdp', 'httpstcognhci8reh3', 'httpstcogno8xfjx8b', 'httpstcogpcvjibtlm', 'httpstcogq1wayotir', 'httpstcogqtxqmpy48', 'httpstcogsj3np4cap', 'httpstcogtohclgj82', 'httpstcogvfc9m3bhz', 'httpstcogxnszacar3', 'httpstcogy4dt7pq9n', 'httpstcogy9a20ummx', 'httpstcogyfbe', 'httpstcogzljmnyciu', 'httpstcoh2xcsvngdo', 'httpstcoh8ps02oelk', 'httpstcohajhh7la7q', 'httpstcohbtdtjyttc', 'httpstcohbvuhwv3ab', 'httpstcohcrgyx42rn', 'httpstcohd0ibpx3t5', 'httpstcohdri4hfa8b', 'httpstcohez9otgjjh', 'httpstcohfuptnqipb', 'httpstcohi2od05ye8', 'httpstcohj0thlr48n', 'httpstcohjdd7bjke3', 'httpstcohkpwjnxsfc', 'httpstcoho7ygxas3a', 'httpstcohotdtlpdpw', 'httpstcohp3822z0dg', 'httpstcohppvgjfhms', 'httpstcohprgptt6ru', 'httpstcohscbef8mnf', 'httpstcohspkw3zk1y', 'httpstcohyfszsrm6m', 'httpstcoi046jbmc7o', 'httpstcoi2rrglbx8j', 'httpstcoiafpj491zz', 'httpstcoiakln5fvpb', 'httpstcoiaqicetdoa', 'httpstcoieaouisjri', 'httpstcoiha2drewu0', 'httpstcoihvpeox7m6', 'httpstcoiiraiesg5m', 'httpstcoik3tt1x4wp', 'httpstcoikcrzpyxtr', 'httpstcoinu2xajd7u', 'httpstcoirmxfy991y', 'httpstcoiu3lmuqes5', 'httpstcoiwvwca05hl', 'httpstcoixhyt6nuic', 'httpstcoiydkttvsqk', 'httpstcoiyhjznzobv', 'httpstcoizk0v9gi47', 'httpstcoj1m7whlrdr', 'httpstcoj2uvultatv', 'httpstcojcqiacxjno', 'httpstcoje4ei88hmv', 'httpstcojg0fi3chxc', 'httpstcojil6vzhqax', 'httpstcojjunwv2j94', 'httpstcojmabjuqfdf', 'httpstcojmkacbrb5d', 'httpstcojmojn9hhxs', 'httpstcojoetyskgp7', 'httpstcojs3zvm77rh', 'httpstcojtg944ercy', 'httpstcoju4wemvsjg', 'httpstcojwdcjarymj', 'httpstcojz6zmqgbo3', 'httpstcojzxsr4h8vs', 'httpstcok2cb4nimiy', 'httpstcok3v3yddg6j', 'httpstcok77wxq11yt', 'httpstcoka0iha7z6c', 'httpstcokaarajvl2b', 'httpstcokawwol54jg', 'httpstcokh4qryrkoe', 'httpstcokiegovt0rd', 'httpstcokknyqlet0o', 'httpstcokmassjctix', 'httpstcokmg7c9qf6h', 'httpstcokogvn4rmj8', 'httpstcokq81cqogfl', 'httpstcokrohkor6ae', 'httpstcoktppercwt5', 'httpstcokveprq79rl', 'httpstcokvhlbuee1u', 'httpstcokvkrwksvab', 'httpstcokvo5mbfnxt', 'httpstcokwtvwm7mbn', 'httpstcoky8h0oyzyx', 'httpstcokyenxz94oy', 'httpstcol07yc02p7g', 'httpstcol65zaxyctr', 'httpstcol8pv6okpky', 'httpstcol8xese456a', 'httpstcolb14pksayi', 'httpstcolbtg1sibuc', 'httpstcolckxzfpozx', 'httpstcole3r20bwid', 'httpstcolgpvl7k1mi', 'httpstcoli4o0tnml8', 'httpstcoln95reesbw', 'httpstcolqfdqwhh2g', 'httpstcolqnken5kjn', 'httpstcolqw6tympb7', 'httpstcolrqdirbiyd', 'httpstcoltqh2vulgc', 'httpstcolvc11nikql', 'httpstcolwfxhvksjf', 'httpstcom0wwqstaxm', 'httpstcom7dyvli4cx', 'httpstcom8vj2gaofs', 'httpstcom8xzlzvsaq', 'httpstcombesvnakad', 'httpstcomcxxfnsqfj', 'httpstcomdopo17yb9', 'httpstcomdv0vdefyc', 'httpstcomezrzcnewo', 'httpstcomg44mmkitx', 'httpstcomieahkgnfo', 'httpstcomilwsilvrt', 'httpstcomlpvbpni4y', 'httpstcomltbdsquty', 'httpstcomlxngcsa9t', 'httpstcommg5b8b40z', 'httpstcomn8192hueq', 'httpstcomnn6s3srre', 'httpstcomr18qv3goc', 'httpstcomr7vfiqwwf', 'httpstcomrutle8y2v', 'httpstcomvwgps9uqe', 'httpstcomwopr7w8kk', 'httpstcomwzjylhd88', 'httpstcon3rzp4udi1', 'httpstcon8djdlknbe', 'httpstconb5hl7gzlx', 'httpstconb92', 'httpstconbybbfx0t2', 'httpstconbzqekw0qx', 'httpstconcafknfzlc', 'httpstcondvuumms67', 'httpstconez5hkuc4a', 'httpstconkfvidsxpp', 'httpstconllipnbmxr', 'httpstconnbetmy1tr', 'httpstcono1z98a94f', 'httpstcoo1ojwfj2zg', 'httpstcoo2qpnv2qry', 'httpstcoo4fjcglahw', 'httpstcoo5fbbtan1s', 'httpstcoo5xaopsnw1', 'httpstcooalvzwcmio', 'httpstcoocy2gfryvn', 'httpstcooffoojcqnv', 'httpstcooggsw88yrz', 'httpstcooicfjt3gna', 'httpstcoomacmyqawx', 'httpstcoon2f1py5jt', 'httpstcooohnzzeh9v', 'httpstcoooj9pqayhj', 'httpstcoopgo08vd4y', 'httpstcoopouohyamu', 'httpstcooptz9urne0', 'httpstcootdwcsk3ck', 'httpstcoovaohsg1of', 'httpstcooy9yvm84xm', 'httpstcooycpr9i9hq', 'httpstcoozazv1igxa', 'httpstcop1agokwqpv', 'httpstcop2ic1crpef', 'httpstcopa8sgepv9y', 'httpstcopcybhfpuad', 'httpstcopczpbd8jj6', 'httpstcopgk24cph9e', 'httpstcopgzafesc7x', 'httpstcoph6x1plnam', 'httpstcopiqitzeia5', 'httpstcopktdfdizyc', 'httpstcopmgu4vhqez', 'httpstcopmyscvzozy', 'httpstcopoulbrgzfu', 'httpstcoppaereeo8y', 'httpstcoppsorkwdi8', 'httpstcoppzzhxbxgp', 'httpstcopqsjzopaj5', 'httpstcoptawt9dhhc', 'httpstcopteaj9z79i', 'httpstcopulpf49me1', 'httpstcopuyijcadd6', 'httpstcopyrcfe97xp', 'httpstcoq1vvqvmj2i', 'httpstcoq43vz6rmhd', 'httpstcoqbnt1dused', 'httpstcoqddlnxfgjg', 'httpstcoqe4jcezytq', 'httpstcoqivas5gtpc', 'httpstcoqmhipv5zqs', 'httpstcoqobvxgq8fz', 'httpstcoqpbew54rvm', 'httpstcoqpe', 'httpstcoqqdcdov2jo', 'httpstcoqrc6alads2', 'httpstcoqt502u08np', 'httpstcoqtiiwlxxpl', 'httpstcoqud9hwz9cx', 'httpstcoquf0hh8qcg', 'httpstcoqvgkyw2qd0', 'httpstcor1sox7vta8', 'httpstcor3yb6cmrb8', 'httpstcor4rrgvpvr0', 'httpstcorabjkrtqlw', 'httpstcoraxdlk9jti', 'httpstcorcyoxxptc2', 'httpstcorg2erwhznt', 'httpstcorgy1p1vgou', 'httpstcorhksb40xqr', 'httpstcorhuwk20egg', 'httpstcorj35a3vluf', 'httpstcorkfvjvotse', 'httpstcornsj5fkdxt', 'httpstcorq3awmzxvo', 'httpstcoruediphtil', 'httpstcorztkdzaewj', 'httpstcos3typirk4u', 'httpstcos4itp647wo', 'httpstcos8eo2xb2sf', 'httpstcos8mdwgcdfg', 'httpstcosdmxkbhdzd', 'httpstcosi63axbjbz', 'httpstcosiar8ifvwc', 'httpstcosklmil3oxt', 'httpstcosmk67d3fmx', 'httpstcosnigkxdxfp', 'httpstcosqgxv49yrs', 'httpstcosqlj63netb', 'httpstcossaqzj8act', 'httpstcostznan3vtx', 'httpstcosw5rbm1srb', 'httpstcoszc90hnti8', 'httpstcoszo3thmxqa', 'httpstcot0snf4ugyk', 'httpstcot42iuazmwh', 'httpstcot8d3yn4xry', 'httpstcotcivzvc5ra', 'httpstcotdf8u6nd4c', 'httpstcoteezkiwcmk', 'httpstcotgpwej7wqa', 'httpstcothniyssnwn', 'httpstcotjsh1exz1q', 'httpstcotkkruvgbth', 'httpstcotlfouiedfm', 'httpstcotm7cs8otdt', 'httpstcotmw6phbef0', 'httpstcotoysp1ukif', 'httpstcotsbttiduhj', 'httpstcotutackmifn', 'httpstcotv3pixzp4i', 'httpstcotwl0dgurmk', 'httpstcou1z2cprrqj', 'httpstcou2wi4cgi5t', 'httpstcou8kn4fzpj9', 'httpstcoueeocofctb', 'httpstcouetqvia4bp', 'httpstcoufay65lzjj', 'httpstcoujq94iwt88', 'httpstcouk6nspwr9r', 'httpstcouklsjffrjk', 'httpstcoukly4dwqur', 'httpstcoulxtclm1g6', 'httpstcoumfgjnkoxm', 'httpstcoumyur7yshy', 'httpstcounjgvlveuk', 'httpstcouotvmkgxqh', 'httpstcoup3t8ow5tf', 'httpstcourtpjn7amo', 'httpstcourudyt9eui', 'httpstcouruvc4qf1a', 'httpstcouscsep00aq', 'httpstcouwerahxuev', 'httpstcouxqmuvtwxf', 'httpstcouygaae7g3r', 'httpstcouysanpqtfi', 'httpstcouzcgikcikb', 'httpstcov0yo4jkbs2', 'httpstcov37qm1kycr', 'httpstcov6us36yho6', 'httpstcov7cffwac0a', 'httpstcov8muheapoq', 'httpstcovae3ppljox', 'httpstcovb4wd40bsc', 'httpstcovbiu7ds4uq', 'httpstcovc6isfxioz', 'httpstcovilv1s16yo', 'httpstcovjkf9bqbod', 'httpstcovk8nzlr0sz', 'httpstcovmq2atdv5d', 'httpstcovn0rv0yq5q', 'httpstcovnko0mtruc', 'httpstcovoive97vpr', 'httpstcovpiippdv02', 'httpstcovr7thokncp', 'httpstcovrwvop79qd', 'httpstcovso9h4ioed', 'httpstcovv2agje8mw', 'httpstcovv6tthkr55', 'httpstcovviuzwhodt', 'httpstcovxv7ghumbd', 'httpstcovybfavhkys', 'httpstcovyvivrtzsa', 'httpstcovzhxun6yie', 'httpstcow1goo6etzh', 'httpstcow66u5qduh9', 'httpstcowbk7zz0fqx', 'httpstcowdj9k2ujqk', 'httpstcowduz0wnuin', 'httpstcowesafntz7a', 'httpstcowfnfst3c5y', 'httpstcowgjvdsahmf', 'httpstcowhxamj12iq', 'httpstcowimdyfsuiq', 'httpstcowizyhed6pa', 'httpstcowj4ydjglsh', 'httpstcowjrzibkh1h', 'httpstcowmqwct2wfh', 'httpstcowo34fhkugu', 'httpstcowoiwia7ztn', 'httpstcowpeprv5s4r', 'httpstcows70uvcryn', 'httpstcowuhekj0hio', 'httpstcowvqfq4oqua', 'httpstcowzaddnxmid', 'httpstcowzg16taxee', 'httpstcox2drfewial', 'httpstcox32sda871g', 'httpstcox41ovmztgo', 'httpstcox57odvdauo', 'httpstcox83ovjb4pa', 'httpstcoxaimd6nljv', 'httpstcoxajan4j9zr', 'httpstcoxccokojylt', 'httpstcoxepds9ituw', 'httpstcoxjlljpljbp', 'httpstcoxkwyon48io', 'httpstcoxlbahahjoj', 'httpstcoxlbidpmuuq', 'httpstcoxmemo5nu0m', 'httpstcoxmqtbrldyp', 'httpstcoxmyi7qwsgw', 'httpstcoxndtxrdnl2', 'httpstcoxniptypahf', 'httpstcoxpnqrcxqnc', 'httpstcoxpx7j5snpy', 'httpstcoxqipquy4pl', 'httpstcoxtsukcc3tl', 'httpstcoxugrzqijzx', 'httpstcoxuzmulvfhf', 'httpstcoxvabeklh1q', 'httpstcoxvuoeig9ex', 'httpstcoxvvcualz2o', 'httpstcoxwm1fxmx0r', 'httpstcoxwpn09wtaw', 'httpstcoxxrxfrqhbs', 'httpstcoxxvcwmrtws', 'httpstcoxzx9ppvl92', 'httpstcoy5db5mkzpu', 'httpstcoy5njrepvtc', 'httpstcoy6gcysvghm', 'httpstcoy7lrlouxr9', 'httpstcoy8po10opqn', 'httpstcoy9wred78oj', 'httpstcoyc5gaa12dw', 'httpstcoygde1oszxa', 'httpstcoyjdogokx8q', 'httpstcoyjltt8peeu', 'httpstcoyky1llpumd', 'httpstcoynetmywfvg', 'httpstcoyp7djawiks', 'httpstcoytsk3lmfii', 'httpstcoywlqux5rbv', 'httpstcoywqqasrbt8', 'httpstcoyxmoofzu8n', 'httpstcoyzcixdgm38', 'httpstcoyztdfzlull', 'httpstcoz2umtgsaoi', 'httpstcoz2v15u7zcf', 'httpstcoz2yfaupdrd', 'httpstcoz9kxjt9umj', 'httpstcozbdygouhsz', 'httpstcozcnw4z3nxh', 'httpstcozfbqlhxk3f', 'httpstcozgxjfdzzrm', 'httpstcozhqxmco6gy', 'httpstcozjogq2ulvf', 'httpstcozk1vr9xwzl', 'httpstcozkoi8fpvzz', 'httpstcozm0sz9cbzg', 'httpstcozo01qsu1wt', 'httpstcozrur0ewnlv', 'httpstcoztrmvq6wvx', 'httpstcozugaquvpy7', 'httpstcozyf8efd6ih', 'httpstcozyj8zddfql', 'httpstcozynsxisp4n', 'huge', 'hugged', 'hulk', 'human', 'humanity', 'humidity', 'humor', 'hundred', 'hunkering', 'hurley', 'hurricane', 'hurt', 'hustle', 'hvac', 'hyd', 'hydraulic', 'hydraulics', 'hydrocarbon', 'hydrogen', 'hypocrisy', 'ice', 'idea', 'identify', 'ie', 'ignite', 'ignore', 'ihop', 'ihre', 'ii', 'iii', 'illuminaughty', 'im', 'image', 'imagined', 'imap', 'immediate', 'immediately', 'imo', 'impact', 'implant', 'implicit', 'importance', 'important', 'impossible', 'impossibleseeming', 'impressive', 'improv', 'improve', 'improved', 'improvement', 'improves', 'improving', 'inaccurate', 'inc', 'incar', 'includes', 'including', 'income', 'incorrect', 'incorrectly', 'increase', 'increased', 'increasing', 'increasingl', 'increasingly', 'incredible', 'incredibly', 'incremental', 'indeed', 'indicator', 'indirectly', 'individual', 'individualized', 'individually', 'indoor', 'induction', 'inductive', 'industry', 'inevitable', 'inference', 'inflationary', 'information', 'inherently', 'init', 'initial', 'initially', 'injury', 'inquire', 'insane', 'insanely', 'inside', 'insight', 'insightful', 'inspect', 'inspection', 'inspiration', 'inspired', 'inspiring', 'install', 'installation', 'installed', 'installer', 'instead', 'instruction', 'instructional', 'instrumental', 'insurance', 'int', 'integrated', 'intellectual', 'intelligence', 'intend', 'intended', 'intense', 'intention', 'intentional', 'intentionally', 'interest', 'interested', 'interesting', 'interface', 'interior', 'internal', 'internet', 'internship', 'intersect', 'intersection', 'interstellar', 'intervention', 'interview', 'intuitively', 'invented', 'inventor', 'investing', 'investo', 'investor', 'invitation', 'involves', 'ip', 'ipo', 'irl', 'iron', 'ironing', 'ironphosphate', 'irony', 'irrational', 'isp', 'issu', 'issue', 'ja', 'jack', 'jacket', 'james', 'jammed', 'jan', 'january', 'japan', 'jazz', 'jen', 'jet', 'jingle', 'jitb', 'job', 'joined', 'joke', 'journey', 'ju', 'july', 'jumping', 'junkyard', 'kafkaesque', 'kai', 'kann', 'kansa', 'kapital', 'kara', 'kebab', 'keep', 'keinen', 'kerosene', 'kevlar', 'key', 'kg', 'kid', 'kidding', 'kind', 'kinda', 'king', 'kingdom', 'km', 'kn', 'knee', 'knife', 'knit', 'knock', 'know', 'knowledge', 'koet', 'korolev', 'la', 'lab', 'labeling', 'labor', 'lake', 'land', 'landed', 'landing', 'langrangians', 'large', 'larger', 'largest', 'larry', 'laser', 'lasik', 'last', 'lat', 'latch', 'late', 'latency', 'later', 'latest', 'latitude', 'latte', 'latter', 'launch', 'launchamerica', 'launched', 'launching', 'law', 'lax', 'lc', 'le', 'lead', 'leader', 'leap', 'learned', 'learning', 'lease', 'leasing', 'least', 'leave', 'leaving', 'leeward', 'left', 'leg', 'legalize', 'legislate', 'lego', 'lehners', 'length', 'lengthy', 'lesson', 'let', 'letter', 'letting', 'level', 'lever', 'lex', 'lfp', 'lg', 'lhc', 'li', 'license', 'licensing', 'lidar', 'life', 'lifemonths', 'lifetime', 'lift', 'lifting', 'liftoff', 'light', 'like', 'liked', 'likely', 'lil', 'limit', 'limited', 'limiti', 'link', 'lipstick', 'liquid', 'liquor', 'list', 'lite', 'literal', 'literally', 'lithium', 'lithiumion', 'little', 'live', 'livestream', 'living', 'liz', 'lmk', 'lo', 'load', 'loaded', 'loan', 'local', 'locally', 'location', 'lockdown', 'lockheed', 'log', 'logic', 'logo', 'loki', 'london', 'long', 'longer', 'longlasting', 'longrange', 'longterm', 'look', 'looking', 'loooves', 'loop', 'lord', 'loses', 'losing', 'loss', 'lossy', 'lost', 'lot', 'lotr', 'louder', 'love', 'loved', 'lover', 'low', 'lowcost', 'lower', 'lowering', 'lowest', 'lowkey', 'lr', 'luck', 'ludicrous', 'lump', 'lunar', 'lurch', 'lyric', 'löffel', 'macedon', 'machen', 'machine', 'machinelearning', 'made', 'madness', 'magenta', 'magic', 'magical', 'magnitude', 'main', 'maintains', 'maintenance', 'major', 'majority', 'make', 'making', 'man', 'manage', 'maneuver', 'maneuvering', 'manifold', 'mannschaft', 'manufactured', 'manufacturing', 'many', 'map', 'mapping', 'mar', 'margin', 'marginal', 'mark', 'market', 'marketing', 'martian', 'martyte', 'marvin', 'mass', 'massive', 'masterpiece', 'mat', 'match', 'mate', 'material', 'math', 'mathias', 'matrix', 'matter', 'matterantimatter', 'mature', 'max', 'maximize', 'maximizing', 'maximum', 'maxwell', 'may', 'maybe', 'mayo', 'mcgregor', 'mean', 'meaningful', 'meaningfully', 'meant', 'measure', 'measured', 'mechanically', 'medical', 'medicine', 'medium', 'meet', 'meeting', 'megapack', 'megaton', 'mein', 'melted', 'melting', 'melty', 'meme', 'memery', 'memory', 'mention', 'merch', 'mercy', 'mere', 'merged', 'merlin', 'merry', 'message', 'metal', 'metaphor', 'meter', 'methane', 'method', 'mgmt', 'mhi', 'mi', 'michael', 'microcontrollers', 'microsoft', 'microverse', 'mid', 'middle', 'might', 'mild', 'mile', 'milestone', 'mill', 'milled', 'million', 'millisecond', 'mimecraft', 'min', 'mind', 'mine', 'miniverse', 'minor', 'minute', 'misleading', 'misperception', 'missing', 'mission', 'mistake', 'mit', 'mitochondrion', 'mobic', 'mobid', 'mobile', 'mobileye', 'mobility', 'mode', 'model', 'moderate', 'modern', 'moderna', 'mom', 'moment', 'momentinertiaphobia', 'monday', 'money', 'monitor', 'monopolist', 'monopoly', 'month', 'monty', 'moon', 'moreover', 'morning', 'moron', 'mostly', 'motion', 'moto', 'motor', 'mount', 'mountain', 'mounted', 'mounting', 'move', 'movie', 'moving', 'mph', 'mrna', 'mtf', 'mu', 'much', 'multiplanetary', 'multiplayer', 'multiple', 'munger', 'munro', 'music', 'musk', 'must', 'mutation', 'mutual', 'møtør', 'n1', 'n2', 'n3', 'nail', 'naked', 'name', 'named', 'nasa', 'natürlich', 'nav', 'ne', 'near', 'nearorbital', 'nearterm', 'necessarily', 'neck', 'need', 'needed', 'negati', 'negative', 'negativity', 'neither', 'net', 'neural', 'neuralink', 'neuralinks', 'neuron', 'neuroscience', 'never', 'new', 'news', 'next', 'nextlevel', 'nice', 'nickel', 'night', 'nightcap', 'nightmare', 'nn', 'nns', 'nobody', 'noch', 'noise', 'nomad', 'nonchalant', 'noninfectious', 'normal', 'norris', 'north', 'northern', 'norway', 'nose', 'nosecone', 'notable', 'note', 'nothin', 'nothing', 'noting', 'nozzle', 'npc', 'nuclear', 'nullius', 'number', 'numbering', 'nursing', 'nut', 'nutshell', 'nyquil', 'o2', 'object', 'objective', 'obscure', 'observatory', 'observed', 'observer', 'obstacle', 'obtrusive', 'obtuse', 'obv', 'obviates', 'obvious', 'obviously', 'occam', 'occasional', 'occasionally', 'occluded', 'ocean', 'oceanobserving', 'oct', 'october', 'odd', 'odds', 'offer', 'offering', 'offset', 'oh', 'oil', 'ok', 'old', 'olde', 'onboard', 'one', 'onion', 'online', 'open', 'openai', 'opening', 'opera', 'operating', 'operation', 'operational', 'operator', 'opinion', 'opposite', 'opposition', 'opt', 'optimal', 'optimistic', 'optimistica', 'optimized', 'option', 'orbit', 'orbital', 'order', 'organization', 'orifice', 'original', 'originally', 'ostrich', 'others', 'otherwise', 'outcome', 'outdoor', 'outer', 'outfit', 'output', 'outside', 'outstanding', 'ovaltine', 'oven', 'overall', 'overclock', 'overhaul', 'overkill', 'overlap', 'overload', 'overlooked', 'overseen', 'overweight', 'owner', 'ownership', 'ox', 'oxygen', 'pa', 'pace', 'pacific', 'pack', 'package', 'pad', 'padre', 'paid', 'pain', 'paint', 'paintball', 'palo', 'panasonic', 'panel', 'pant', 'panzer', 'paper', 'par', 'parachute', 'parallel', 'paramount', 'paranoid', 'parent', 'parrot', 'part', 'participant', 'participation', 'particulate', 'partly', 'partner', 'party', 'pas', 'pass', 'passed', 'password', 'past', 'pastry', 'patch', 'patent', 'path', 'patient', 'paved', 'pay', 'payload', 'payment', 'payne', 'payout', 'paypal', 'pc', 'pcr', 'peak', 'pedestrian', 'penguin', 'penn', 'people', 'per', 'percentage', 'perfectly', 'performance', 'performed', 'performing', 'perhaps', 'period', 'permission', 'perseverance', 'person', 'personal', 'perspiration', 'phantom', 'phased', 'phone', 'phot', 'photo', 'photon', 'physic', 'pic', 'pick', 'picked', 'picking', 'pie', 'piece', 'pin', 'pipe', 'pirate', 'pitch', 'pixel', 'place', 'plaid', 'plan', 'plane', 'planet', 'plant', 'plasma', 'plate', 'play', 'playability', 'playable', 'playing', 'please', 'plural', 'plus', 'pm', 'pneumatics', 'po', 'podcasts', 'point', 'pointer', 'pointier', 'pointless', 'pointy', 'pole', 'politician', 'pollution', 'polynesian', 'polytopia', 'pontificating', 'pony', 'poor', 'population', 'pose', 'poseur', 'posi', 'position', 'positive', 'possi', 'possibility', 'possible', 'possibly', 'post', 'postspacex', 'potential', 'pothole', 'pound', 'power', 'powered', 'powerglide', 'powerpack', 'powertrains', 'powerwall', 'ppl', 'pr', 'practical', 'practicing', 'prancing', 'preburner', 'preburners', 'precise', 'predict', 'predictable', 'predicting', 'prediction', 'prefabricated', 'prefer', 'present', 'presenta', 'presently', 'preserved', 'president', 'press', 'pressure', 'pretty', 'prevalence', 'previously', 'price', 'pricing', 'primarily', 'primary', 'print', 'printer', 'printing', 'prior', 'prioritizing', 'priority', 'priv', 'private', 'privilege', 'prize', 'prnd', 'pro', 'probability', 'probably', 'probe', 'problem', 'problemsolvers', 'proceeding', 'process', 'processing', 'produce', 'produced', 'producing', 'product', 'productio', 'production', 'productivity', 'prof', 'professional', 'profit', 'profound', 'program', 'progre', 'progress', 'prometheus', 'promise', 'promised', 'pronoun', 'proof', 'propaganda', 'propel', 'propellant', 'prophecy', 'proportionate', 'proportionately', 'propulsion', 'propulsive', 'propulsively', 'protec', 'protect', 'protein', 'prototy', 'prototype', 'proud', 'prove', 'provide', 'provided', 'provides', 'providing', 'proving', 'prufrock', 'pseudo', 'psyche', 'public', 'publicly', 'pull', 'pump', 'purchase', 'pure', 'push', 'pushed', 'pushing', 'put', 'putting', 'pyramid', 'python', 'q2', 'quality', 'quantum', 'quarantine', 'quarter', 'que', 'queen', 'question', 'queue', 'quiet', 'quite', 'rabies', 'radar', 'radio', 'rail', 'rain', 'rainforest', 'ramp', 'ramses', 'ranch', 'random', 'range', 'rapid', 'rapidly', 'raptor', 'rat', 'rate', 'rated', 'ratelimiter', 'ratelimiting', 'rather', 'ratio', 'rave', 'rawlinson', 'ray', 'razor', 'rcs', 'rea', 'reach', 'reached', 'reaching', 'reactor', 'read', 'readiness', 'reading', 'ready', 'real', 'reality', 'realize', 'really', 'realtime', 'realworld', 'rear', 'reason', 'reasonable', 'reasonably', 'received', 'receives', 'recent', 'recently', 'recognition', 'recognize', 'recommendation', 'recommended', 'record', 'recovery', 'recruiting', 'reduce', 'reduced', 'reduction', 'reference', 'referring', 'refilling', 'reflect', 'reflig', 'refurb', 'reg', 'regarded', 'regular', 'regulator', 'regulatory', 'rehearsal', 'reich', 'relatively', 'release', 'releasing', 'relevant', 'reliable', 'reliably', 'remain', 'remains', 'remake', 'remarkably', 'remind', 'reminder', 'reminds', 'remo', 'remotely', 'remov', 'render', 'renewable', 'repair', 'replace', 'replaced', 'replacement', 'reply', 'report', 'repositioning', 'represent', 'require', 'required', 'researcher', 'resistance', 'resistive', 'resonant', 'resource', 'respect', 'responder', 'responsible', 'rest', 'restaurant', 'restored', 'restriction', 'result', 'resume', 'resupp', 'resupply', 'retail', 'retiree', 'retrospect', 'return', 'returned', 'returning', 'reusability', 'reusable', 'reuse', 'reveals', 'revenue', 'review', 'revision', 'revolution', 'revolutionary', 'rewatched', 'rewrite', 'rewrote', 'rich', 'rid', 'ride', 'rideshare', 'right', 'ring', 'rise', 'risin', 'risk', 'risky', 'rn', 'rna', 'ro', 'road', 'roadster', 'roaring', 'robin', 'robot', 'robust', 'roc', 'rock', 'rocket', 'role', 'roll', 'rollout', 'rona', 'roof', 'room', 'roomy', 'rose', 'rotation', 'rough', 'roughly', 'round', 'rounded', 'route', 'rover', 'rubin', 'rud', 'ruds', 'rule', 'rumor', 'run', 'runway', 'russian', 'rutherford', 'rvac', 'sacrificed', 'sad', 'safe', 'safer', 'safety', 'said', 'sale', 'saliva', 'salty', 'sample', 'samwise', 'sandstorm', 'sandy', 'saocom', 'sarscov', 'saskatchewan', 'sat', 'satellite', 'satisfying', 'saturday', 'saturn', 'savage', 'save', 'saxon', 'say', 'saying', 'scalable', 'scale', 'scaling', 'scarier', 'school', 'science', 'scientist', 'scorcher', 'scrap', 'scratch', 'screen', 'scrotum', 'scrounged', 'scru', 'scrubbed', 'se', 'sea', 'sealing', 'search', 'seated', 'seater', 'seattle', 'sec', 'seco', 'second', 'secondengine', 'secret', 'section', 'sector', 'see', 'seeing', 'seek', 'seeking', 'seem', 'seemed', 'seems', 'seen', 'selected', 'selfdriving', 'selforient', 'selfperpetuating', 'sell', 'semi', 'send', 'sending', 'sense', 'sensed', 'sensible', 'sensor', 'sent', 'sentencing', 'sentience', 'sentinel', 'separate', 'separation', 'sequel', 'sequencing', 'sequestered', 'series', 'serine', 'serious', 'seriously', 'serve', 'served', 'serverside', 'service', 'set', 'setting', 'settle', 'seven', 'several', 'sexy', 'sh', 'shade', 'shake', 'shanghai', 'shanty', 'shaped', 'share', 'shattered', 'shear', 'sheer', 'shelter', 'shield', 'shielding', 'shifter', 'ship', 'shipped', 'shipping', 'shirt', 'shopify', 'short', 'shorter', 'shortfall', 'shorting', 'shortly', 'shortterm', 'shorty', 'shot', 'show', 'shower', 'shrubbery', 'shunt', 'shut', 'sick', 'side', 'sie', 'sigh', 'signal', 'significant', 'significantly', 'silent', 'silicon', 'sim', 'similar', 'simon', 'simplest', 'simplicity', 'simplified', 'simply', 'simulation', 'simultaneous', 'simultaneously', 'since', 'singing', 'single', 'sir', 'site', 'situation', 'six', 'size', 'sjm', 'sketchy', 'skill', 'skip', 'skirt', 'skoole', 'sky', 'skynet', 'slated', 'slc', 'slight', 'slightly', 'slip', 'slope', 'slow', 'slowing', 'sm', 'small', 'smaller', 'smallseeming', 'smart', 'smartwatches', 'smol', 'smoosh', 'smooth', 'smoother', 'sn', 'sn10', 'sn15', 'sn27', 'sn28', 'sn40', 'sn5', 'sn6', 'sn7', 'sn8', 'sn9', 'snail', 'snake', 'snakehead', 'sneaky', 'sniffle', 'snoopy', 'snout', 'snow', 'snowy', 'soc', 'social', 'socs', 'soft', 'software', 'soil', 'solar', 'solution', 'solvable', 'solve', 'solved', 'solves', 'solving', 'someone', 'something', 'sometimes', 'somewhere', 'son', 'song', 'soon', 'sooner', 'sooo', 'sorry', 'sort', 'soul', 'sound', 'south', 'soviet', 'spa', 'space', 'spacecraft', 'spaceflight', 'spaceports', 'spacex', 'spacexs', 'spacexstarship', 'spacs', 'spare', 'sparta', 'spaß', 'speaker', 'special', 'specialized', 'specie', 'specifically', 'spee', 'speech', 'speed', 'speedrunning', 'spend', 'spent', 'sperm', 'spherex', 'spike', 'spin', 'spine', 'spit', 'splash', 'splashdown', 'spoke', 'spoken', 'spot', 'spotlight', 'spqr', 'spreadsheet', 'squeeze', 'sr', 'st', 'stable', 'stack', 'stacking', 'stage', 'staggeringly', 'stainless', 'stake', 'stalk', 'stand', 'standing', 'star', 'starhammer', 'starhopper', 'starlink', 'starman', 'starship', 'start', 'started', 'starting', 'startup', 'state', 'static', 'station', 'stationary', 'stay', 'steal', 'steel', 'steep', 'steer', 'step', 'stephenson', 'steve', 'stick', 'still', 'stilton', 'stimulus', 'sting', 'stitched', 'stock', 'stole', 'stonecutter', 'stood', 'stop', 'storage', 'storm', 'story', 'straight', 'strange', 'stranger', 'strategic', 'strawberry', 'strength', 'stress', 'strident', 'strike', 'string', 'strive', 'strong', 'strongly', 'structural', 'structure', 'stuck', 'student', 'study', 'stunning', 'subaru', 'subject', 'suboptimal', 'subscale', 'subscription', 'subsidize', 'substantial', 'subtle', 'succeed', 'succeeded', 'success', 'successful', 'suck', 'sue', 'suggest', 'suicide', 'suit', 'sum', 'summarizes', 'summary', 'sun', 'sunday', 'sunny', 'sup', 'super', 'supercharger', 'supercharging', 'supercollider', 'supercomputer', 'superdraco', 'superheavy', 'superhuman', 'superpower', 'supersonic', 'supplier', 'supplying', 'support', 'supporting', 'surface', 'surgery', 'surprise', 'surprised', 'surreal', 'surround', 'suspect', 'suspension', 'sustainability', 'sustainable', 'suv', 'swap', 'sweden', 'sweet', 'swiftly', 'swing', 'switched', 'switching', 'switchover', 'sword', 'sxm', 'sym', 'symbiosis', 'symbiotic', 'symptom', 'sync', 'syntax', 'synthesizer', 'synthetic', 'syrinx', 'system', 'ta', 'table', 'tacheles', 'take', 'taken', 'taking', 'talent', 'talented', 'talk', 'talked', 'talking', 'tall', 'taller', 'tallest', 'tank', 'tanker', 'tanstaafl', 'tap', 'target', 'targeting', 'tarlek', 'taste', 'tasty', 'tax', 'tbd', 'tbh', 'te', 'team', 'tech', 'technical', 'technically', 'techno', 'technology', 'tedium', 'teen', 'tegmark', 'telegram', 'telepathy', 'tell', 'temp', 'temperature', 'tempting', 'ten', 'tension', 'teriyaki', 'term', 'terminal', 'terraformed', 'terraforming', 'terrifying', 'tesla', 'teslaquila', 'test', 'tested', 'tester', 'testing', 'tex', 'texas', 'text', 'th', 'thank', 'thanks', 'thanksgiving', 'thanos', 'thems', 'theoretically', 'theory', 'ther', 'there', 'thermodynamics', 'theyre', 'thicker', 'thickness', 'thing', 'think', 'thinking', 'third', 'tho', 'though', 'thought', 'thousand', 'thread', 'three', 'threephase', 'throttle', 'thrown', 'thrust', 'thruster', 'thursday', 'ti', 'tianwen', 'tiki', 'tiktok', 'tile', 'tim', 'time', 'timelapse', 'timeless', 'tiny', 'tip', 'tire', 'titanium', 'title', 'toastier', 'today', 'toddler', 'together', 'toilet', 'toilette', 'told', 'tom', 'tomorrow', 'ton', 'tone', 'tonight', 'tonnage', 'tony', 'took', 'tooling', 'top', 'toppled', 'torb', 'toss', 'total', 'totally', 'touch', 'touchdown', 'touched', 'touching', 'touché', 'tough', 'tour', 'towards', 'tower', 'toxic', 'toy', 'toyota', 'tracing', 'track', 'tracking', 'traded', 'tradein', 'traditional', 'traffic', 'training', 'trans', 'transaction', 'transcanada', 'transfer', 'transferring', 'transit', 'transpiration', 'trap', 'trapped', 'trash', 'travel', 'tree', 'tricky', 'tried', 'triggering', 'trillion', 'trillionaire', 'trip', 'trivial', 'trouble', 'truck', 'true', 'truly', 'truncate', 'truncated', 'truncating', 'trust', 'truth', 'try', 'trying', 'trèndé', 'tshirt', 'tuesday', 'tunnel', 'tunneling', 'turbomachinery', 'turbopump', 'turbopumpfed', 'turn', 'turnaround', 'turning', 'turok', 'turret', 'tvc', 'tweak', 'tweet', 'tweeting', 'twice', 'twin', 'twist', 'twisted', 'twitter', 'two', 'type', 'typewriter', 'typical', 'tyranny', 'u0001f1e6', 'u0001f1e7', 'u0001f1e8', 'u0001f1e9', 'u0001f1ea', 'u0001f1f4', 'u0001f1f8', 'u0001f1fa', 'u0001f30e', 'u0001f338', 'u0001f339', 'u0001f353', 'u0001f381', 'u0001f3a9', 'u0001f3af', 'u0001f3b6', 'u0001f3b7', 'u0001f3dd', 'u0001f409', 'u0001f40d', 'u0001f410', 'u0001f43b', 'u0001f440', 'u0001f446', 'u0001f447', 'u0001f44c', 'u0001f44d', 'u0001f476', 'u0001f47b', 'u0001f484', 'u0001f495', 'u0001f4a8', 'u0001f4a9', 'u0001f4ab', 'u0001f4af', 'u0001f4b0', 'u0001f4b5', 'u0001f534', 'u0001f54a', 'u0001f5a4', 'u0001f600', 'u0001f603', 'u0001f608', 'u0001f609', 'u0001f60e', 'u0001f60f', 'u0001f610', 'u0001f622', 'u0001f62c', 'u0001f62e', 'u0001f634', 'u0001f680', 'u0001f6f0', 'u0001f914', 'u0001f917', 'u0001f918', 'u0001f920', 'u0001f9d9', 'u0001f9db', 'u0001fa82', 'u041a', 'u041e', 'u0430', 'u0431', 'u0432', 'u0434', 'u0435', 'u0438', 'u043a', 'u043b', 'u043c', 'u043d', 'u043e', 'u043f', 'u0440', 'u0441', 'u044b', 'u044c', 'u0451', 'u200d', 'u2192', 'u2600', 'u263a', 'u2640', 'u2642', 'u2660', 'u2665', 'u26a1', 'u2705', 'uae', 'ufe0f', 'uh', 'ui', 'ukrainian', 'ula', 'ullage', 'ultimately', 'ultra', 'um', 'umm', 'un', 'unacceptably', 'unbound', 'uncorrelate', 'und', 'underdoge', 'underestimated', 'underground', 'underpayment', 'underrated', 'understand', 'understanding', 'understands', 'understates', 'understood', 'underway', 'underweight', 'undivided', 'unequivocal', 'unexpected', 'unfavorable', 'unfortunately', 'unhappy', 'uninterrupted', 'unique', 'unit', 'universal', 'universe', 'unknown', 'unless', 'unlike', 'unlikely', 'unlock', 'unsecure', 'untrue', 'unusual', 'unusually', 'unveil', 'unveiled', 'upcoming', 'update', 'upgra', 'upgradable', 'upgrade', 'upgraded', 'upgrading', 'upload', 'upper', 'upside', 'ur', 'urf', 'urgency', 'us', 'usable', 'use', 'used', 'useful', 'user', 'using', 'utc', 'utility', 'utterly', 'v1', 'v2', 'v8', 'vaccine', 'vacuum', 'valuable', 'value', 'valued', 'valve', 'vandenberg', 'vast', 'vault', 'vaulttec', 'vectorspace', 'vega', 'vehicle', 'veloci', 'velociraptor', 'velocity', 'vera', 'verba', 'verification', 'vers', 'version', 'vertical', 'vesting', 'veteransday', 'vi', 'via', 'viasat', 'vic', 'victor', 'video', 'videodrome', 'vielen', 'vielleicht', 'view', 'viewed', 'vir', 'viral', 'virus', 'vision', 'visit', 'visiting', 'visualization', 'visually', 'voice', 'void', 'volume', 'volumetrically', 'voted', 'vr', 'vtol', 'vying', 'wa', 'wack', 'wait', 'waiting', 'wall', 'wallet', 'wallpaper', 'want', 'wanted', 'warfare', 'warm', 'warming', 'warn', 'warp', 'watch', 'watching', 'water', 'watercooled', 'watt', 'wavelength', 'way', 'waymo', 'waypoints', 'weak', 'wealth', 'wear', 'wearable', 'wearing', 'weather', 'web', 'webcast', 'website', 'wed', 'wednesday', 'week', 'weekend', 'weird', 'wel', 'welcome', 'weld', 'well', 'went', 'west', 'westworld', 'wh', 'whatev', 'wheel', 'whenever', 'whereas', 'wherever', 'whether', 'whistle', 'whitewash', 'whoa', 'whole', 'wi', 'wid', 'wide', 'widen', 'wider', 'wifi', 'wig', 'wiki', 'wikipedia', 'wil', 'wild', 'wildly', 'williams', 'win', 'wind', 'winderhead', 'windward', 'wing', 'winning', 'winston', 'wird', 'wire', 'wiring', 'wise', 'wish', 'wit', 'witch', 'witchcraft', 'witcher', 'within', 'without', 'wkrp', 'wonder', 'wondered', 'woohoo', 'wool', 'word', 'work', 'worked', 'worker', 'working', 'world', 'worry', 'worst', 'worth', 'woul', 'wow', 'write', 'writer', 'writing', 'written', 'wrong', 'wtf', 'xpeng', 'xprize', 'ya', 'yahoo', 'yaw', 'ye', 'yea', 'yeah', 'year', 'yearold', 'yesterday', 'yet', 'yo', 'yoda', 'yolt', 'york', 'young', 'yup', 'zealand', 'zenit', 'zero', 'zip', 'zon', 'zone', 'ðogecoin']\n"
     ]
    },
    {
     "name": "stderr",
     "output_type": "stream",
     "text": [
      "C:\\Users\\rohit\\anaconda3\\lib\\site-packages\\sklearn\\utils\\deprecation.py:87: FutureWarning: Function get_feature_names is deprecated; get_feature_names is deprecated in 1.0 and will be removed in 1.2. Please use get_feature_names_out instead.\n",
      "  warnings.warn(msg, category=FutureWarning)\n"
     ]
    }
   ],
   "source": [
    "print(cv.get_feature_names())"
   ]
  },
  {
   "cell_type": "code",
   "execution_count": 16,
   "id": "7fa163b8",
   "metadata": {
    "ExecuteTime": {
     "end_time": "2023-03-08T21:36:59.187545Z",
     "start_time": "2023-03-08T21:36:59.156286Z"
    },
    "collapsed": true
   },
   "outputs": [
    {
     "name": "stdout",
     "output_type": "stream",
     "text": [
      "{'alien': 212, 'ray': 3132, 'tracing': 3832, 'cyberpunk': 820, 'hdr': 1459, 'nextlevel': 2734, 'tried': 3853, 'interview': 2312, 'doge': 948, 'underestimated': 4003, 'congratulation': 718, 'china': 621, 'amazing': 235, 'execution': 1125, 'last': 2397, 'year': 4229, 'next': 2733, 'even': 1100, 'happy': 1441, 'new': 2731, 'ox': 2853, 'httpstco9wfkmyu2oj': 1640, 'frodo': 1297, 'underdoge': 4002, 'thought': 3774, 'fail': 1163, 'httpstcozgxjfdzzrm': 2170, 'thanks': 3756, 'indeed': 2251, 'tweet': 3885, 'definitely': 859, 'represent': 3206, 'realworld': 3149, 'time': 3790, 'allocation': 215, 'entertaining': 1070, 'outcome': 2833, 'likely': 2457, 'sent': 3365, 'agree': 195, 'clubhouse': 653, 'httpstco3rwe9uhsts': 1578, 'getting': 1358, 'real': 3144, 'bought': 483, 'dogecoin': 950, 'lil': 2458, 'toddler': 3800, 'hodler': 1508, 'issue': 2331, 'sentencing': 3366, 'seems': 3351, 'bit': 443, 'high': 1496, 'fixing': 1237, 'please': 2953, 'unlock': 4029, 'account': 150, 'true': 3861, 'power': 2988, 'httpstcofc9uhqsd7o': 1744, 'crypto': 801, 'wallet': 4118, 'give': 1369, 'private': 3029, 'key': 2364, 'avoided': 358, 'cost': 763, 'app': 266, 'suck': 3638, 'nasa': 2709, 'selected': 3353, 'falcon': 1171, 'heavy': 1472, 'first': 1231, 'two': 3892, 'element': 1036, 'lunar': 2523, 'gateway': 1340, 'together': 3801, 'one': 2803, 'mission': 2647, 'httpstco3pwt': 1576, 'predict': 3002, 'cash': 573, 'flow': 1250, 'reasonably': 3153, 'well': 4153, 'starlink': 3574, 'ipo': 2322, 'staggeringly': 3565, 'difficult': 915, 'technical': 3724, 'economic': 1012, 'endeavor': 1057, 'however': 1533, 'httpstco9z8ac6skqx': 1642, 'spacex': 3526, 'need': 2718, 'pas': 2886, 'deep': 856, 'chasm': 613, 'negative': 2721, 'httpstco7j1c92hdjl': 1618, 'lowest': 2517, 'per': 2910, 'ton': 3807, 'carbon': 562, 'sequestered': 3373, 'net': 2724, 'value': 4065, 'product': 3045, 'made': 2531, 'must': 2698, 'scalable': 3316, 'httpstcoxmyi7qwsgw': 2127, 'meant': 2589, 'price': 3018, 'country': 772, 'difference': 912, 'tax': 3718, 'shipping': 3404, 'intended': 2295, 'earth': 1003, 'may': 2582, 'idea': 2204, 'apply': 273, 'mar': 2555, 'xprize': 4222, 'team': 3722, 'manage': 2545, '100m': 6, 'capture': 559, 'prize': 3031, 'httpstcofsw5ianl0r': 1759, 'everyone': 1106, 'receives': 3155, 'stock': 3599, 'comp': 688, 'option': 2822, 'take': 3698, 'table': 3696, 'missing': 2646, 'back': 367, 'work': 4205, 'go': 1378, 'seem': 3349, 'appears': 270, 'inflationary': 2263, 'meaningfully': 2588, 'fixed': 1236, 'coin': 661, 'unit': 4022, 'whereas': 4161, 'httpstco4uh4rarc6t': 1586, 'wow': 4214, 'orbital': 2824, 'tower': 3828, 'stack': 3562, 'enough': 1066, 'raptor': 3122, 'orbit': 2823, 'booster': 477, 'improve': 2230, 'ship': 3402, 'mass': 2564, 'tonight': 3809, 'ðogecoin': 4245, 'instructional': 2287, 'video': 4091, 'httpstcoueeocofctb': 2041, 'people': 2909, 'spoken': 3553, 'httpstcox41ovmztgo': 2114, 'cute': 817, 'u0001f495': 3927, 'extremely': 1147, 'misleading': 2644, 'image': 2215, 'reflect': 3171, 'rain': 3113, 'pain': 2863, 'u0001f3b6': 3912, 'let': 2435, 'hodl': 1507, 'rainforest': 3114, 'finally': 1216, 'come': 674, 'httpstcogf0rg2qoaf': 1771, 'fun': 1309, 'simplicity': 3433, 'genius': 1352, 'yup': 4238, 'easy': 1008, 'decade': 847, 'intense': 2296, 'look': 2497, 'old': 2800, 'note': 2756, 'email': 1041, 'text': 3753, 'lesson': 2434, 'learned': 2418, 'tell': 3733, 'story': 3606, 'read': 3140, 'second': 3340, 'kingdom': 2371, 'httpstcoje4ei88hmv': 1835, 'heard': 1466, 'name': 2707, 'dogecake': 949, 'yolt': 4235, 'httpstcocnof9yjpf1': 1693, 'damian': 829, 'yeah': 4228, 'thing': 3768, 'restaurant': 3218, 'get': 1357, 'hang': 1433, 'stranger': 3609, 'sjm': 3447, 'future': 1318, 'currency': 810, 'scratch': 3325, 'much': 2690, 'u0001f5a4': 3936, 'destiny': 891, 'franz': 1286, 'essential': 1085, 'said': 3295, 'landing': 2389, 'burn': 522, 'clear': 642, 'solution': 3500, 'greate': 1403, 'httpstcoe5wikiugkz': 1719, 'still': 3594, 'use': 4051, 'hot': 1528, 'gas': 1336, 'maneuvering': 2547, 'rcs': 3134, 'thruster': 3782, 'httpstcovso9h4ioed': 2082, 'higher': 1498, 'isp': 2329, 'intuitively': 2313, 'turbopumpfed': 3877, 'mu': 2689, 'httpstcolbtg1sibuc': 1876, 'spherex': 3545, 'collect': 664, 'data': 837, '300': 68, 'million': 2635, 'galaxy': 1325, 'explore': 1140, 'un': 3997, 'launch': 2407, '60': 104, 'satellite': 3307, 'pad': 2860, '39a': 82, 'deck': 852, 'httpstco71cucbgpnx': 1613, 'default': 858, 'engine': 1062, 'least': 2422, 'lever': 2439, 'arm': 294, 'shut': 3419, 'min': 2638, 'throttle': 3779, 'point': 2960, 'flameout': 1240, 'risk': 3251, 'la': 2382, 'httpstcothniyssnwn': 2027, 'foolish': 1262, 'start': 3577, 'immediately': 2219, 'needed': 2719, 'land': 2387, 'become': 399, 'meme': 2604, 'destroyer': 892, 'short': 3407, 'might': 2629, 'actually': 167, 'happen': 1436, 'sandstorm': 3301, 'masterpiece': 2566, 'dumb': 987, 'try': 3868, 'pull': 3087, 'method': 2619, 'httpstcoj1m7whlrdr': 1832, 'lowkey': 2518, 'loki': 2490, 'low': 2513, 'gigachad': 1362, 'ur': 4046, 'welcome': 4151, 'httpstcoe2kf57klxb': 1718, 'httpstcovviuzwhodt': 2085, 'sea': 3332, 'wind': 4182, 'tough': 3825, 'httpstcobey7pefpcj': 1666, 'watch': 4127, 'u2192': 3977, 'httpstcobjfjlczwdk': 1669, 'httpstcoln95reesbw': 1881, 'twitter': 3891, 'filled': 1211, 'graffiti': 1394, 'art': 301, 'u043c': 3967, 'u044b': 3973, 'u0441': 3972, 'u0434': 3962, 'u0435': 3963, 'u043b': 3966, 'u0430': 3959, 'giga': 1361, 'berlin': 416, 'progress': 3055, 'httpstcoekpg5qcbui': 1725, 'neuralink': 2726, 'working': 4208, 'super': 3650, 'hard': 1442, 'ensure': 1067, 'implant': 2222, 'safety': 3294, 'close': 648, 'communication': 685, 'httpstcoyky1llpumd': 2154, 'enables': 1053, 'access': 145, 'everyday': 1105, 'dream': 972, 'going': 1380, 'space': 3522, 'announcing': 249, 'commercial': 682, 'astronaut': 315, 'aboard': 124, 'dragon': 968, 'httpstcombesvnakad': 1893, 'httpstcouklsjffrjk': 2046, 'worked': 4206, 'advanced': 179, 'wearable': 4139, 'phone': 2925, 'robot': 3260, 'skill': 3449, 'feel': 1199, 'weird': 4149, 'helping': 1484, 'make': 2542, 'hopefully': 1522, 'version': 4082, 'consider': 722, 'shortterm': 3412, 'solve': 3502, 'brain': 489, 'spine': 3548, 'injury': 2269, 'longterm': 2496, 'human': 2186, 'ai': 200, 'symbiosis': 3686, 'latte': 2405, 'httpstcoqrc6alads2': 1981, 'httpstcoxccokojylt': 2119, '10pm': 8, 'tom': 3805, 'experim': 1134, 'httpstcoteezkiwcmk': 2025, 'alert': 208, 'u0001f680': 3948, 'targeting': 3714, 'earlier': 998, 'april': 284, '20': 31, 'crew': 790, 'rotation': 3273, 'mi': 2622, 'became': 397, 'big': 433, 'fan': 1178, 'methane': 2618, 'httpstcomdv0vdefyc': 1896, 'sound': 3518, 'correct': 760, 'certainly': 594, 'deserves': 886, 'lot': 2507, 'cre': 784, 'httpstcohdri4hfa8b': 1798, 'instrumental': 2288, 'developing': 901, 'early': 999, 'vers': 4081, 'httpstcoulxtclm1g6': 2048, '15': 18, 'accelerate': 137, 'unusually': 4033, 'fast': 1185, 'important': 2225, 'reusable': 3232, 'httpstcou1z2cprrqj': 2038, 'escaping': 1082, 'whole': 4167, 'article': 302, 'warm': 4123, 'sunny': 3648, 'day': 839, 'snowy': 3492, 'mountain': 2680, 'httpstco2k8psyqu4j': 1562, 'beautiful': 396, 'httpstcoescjtbzo9d': 1730, 'dr': 964, 'frankensteen': 1283, 'httpstcowdj9k2ujqk': 2093, 'never': 2730, 'used': 4052, 'guy': 1423, 'gave': 1343, 'talk': 3703, 'halo': 1429, 'httpstcopyrcfe97xp': 1969, 'hope': 1521, 'cryoproof': 800, 'install': 2281, 'starship': 3576, 'sn9': 3483, 'sn10': 3474, 'httpstcourtpjn7amo': 2054, 'retrospect': 3227, 'inevitable': 2261, 'shot': 3414, 'live': 2473, 'sword': 3683, 'die': 909, 'entropy': 1073, 'buy': 529, 'hold': 1509, 'company': 689, 'good': 1383, 'produce': 3042, 'service': 3381, 'love': 2510, 'small': 3464, 'smaller': 3465, 'httpstcogtohclgj82': 1784, 'u0001f440': 3919, 'hotfixes': 1529, 'literally': 2469, 'game': 1326, 'httpstcoa6kmk0pegm': 1643, 'dollar': 952, 'shorting': 3410, 'shopify': 3406, 'economy': 1013, 'making': 2543, 'useful': 4053, 'providing': 3080, 'matter': 2574, 'tanstaafl': 3711, 'better': 425, 'fee': 1196, 'latter': 2406, 'robin': 3259, 'httpstcoczrhlolyvo': 1698, 'shorty': 3413, 'apologist': 265, 'respect': 3214, 'sell': 3357, 'house': 1531, 'car': 561, 'sh': 3388, 'httpstcovjkf9bqbod': 2073, 'finishing': 1225, 'engineering': 1064, 'production': 3047, 'aiming': 202, 'release': 3182, 'candidate': 550, 'desig': 887, 'httpstcobfverxpoqu': 1667, 'absolutely': 128, 'unlike': 4027, 'aircraft': 204, 'division': 939, 'fine': 1222, 'faa': 1150, 'fundamentally': 1314, 'broken': 507, 'reg': 3174, 'httpstcosi63axbjbz': 2008, 'nomad': 2745, 'u0001f917': 3951, 'esthetic': 1089, 'incredible': 2248, 'btw': 511, 'interior': 2304, 'design': 888, 'u0001f44c': 3922, 'major': 2540, 'improvement': 2232, 'coming': 677, 'little': 2472, 'roadster': 3257, 'part': 2879, 'rocket': 3264, 'storage': 3604, 'easily': 1007, 'upgradable': 4039, 'httpstcodjdzxq4maz': 1706, 'probably': 3035, 'month': 2669, 'drive': 974, 'without': 4198, 'using': 4055, 'prnd': 3032, 'stalk': 3568, 'stick': 3593, 'annoying': 250, 'shifter': 3401, 'guess': 1419, 'direction': 923, 'based': 384, 'obstacle': 2777, 'see': 3345, 'context': 737, 'nav': 2711, 'map': 2553, 'httpstco6go7ehq9qy': 1602, 'hedge': 1473, 'fund': 1312, 'shrubbery': 3417, 'httpstcom0wwqstaxm': 1889, 'also': 227, 'rear': 3150, 'screen': 3326, '155mph': 21, 'trap': 3847, 'speed': 3540, '14': 15, 'mile': 2631, '200mph': 35, 'top': 3814, 'right': 3247, 'tire': 3795, 'ever': 1103, 'achieve': 155, 'mph': 2686, 'le': 2414, 'play': 2949, 'plaid': 2942, 'model': 2657, 'httpstcohfuptnqipb': 1800, 'discord': 927, 'gone': 1381, 'corpo': 757, 'wild': 4178, 'httpstcof23fxqkbce': 1738, 'waiting': 4116, 'review': 3236, 'gamestonk': 1328, 'httpstcorztkdzaewj': 2002, 'passed': 2888, 'initial': 2267, 'pressure': 3014, 'test': 3747, 'httpstcov7cffwac0a': 2066, 'hand': 1432, 'knit': 2376, 'wool': 4203, 'marvin': 2563, 'martian': 2561, 'helm': 1481, 'dog': 947, 'httpstcogpcvjibtlm': 1780, 'kinda': 2369, 'etsy': 1093, 'serve': 3378, 'public': 3085, 'hamstring': 1431, 'today': 3799, 'amazon': 236, 'system': 3694, 'httpstcosnigkxdxfp': 2012, 'hoping': 1523, 'approval': 278, 'flight': 1245, 'tomorrow': 3806, 'afternoon': 191, 'entire': 1072, 'collection': 665, 'labeling': 2384, 'inference': 2262, 'surround': 3669, 'th': 3754, 'although': 228, 'crazy': 783, 'turn': 3878, 'fsd': 1301, 'moving': 2685, 'nns': 2741, 'camera': 546, 'enable': 1052, 'superhuman': 3657, 'selfdriving': 3354, 'tyranny': 3896, 'road': 3256, 'hell': 1479, 'mostly': 2675, 'paved': 2896, 'bad': 371, 'intention': 2297, 'catchy': 578, 'httpstcoau32myf2rn': 1661, 'sat': 3306, 'launched': 2409, 'laser': 2395, 'link': 2462, 'httpstcoceofli8lzm': 1683, 'ground': 1411, 'station': 3583, 'pole': 2965, 'sorry': 3515, 'confusion': 716, 'v8': 4061, 'say': 3314, 'separate': 3369, 'number': 2764, 'rest': 3217, 'surprise': 3666, 'hardware': 1448, 'software': 3497, 'waymo': 4134, 'money': 2665, 'float': 1247, 'falloutthemed': 1175, 'opening': 2808, 'party': 2885, 'vega': 4073, 'loop': 2500, 'happening': 1438, 'soon': 3512, 'allowed': 217, 'tunnel': 3873, 'yesterday': 4231, 'boy': 487, 'httpstcotlfouiedfm': 2030, 'rideshare': 3246, 'offering': 2795, 'provides': 3079, 'increased': 2244, 'operator': 2813, 'seeking': 3348, 'reliable': 3185, 'affordable': 189, 'rid': 3244, 'stage': 3564, 'landed': 2388, 'course': 773, 'droneship': 979, 'httpstco6gwwllixdg': 1603, 'liftoff': 2453, 'httpstcojs3zvm77rh': 1843, 'u0001f4af': 3931, 'switching': 3681, 'sensible': 3363, 'numbering': 2765, 'distinguish': 934, 'minor': 2642, 'update': 4037, 'httpstcoqmhipv5zqs': 1976, 'week': 4147, 'due': 985, 'unfavorable': 4017, 'weather': 4141, 'standing': 3570, 'continue': 738, 'countdown': 768, '30': 67, 'seco': 3339, 'given': 1370, 'many': 2552, 'depending': 877, 'scru': 3329, 'httpstcogby9nacrsn': 1769, 'launching': 2410, 'wide': 4170, 'range': 3119, 'customer': 814, 'excited': 1120, 'lowcost': 2514, 'httpstcow66u5qduh9': 2091, 'require': 3207, 'fresh': 1292, 'water': 4129, 'something': 3507, 'httpstcofwxsmo0f8t': 1762, 'httpstcokwtvwm7mbn': 1868, 'path': 2894, 'fully': 1308, 'renewable': 3198, 'energy': 1060, 'solves': 3504, 'problem': 3037, 'longer': 2493, 'chain': 598, 'hyd': 2197, 'httpstcoxugrzqijzx': 2134, 'detail': 893, 'donating': 957, 'towards': 3827, 'best': 421, 'technology': 3727, 'pretty': 3015, 'mean': 2586, 'civilization': 637, 'gr': 1393, 'httpstcosiar8ifvwc': 2009, 'httpstcovv6tthkr55': 2084, 'rock': 3263, 'eighth': 1026, 'httpstcozyj8zddfql': 2181, 'ratelimiting': 3127, 'process': 3040, 'cell': 588, 'constantly': 727, 'changing': 607, 'truck': 3860, 'stuck': 3622, 'traffic': 3838, 'generate': 1349, 'megaton': 2599, 'toxic': 3829, 'particulate': 2882, 'httpstcojcqiacxjno': 1834, 'giant': 1360, 'casting': 575, 'machine': 2529, 'trying': 3869, 'fullsize': 1307, 'httpstcochgqmaiyts': 1687, 'tegmark': 3730, 'exceptionally': 1118, 'smart': 3467, 'manufacturing': 2551, 'ultra': 3994, 'volume': 4107, 'industry': 2260, 'like': 2455, 'food': 1260, 'beverage': 428, 'medical': 2593, 'eg': 1022, 'syrinx': 3693, 'toy': 3830, 'battery': 387, 'fundamental': 1313, 'ratelimiter': 3126, 'slowing': 3462, 'sustainable': 3673, 'pr': 2995, 'httpstco9ybabezxcv': 1641, 'looking': 2498, 'question': 3105, 'viewed': 4096, 'valuable': 4064, 'tradein': 3836, 'glad': 1372, 'ok': 2799, 'whistle': 4164, 'cybertruck': 822, 'garage': 1333, 'awesome': 364, 'serverside': 3380, 'code': 659, 'birthday': 441, 'wikipedia': 4176, 'exist': 1126, 'watching': 4128, 'cobra': 658, 'kai': 2354, 'fallout': 1174, 'texas': 3752, 'chuck': 630, 'norris': 2749, 'divide': 938, 'zero': 4241, 'call': 540, 'information': 2264, 'labor': 2385, 'actuall': 166, 'httpstcojz6zmqgbo3': 1847, 'monty': 2670, 'python': 3097, 'httpstcoujq94iwt88': 2044, 'twist': 3889, 'knife': 2375, 'show': 3415, 'wise': 4191, 'ease': 1005, 'swap': 3675, 'hour': 1530, 'slight': 3457, 'repair': 3199, 'switched': 3680, 'nice': 2735, 'school': 3320, 'internship': 2307, 'college': 666, 'prototype': 3074, 'positive': 2978, 'excruciating': 1123, 'physic': 2929, 'splashdown': 3551, 'confirmed': 714, 'completing': 699, '21st': 48, 'resupply': 3224, 'return': 3228, 'cargo': 566, 'resupp': 3223, 'detanking': 894, 'inspection': 2277, 'hop': 1520, 'goal': 1379, 'three': 3777, 'static': 3582, 'fire': 1227, 'completed': 697, 'ruds': 3282, 'happened': 1437, '10': 2, 'fair': 1168, 'httpstcoho7ygxas3a': 1805, 'shanty': 3392, 'tiktok': 3787, 'level': 2438, 'actual': 165, 'pirate': 2938, 'practicing': 2997, 'held': 1476, 'massive': 2565, 'pin': 2936, 'fir': 1226, 'httpstcoqtiiwlxxpl': 1983, 'promised': 3058, 'legalize': 2428, 'comedy': 675, 'steal': 3586, 'logo': 2489, 'sue': 3639, 'help': 1482, 'appreciated': 276, 'star': 3571, 'field': 1208, 'background': 368, 'separation': 3370, 'performing': 2915, 'departure': 875, 'move': 2683, 'away': 363, 'httpstcog27ohwvnxj': 1765, 'suicide': 3641, 'double': 961, 'homicide': 1516, 'httpstcomvwgps9uqe': 1910, 'hey': 1492, 'queen': 3104, 'gonna': 1382, 'httpstcolrqdirbiyd': 1885, 'hate': 1453, '300km': 69, 'every': 1104, 'millisecond': 2636, 'wish': 4192, 'faster': 1186, 'httpstcotkkruvgbth': 2029, 'httpstcoocy2gfryvn': 1932, 'httpstcobkkeiiicye': 1671, 'protec': 3070, 'u0001f476': 3924, 'yoda': 4234, 'httpstco1dvhg0ntku': 1549, 'u041e': 3958, 'u043d': 3968, 'u0431': 3960, 'u0432': 3961, 'u0438': 3964, 'u043a': 3965, 'u043e': 3969, 'u043f': 3970, 'distinction': 933, 'increasing': 2245, 'rapidly': 3121, 'happens': 1439, 'imagined': 2216, 'factory': 1161, 'commenting': 681, 'replacement': 3202, 'glass': 1373, 'junkyard': 2352, 'place': 2941, 'spare': 3530, 'unhappy': 4019, 'west': 4155, 'coast': 657, 'tech': 3723, 'de': 841, 'facto': 1158, 'arbiter': 288, 'free': 1287, 'speech': 3539, 'already': 226, 'donated': 956, 'signal': 3424, 'ago': 193, 'donate': 955, 'primarily': 3020, 'advance': 178, 'cause': 582, 'extending': 1142, 'life': 2448, 'consciousness': 721, 'beyond': 430, 'httpstcovybfavhkys': 2087, 'maybe': 2583, 'later': 2402, 'prancing': 2998, 'pony': 2971, 'u0001f622': 3944, 'long': 2492, 'seemed': 3350, 'optimistic': 2819, 'yearold': 4230, 'son': 3510, 'saxon': 3313, '2021': 39, 'thinking': 3770, 'boca': 463, 'tour': 3826, 'community': 686, 'support': 3662, 'around': 296, 'site': 3443, 'wherever': 4162, 'done': 958, 'httpstcowmqwct2wfh': 2103, 'catapult': 576, 'air': 203, 'roof': 3269, 'base': 383, 'jumping': 2351, 'parachute': 2873, 'way': 4133, 'travel': 3850, 'building': 517, 'futuristic': 1319, 'bar': 378, 'httpstcoz2umtgsaoi': 2163, 'increase': 2243, 'neither': 2723, 'solar': 3499, 'installation': 2282, 'large': 2391, 'reactor': 3139, 'po': 2958, 'httpstcoph6x1plnam': 1955, 'sick': 3420, 'beat': 395, 'httpstco8pbsgffzrp': 1627, 'dozen': 963, 'primary': 3021, 'decisionmakers': 851, 'technically': 3725, 'verification': 4080, 'ascribe': 304, 'credibilit': 789, 'httpstcoju4wemvsjg': 1845, 'underway': 4012, 'httpstcowbk7zz0fqx': 2092, 'critical': 795, 'feedback': 1198, 'always': 233, 'really': 3147, 'harder': 1444, 'indirectly': 2253, 'electric': 1032, 'possible': 2981, 'electricity': 1034, 'convert': 748, 'co2': 656, 'h2o': 1425, 'ch4': 596, 'o2': 2770, 'httpstcofqzotwqt9d': 1754, 'unfortunately': 4018, 'photon': 2928, 'emission': 1046, 'powered': 2989, 'matterantimatter': 2575, 'annihila': 248, 'httpstcoy8po10opqn': 2148, 'vehicle': 4074, 'playing': 2952, 'wing': 4185, 'moon': 2671, 'def': 857, 'runway': 3286, 'hamiltonians': 1430, '2v': 66, 'potential': 2985, 'langrangians': 2390, 'httpstco2ja38z8mre': 1561, 'strange': 3608, 'ya': 4223, 'reminds': 3193, 'timeless': 3792, 'classic': 641, 'httpstcogq1wayotir': 1781, 'tiny': 3793, 'occam': 2784, 'razor': 3133, 'third': 3771, 'seen': 3352, 'external': 1144, 'observer': 2776, 'participant': 2880, 'dumber': 988, 'movie': 2684, 'tho': 3772, 'called': 541, 'domino': 954, 'effect': 1018, 'httpstcoqpbew54rvm': 1978, 'httpstcoes5garryvs': 1729, 'footprint': 1264, 'flat': 1243, 'tall': 3706, 'snow': 3491, 'falling': 1173, 'httpstcoetxmtyp8hg': 1733, 'u0001f609': 3940, 'responsible': 3216, '23': 51, 'personal': 2921, 'professional': 3050, 'combined': 671, 'worth': 4212, 'proud': 3075, 'achieving': 158, 'milestone': 2632, 'optimistica': 2820, 'httpstco1wlybpkmzj': 1554, '2020': 38, 'produced': 3043, 'delivered': 862, 'half': 1427, 'huge': 2183, 'httpstcoq43vz6rmhd': 1971, 'um': 3995, 'fusion': 1317, 'sky': 3453, 'maintenance': 2539, 'full': 1306, 'average': 355, 'driver': 976, 'httpstcojmabjuqfdf': 1839, 'dojo': 951, 'safer': 3293, 'aut': 335, 'httpstcodyy2rmhgil': 1716, 'ignore': 2208, 'heading': 1463, 'mathias': 2572, 'döpfner': 996, 'httpstcoewnahc4ch0': 1735, 'u0001f3a9': 3910, 'greatest': 1405, 'gatsby': 1341, 'inspired': 2279, 'ballet': 373, 'motion': 2676, 'vertical': 4083, 'want': 4120, 'open': 2806, 'roaring': 3258, 'lump': 2522, 'along': 224, '1000': 4, 'create': 785, 'httpstcoxjlljpljbp': 2121, 'exactly': 1112, 'press': 3013, 'header': 1462, 'tank': 3709, 'helium': 1478, 'debate': 846, 'httpstcokawwol54jg': 1854, 'leg': 2427, 'step': 3590, 'save': 3312, 'immediate': 2218, 'repositioning': 3205, 'mount': 2679, 'rea': 3135, 'httpstcojwdcjarymj': 1846, 'catch': 577, 'grid': 1409, 'fin': 1214, 'load': 2479, 'snakehead': 3486, 'undivided': 4014, 'attention': 326, 'winderhead': 4183, 'ostrich': 2830, 'came': 545, 'gliding': 1374, 'nonchalant': 2746, 'httpstcodtpmdm3tqp': 1712, 'odd': 2792, 'opposition': 2816, 'group': 1413, 'bmw': 458, 'home': 1513, 'state': 3581, 'baveria': 390, 'far': 1180, 'brande': 491, 'httpstcom7dyvli4cx': 1890, 'anywhere': 261, 'cannot': 552, 'everywhere': 1108, 'final': 1215, 'httpstcoppaereeo8y': 1961, 'mark': 2558, 'dankberg': 834, 'action': 162, 'wack': 4114, 'dank': 833, 'westworld': 4156, 'visualization': 4103, 'could': 766, 'add': 170, 'voice': 4105, 'cheese': 617, 'cake': 536, 'trouble': 3859, 'everything': 1107, 'httpstcoomacmyqawx': 1936, 'think': 3769, 'httpstco5mrvvzmekg': 1591, 'cgi': 595, 'httpstcovoive97vpr': 2078, 'ui': 3989, 'overhaul': 2844, 'incremental': 2250, 'codebase': 660, 'build': 516, 'httpstco07puoramgo': 1537, 'pose': 2974, 'hazard': 1458, 'viasat': 4088, 'profit': 3051, 'stop': 3603, 'sneaky': 3487, 'charlie': 611, 'ergen': 1079, 'entertainment': 1071, 'meeting': 2597, 'larry': 2394, 'ellison': 1038, 'seek': 3347, 'advice': 183, 'end': 1056, 'quarter': 3102, 'incar': 2237, 'gaming': 1330, 'autonomous': 348, 'world': 4209, 'taste': 3716, 'polytopia': 2969, 'multiplayer': 2692, 'online': 2805, 'focus': 1256, 'truly': 3862, 'total': 3818, 'pie': 2934, 'bigger': 434, 'instead': 2285, 'en': 1051, 'httpstcoqe4jcezytq': 1974, 'roughly': 3275, '95': 119, 'unique': 4021, 'pro': 3033, 'httpstcor3yb6cmrb8': 1988, 'able': 122, 'check': 614, 'speaker': 3533, 'interesting': 2302, 'liz': 2476, '25': 55, 'successful': 3637, 'majority': 2541, 'pa': 2855, 'httpstcopmgu4vhqez': 1958, 'vaccine': 4062, 'capable': 555, 'theory': 3761, 'curing': 808, 'almost': 221, 'anything': 258, 'medicine': 2594, 'httpstcouruvc4qf1a': 2056, 'offer': 2794, 'multiple': 2693, 'display': 931, 'revision': 3237, 'beta': 424, '11': 10, 'subtle': 3633, 'canada': 547, 'rule': 3283, 'bu': 512, 'httpstcoxzx9ppvl92': 2143, 'match': 2568, 'setting': 3383, '12': 11, 'pedestrian': 2906, 'httpstco7hkza1ohe4': 1617, 'writing': 4217, 'nightmare': 2739, 'seeing': 3346, 'upload': 4043, 'custom': 813, 'music': 2696, 'otherwise': 2832, 'generator': 1350, 'except': 1116, 'horn': 1524, 'change': 606, 'u0001f410': 3917, 'u0001f40d': 3916, 'u0001f3b7': 3913, 'u0001f4a8': 3928, 'holiday': 1511, 'jingle': 2343, 'latest': 2403, 'merry': 2613, 'christmas': 626, 'u0001f381': 3909, 'httpstcouk6nspwr9r': 2045, 'sense': 3361, 'revenue': 3235, 'growth': 1414, 'predictable': 3003, 'general': 1347, 'operation': 2811, 'absorb': 129, 'vast': 4069, 'mind': 2639, 'li': 2444, 'httpstcovxv7ghumbd': 2086, 'controlled': 743, 'fall': 1172, 'httpstcohcrgyx42rn': 1796, 'ironing': 2325, 'bug': 514, 'owner': 2851, 'taking': 3700, 'delivery': 863, 'frictionless': 1293, 'possibly': 2982, 'wrong': 4219, 'darkest': 836, 'program': 3053, 'reached': 3137, 'tim': 3789, 'cook': 750, 'discus': 929, 'possibility': 2980, 'httpstcooptz9urne0': 1942, 'us': 4049, 'ironphosphate': 2326, 'medium': 2595, 'shanghai': 3391, 'httpstcomilwsilvrt': 1900, 'sparta': 3531, 'reply': 3203, 'macedon': 2527, 'hi': 1494, 'heart': 1468, 'seriously': 3377, 'twisted': 3890, 'affair': 187, 'kind': 2368, 'supercharger': 3651, 'accessible': 146, 'photo': 2927, 'httpstco095whx44bx': 1538, 'httpstco6ojfysuaxo': 1607, 'transaction': 3841, 'u2665': 3983, 'ufe0f': 3987, 'ppl': 2994, 'sigh': 3423, 'main': 2537, 'hanging': 1435, 'pseudo': 3083, 'intellectual': 2292, 'conversation': 747, 'httpstco0s0ybscm0p': 1544, 'comment': 680, 'stay': 3585, 'u0001f484': 3926, 'subscription': 3630, 'word': 4204, 'bitcoin': 444, 'fiat': 1206, 'nail': 2705, 'lipstick': 2463, 'httpstcodvwzgtppda': 1713, 'httpstcoebojgshvrq': 1722, 'lord': 2501, 'edge': 1014, 'branding': 493, 'kidding': 2367, 'safe': 3292, 'anyway': 260, 'zone': 4244, 'httpstcomr18qv3goc': 1907, 'httpstcoag4rar6qnp': 1650, 'inspect': 2276, 'slightly': 3458, 'upper': 4044, 'liquid': 2464, 'oxygen': 2854, 'impressive': 2228, 'quite': 3108, 'grumpy': 1415, 'know': 2378, 'absurdly': 132, 'autopilot': 351, 'ther': 3762, 'httpstcov8muheapoq': 2067, 'light': 2454, 'bright': 499, 'httpstco6cetazsxco': 1599, 'incorrect': 2241, 'visually': 4104, 'stunning': 3625, 'playability': 2950, 'tshirt': 3871, 'armor': 295, 'kevlar': 2363, 'chest': 619, 'plate': 2948, 'absence': 126, 'magic': 2534, 'httpstcoiydkttvsqk': 1829, 'oh': 2797, 'umm': 3996, 'httpstcojtg944ercy': 1844, 'trans': 3840, 'pronoun': 3059, 'max': 2577, 'thrust': 3781, 'blown': 456, 'altit': 229, 'httpstcoikcrzpyxtr': 1823, 'loaded': 2480, 'slow': 3461, 'imo': 2220, 'improving': 2234, 'mere': 2610, 'surface': 3664, 'woul': 4213, 'httpstcozm0sz9cbzg': 2175, 'perhaps': 2916, 'confident': 712, 'view': 4095, 'output': 2837, 'httpstcorkfvjvotse': 1998, 'dankeschön': 835, 'brandenburg': 492, 'und': 4001, 'grünheide': 1416, 'berlinbrandenburg': 417, 'structural': 3620, 'pack': 2858, 'architecture': 290, '4680': 96, 'httpstcowesafntz7a': 2095, 'original': 2828, 'deus': 898, 'ex': 1110, 'revolution': 3238, 'objective': 2772, 'reality': 3145, 'impossible': 2226, 'run': 3285, 'httpstcozo01qsu1wt': 2176, 'flip': 1246, 'maneuver': 2546, 'httpstcoqud9hwz9cx': 1984, 'ascent': 303, 'heaven': 1471, 'httpstcooggsw88yrz': 1934, 'briefly': 498, 'picked': 2932, 'pick': 2931, 'httpstconllipnbmxr': 1923, 'httpstcoaayypcpp1i': 1644, 'hehe': 1474, 'httpstcosklmil3oxt': 2010, 'httpstcorhksb40xqr': 1995, 'httpstcokmg7c9qf6h': 1859, 'httpstcosdmxkbhdzd': 2007, 'httpstcoqbnt1dused': 1972, 'sxm': 3684, '25th': 60, 'httpstcozrur0ewnlv': 2177, 'init': 2266, 'void': 4106, 'cooling': 754, 'soft': 3496, 'spot': 3554, 'transpiration': 3846, 'cooking': 752, 'httpstco9sschdkfad': 1639, 'leeward': 2425, 'side': 3421, 'bare': 380, 'metal': 2615, 'windward': 4184, 'black': 448, 'hexagonal': 1491, 'heat': 1469, 'shield': 3399, 'tile': 3788, 'cant': 553, 'wait': 4115, 'spacexstarship': 3528, 'httpstcoynetmywfvg': 2155, 'agreed': 196, 'preserved': 3011, 'memory': 2606, 'sn8': 3482, 'httpstco5ozlyf7qrf': 1592, 'woohoo': 4202, 'reaching': 3138, 'apogee': 264, 'controlling': 744, 'putting': 3095, 'httpstcoxwm1fxmx0r': 2139, 'thank': 3755, 'south': 3519, 'universe': 4024, 'httpstco1zczinfc4u': 1556, 'fuel': 1304, 'causing': 583, 'touchdown': 3821, 'velocity': 4077, 'rud': 3281, 'got': 1385, 'httpstcowgjvdsahmf': 2097, 'switchover': 3682, 'precise': 3001, 'flap': 1242, 'control': 742, 'httpstcoiiraiesg5m': 1821, 'u0001f920': 3953, 'nearorbital': 2714, 'fastest': 1187, 'distance': 932, 'spee': 3538, 'httpstcovyvivrtzsa': 2088, 'timelapse': 3791, 'approach': 277, 'docked': 944, 'httpstcoi046jbmc7o': 1813, 'orifice': 2827, 'message': 2614, 'decrypted': 855, '13': 13, 'chance': 604, 'flying': 1255, 'success': 3636, '140': 16, 'pm': 2956, 'et': 1091, 'upgraded': 4041, 'spacecraft': 3523, 'autonomously': 349, 'u0001f409': 3915, '1st': 30, 'httpstcorcyoxxptc2': 1992, 'night': 2737, 'period': 2917, '130': 14, 'docking': 945, 'crewdragon': 792, 'morning': 2673, 'earthling': 1004, 'u2600': 3978, 'journey': 2348, 'continues': 739, 'dock': 943, 'knock': 2377, 'singing': 3440, 'telegram': 3731, 'carrying': 570, 'symbiotic': 3687, 'bacteria': 370, '40': 86, 'trillion': 3855, 'mobile': 2653, 'colony': 668, '100': 3, 'tracking': 3834, 'footage': 1263, 'helicopter': 1477, 'lc': 2413, 'httpstco7ryvzrts18': 1621, 'genuinely': 1353, 'magical': 2535, 'person': 2920, 'chica': 620, 'quiet': 3107, 'serine': 3375, 'im': 2214, 'gespräch': 1356, 'mit': 2649, 'httpstcobqa5piaonk': 1673, 'approximately': 282, 'httpstcocnl6t0lq0g': 1692, 'httpstcopgk24cph9e': 1953, 'rave': 3130, 'httpstcod3jkoiasy7': 1701, 'toilet': 3802, 'paper': 2871, 'demolition': 867, 'man': 2544, 'prometheus': 3056, 'unbound': 3999, 'supporting': 3663, 'previously': 3017, 'bob': 462, 'behnken': 409, 'doug': 962, 'hurley': 2192, 'beast': 394, 'compared': 690, 'vic': 4089, 'award': 361, 'accepted': 144, 'behalf': 406, 'boring': 479, 'co': 655, 'science': 3321, 'scientist': 3322, 'roc': 3262, 'httpstcows70uvcryn': 2107, 'discovering': 928, 'truth': 3867, 'exists': 1127, 'creating': 786, 'httpstcoxmqtbrldyp': 2126, 'cold': 662, 'paint': 2864, 'congrats': 717, 'hardest': 1445, 'httpstcocsizk6sevu': 1695, 'risky': 3252, 'wednesday': 4146, 'sad': 3291, 'news': 2732, 'tony': 3811, 'pic': 2930, 'thanos': 3758, 'truncate': 3863, 'round': 3276, 'wider': 4172, 'fp16': 1279, 'digit': 918, 'truncated': 3864, 'fp32': 1280, 'betting': 427, 'training': 3839, 'int': 2290, 'lifting': 2452, 'httpstcolb14pksayi': 1875, 'httpstcommg5b8b40z': 1904, 'thanksgiving': 3757, 'overall': 2842, 'suspension': 3671, 'height': 1475, 'damping': 831, 'algorithm': 211, 'httpstcoopgo08vd4y': 1940, 'promise': 3057, 'greatly': 1406, 'special': 3534, 'color': 669, 'savage': 3311, 'wondered': 4201, 'leader': 2416, 'normal': 2748, 'httpstcoetfp9ielrf': 1731, 'subject': 3627, 'upgrade': 4040, 'slated': 3455, 'sn15': 3475, 'similar': 3430, 'wiring': 4190, 'robust': 3261, 'mat': 2567, 'httpstco7ofbmy1n25': 1619, 'sn': 3473, '15km': 22, '50k': 103, 'ft': 1302, 'altitude': 230, 'engin': 1061, 'httpstco7ojorqnhb6': 1620, 'depends': 878, 'yet': 4232, 'bay': 391, 'propel': 3062, 'httpstcoj2uvultatv': 1833, 'rapid': 3120, 'complete': 696, 'reuse': 3233, 'propellant': 3063, 'refilling': 3170, 'httpstcoumyur7yshy': 2050, 'simply': 3435, 'biggest': 435, 'gamechanger': 1327, 'cu': 804, 'httpstconb5hl7gzlx': 1915, 'significant': 3425, 'exciting': 1122, 'yea': 4227, '7th': 114, 'queue': 3106, 'u0001f62c': 3945, 'fate': 1189, 'irony': 2327, 'hypocrisy': 2202, 'secondengine': 3341, 'fairing': 1169, 'european': 1096, 'sentinel': 3368, 'michael': 2623, 'freilich': 1289, 'oceanobserving': 2789, 'u0001f603': 3938, 'center': 590, 'named': 2708, 'skynet': 3454, 'joke': 2347, 'tempting': 3736, 'producing': 3044, 'largest': 2393, 'cast': 574, 'titanium': 3796, 'shielding': 3400, 'vandenberg': 4068, 'afb': 186, 'california': 539, 'httpstco46j2gccjp0': 1582, 'httpstcofr9aucywco': 1755, 'investor': 2318, 'investing': 2316, 'httpstcowduz0wnuin': 2094, 'httpstcoffpvdsqruc': 1749, 'ahead': 198, 'httpstcoapzngmo0k7': 1658, 'httpstcolqw6tympb7': 1884, 'pointy': 2964, 'cool': 753, 'nothing': 2758, 'httpstcoxajan4j9zr': 2118, 'vision': 4100, 'margin': 2556, 'ghostworld': 1359, 'radar': 3110, 'wavelength': 4132, 'httpstcodmgov9rcnu': 1709, 'misperception': 2645, 'developed': 900, 'lidar': 2447, 'httpstco3i0bwgjlqp': 1574, 'fly': 1254, 'turbopump': 3876, 'internal': 2305, 'ballpark': 374, 'httpstco0srlfg03fg': 1545, 'xpeng': 4221, 'andrej': 246, 'talented': 3702, 'httpstco64ocngk3ey': 1598, 'stole': 3600, 'apple': 271, 'httpstcogy4dt7pq9n': 1787, 'nn': 2740, 'computer': 705, 'caution': 584, 'strongly': 3619, 'advised': 184, 'spacs': 3529, 'sexy': 3387, 'cropping': 796, 'champion': 603, 'widen': 4171, 'liquor': 2465, 'distribution': 936, 'httpstcokvhlbuee1u': 1865, 'fix': 1235, 'httpstcobv5stdwngj': 1675, 'billion': 437, 'decide': 850, 'spent': 3543, 'dealing': 844, 'terraforming': 3743, 'relevant': 3184, 'lifetime': 2450, 'establish': 1088, 'httpstcouygaae7g3r': 2060, 'httpstcofrezwjcwna': 1756, 'publicly': 3086, 'traded': 3835, 'bogle': 466, 'thems': 3759, 'httpstcoencu8cblpy': 1728, 'mild': 2630, 'bro': 504, 'cov': 775, 'though': 3773, 'pc': 2903, 'viral': 4098, 'httpstcouysanpqtfi': 2061, 'dome': 953, 'eventually': 1102, 'terraformed': 3742, 'sim': 3429, 'obvious': 2782, 'deveras': 903, 'case': 572, 'noninfectious': 2747, 'ct': 803, 'quarantine': 3101, 'another': 252, 'httpstcooalvzwcmio': 1931, 'wanted': 4121, 'mercy': 2609, 'httpstco9ie40hoihr': 1637, 'u0001f60f': 3942, 'cut': 816, 'someone': 3506, 'took': 3812, 'bite': 445, 'sentience': 3367, 'learning': 2419, 'httpstco5zsyalvczx': 1597, 'designed': 889, 'multiplanetary': 2691, 'extreme': 1146, 'overkill': 2845, 'sector': 3344, 'activity': 164, 'httpstcoyjltt8peeu': 2153, 'blessing': 453, 'sort': 3516, 'groundswell': 1412, 'believed': 413, 'httpstcofwk1zihfeg': 1761, 'nullius': 2763, 'verba': 4079, 'marginal': 2557, '1m': 29, 'httpstcornsj5fkdxt': 1999, 'merlin': 2612, 'strong': 3618, 'local': 2482, 'maximum': 2580, 'kerosene': 2362, 'suboptimal': 3628, 'httpstcojoetyskgp7': 1842, 'visiting': 4102, 'american': 238, 'ah': 197, 'pcr': 2904, 'unequivocal': 4015, 'httpstcoyjdogokx8q': 2152, 'notable': 2755, 'figurative': 1209, 'literal': 2468, 'dust': 991, 'settle': 3384, 'dayquil': 840, 'frankly': 1285, 'httpstcohj0thlr48n': 1802, 'avionics': 357, 'cable': 535, 'steel': 3587, 'pipe': 2937, 'adding': 172, 'watercooled': 4130, 'sec': 3338, 'starting': 3579, 'martyte': 2562, 'covering': 778, 'concrete': 708, 'shattered': 3395, 'sending': 3360, 'blade': 450, 'httpstcovilv1s16yo': 2072, 'sometimes': 3508, 'blow': 455, 'httpstcoeuxoocfr9t': 1734, 'count': 767, 'atom': 321, 'testing': 3750, '90': 115, 'httpstcotv3pixzp4i': 2036, 'tbh': 3720, 'httpstcoy5njrepvtc': 2145, 'teslaquila': 3746, 'permission': 2918, 'received': 3154, 'stonecutter': 3601, 'guild': 1420, 'httpstcosw5rbm1srb': 2017, 'u0001f47b': 3925, 'u0001f4b5': 3933, 'httpstcouwerahxuev': 2058, 'damn': 830, 'russian': 3287, 'ukrainian': 3990, 'arrived': 299, 'toss': 3817, 'witcher': 4196, 'enter': 1069, '448': 94, 'est': 1087, '948': 118, 'utc': 4056, 'curevac': 807, 'moderna': 2660, 'others': 2831, 'kn': 2373, 'httpstcokveprq79rl': 1864, 'synthetic': 3692, 'mrna': 2687, 'cure': 806, 'httpstcoyp7djawiks': 2156, 'thread': 3776, 'asking': 308, 'symptom': 3688, 'past': 2890, 'apart': 263, 'fatigue': 1190, 'unless': 4026, 'chang': 605, 'httpstcos8eo2xb2sf': 2005, 'minute': 2643, 'channel': 608, 'integrated': 2291, 'chamber': 602, 'wall': 4117, 'either': 1030, 'abort': 125, 'obviates': 2781, 'hover': 1532, 'propulsively': 3069, 'httpstcomr7vfiqwwf': 1908, 'enabling': 1054, 'capability': 554, 'httpstcokrohkor6ae': 1862, 'song': 3511, 'ride': 3245, 'launchamerica': 2408, 'httpstcovzhxun6yie': 2089, '22': 49, 'beginning': 405, 'spaceflight': 3524, 'currently': 812, 'returning': 3230, 'amount': 239, 'priv': 3028, 'customtailored': 815, 'suit': 3642, 'route': 3278, 'protect': 3071, 'event': 1101, 'cabin': 534, 'depressu': 880, 'ready': 3143, 'coverage': 777, '727': 111, 'operational': 2812, 'board': 460, 'httpstc': 1536, 'four': 1277, 'boa': 459, 'sym': 3685, 'httpstcogl0mhrqjxy': 1774, 'several': 3386, 'different': 913, 'lab': 2383, 'administered': 175, 'rn': 3253, 'httpstcohajhh7la7q': 1793, 'obv': 2780, 'insanely': 2272, 'pointless': 2963, 'argument': 292, 'httpstco3fazzgss8c': 1573, 'u0001f338': 3906, 'girl': 1367, 'japan': 2339, 'spotlight': 3555, 'arrive': 298, 'u0001f534': 3934, 'rover': 3279, 'crew1': 791, 'finished': 1224, 'dress': 973, 'rehearsal': 3179, 'saturday': 3309, 'behind': 408, 'kid': 2366, 'wig': 4174, 'granular': 1396, 'result': 3221, 'complex': 700, 'ie': 2206, 'reading': 3142, 'curious': 809, 'rona': 3268, 'httpstcofa6kd61eba': 1741, 'blood': 454, 'ju': 2349, 'httpstcotwl0dgurmk': 2037, 'regular': 3176, 'body': 464, 'achy': 159, 'cloudy': 652, 'head': 1460, 'httpstcoihvpeox7m6': 1820, 'opinion': 2814, 'n1': 2702, 'gene': 1346, 'regarded': 3175, 'httpstcoemuxlx698g': 1727, 'cautious': 585, 'expect': 1130, 'forward': 1273, 'merged': 2611, 'buff': 513, 'wildly': 4179, 'moderate': 2658, 'covid': 779, 'httpstcoxlbahahjoj': 2123, 'npc': 2761, 'ahem': 199, 'dmt': 941, 'law': 2411, 'thermodynamics': 3764, 'win': 4181, 'break': 495, 'shake': 3390, 'fist': 1232, 'expansion': 1128, 'thursday': 3783, 'saliva': 3297, 'sample': 3299, 'httpstcotm7cs8otdt': 2031, 'honey': 1517, 'accurate': 153, 'u0001f600': 3937, 'u0001f4ab': 3930, 'degree': 861, 'heneghan': 1485, 'hilarious': 1502, 'clarify': 639, 'httpstcomlxngcsa9t': 1903, 'amplification': 240, 'cycle': 823, 'required': 3208, 'detect': 895, 'virus': 4099, 'rough': 3274, 'indicator': 2252, 'vir': 4097, 'httpstcomn8192hueq': 1905, 'reference': 3168, 'closed': 649, 'httpstcopuyijcadd6': 1968, 'httpstcomwopr7w8kk': 1911, 'fwiw': 1321, 'spoke': 3552, 'dicey': 907, 'httpstcok77wxq11yt': 1851, 'detection': 897, 'n3': 2704, 'spike': 3546, 'protein': 3072, 'directly': 924, 'search': 3334, 'httpstcox57odvdauo': 2115, 'explanation': 1138, 'dramatic': 969, 'decline': 853, 'flu': 1253, 'prevalence': 3016, 'prior': 3025, 'httpstcogmlvewwxdp': 1777, 'moreover': 2672, 'lower': 2515, 'false': 1176, 'httpstcoxvabeklh1q': 2136, 'httpstco42z7vrpb9c': 1580, 'httpstcoxtsukcc3tl': 2133, 'hear': 1465, 'approximate': 281, 'posi': 2976, 'httpstcolvc11nikql': 1887, 'population': 2973, 'knowledge': 2379, 'accuracy': 152, 'sarscov': 3304, 'httpstcovbiu7ds4uq': 2070, 'identify': 2205, 'httpstcom8vj2gaofs': 1891, 'sniffle': 3488, 'cough': 765, 'fever': 1205, 'nyquil': 2769, 'tested': 3748, 'twice': 3887, 'elon': 1039, 'musk': 2697, 'negati': 2720, 'httpstco6ohta09s5l': 1606, 'carousel': 567, 'typical': 3895, 'unusual': 4032, '24': 53, 'bogus': 467, 'cam': 544, 'httpstcoz2v15u7zcf': 2164, 'burst': 524, 'disk': 930, 'melted': 2601, 'preburner': 2999, 'manifold': 2548, 'whatev': 4158, 'httpstco5elyx8pjlg': 1587, 'lost': 2506, 'pneumatics': 2957, 'reason': 3151, 'unknown': 4025, 'present': 3008, 'risin': 3250, 'httpstcoszc90hnti8': 2018, 'u0001f44d': 3923, 'list': 2466, 'attractive': 327, 'employer': 1050, 'student': 3623, 'httpstcokknyqlet0o': 1857, 'cape': 556, 'httpstcouzcgikcikb': 2062, 'luck': 2520, 'superpower': 3658, 'served': 3379, 'sacrificed': 3290, 'veteransday': 4085, 'httpstcou8kn4fzpj9': 2040, 'swing': 3679, 'httpstcoxaimd6nljv': 2117, 'honor': 1518, 'choose': 623, 'strive': 3617, 'httpstcootdwcsk3ck': 1943, 'privilege': 3030, 'blessed': 452, 'readiness': 3141, 'concluded': 707, 'httpstcohbvuhwv3ab': 1795, 'financially': 1218, 'material': 2570, 'entry': 1074, 'httpstconcafknfzlc': 1919, 'rna': 3254, 'bioreactor': 439, 'httpstcoopouohyamu': 1941, 'hangar': 1434, 'checking': 615, 'tedium': 3728, 'fear': 1194, 'canceled': 549, 'rumor': 3284, 'austin': 333, 'chalk': 599, 'geologically': 1354, 'soil': 3498, 'tunneling': 3874, 'find': 1221, 'job': 2345, 'avai': 353, 'httpstcod0i2w8wnkg': 1700, 'cookie': 751, 'browser': 510, 'engineer': 1063, 'httpstco2zlkc8fc2d': 1568, 'accidental': 148, 'shortly': 3411, '20k': 43, 'counting': 770, 'httpstcourudyt9eui': 2055, 'httpstcohprgptt6ru': 1809, 'chip': 622, 'temp': 3734, 'sensor': 3364, 'automatically': 346, 'maintains': 2538, 'prototy': 3073, 'httpstcotgpwej7wqa': 2026, 'overclock': 2843, 'transfer': 3843, 'processing': 3041, 'supercomputer': 3654, 'extension': 1143, 'yo': 4233, 'httpstconbybbfx0t2': 1917, 'rewrote': 3242, '4d': 99, 'single': 3441, 'phot': 2926, 'httpstcomltbdsquty': 1902, 'appear': 268, 'calculation': 537, 'understands': 4009, 'profound': 3052, 'importance': 2224, 'reusability': 3231, 'era': 1078, 'expendable': 1132, 'u2660': 3982, 'dynamically': 994, 'occluded': 2787, 'object': 2771, 'especially': 1084, 'intersection': 2309, 'httpstcoooj9pqayhj': 1939, 'httpstco5u3fnqfhr1': 1594, 'phantom': 2923, 'opera': 2809, 'inside': 2273, 'u0001f1e8': 3899, 'u0001f1e6': 3897, 'problemsolvers': 3038, 'urgency': 4048, 'care': 564, 'went': 4154, 'resume': 3222, 'describe': 884, 'solved': 3503, 'banner': 377, 'left': 2426, 'simulation': 3436, 'faraday': 1181, 'invented': 2314, 'motor': 2678, 'commutatorfree': 687, 'threephase': 3778, 'ac': 133, 'induction': 2258, 'httpstcocqo2rjlrbv': 1694, 'maxwell': 2581, 'recognition': 3158, 'inc': 2236, 'httpstco6y42kmcpgk': 1611, '420': 89, 'ten': 3737, '42': 88, 'deployment': 879, 'gps': 1390, 'iii': 2212, 'httpstcofcfjrcwmti': 1745, 'httpstcohd0ibpx3t5': 1797, 'httpstcoli4o0tnml8': 1880, 'awaiting': 360, 'canadian': 548, 'authority': 337, 'recruiting': 3164, 'ace': 154, 'send': 3359, '25gunsteslacom': 58, 'chad': 597, 'uh': 3988, 'wtf': 4220, 'einstein': 1028, 'succeed': 3634, 'relatively': 3181, 'user': 4054, 'ocean': 2788, 'rise': 3249, 'httpstcotmw6phbef0': 2032, 'appreciate': 275, 'steve': 3592, 'convertible': 749, 'loan': 2481, 'httpstcoej7iovx2w4': 1724, 'closest': 650, 'ramp': 3115, 'stress': 3613, 'httpstcowuhekj0hio': 2108, 'put': 3094, 'eithe': 1029, 'httpstco9bgkez9d8a': 1633, 'funding': 1315, '6pm': 110, 'eve': 1099, '2008': 33, 'investo': 2317, 'httpstcoumfgjnkoxm': 2049, 'lowering': 2516, 'terminal': 3741, 'rather': 3128, 'challenge': 600, 'regulatory': 3178, 'middle': 2628, 'set': 3382, 'httpstco8ehbqc3fa0': 1623, 'norway': 2752, 'realize': 3146, 'current': 811, 'approved': 280, 'europe': 1095, 'individually': 2256, 'euwide': 1097, 'httpstco8zbt9qjd9h': 1630, 'latitude': 2404, 'position': 2977, 'january': 2338, 'thousand': 3775, 'participation': 2881, 'invitation': 2319, 'tweak': 3884, 'expected': 1131, 'httpstcoruediphtil': 2001, 'supercollider': 3653, 'considerably': 723, 'larger': 2392, 'httpstcos3typirk4u': 2003, 'httpstcopqsjzopaj5': 1964, 'httpstcoozazv1igxa': 1947, 'tex': 3751, 'httpstcog2iniry9es': 1766, 'penguin': 2907, 'random': 3118, 'u0001f634': 3947, 'livestream': 2474, 'provide': 3077, 'wa': 4113, 'httpstcojmojn9hhxs': 1841, 'subscale': 3629, 'active': 163, 'aero': 185, 'clos': 647, 'httpstcom8xzlzvsaq': 1892, 'httpstcohez9otgjjh': 1799, 'fails': 1166, 'httpstcodaqdiiwb9x': 1703, 'understanding': 4008, 'pitch': 2939, 'yaw': 4225, 'roll': 3266, 'duri': 990, 'httpstco79jvi22n2r': 1614, 'fortunately': 1272, 'stable': 3561, 'descent': 883, 'transferring': 3844, 'httpstcovpiippdv02': 2079, 'fault': 1191, 'probability': 3034, 'wi': 4168, 'httpstcoinu2xajd7u': 1824, 'measure': 2590, 'intervention': 2311, 'addressed': 174, 'issu': 2330, 'httpstcozyf8efd6ih': 2180, 'neural': 2725, 'httpstcomnn6s3srre': 1906, 'latency': 2401, 'significantly': 3426, 'sweden': 3676, 'death': 845, 'oct': 2790, 'attack': 324, 'easier': 1006, 'pump': 3088, '37': 79, 'gravity': 1402, 'talking': 3705, 'stephenson': 3591, '218': 47, 'constellation': 728, 'scrotum': 3327, 'fry': 1300, 'sun': 3646, 'httpstco2hx6tla8f7': 1559, 'sunday': 3647, 'fiction': 1207, 'urf': 4047, 'smol': 3469, 'told': 3804, 'eaten': 1009, 'jitb': 2344, 'teriyaki': 3739, 'bowl': 485, 'jack': 2333, 'box': 486, 'footstool': 1265, 'log': 2487, 'rate': 3124, 'bot': 482, 'combat': 670, 'phased': 2924, 'array': 297, 'antenna': 254, 'catgirl': 579, 'crane': 780, 'u0001f447': 3921, 'mayo': 2584, 'salty': 3298, 'payne': 2900, 'silent': 3427, 'hill': 1503, 'duty': 992, 'sperm': 3544, 'donor': 959, 'clinic': 645, 'modern': 2659, 'graphic': 1398, 'scarier': 3319, 'creatively': 788, 'horror': 1525, 'dead': 842, 'haunt': 1454, 'httpstcop1agokwqpv': 1948, 'equipment': 1077, 'usable': 4050, 'upgra': 4038, 'httpstcovrwvop79qd': 2081, 'hardly': 1446, 'scrap': 3324, 'scrounged': 3328, 'spa': 3521, 'httpstcoywqqasrbt8': 2159, 'employee': 1049, 'gm': 1377, 'toyota': 3831, 'httpstcoc7dfuastpm': 1679, 'bettern': 426, 'nothin': 2757, 'u0001f4b0': 3932, 'u0001f6f0': 3949, 'capex': 557, 'efficiency': 1019, '2017': 37, 'trash': 3849, 'license': 2445, 'print': 3022, 'helpful': 1483, 'tester': 3749, 'excellent': 1115, 'autonomy': 350, 'supersonic': 3659, 'jet': 2342, 'humanity': 2187, 'httpstcono1z98a94f': 1925, 'mine': 2640, 'tone': 3808, 'intentionally': 2299, 'strident': 3614, 'httpstcovb4wd40bsc': 2069, 'form': 1269, 'written': 4218, 'piece': 2935, 'website': 4144, 'meaningful': 2587, 'fwd': 1320, 'situation': 3444, 'pace': 2856, 'improv': 2229, 'httpstcoh2xcsvngdo': 1791, 'fart': 1184, 'command': 678, 'pushed': 3092, 'applies': 272, 'clock': 646, 'countr': 771, 'httpstcocjhtxcselt': 1688, '360': 78, 'deg': 860, 'tbd': 3719, 'functionality': 1311, 'improves': 2233, 'ti': 3784, 'httpstcoxmemo5nu0m': 2125, 'performance': 2913, 'smallseeming': 3466, 'loss': 2504, 'serious': 3376, 'httpstcozk1vr9xwzl': 2173, 'limited': 2460, '2k': 63, 'monday': 2664, 'regulator': 3177, 'approve': 279, 'differe': 911, 'httpstcod4uoa1jncx': 1702, 'dependent': 876, 'proving': 3081, 'intentional': 2298, 'theoretically': 3760, 'httpstcopczpbd8jj6': 1952, 'gotta': 1386, 'tiki': 3786, 'nosecone': 2754, 'httpstco9qxyxmmiuj': 1638, 'melty': 2603, 'pushing': 3093, 'nearterm': 2715, 'httpstcopulpf49me1': 1967, 'encountering': 1055, '210': 46, 'mtf': 2688, 'httpstcorg2erwhznt': 1993, 'rollout': 3267, 'proceeding': 3039, 'mate': 2569, 'lifemonths': 2449, 'lockdown': 2485, 'restriction': 3220, 'httpstco0ct2svangy': 1540, 'httpstcogy9a20ummx': 1788, 'firmware': 1230, 'description': 885, 'there': 3763, 'kansa': 2356, 'ranch': 3117, 'installed': 2283, 'mobic': 2651, 'mobility': 2655, 'mobid': 2652, 'neck': 2717, 'httpstco2vcoaxsrv3': 1564, 'disc': 926, 'c5': 531, 'c6': 532, 'surgery': 3665, 'failed': 1164, 'remov': 3196, 'httpstcoczykfyo0ix': 1699, 'dna': 942, 'sequencing': 3372, 'httpstcoy6gcysvghm': 2146, 'london': 2491, 'beijing': 411, 'trip': 3857, 'møtør': 2701, 'trèndé': 3870, 'httpstcov0yo4jkbs2': 2063, 'snoopy': 3489, 'ice': 2203, 'europa': 1094, 'httpstcoizk0v9gi47': 1831, 'sr': 3559, 'consumption': 735, 'bevs': 429, 'report': 3204, 'httpstco7c0v16wt6y': 1615, 'creative': 787, 'conveniently': 745, 'httpstco3r0owmreup': 1577, 'autodelete': 343, 'tension': 3738, 'seater': 3336, 'december': 848, 'gauntlet': 1342, 'thrown': 3780, 'prophecy': 3064, 'fulfilled': 1305, '69420': 107, 'httpstco2z5mrscc4g': 1567, 'meter': 2617, 'diameter': 905, 'roomy': 3271, 'vacuum': 4063, 'added': 171, 'httpstcopktdfdizyc': 1957, 'prufrock': 3082, 'touch': 3820, 'simplified': 3434, 'basically': 386, 'tesla': 3745, 'httpstco1xhs2awxb9': 1555, 'sweet': 3677, 'baby': 366, 'hurt': 2194, 'winston': 4187, 'churchill': 631, 'weak': 4136, 'turret': 3882, 'allow': 216, 'strategic': 3610, 'freedom': 1288, 'torb': 3816, 'goosebump': 1384, 'merch': 2608, 'hg2g': 1493, 'lotr': 2508, 'u0001f918': 3952, 'illuminaughty': 2213, 'knee': 2374, 'carry': 569, '50': 101, 'payload': 2898, 'departed': 874, 'hawthorne': 1457, 'dy': 993, 'httpstcotdf8u6nd4c': 2024, 'grief': 1410, 'ear': 997, 'httpstcov37qm1kycr': 2064, 'hit': 1506, 'ceiling': 587, 'graph': 1397, 'upside': 4045, 'sheer': 3397, 'magnitude': 2536, 'productio': 3046, 'httpstcoh8ps02oelk': 1792, 'order': 2825, 'configurator': 713, 'jan': 2337, 'releasing': 3183, 'tuesday': 3872, 'httpstco4qrymb7ii0': 1585, 'soc': 3493, 'sync': 3689, 'exchanging': 1119, 'httpstco9cbjmeaavw': 1634, 'dual': 984, 'socs': 3495, 'function': 1310, 'twin': 3888, 'plane': 2944, 'httpstcodfwlhxu7ce': 1705, 'analysis': 243, 'ego': 1023, 'intelligence': 2293, 'mobileye': 2654, 'httpstcofdligohk01': 1747, 'jen': 2341, 'lite': 2467, 'httpstcoghoisz1v6r': 1773, 'deal': 843, 'evidence': 1109, 'advanc': 177, 'httpstcohbtdtjyttc': 1794, 'face': 1152, 'dichotomy': 908, 'applying': 274, 'resource': 3213, 'ne': 2712, 'httpstco6qghblfrk8': 1609, 'poor': 2972, 'inventor': 2315, 'card': 563, 'rich': 3243, 'httpstco205zz8al33': 1557, 'sketchy': 3448, 'edits': 1016, 'wiki': 4175, 'whitewash': 4165, 'eberhard': 1010, 'glorify': 1376, 'role': 3265, 'httpstcoppsorkwdi8': 1962, 'fired': 1228, 'ceo': 591, 'mid': 2627, '2007': 32, 'httpstco8hj3vlxzfp': 1624, 'marketing': 2560, 'compelling': 691, 'ev': 1098, 'httpstcoxlbidpmuuq': 2124, 'exact': 1111, 'failure': 1167, 'nursing': 2766, 'mistake': 2648, 'httpstcocmvdkmrish': 1690, 'httpstcobzc2lfdjzq': 1677, 'httpstcolgpvl7k1mi': 1879, 'valve': 4067, 'mechanically': 2592, 'attached': 323, 'httpstcowhxamj12iq': 2098, 'httpstcoxpnqrcxqnc': 2130, 'compiler': 695, 'type': 3893, 'pointer': 2961, 'detected': 896, 'httpstcon3rzp4udi1': 1913, 'nose': 2753, 'pointier': 2962, 'suv': 3674, 'track': 3833, 'lead': 2415, 'cryo': 799, 'proof': 3060, 'contest': 736, 'crush': 798, 'bestcase': 422, '3d': 83, 'printing': 3024, 'wel': 4150, 'httpstcouscsep00aq': 2057, 'flag': 1238, 'additive': 173, 'costly': 764, 'tooling': 3813, 'accel': 135, 'httpstcoz9kxjt9umj': 2166, 'starman': 3575, 'leaving': 2424, 'within': 4197, '005': 1, 'astronomical': 317, 'mill': 2633, 'barked': 381, 'tree': 3851, 'httpstcoaigaenc8f0': 1651, 'snake': 3485, 'jazz': 2340, 'provided': 3078, 'gear': 1344, 'autocoupler': 341, 'highly': 1499, 'specialized': 3535, 'lat': 2398, 'httpstcobbchdqhjja': 1665, 'allowing': 218, 'drop': 980, 'render': 3197, 'httpstco9g2n7fvscz': 1635, 'mimecraft': 2637, 'complicated': 701, 'aspiring': 309, 'flame': 1239, 'diverter': 937, 'httpstcokyenxz94oy': 1870, 'ball': 372, 'financing': 1220, 'tasty': 3717, 'pastry': 2891, 'visit': 4101, 'ratio': 3129, 'denser': 871, 'httpstcognhci8reh3': 1778, 'kebab': 2359, 'outside': 2838, 'tacheles': 3697, 'httpstcodsgvwdhgnv': 1711, 'döner': 995, 'gantry': 1331, 'httpstcomieahkgnfo': 1899, 'crash': 781, 'absorption': 130, 'rail': 3112, 'replaced': 3201, 'bolted': 471, 'collision': 667, 'sandy': 3302, 'munro': 2695, 'licensing': 2446, 'battlestar': 389, 'galactica': 1324, 'buil': 515, 'httpstcohi2od05ye8': 1801, 'gigafactory': 1363, 'bonded': 473, 'structure': 3621, 'shear': 3396, 'httpstconbzqekw0qx': 1918, 'understand': 4007, 'competitive': 694, 'advantage': 180, 'chrysler': 629, 'bankrupt': 376, '2009': 34, 'ford': 1267, 'httpstcoieaouisjri': 1818, 'agony': 194, 'te': 3721, 'httpstcozhqxmco6gy': 2171, 'bringing': 502, 'inspiration': 2278, '99': 120, 'perspiration': 2922, 'st': 3560, 'httpstcog5dlcmg7wc': 1767, 'kg': 2365, 'burdened': 520, 'ta': 3695, 'httpstcoo1ojwfj2zg': 1926, 'lfp': 2441, 'stationary': 3584, 'front': 1298, 'httpstcopteaj9z79i': 1966, 'spreadsheet': 3557, 'moment': 2662, 'httpstcolckxzfpozx': 1877, 'absolute': 127, 'httpstcoafru9adajy': 1649, 'succeeded': 3635, 'httpstco2wyticewfr': 1565, 'sooner': 3513, 'spacexs': 3527, '43rd': 92, 'flown': 1252, 'http': 1535, 'reach': 3136, 'target': 3713, 'fairly': 1170, 'httpstco2klhnfmgz1': 1563, 'httpstcox83ovjb4pa': 2116, 'reflig': 3172, 'httpstcozugaquvpy7': 2179, 'turnaround': 3879, 'meet': 2596, 'demand': 864, 'httpstcoyxmoofzu8n': 2160, '3rd': 85, 'httpstcoawxtjefc2d': 1662, '4th': 100, 'httpstcouotvmkgxqh': 2052, 'httpstcoon2f1py5jt': 1937, 'subsidize': 3631, 'pollution': 2967, 'dense': 870, 'city': 636, 'httpstcoackoizwcpw': 1646, 'aim': 201, '2026': 41, 'ro': 3255, 'httpstco6hvvkuqdon': 1604, 'powerglide': 2990, 'httpstcol07yc02p7g': 1871, 'louder': 2509, 'httpstcoab5hamo3en': 1645, 'favorite': 1193, 'writer': 4216, 'foundation': 1275, 'outstanding': 2839, 'httpstcoglnevuneyl': 1775, 'rewatched': 3240, 'young': 4237, 'frankenstein': 1284, 'weekend': 4148, 'ovaltine': 2840, 'httpstcowimdyfsuiq': 2099, 'remake': 3189, 'liked': 2456, 'hollywood': 1512, 'sequel': 3371, 'skip': 3450, 'financials': 1219, 'lithium': 2470, 'factor': 1159, 'presently': 3010, '10x': 9, 'httpstco8pqh2kalcf': 1628, 'shortfall': 3409, 'gravitas': 1401, 'escape': 1081, 'hole': 1510, 'driving': 977, 'booty': 478, 'httpstcohyfszsrm6m': 1812, 'vectorspace': 4072, 'bird': 440, 'eye': 1148, 'unexpected': 4016, 'turbomachinery': 3875, 'broad': 505, 'propulsion': 3067, 'av': 352, 'httpstconkfvidsxpp': 1922, '48': 98, 'lex': 2440, 'httpstcozfbqlhxk3f': 2169, 'httpstcohscbef8mnf': 1810, 'brown': 508, 'httpstcoggoesdif2j': 1772, 'httpstcopiqitzeia5': 1956, 'httpstcoetjxxiv2vq': 1732, 'httpstcor4rrgvpvr0': 1989, 'optimized': 2821, 'tanker': 3710, 'httpstcosmk67d3fmx': 2011, 'connectivity': 719, 'esp': 1083, 'httpstcobqfd2kwhbn': 1674, 'letter': 2436, 'increasingl': 2246, 'httpstcoxkwyon48io': 2122, 'ring': 3248, 'thicker': 3766, 'httpstcos4itp647wo': 2004, 'u0001f4a9': 3929, 'mom': 2661, 'inspiring': 2280, 'httpstcorj35a3vluf': 1997, 'circumferentia': 635, 'httpstco6ottsix8af': 1608, 'httpstco7elp9pf9sl': 1616, 'suspect': 3670, 'ca': 533, 'httpstcopmyscvzozy': 1959, 'weld': 4152, 'upcoming': 4036, 'shower': 3416, 'simultaneously': 3438, 'arrives': 300, 'magenta': 2533, '240': 54, '31': 75, 'ast': 312, 'httpstcokh4qryrkoe': 1855, 'loooves': 2499, 'prioritizing': 3026, 'emergency': 1045, 'responder': 3215, 'location': 2484, 'internet': 2306, 'market': 2559, '20m': 45, '2030': 42, 'httpstcogxnszacar3': 1786, 'seven': 3385, '30m': 74, 'six': 3445, 'five': 1234, 'ye': 4226, 'httpstcofy4nwwbx56': 1763, 'cutting': 818, '25k': 59, 'referring': 3169, 'paintball': 2865, 'gun': 1422, 'mounted': 2681, 'bed': 402, 'supplier': 3660, 'nickel': 2736, 'presenta': 3009, 'httpstcol8pv6okpky': 1873, 'httpstcor1sox7vta8': 1987, 'httpstcoquf0hh8qcg': 1985, 'totally': 3819, 'near': 2713, 'completely': 698, 'driven': 975, 'gearbox': 1345, 'hydraulics': 2199, 'accommodating': 149, 'httpstcoppzzhxbxgp': 1963, 'living': 2475, 'dilbert': 919, 'cartoon': 571, 'specie': 3536, 'stood': 3602, '304l': 72, '301': 70, 'broke': 506, '304': 71, 'interface': 2303, 'httpstcowpeprv5s4r': 2106, 'differential': 914, 'ullage': 3992, 'httpstcoqvgkyw2qd0': 1986, 'drawing': 971, 'se': 3331, 'httpstcopgzafesc7x': 1954, '50000': 102, 'httpstcogdxmbzx0ct': 1770, 'httpstcov6us36yho6': 2065, 'interstellar': 2310, 'mapping': 2554, 'acceleration': 140, 'probe': 3036, 'imap': 2217, 'researcher': 3209, 'typewriter': 3894, 'httpstcokaarajvl2b': 1853, 'centaur': 589, 'bow': 484, 'obviously': 2783, 'httpstcocfkfkffxp0': 1684, 'httpstcondvuumms67': 1920, 'wheel': 4159, '9007mm': 116, 'appealing': 267, 'hawking': 1456, 'hartle': 1450, 'turok': 3881, 'feldbrugge': 1201, 'lehners': 2431, 'algo': 210, 'practical': 2996, 'size': 3446, 'constraint': 731, 'fit': 1233, 'httpstcoaxz1yheldj': 1663, 'area': 291, '330': 77, 'httpstco0gutz4kgij': 1541, 'httpstcogzljmnyciu': 1790, 'preburners': 3000, 'ignite': 2207, 'prediction': 3005, 'inaccurate': 2235, 'besides': 420, 'genetic': 1351, '107': 7, 'nozzle': 2760, 'duration': 989, 'development': 902, 'facility': 1155, 'mcgregor': 2585, 'rvac': 3289, 'scale': 3317, 'httpstcoxqipquy4pl': 2132, 'ludicrous': 2521, 'httpstcorhuwk20egg': 1996, 'opposite': 2815, 'openai': 2807, 'essentially': 1086, 'captured': 560, 'microsoft': 2625, 'yahoo': 4224, 'finance': 1217, 'atv': 328, 'semi': 3358, 'httpstco4aq1a5cykh': 1584, 'challenging': 601, 'httpstcoygde1oszxa': 2151, 'irl': 2323, 'drove': 982, 'plus': 2955, '4227': 90, 'believe': 412, '430': 91, 'explain': 1137, 'difficulty': 916, 'scaling': 3318, 'understood': 4011, '10000': 5, 'httpstcomcxxfnsqfj': 1894, 'intend': 2294, 'reduce': 3165, 'purchase': 3089, 'panasonic': 2867, 'lg': 2442, 'catl': 580, 'partner': 2884, 'httpstcofl4lwcp3q0': 1751, 'unveil': 4034, 'affect': 188, 'cybertr': 821, 'httpstcofo4xhxas9q': 1752, 'fold': 1258, 'tip': 3794, 'force': 1266, 'httpstcodynlt5ekgk': 1715, 'mature': 2576, 'autocorrect': 340, 'bus': 525, 'efficient': 1020, 'machinelearning': 2530, 'web': 4142, 'chop': 624, '16': 23, 'httpstcomlpvbpni4y': 1901, 'httpstcooicfjt3gna': 1935, 'waypoints': 4135, 'floating': 1248, 'truncating': 3865, 'httpstcobixl4qih22': 1668, 'green': 1408, 'continuous': 740, 'httpstcorabjkrtqlw': 1990, 'shaped': 3393, 'diamond': 906, 'aligned': 213, 'north': 2750, 'record': 3162, 'exceptional': 1117, 'achievement': 157, 'experience': 1133, 'httpstcowzaddnxmid': 2110, 'incorrectly': 2242, 'overlooked': 2848, 'declined': 854, 'lmk': 2477, 'httpstcohp3822z0dg': 1807, 'felt': 1202, 'zip': 4242, 'paypal': 2902, 'httpstcoctbfloi1so': 1696, 'utterly': 4058, 'insane': 2271, 'frank': 1282, 'httpstcocn2bfbua5q': 1691, 'irrational': 2328, 'funny': 1316, 'planet': 2945, 'speedrunning': 3541, 'factorio': 1160, 'iron': 2324, 'partly': 2883, 'offset': 2796, 'httpstconez5hkuc4a': 1921, 'shelter': 3398, 'tap': 3712, 'button': 527, 'implicit': 2223, 'conflation': 715, 'capital': 558, 'foundational': 1276, 'error': 1080, 'radio': 3111, 'httpstcogno8xfjx8b': 1779, 'eerie': 1017, 'parallel': 2874, 'vaulttec': 4071, 'built': 518, 'demonstration': 869, 'vault': 4070, 'underground': 4004, 'nuclear': 2762, 'httpstcocvi0yrjobe': 1697, 'obscure': 2773, 'starhammer': 3572, 'stainless': 3566, 'rat': 3123, 'parrot': 2878, 'remind': 3191, 'httpstcoqt502u08np': 1982, 'httpstcovn0rv0yq5q': 2076, 'warp': 4126, 'httpstcowizyhed6pa': 2100, 'hugged': 2184, 'gary': 1335, 'snail': 3484, 'winning': 4186, 'gaining': 1323, 'embrace': 1044, 'depth': 881, 'httpstcolqfdqwhh2g': 1882, 'teen': 3729, 'stacking': 3563, 'limiti': 2461, 'httpstcoatqpexe6dk': 1660, 'crater': 782, 'httpstcowvqfq4oqua': 2109, 'extend': 1141, 'smartwatches': 3468, 'neuralinks': 2727, 'outfit': 2836, 'ancient': 245, 'greece': 1407, 'committed': 683, 'nobody': 2742, 'dig': 917, 'grave': 1400, 'lego': 2430, 'book': 474, 'dry': 983, 'httpstco46lbcix7fi': 1583, 'wearing': 4140, 'shirt': 3405, 'cumulative': 805, 'correc': 759, 'httpstco8lcu71xzvm': 1625, 'anyone': 257, 'tonnage': 3810, 'excitement': 1121, 'guaranteed': 1417, 'greater': 1404, 'padre': 2861, 'brownsville': 509, 'checkout': 616, '60000': 105, 'boat': 461, 'insight': 2274, 'frame': 1281, 'stitched': 3598, 'tricky': 3852, 'overlap': 2846, 'httpstcoyzcixdgm38': 2161, 'opt': 2817, 'httpstcooycpr9i9hq': 1946, 'dramatically': 970, 'aka': 207, 'simultaneous': 3437, 'clue': 654, 'figure': 1210, 'unveiled': 4035, '922': 117, 'u26a1': 3984, 'hvac': 2196, 'hepa': 1486, 'filter': 1213, 'reich': 3180, 'global': 1375, 'warming': 4124, 'u0001f1e9': 3900, 'u0001f1ea': 3901, 'natürlich': 2710, 'bitte': 446, 'arbeiten': 287, 'sie': 3422, 'bei': 410, 'wird': 4188, 'spaß': 3532, 'machen': 2528, 'httpstcofcnopr2oii': 1746, 'prefer': 3007, 'subaru': 3626, 'vera': 4078, 'rubin': 3280, 'observatory': 2774, 'munger': 2694, 'httpstcof8rwy4exee': 1740, 'blackscholes': 449, 'formula': 1271, 'approximation': 283, 'pure': 3090, 'math': 2571, 'startup': 3580, 'series': 3374, 'increasingly': 2247, 'httpstcozynsxisp4n': 2182, 'productivity': 3048, 'caliber': 538, 'talent': 3701, 'hospitalgrade': 1526, 'healt': 1464, 'httpstcoytsk3lmfii': 2157, 'hiring': 1504, 'york': 4236, 'accelerated': 138, 'httpstcoiha2drewu0': 1819, 'touché': 3824, 'worker': 4207, 'compensation': 692, 'proportionately': 3066, 'moron': 2674, 'onboard': 2802, 'saocom': 3303, '1b': 28, 'httpstco2iezyiyyg5': 1560, 'rawlinson': 3131, 'joined': 2346, 'lurch': 2524, 'httpstcooy9yvm84xm': 1945, 'limit': 2459, 'milled': 2634, 'copper': 755, 'ja': 2332, 'httpstcot8d3yn4xry': 2022, 'guerre': 1418, 'comme': 679, 'tweeting': 3886, 'bombard': 472, 'emits': 1047, 'ak': 206, 'bidirectional': 432, 'via': 4087, 'lo': 2478, 'httpstcot42iuazmwh': 2021, 'gimbal': 1365, 'noting': 2759, 'bell': 414, 'httpstcokiegovt0rd': 1856, 'shipped': 3403, 'dev': 899, 'chart': 612, 'understates': 4010, 'lithiumion': 2471, 'rated': 3125, 'httpstco26dagjltdy': 1558, 'httpstcofjdhqrdvdb': 1750, 'sn6': 3480, 'flew': 1244, 'asimilar': 305, 'sn5': 3479, 'smoother': 3472, 'mannschaft': 2549, 'vielen': 4093, 'für': 1322, 'ihre': 2210, 'hervorragende': 1488, 'arbeit': 286, 'httpstcokvo5mbfnxt': 1867, 'germany': 1355, 'government': 1388, 'httpstcoddbxiodog1': 1704, 'httpstcostznan3vtx': 2016, 'trust': 3866, 'butt': 526, 'u0001f353': 3908, 'picking': 2933, 'strawberry': 3611, 'forever': 1268, 'outer': 2835, 'httpstco5z9p2upkqs': 1596, 'resonant': 3212, 'mode': 2656, 'arise': 293, '28': 61, 'hav': 1455, 'httpstcossaqzj8act': 2015, 'videodrome': 4092, 'httpstco0ckvhrmtf1': 1539, 'httpstcoqobvxgq8fz': 1977, 'sir': 3442, 'momentinertiaphobia': 2663, 'fourth': 1278, 'httpstcotutackmifn': 2035, 'lhc': 2443, 'httpstcoovaohsg1of': 1944, 'accelerator': 141, 'straight': 3607, 'circular': 634, 'zon': 4243, 'httpstcogqtxqmpy48': 1782, 'httpstco0y5fkvqpk8': 1547, 'httpstcoaiwrmzb3d1': 1653, 'snout': 3490, 'boops': 475, 'httpstcozjogq2ulvf': 2172, 'else': 1040, 'recommendation': 3160, 'httpstcoixhyt6nuic': 1828, 'printer': 3023, 'ip': 2321, 'httpstcox32sda871g': 2113, 'james': 2335, 'watt': 4131, 'measured': 2591, 'rounded': 3277, 'httpstcovnko0mtruc': 2077, 'alexander': 209, 'hellenism': 1480, 'film': 1212, 'study': 3624, 'loved': 2511, 'astronomy': 318, 'penn': 2908, 'class': 640, 'httpstcoo4fjcglahw': 1928, 'mutual': 2700, 'prof': 3049, 'friend': 1295, 'caltech': 543, 'cern': 593, 'ba': 365, 'httpstcotjsh1exz1q': 2028, 'embarrassing': 1042, 'fermilab': 1204, 'homework': 1515, 'u263a': 3979, 'common': 684, 'academia': 134, 'overweight': 2850, 'underweight': 4013, 'httpstcooffoojcqnv': 1933, 'unlikely': 4028, 'alone': 223, 'httpstcog7vxpupkvn': 1768, 'headed': 1461, 'convers': 746, 'httpstcoqqdcdov2jo': 1980, 'antibody': 255, 'halflife': 1428, 'harvard': 1451, 'httpstcodyl0p8xvuf': 1714, 'hospitalized': 1527, 'condition': 709, 'httpstcounjgvlveuk': 2051, 'initially': 2268, 'including': 2239, 'fro': 1296, 'httpstcoby0oophpp7': 1676, 'httpstcoo2qpnv2qry': 1927, 'predicting': 3004, 'httpstcoi2rrglbx8j': 1814, 'blanket': 451, 'boost': 476, 'httpstcovv2agje8mw': 2083, 'device': 904, 'syntax': 3690, 'improved': 2231, 'esthetically': 1090, 'avoids': 359, 'warfare': 4122, 'nightcap': 2738, 'summary': 3645, 'conceptual': 706, 'telepathy': 3732, 'fantasize': 1179, '1880s': 27, 'edison': 1015, 'httpstcoecghh5ston': 1723, 'trivial': 3858, 'becomes': 400, 'rutherford': 3288, 'gap': 1332, 'experimental': 1135, 'patient': 2895, 'wid': 4169, 'httpstcof0fib1w94z': 1737, 'shorter': 3408, 'skirt': 3451, 'length': 2432, 'demo': 865, 'webcast': 4143, 'httpstcoy9wred78oj': 2149, '230': 52, 'pound': 2987, 'peak': 2905, 'wit': 4193, 'httpstco1spnwbelpa': 1552, 'slip': 3459, 'october': 2791, 'progre': 3054, 'httpstcocjsgr0sjit': 1689, 'reasonable': 3152, 'drone': 978, 'httpstcohspkw3zk1y': 1811, 'hardworking': 1449, 'brave': 494, 'starhopper': 3573, 'carried': 568, 'httpstco19h4u8ta2a': 1548, 'obtuse': 2779, 'foldedover': 1259, 'httpstcoalexczij1l': 1655, 'surprised': 3667, 'across': 161, 'silicon': 3428, 'anode': 251, 'httpstcooohnzzeh9v': 1938, 'leave': 2423, 'parent': 2877, 'bang': 375, 'started': 3578, 'httpstcoxvvcualz2o': 2138, 'httpstco8r92iexvvn': 1629, 'asimov': 306, 'proportionate': 3065, 'olde': 2801, 'skoole': 3452, 'analog': 242, 'synthesizer': 3691, 'britain': 503, 'httpstcojg0fi3chxc': 1836, 'httpstcowoiwia7ztn': 2105, 'calm': 542, 'brake': 490, 'miniverse': 2641, 'microverse': 2626, 'httpstcoaduotl537t': 1648, 'focused': 1257, 'v2': 4060, 'lasik': 2396, 'lengthy': 2433, 'httpstcoz2yfaupdrd': 2165, 'friday': 1294, '3pm': 84, 'pacific': 2857, 'httpstcopoulbrgzfu': 1960, 'astronaughty': 314, 'httpstcotoysp1ukif': 2033, '78': 113, 'plant': 2946, 'enou': 1065, 'httpstco1tukv0hvig': 1553, 'candy': 551, 'frozen': 1299, 'heating': 1470, 'densify': 872, 'atmosphere': 319, 'solvable': 3501, 'northern': 2751, 'reliably': 3186, 'httpstcozcnw4z3nxh': 2168, 'gpus': 1392, 'core': 756, 'dot': 960, 'sup': 3649, 'httpstcol8xese456a': 1874, 'occasional': 2785, 'frequent': 1291, 'daily': 827, '30km': 73, '18': 26, 'httpstco5lliqzacuu': 1588, 'warn': 4125, 'dug': 986, '400': 87, 'wh': 4157, 'zenit': 4240, 'spaceports': 3525, 'satisfying': 3308, 'age': 192, 'reveals': 3234, 'httpstcoka0iha7z6c': 1852, 'httpstcoxuzmulvfhf': 2135, 'metaphor': 2616, 'httpstcocdll4ielju': 1682, 'flowing': 1251, 'grateful': 1399, 'powerwall': 2993, '162': 24, 'uninterrupted': 4020, 'backup': 369, 'ht': 1534, 'httpstcozbdygouhsz': 2167, 'httpstcohkpwjnxsfc': 1804, 'strike': 3615, 'noise': 2744, 'reduction': 3167, 'gotten': 1387, 'recently': 3157, 'hardcore': 1443, 'techno': 3726, 'aber': 121, 'vielleicht': 4094, 'ein': 1027, 'bisschen': 442, 'fahrstuhlmusik': 1162, 'auf': 329, 'der': 882, 'toilette': 3803, 'feature': 1195, 'polynesian': 2968, 'elevator': 1037, 'httpstcobki5sooroe': 1670, 'achieved': 156, 'selfperpetuating': 3356, 'autocracy': 342, 'farcical': 1182, 'aquatic': 285, 'ceremony': 592, 'king': 2370, 'chosen': 625, 'panzer': 2870, 'lake': 2386, 'direct': 922, 'democracy': 866, 'comprehensible': 702, 'voted': 4109, 'write': 4215, 'cover': 776, 'basic': 385, 'httpstcoywlqux5rbv': 2158, 'gpt': 1391, 'simon': 3431, 'garfunkel': 1334, 'lyric': 2525, 'bureaucracy': 521, 'inherently': 2265, 'kafkaesque': 2353, 'u0001f446': 3920, 'aok': 262, 'httpstcoztrmvq6wvx': 2178, 'president': 3012, '2024': 40, 'httpstcowo34fhkugu': 2104, 'hydrocarbon': 2200, 'combustion': 673, 'temperature': 3735, 'httpstcoezlaxwg3rp': 1736, 'lease': 2420, 'payment': 2899, 'specifically': 3537, 'expec': 1129, 'httpstcovae3ppljox': 2068, 'push': 3091, 'replace': 3200, 'individual': 2254, 'httpstcofdnxdwh4et': 1748, 'whenever': 4160, 'httpstcoy5db5mkzpu': 2144, 'u0001f3dd': 3914, 'cavalier': 586, 'possi': 2979, 'httpstco3dhapzhixh': 1572, 'since': 3439, 'august': 332, 'humidity': 2188, 'httpstcoxepds9ituw': 2120, 'v1': 4059, 'httpstcotsbttiduhj': 2034, 'scorcher': 3323, 'vi': 4086, 'httpstco34o80p1hi6': 1570, 'underrated': 4006, 'counterintuitive': 769, 'httpstcocagyh9nnd0': 1681, 'transcanada': 3842, 'supercharging': 3652, 'u2705': 3985, 'leasing': 2421, 'u0001f3af': 3911, 'httpstcogyfbe': 1789, 'f9': 1149, 'recovery': 3163, 'refurb': 3173, 'httpstcosqgxv49yrs': 2013, 'nut': 2767, 'adult': 176, 'squeeze': 3558, 'flamethrower': 1241, 'dof': 946, 'compression': 703, 'httpstcoukly4dwqur': 2047, 'aloha': 222, 'httpstcoxwpn09wtaw': 2140, 'post': 2983, 'worst': 4211, 'vying': 4112, 'title': 3797, 'chute': 632, 'closing': 651, 'locally': 2483, 'operating': 2810, 'httpstcosqlj63netb': 2014, 'u0001f610': 3943, 'somewhere': 3509, 'cruising': 797, 'httpstcopcybhfpuad': 1951, 'spit': 3549, 'dirt': 925, 'swiftly': 3678, 'becoming': 401, 'percentage': 2911, 'compute': 704, 'demonstrated': 868, '225': 50, 'httpstco44fge3giee': 1581, 'sn40': 3478, 'httpstcovk8nzlr0sz': 2074, 'exploding': 1139, 'httpstcokvkrwksvab': 1866, '20km': 44, 'naked': 2706, 'httpstcoup3t8ow5tf': 2053, 'sting': 3597, 'httpstcoxvuoeig9ex': 2137, 'comet': 676, 'intersect': 2308, 'observed': 2775, 'httpstcomezrzcnewo': 1897, 'package': 2859, 'httpstco6vz4xnohf9': 1610, 'buttontwiddling': 528, 'httpstcof2rxgcz964': 1739, 'memery': 2605, 'httpstcok3v3yddg6j': 1850, 'africa': 190, 'bold': 468, 'honored': 1519, 'begging': 404, 'history': 1505, 'victor': 4090, 'barbie': 379, 'plural': 2954, 'cyber': 819, 'httpstcodm76fjq3hx': 1708, 'crysis': 802, 'exaflop': 1113, 'fudgelike': 1303, 'consistency': 725, 'melting': 2602, 'smoosh': 3470, 'httpstcomdopo17yb9': 1895, 'httpstco326rkueyw8': 1569, 'km': 2372, 'httpstco38fzby8pno': 1571, 'hasty': 1452, 'govt': 1389, 'remains': 3188, 'httpstcowzg16taxee': 2111, 'trapped': 3848, 'uncorrelate': 4000, 'httpstcow1goo6etzh': 2090, 'httpstcolqnken5kjn': 1883, 'palo': 2866, 'alto': 231, 'seattle': 3337, 'remotely': 3195, 'acceptable': 143, 'vtol': 4111, 'sooo': 3514, 'overload': 2847, 'asteroid': 313, 'impact': 2221, 'worry': 4210, 'patch': 2892, 'httpstcop2ic1crpef': 1949, 'recent': 3156, 'httpstco6gbxaxtn4a': 1601, 'embarrassingly': 1043, 'late': 2400, 'authentication': 336, 'sm': 3463, 'httpstcoraxdlk9jti': 1991, 'bump': 519, 'pothole': 2986, 'steer': 3589, 'perfectly': 2912, 'httpstco3s2xzanace': 1579, 'httpstcoxpx7j5snpy': 2131, 'quantum': 3100, 'leap': 2417, 'architectural': 289, 'rewrite': 3241, 'httpstcok2cb4nimiy': 1849, 'httpstcoaipo9gd8ek': 1652, 'httpstcojjunwv2j94': 1838, 'n2': 2703, 'chrome': 627, 'aluminum': 232, 'necessarily': 2716, 'httpstcoiaqicetdoa': 1817, 'odds': 2793, 'httpstcoktppercwt5': 1863, 'psyche': 3084, 'httpstcozkoi8fpvzz': 2174, 'utility': 4057, 'restored': 3219, 'powerpack': 2991, 'megapack': 2598, 'httpstco712znztmbj': 1612, 'wil': 4177, 'httpstcou2wi4cgi5t': 2039, 'substantial': 3632, 'underpayment': 4005, 'ula': 3991, 'madness': 2532, 'boeing': 465, 'lockheed': 2486, 'suggest': 3640, 'buying': 530, 'airplane': 205, 'absurd': 131, 'generally': 1348, 'patent': 2893, 'efficiently': 1021, 'becau': 398, 'httpstcoalg6ue95ve': 1656, 'httpstcomwzjylhd88': 1912, 'toastier': 3798, 'hex': 1490, 'mounting': 2682, 'section': 3343, 'httpstcoxniptypahf': 2129, 'sn7': 3481, 'alloy': 220, 'taken': 3699, 'httpstco8bvrd5vdu7': 1622, 'wear': 4138, 'httpstcot0snf4ugyk': 2020, 'herb': 1487, 'tarlek': 3715, 'wkrp': 4199, 'httpstco0rc72s0zay': 1543, 'fabulous': 1151, 'jacket': 2334, 'gingham': 1366, 'combo': 672, 'cousin': 774, 'farm': 1183, 'saskatchewan': 3305, '17': 25, 'barnraising': 382, 'httpstcoy7lrlouxr9': 2147, 'httpstcocgxsnck6uv': 1686, 'clearly': 643, 'superheavy': 3656, 'fat': 1188, 'share': 3394, 'ownership': 2852, 'diluted': 920, 'httpstcoaqgi0cu2hn': 1659, 'amaze': 234, 'astronomer': 316, 'koet': 2380, 'saturn': 3310, 'appearing': 269, 'wonder': 4200, 'feed': 1197, 'httpstcovc6isfxioz': 2071, 'oil': 2798, 'interest': 2300, 'distract': 935, 'httpstcoptawt9dhhc': 1965, 'includes': 2238, 'paid': 2862, 'httpstcoiakln5fvpb': 1816, 'velociraptor': 4076, '2m': 64, 'veloci': 4075, 'par': 2872, 'httpstcodlmy5rybrk': 1707, '122m': 12, '394': 81, 'failing': 1165, 'elderly': 1031, 'atrisk': 322, 'recognize': 3159, 'httpstcokogvn4rmj8': 1860, 'construction': 732, 'httpstcopa8sgepv9y': 1950, 'httpstcoszo3thmxqa': 2019, 'httpstcoglz28kfvhu': 1776, 'httpstcoiafpj491zz': 1815, 'httpstcoiwvwca05hl': 1827, 'smooth': 3471, 'taller': 3707, 'httpstcocgeweqny7s': 1685, 'accelerating': 139, '150': 19, 'sn27': 3476, 'fact': 1157, 'scrubbed': 3330, 'spin': 3547, 'triggering': 3854, 'automatic': 345, 'abo': 123, 'httpstcoqddlnxfgjg': 1973, 'room': 3270, 'attempt': 325, '33': 76, 'confess': 711, 'occasionally': 2786, 'pontificating': 2970, 'highconcept': 1497, 'recommended': 3161, 'assured': 311, 'anybody': 256, 'touched': 3822, 'endeavour': 1058, 'cherish': 618, 'touching': 3823, 'postspacex': 2984, 'dm': 940, 'conference': 710, '445': 93, 'httpstcoqpe': 1979, 'crewed': 793, 'u0001f1fa': 3904, 'u0001f1f8': 3903, 'returned': 3229, 'httpstco0vas3cck9p': 1546, 'acquisition': 160, 'atmospheric': 320, 'plasma': 2947, 'zealand': 4239, 'florida': 1249, 'httpstcodzfr5bnbff': 1717, 'prove': 3076, 'superdraco': 3655, 'propulsive': 3068, 'originally': 2829, 'httpstco941a2odu5h': 1632, 'spend': 3542, 'homeland': 1514, 'monitor': 2666, 'httpstcoea14fozdo8': 1720, 'depart': 873, 'splash': 3550, 'simplest': 3432, 'accident': 147, '4530': 95, '000': 0, '479000': 97, 'httpstconnbetmy1tr': 1924, 'q2': 3098, 'httpstcoc7no6bbwgc': 1680, 'u0001f9d9': 3954, 'u200d': 3976, 'u2642': 3981, 'httpstcoxxvcwmrtws': 2142, 'longlasting': 2494, 'incredibly': 2249, 'bbc': 392, 'httpstcole3r20bwid': 1878, 'remain': 3187, 'plan': 2943, 'bring': 501, 'theyre': 3765, 'u0001f30e': 3905, 'u0001fa82': 3956, 'aug': 330, 'dra': 965, 'pyramid': 3096, 'tallest': 3708, '3800': 80, 'eight': 1025, 'hundred': 2190, 'httpstco6du46embni': 1600, 'ramses': 3116, 'ii': 2211, 'u0001f60e': 3941, 'egypt': 1024, 'stand': 3569, 'witch': 4194, 'logic': 2488, 'httpstcoo5xaopsnw1': 1930, 'granted': 1395, 'burned': 523, 'stake': 3567, 'witchcraft': 4195, 'que': 3103, 'construimos': 733, 'httpstco2yg5gatgv9': 1566, 'httpstco8lpvwbec4r': 1626, '150m': 20, 'u0001f9db': 3955, 'u2640': 3980, 'eclipse': 1011, 'httpstcon8djdlknbe': 1914, 'u0001f62e': 3946, 'aware': 362, 'hearing': 1467, 'frequency': 1290, 'amplitude': 241, 'remo': 3194, 'httpstcoc3o4rravz8': 1678, 'shunt': 3418, 'cortex': 762, 'microcontrollers': 2624, 'httpstcohppvgjfhms': 1808, 'neuron': 2728, 'firing': 1229, 'realtime': 3148, '28th': 62, 'matrix': 2573, 'httpstcoky8h0oyzyx': 1869, 'httpstcokmassjctix': 1858, 'adagio': 169, 'string': 3616, 'httpstcorgy1p1vgou': 1994, 'losing': 2503, 'httpstco9hoy0ldzg4': 1636, 'mein': 2600, 'herz': 1489, 'brennt': 496, 'bos': 481, 'battle': 388, 'httpstcojil6vzhqax': 1837, 'died': 910, 'bill': 436, 'gate': 1339, 'lover': 2512, 'untrue': 4031, 'httpstco5lpnpltp24': 1590, 'httpstcos8mdwgcdfg': 2006, 'rabies': 3109, 'httpstcofsf77xhiii': 1758, 'httpstco0kaav0dtnn': 1542, 'billy': 438, 'letting': 2437, 'sum': 3643, 'secret': 3342, 'supplying': 3661, 'powertrains': 2992, 'accelera': 136, 'httpstco5t9vgklwda': 1593, 'monopolist': 2667, 'corporation': 758, 'bernie': 419, 'httpstcoadojs2uce3': 1647, 'u0001f54a': 3935, 'feeling': 1200, 'bern': 418, 'tvc': 3883, 'hydraulic': 2198, 'behavior': 407, 'connector': 720, 'damaged': 828, 'storm': 3605, 'httpstcofb7e5noq2e': 1742, 'whether': 4163, 'monopoly': 2668, 'da': 824, 'kapital': 2357, 'nutshell': 2768, 'httpstcomg44mmkitx': 1898, 'humor': 2189, 'beer': 403, 'httpstcoik3tt1x4wp': 1822, 'onion': 2804, 'rose': 3272, 'dropped': 981, 'u0001f339': 3907, 'energetic': 1059, 'wallpaper': 4119, 'charge': 609, 'adventure': 181, 'httpstcohotdtlpdpw': 1806, 'impossibleseeming': 2227, 'prefabricated': 3006, 'httpstcox2drfewial': 2112, 'br': 488, 'httpstcoufay65lzjj': 2043, 'claire': 638, 'httpstcowj4ydjglsh': 2101, 'highvolume': 1501, 'longrange': 2495, 'australia': 334, 'httpstcokq81cqogfl': 1861, 'whoa': 4166, 'blue': 457, 'brinell': 500, 'hardness': 1447, 'corrosion': 761, 'resistance': 3210, 'faceted': 1154, 'httpstcodnkkgadjq4': 1710, 'turning': 3880, 'shade': 3389, 'outdoor': 2834, 'httpstcoemkzcfgarz': 1726, 'auto': 338, 'ep': 1075, 'httpstco3lc3l2rgcj': 1575, 'httpstcol65zaxyctr': 1872, 'httpstcogsj3np4cap': 1783, 'bolivia': 469, 'u0001f1e7': 3898, 'u0001f1f4': 3902, 'toppled': 3815, 'bolivian': 470, 'httpstcoyc5gaa12dw': 2150, 'kara': 2358, 'hunkering': 2191, 'hurricane': 2193, 'pass': 2887, 'httpstcohjdd7bjke3': 1803, 'lift': 2451, 'hydrogen': 2201, 'fool': 1261, '6k': 109, 'bet': 423, 'guillotine': 1421, 'poseur': 2975, 'drag': 966, 'cigarette': 633, 'facebook': 1153, 'politician': 2966, 'legislate': 2429, 'wealth': 4137, 'trillionaire': 3856, 'jammed': 2336, 'gill': 1364, 'earmark': 1000, 'stimulus': 3596, 'consumer': 734, 'maximize': 2578, 'happiness': 1440, 'giving': 1371, 'allows': 219, 'decid': 849, 'httpstcolwfxhvksjf': 1888, 'reminder': 3192, 'favor': 1192, 'universal': 4023, 'income': 2240, 'panel': 2868, '149': 17, 'httpstco5lplhqgazw': 1589, 'competition': 693, 'ensures': 1068, 'revolutionary': 3239, 'actuary': 168, 'insurance': 2289, 'inquire': 2270, 'interested': 2301, 'performed': 2914, 'habitability': 1426, 'assessment': 310, 'drago': 967, 'retail': 3225, 'remarkably': 3190, 'insightful': 2275, 'volumetrically': 4108, 'constrained': 730, 'h2': 1424, 'soviet': 3520, 'httpstcoalewbz8nfl': 1654, 'pixel': 2940, 'emphasize': 1048, 'oven': 2841, 'keep': 2360, 'wifi': 4173, 'password': 2889, 'tianwen': 3785, 'httpstcofsya3i0hru': 1760, 'httpstcojmkacbrb5d': 1840, 'soul': 3517, 'httpstcoo5fbbtan1s': 1929, 'individualized': 2255, 'transit': 3845, 'seated': 3335, 'httpstco6noglix6b5': 1605, 'overseen': 2849, 'involves': 2320, 'u0001f43b': 3918, 'finish': 1223, 'upgrading': 4042, 'steep': 3588, 'slope': 3460, 'gaslit': 1338, 'gaslight': 1337, 'brian': 497, 'williams': 4180, 'httpstcoyztdfzlull': 2162, 'constituent': 729, 'forming': 1270, 'traditional': 3837, 'httpstcofyuuio5dtz': 1764, 'advertising': 182, 'quality': 3099, 'anasisii': 244, 'httpstcoiyhjznzobv': 1830, 'kann': 2355, 'noch': 2743, 'keinen': 2361, 'löffel': 2526, 'benutzen': 415, 'httpstcouetqvia4bp': 2042, 'talked': 3704, 'vr': 4110, 'avatar': 354, 'saying': 3315, 'mention': 2607, 'u0001f608': 3939, 'sale': 3296, 'caught': 581, 'instruction': 2286, 'httpstcofpbckyfysh': 1753, 'httpstco1oltpnw929': 1551, 'alpha': 225, 'found': 1274, 'mhi': 2621, 'uae': 3986, 'stilton': 3595, 'crimson': 794, 'born': 480, '2012': 36, 'sn28': 3477, 'httpstcomrutle8y2v': 1909, 'organization': 2826, 'america': 237, 'httpstconb92': 1916, 'wed': 4145, 'earnings': 1002, 'httpstcoanite06dlj': 1657, 'manufactured': 2550, 'lax': 2412, 'contribute': 741, 'chromosome': 628, 'mitochondrion': 2650, 'constant': 726, 'mutation': 2699, 'automated': 344, 'ultimately': 3993, 'fermi': 1203, 'ask': 307, 'httpstcovr7thokncp': 2080, 'bde': 393, 'hulk': 2185, 'loses': 2502, 'pant': 2869, 'neuroscience': 2729, 'electrical': 1033, 'electronic': 1035, 'httpstcovmq2atdv5d': 2075, 'july': 2350, 'slc': 3456, 'solving': 3505, 'highreliability': 1500, 'valued': 4066, 'sealing': 3333, 'inductive': 2259, 'charging': 610, 'mgmt': 2620, 'httpstcorq3awmzxvo': 2000, 'summarizes': 3644, 'biz': 447, 'httpstcoebknqm6qyf': 1721, 'excuse': 1124, 'negativity': 2722, 'bias': 431, 'hustle': 2195, 'carefully': 565, 'hidden': 1495, 'indoor': 2257, 'httpstcouxqmuvtwxf': 2059, 'retiree': 3226, 'httpstcoqivas5gtpc': 1975, 'considering': 724, 'latch': 2399, 'ethernet': 1092, 'wire': 4189, 'obtrusive': 2778, 'httpstcoxxrxfrqhbs': 2141, 'lossy': 2505, 'unsecure': 4030, 'database': 838, 'allocati': 214, 'httpstco5vcgj8o31r': 1595, 'example': 1114, 'collapse': 663, '2nd': 65, 'danger': 832, 'httpstcoq1vvqvmj2i': 1970, 'selforient': 3355, 'optimal': 2818, 'angle': 247, 'expert': 1136, 'installer': 2284, 'httpstcoxndtxrdnl2': 2128, 'u0001f914': 3950, 'httpstcoirmxfy991y': 1825, 'term': 3740, 'aviation': 356, 'autobahn': 339, 'strength': 3612, 'perseverance': 2919, 'despite': 890, 'facing': 1156, 'playable': 2951, 'accura': 151, 'httpstcoltqh2vulgc': 1886, 'httpstcowfnfst3c5y': 2096, 'extra': 1145, 'paranoid': 2876, 'maximizing': 2579, 'paramount': 2875, 'anytime': 259, 'sustainability': 3672, 'httpstcojzxsr4h8vs': 1848, 'httpstcofs0pmcioic': 1757, 'reduced': 3166, 'pricing': 3019, 'lr': 2519, 'moto': 2677, 'httpstcofbhkiihsc3': 1743, '250kw': 57, 'unacceptably': 3998, '250': 56, 'epa': 1076, 'thickness': 3767, 'resistive': 3211, 'httpstcotcivzvc5ra': 2023, 'httpstcoiu3lmuqes5': 1826, 'da2': 826, 'da1': 825, '65': 106, '74': 112, '6f': 108, 'httpstco1mqxfakpzf': 1550, 'korolev': 2381, 'family': 1177, 'u041a': 3957, 'u0440': 3971, 'u044c': 3974, 'u0451': 3975, 'podcasts': 2959, 'spqr': 3556, 'httpstcogvfc9m3bhz': 1785, 'earning': 1001, 'augmentation': 331, 'pay': 2897, 'httpstcobpzwersoys': 1672, 'automotive': 347, 'ihop': 2209, 'github': 1368, 'terrifying': 3744, 'sensed': 3362, 'httpstcob3zxd384qd': 1664, 'payout': 2901, 'vesting': 4084, 'httpstco8zg37stxt9': 1631, 'answer': 253, 'dire': 921, 'priority': 3027, 'surreal': 3668, 'propaganda': 3061, 'social': 3494, 'httpstcowjrzibkh1h': 2102, 'clicking': 644, 'accept': 142, 'samwise': 3300, 'gamgee': 1329}\n"
     ]
    }
   ],
   "source": [
    "print(cv.vocabulary_)"
   ]
  },
  {
   "cell_type": "markdown",
   "id": "0a8d2051",
   "metadata": {},
   "source": [
    "### 2. Using TF-IDF"
   ]
  },
  {
   "cell_type": "code",
   "execution_count": 17,
   "id": "565641e5",
   "metadata": {
    "ExecuteTime": {
     "end_time": "2023-03-08T21:36:59.234410Z",
     "start_time": "2023-03-08T21:36:59.187545Z"
    },
    "collapsed": true
   },
   "outputs": [
    {
     "data": {
      "text/plain": [
       "array([[0., 0., 0., ..., 0., 0., 0.],\n",
       "       [0., 0., 0., ..., 0., 0., 0.],\n",
       "       [0., 0., 0., ..., 0., 0., 0.],\n",
       "       ...,\n",
       "       [0., 0., 0., ..., 0., 0., 0.],\n",
       "       [0., 0., 0., ..., 0., 0., 0.],\n",
       "       [0., 0., 0., ..., 0., 0., 0.]])"
      ]
     },
     "execution_count": 17,
     "metadata": {},
     "output_type": "execute_result"
    }
   ],
   "source": [
    "tf = TfidfVectorizer()\n",
    "\n",
    "y = tf.fit_transform(txt)\n",
    "y.toarray()"
   ]
  },
  {
   "cell_type": "code",
   "execution_count": 18,
   "id": "5ef8ab96",
   "metadata": {
    "ExecuteTime": {
     "end_time": "2023-03-08T21:36:59.249615Z",
     "start_time": "2023-03-08T21:36:59.240512Z"
    },
    "collapsed": true
   },
   "outputs": [
    {
     "name": "stdout",
     "output_type": "stream",
     "text": [
      "['000', '005', '10', '100', '1000', '10000', '100m', '107', '10pm', '10x', '11', '12', '122m', '13', '130', '14', '140', '149', '15', '150', '150m', '155mph', '15km', '16', '162', '17', '18', '1880s', '1b', '1m', '1st', '20', '2007', '2008', '2009', '200mph', '2012', '2017', '2020', '2021', '2024', '2026', '2030', '20k', '20km', '20m', '210', '218', '21st', '22', '225', '23', '230', '24', '240', '25', '250', '250kw', '25gunsteslacom', '25k', '25th', '28', '28th', '2k', '2m', '2nd', '2v', '30', '300', '300km', '301', '304', '304l', '30km', '30m', '31', '33', '330', '360', '37', '3800', '394', '39a', '3d', '3pm', '3rd', '40', '400', '42', '420', '4227', '430', '43rd', '445', '448', '4530', '4680', '479000', '48', '4d', '4th', '50', '50000', '50k', '60', '60000', '65', '69420', '6f', '6k', '6pm', '727', '74', '78', '7th', '90', '9007mm', '922', '948', '95', '99', 'aber', 'able', 'abo', 'aboard', 'abort', 'absence', 'absolute', 'absolutely', 'absorb', 'absorption', 'absurd', 'absurdly', 'ac', 'academia', 'accel', 'accelera', 'accelerate', 'accelerated', 'accelerating', 'acceleration', 'accelerator', 'accept', 'acceptable', 'accepted', 'access', 'accessible', 'accident', 'accidental', 'accommodating', 'account', 'accura', 'accuracy', 'accurate', 'ace', 'achieve', 'achieved', 'achievement', 'achieving', 'achy', 'acquisition', 'across', 'action', 'active', 'activity', 'actual', 'actuall', 'actually', 'actuary', 'adagio', 'add', 'added', 'adding', 'additive', 'addressed', 'administered', 'adult', 'advanc', 'advance', 'advanced', 'advantage', 'adventure', 'advertising', 'advice', 'advised', 'aero', 'afb', 'affair', 'affect', 'affordable', 'africa', 'afternoon', 'age', 'ago', 'agony', 'agree', 'agreed', 'ah', 'ahead', 'ahem', 'ai', 'aim', 'aiming', 'air', 'aircraft', 'airplane', 'ak', 'aka', 'alert', 'alexander', 'algo', 'algorithm', 'alien', 'aligned', 'allocati', 'allocation', 'allow', 'allowed', 'allowing', 'allows', 'alloy', 'almost', 'aloha', 'alone', 'along', 'alpha', 'already', 'also', 'although', 'altit', 'altitude', 'alto', 'aluminum', 'always', 'amaze', 'amazing', 'amazon', 'america', 'american', 'amount', 'amplification', 'amplitude', 'analog', 'analysis', 'anasisii', 'ancient', 'andrej', 'angle', 'annihila', 'announcing', 'annoying', 'anode', 'another', 'answer', 'antenna', 'antibody', 'anybody', 'anyone', 'anything', 'anytime', 'anyway', 'anywhere', 'aok', 'apart', 'apogee', 'apologist', 'app', 'appealing', 'appear', 'appearing', 'appears', 'apple', 'applies', 'apply', 'applying', 'appreciate', 'appreciated', 'approach', 'approval', 'approve', 'approved', 'approximate', 'approximately', 'approximation', 'april', 'aquatic', 'arbeit', 'arbeiten', 'arbiter', 'architectural', 'architecture', 'area', 'argument', 'arise', 'arm', 'armor', 'around', 'array', 'arrive', 'arrived', 'arrives', 'art', 'article', 'ascent', 'ascribe', 'asimilar', 'asimov', 'ask', 'asking', 'aspiring', 'assessment', 'assured', 'ast', 'asteroid', 'astronaughty', 'astronaut', 'astronomer', 'astronomical', 'astronomy', 'atmosphere', 'atmospheric', 'atom', 'atrisk', 'attached', 'attack', 'attempt', 'attention', 'attractive', 'atv', 'auf', 'aug', 'augmentation', 'august', 'austin', 'australia', 'aut', 'authentication', 'authority', 'auto', 'autobahn', 'autocorrect', 'autocoupler', 'autocracy', 'autodelete', 'automated', 'automatic', 'automatically', 'automotive', 'autonomous', 'autonomously', 'autonomy', 'autopilot', 'av', 'avai', 'avatar', 'average', 'aviation', 'avionics', 'avoided', 'avoids', 'awaiting', 'award', 'aware', 'away', 'awesome', 'ba', 'baby', 'back', 'background', 'backup', 'bacteria', 'bad', 'ball', 'ballet', 'ballpark', 'bang', 'bankrupt', 'banner', 'bar', 'barbie', 'bare', 'barked', 'barnraising', 'base', 'based', 'basic', 'basically', 'battery', 'battle', 'battlestar', 'baveria', 'bay', 'bbc', 'bde', 'beast', 'beat', 'beautiful', 'became', 'becau', 'become', 'becomes', 'becoming', 'bed', 'beer', 'begging', 'beginning', 'behalf', 'behavior', 'behind', 'behnken', 'bei', 'beijing', 'believe', 'believed', 'bell', 'benutzen', 'berlin', 'berlinbrandenburg', 'bern', 'bernie', 'besides', 'best', 'bestcase', 'bet', 'beta', 'better', 'bettern', 'betting', 'beverage', 'bevs', 'beyond', 'bias', 'bidirectional', 'big', 'bigger', 'biggest', 'bill', 'billion', 'billy', 'bioreactor', 'bird', 'birthday', 'bisschen', 'bit', 'bitcoin', 'bite', 'bitte', 'biz', 'black', 'blackscholes', 'blade', 'blanket', 'blessed', 'blessing', 'blood', 'blow', 'blown', 'blue', 'bmw', 'boa', 'board', 'boat', 'bob', 'boca', 'body', 'boeing', 'bogle', 'bogus', 'bold', 'bolivia', 'bolivian', 'bolted', 'bombard', 'bonded', 'book', 'boops', 'boost', 'booster', 'booty', 'boring', 'born', 'bos', 'bot', 'bought', 'bow', 'bowl', 'box', 'boy', 'br', 'brain', 'brake', 'brande', 'brandenburg', 'branding', 'brave', 'break', 'brennt', 'brian', 'briefly', 'bright', 'brinell', 'bring', 'bringing', 'britain', 'bro', 'broad', 'broke', 'broken', 'brown', 'brownsville', 'browser', 'btw', 'bu', 'buff', 'bug', 'buil', 'build', 'building', 'built', 'bump', 'burdened', 'bureaucracy', 'burn', 'burned', 'burst', 'bus', 'butt', 'button', 'buttontwiddling', 'buy', 'buying', 'c5', 'c6', 'ca', 'cabin', 'cable', 'cake', 'calculation', 'caliber', 'california', 'call', 'called', 'calm', 'caltech', 'cam', 'came', 'camera', 'canada', 'canadian', 'canceled', 'candidate', 'candy', 'cannot', 'cant', 'capability', 'capable', 'cape', 'capex', 'capital', 'capture', 'captured', 'car', 'carbon', 'card', 'care', 'carefully', 'cargo', 'carousel', 'carried', 'carry', 'carrying', 'cartoon', 'case', 'cash', 'cast', 'casting', 'catapult', 'catch', 'catchy', 'catgirl', 'catl', 'caught', 'cause', 'causing', 'caution', 'cautious', 'cavalier', 'ceiling', 'cell', 'centaur', 'center', 'ceo', 'ceremony', 'cern', 'certainly', 'cgi', 'ch4', 'chad', 'chain', 'chalk', 'challenge', 'challenging', 'chamber', 'champion', 'chance', 'chang', 'change', 'changing', 'channel', 'charge', 'charging', 'charlie', 'chart', 'chasm', 'check', 'checking', 'checkout', 'cheese', 'cherish', 'chest', 'chica', 'china', 'chip', 'choose', 'chop', 'chosen', 'christmas', 'chrome', 'chromosome', 'chrysler', 'chuck', 'churchill', 'chute', 'cigarette', 'circular', 'circumferentia', 'city', 'civilization', 'claire', 'clarify', 'class', 'classic', 'clear', 'clearly', 'clicking', 'clinic', 'clock', 'clos', 'close', 'closed', 'closest', 'closing', 'cloudy', 'clubhouse', 'clue', 'co', 'co2', 'coast', 'cobra', 'code', 'codebase', 'coin', 'cold', 'collapse', 'collect', 'collection', 'college', 'collision', 'colony', 'color', 'combat', 'combined', 'combo', 'combustion', 'come', 'comedy', 'comet', 'coming', 'command', 'comme', 'comment', 'commenting', 'commercial', 'committed', 'common', 'communication', 'community', 'commutatorfree', 'comp', 'company', 'compared', 'compelling', 'compensation', 'competition', 'competitive', 'compiler', 'complete', 'completed', 'completely', 'completing', 'complex', 'complicated', 'comprehensible', 'compression', 'compute', 'computer', 'conceptual', 'concluded', 'concrete', 'condition', 'conference', 'confess', 'confident', 'configurator', 'confirmed', 'conflation', 'confusion', 'congrats', 'congratulation', 'connectivity', 'connector', 'consciousness', 'consider', 'considerably', 'considering', 'consistency', 'constant', 'constantly', 'constellation', 'constituent', 'constrained', 'constraint', 'construction', 'construimos', 'consumer', 'consumption', 'contest', 'context', 'continue', 'continues', 'continuous', 'contribute', 'control', 'controlled', 'controlling', 'conveniently', 'convers', 'conversation', 'convert', 'convertible', 'cook', 'cookie', 'cooking', 'cool', 'cooling', 'copper', 'core', 'corpo', 'corporation', 'correc', 'correct', 'corrosion', 'cortex', 'cost', 'costly', 'cough', 'could', 'count', 'countdown', 'counterintuitive', 'counting', 'countr', 'country', 'course', 'cousin', 'cov', 'cover', 'coverage', 'covering', 'covid', 'crane', 'crash', 'crater', 'crazy', 'cre', 'create', 'creating', 'creative', 'creatively', 'credibilit', 'crew', 'crew1', 'crewdragon', 'crewed', 'crimson', 'critical', 'cropping', 'cruising', 'crush', 'cryo', 'cryoproof', 'crypto', 'crysis', 'ct', 'cu', 'cumulative', 'cure', 'curevac', 'curing', 'curious', 'currency', 'current', 'currently', 'custom', 'customer', 'customtailored', 'cut', 'cute', 'cutting', 'cyber', 'cyberpunk', 'cybertr', 'cybertruck', 'cycle', 'da', 'da1', 'da2', 'daily', 'damaged', 'damian', 'damn', 'damping', 'danger', 'dank', 'dankberg', 'dankeschön', 'darkest', 'data', 'database', 'day', 'dayquil', 'de', 'dead', 'deal', 'dealing', 'death', 'debate', 'decade', 'december', 'decid', 'decide', 'decisionmakers', 'deck', 'decline', 'declined', 'decrypted', 'deep', 'def', 'default', 'definitely', 'deg', 'degree', 'delivered', 'delivery', 'demand', 'demo', 'democracy', 'demolition', 'demonstrated', 'demonstration', 'dense', 'denser', 'densify', 'depart', 'departed', 'departure', 'dependent', 'depending', 'depends', 'deployment', 'depressu', 'depth', 'der', 'descent', 'describe', 'description', 'deserves', 'desig', 'design', 'designed', 'despite', 'destiny', 'destroyer', 'detail', 'detanking', 'detect', 'detected', 'detection', 'deus', 'dev', 'developed', 'developing', 'development', 'deveras', 'device', 'diameter', 'diamond', 'dicey', 'dichotomy', 'die', 'died', 'differe', 'difference', 'different', 'differential', 'difficult', 'difficulty', 'dig', 'digit', 'dilbert', 'diluted', 'dire', 'direct', 'direction', 'directly', 'dirt', 'disc', 'discord', 'discovering', 'discus', 'disk', 'display', 'distance', 'distinction', 'distinguish', 'distract', 'distribution', 'diverter', 'divide', 'division', 'dm', 'dmt', 'dna', 'dock', 'docked', 'docking', 'dof', 'dog', 'doge', 'dogecake', 'dogecoin', 'dojo', 'dollar', 'dome', 'domino', 'donate', 'donated', 'donating', 'done', 'donor', 'dot', 'double', 'doug', 'dozen', 'dr', 'dra', 'drag', 'drago', 'dragon', 'dramatic', 'dramatically', 'drawing', 'dream', 'dress', 'drive', 'driven', 'driver', 'driving', 'drone', 'droneship', 'drop', 'dropped', 'drove', 'dry', 'dual', 'due', 'dug', 'dumb', 'dumber', 'duration', 'duri', 'dust', 'duty', 'dy', 'dynamically', 'döner', 'döpfner', 'ear', 'earlier', 'early', 'earmark', 'earning', 'earnings', 'earth', 'earthling', 'ease', 'easier', 'easily', 'easy', 'eaten', 'eberhard', 'eclipse', 'economic', 'economy', 'edge', 'edison', 'edits', 'eerie', 'effect', 'efficiency', 'efficient', 'efficiently', 'eg', 'ego', 'egypt', 'eight', 'eighth', 'ein', 'einstein', 'eithe', 'either', 'elderly', 'electric', 'electrical', 'electricity', 'electronic', 'element', 'elevator', 'ellison', 'elon', 'else', 'email', 'embarrassing', 'embarrassingly', 'embrace', 'emergency', 'emission', 'emits', 'emphasize', 'employee', 'employer', 'en', 'enable', 'enables', 'enabling', 'encountering', 'end', 'endeavor', 'endeavour', 'energetic', 'energy', 'engin', 'engine', 'engineer', 'engineering', 'enou', 'enough', 'ensure', 'ensures', 'enter', 'entertaining', 'entertainment', 'entire', 'entropy', 'entry', 'ep', 'epa', 'equipment', 'era', 'ergen', 'error', 'escape', 'escaping', 'esp', 'especially', 'essential', 'essentially', 'est', 'establish', 'esthetic', 'esthetically', 'et', 'ethernet', 'etsy', 'europa', 'europe', 'european', 'euwide', 'ev', 'eve', 'even', 'event', 'eventually', 'ever', 'every', 'everyday', 'everyone', 'everything', 'everywhere', 'evidence', 'ex', 'exact', 'exactly', 'exaflop', 'example', 'excellent', 'except', 'exceptional', 'exceptionally', 'exchanging', 'excited', 'excitement', 'exciting', 'excruciating', 'excuse', 'execution', 'exist', 'exists', 'expansion', 'expec', 'expect', 'expected', 'expendable', 'experience', 'experim', 'experimental', 'expert', 'explain', 'explanation', 'exploding', 'explore', 'extend', 'extending', 'extension', 'external', 'extra', 'extreme', 'extremely', 'eye', 'f9', 'faa', 'fabulous', 'face', 'facebook', 'faceted', 'facility', 'facing', 'fact', 'facto', 'factor', 'factorio', 'factory', 'fahrstuhlmusik', 'fail', 'failed', 'failing', 'fails', 'failure', 'fair', 'fairing', 'fairly', 'falcon', 'fall', 'falling', 'fallout', 'falloutthemed', 'false', 'family', 'fan', 'fantasize', 'far', 'faraday', 'farcical', 'farm', 'fart', 'fast', 'faster', 'fastest', 'fat', 'fate', 'fatigue', 'fault', 'favor', 'favorite', 'fear', 'feature', 'fee', 'feed', 'feedback', 'feel', 'feeling', 'feldbrugge', 'felt', 'fermi', 'fermilab', 'fever', 'fiat', 'fiction', 'field', 'figurative', 'figure', 'filled', 'film', 'filter', 'fin', 'final', 'finally', 'finance', 'financially', 'financials', 'financing', 'find', 'fine', 'finish', 'finished', 'finishing', 'fir', 'fire', 'fired', 'firing', 'firmware', 'first', 'fist', 'fit', 'five', 'fix', 'fixed', 'fixing', 'flag', 'flame', 'flameout', 'flamethrower', 'flap', 'flat', 'flew', 'flight', 'flip', 'float', 'floating', 'florida', 'flow', 'flowing', 'flown', 'flu', 'fly', 'flying', 'focus', 'focused', 'fold', 'foldedover', 'food', 'fool', 'foolish', 'footage', 'footprint', 'footstool', 'force', 'ford', 'forever', 'form', 'forming', 'formula', 'fortunately', 'forward', 'found', 'foundation', 'foundational', 'four', 'fourth', 'fp16', 'fp32', 'frame', 'frank', 'frankensteen', 'frankenstein', 'frankly', 'franz', 'free', 'freedom', 'freilich', 'frequency', 'frequent', 'fresh', 'frictionless', 'friday', 'friend', 'fro', 'frodo', 'front', 'frozen', 'fry', 'fsd', 'ft', 'fudgelike', 'fuel', 'fulfilled', 'full', 'fullsize', 'fully', 'fun', 'function', 'functionality', 'fund', 'fundamental', 'fundamentally', 'funding', 'funny', 'fusion', 'future', 'futuristic', 'fwd', 'fwiw', 'für', 'gaining', 'galactica', 'galaxy', 'game', 'gamechanger', 'gamestonk', 'gamgee', 'gaming', 'gantry', 'gap', 'garage', 'garfunkel', 'gary', 'gas', 'gaslight', 'gaslit', 'gate', 'gateway', 'gatsby', 'gauntlet', 'gave', 'gear', 'gearbox', 'gene', 'general', 'generally', 'generate', 'generator', 'genetic', 'genius', 'genuinely', 'geologically', 'germany', 'gespräch', 'get', 'getting', 'ghostworld', 'giant', 'giga', 'gigachad', 'gigafactory', 'gill', 'gimbal', 'gingham', 'girl', 'github', 'give', 'given', 'giving', 'glad', 'glass', 'gliding', 'global', 'glorify', 'gm', 'go', 'goal', 'going', 'gone', 'gonna', 'good', 'goosebump', 'got', 'gotta', 'gotten', 'government', 'govt', 'gps', 'gpt', 'gpus', 'gr', 'graffiti', 'granted', 'granular', 'graph', 'graphic', 'grateful', 'grave', 'gravitas', 'gravity', 'greate', 'greater', 'greatest', 'greatly', 'greece', 'green', 'grid', 'grief', 'ground', 'groundswell', 'group', 'growth', 'grumpy', 'grünheide', 'guaranteed', 'guerre', 'guess', 'guild', 'guillotine', 'gun', 'guy', 'h2', 'h2o', 'habitability', 'half', 'halflife', 'halo', 'hamiltonians', 'hamstring', 'hand', 'hang', 'hangar', 'hanging', 'happen', 'happened', 'happening', 'happens', 'happiness', 'happy', 'hard', 'hardcore', 'harder', 'hardest', 'hardly', 'hardness', 'hardware', 'hardworking', 'hartle', 'harvard', 'hasty', 'hate', 'haunt', 'hav', 'hawking', 'hawthorne', 'hazard', 'hdr', 'head', 'headed', 'header', 'heading', 'healt', 'hear', 'heard', 'hearing', 'heart', 'heat', 'heating', 'heaven', 'heavy', 'hedge', 'hehe', 'height', 'held', 'helicopter', 'helium', 'hell', 'hellenism', 'helm', 'help', 'helpful', 'helping', 'heneghan', 'hepa', 'herb', 'hervorragende', 'herz', 'hex', 'hexagonal', 'hey', 'hg2g', 'hi', 'hidden', 'high', 'highconcept', 'higher', 'highly', 'highreliability', 'highvolume', 'hilarious', 'hill', 'hiring', 'history', 'hit', 'hodl', 'hodler', 'hold', 'hole', 'holiday', 'hollywood', 'home', 'homeland', 'homework', 'homicide', 'honey', 'honor', 'honored', 'hop', 'hope', 'hopefully', 'hoping', 'horn', 'horror', 'hospitalgrade', 'hospitalized', 'hot', 'hotfixes', 'hour', 'house', 'hover', 'however', 'ht', 'http', 'httpstc', 'httpstco07puoramgo', 'httpstco095whx44bx', 'httpstco0ckvhrmtf1', 'httpstco0ct2svangy', 'httpstco0gutz4kgij', 'httpstco0kaav0dtnn', 'httpstco0rc72s0zay', 'httpstco0s0ybscm0p', 'httpstco0srlfg03fg', 'httpstco0vas3cck9p', 'httpstco0y5fkvqpk8', 'httpstco19h4u8ta2a', 'httpstco1dvhg0ntku', 'httpstco1mqxfakpzf', 'httpstco1oltpnw929', 'httpstco1spnwbelpa', 'httpstco1tukv0hvig', 'httpstco1wlybpkmzj', 'httpstco1xhs2awxb9', 'httpstco1zczinfc4u', 'httpstco205zz8al33', 'httpstco26dagjltdy', 'httpstco2hx6tla8f7', 'httpstco2iezyiyyg5', 'httpstco2ja38z8mre', 'httpstco2k8psyqu4j', 'httpstco2klhnfmgz1', 'httpstco2vcoaxsrv3', 'httpstco2wyticewfr', 'httpstco2yg5gatgv9', 'httpstco2z5mrscc4g', 'httpstco2zlkc8fc2d', 'httpstco326rkueyw8', 'httpstco34o80p1hi6', 'httpstco38fzby8pno', 'httpstco3dhapzhixh', 'httpstco3fazzgss8c', 'httpstco3i0bwgjlqp', 'httpstco3lc3l2rgcj', 'httpstco3pwt', 'httpstco3r0owmreup', 'httpstco3rwe9uhsts', 'httpstco3s2xzanace', 'httpstco42z7vrpb9c', 'httpstco44fge3giee', 'httpstco46j2gccjp0', 'httpstco46lbcix7fi', 'httpstco4aq1a5cykh', 'httpstco4qrymb7ii0', 'httpstco4uh4rarc6t', 'httpstco5elyx8pjlg', 'httpstco5lliqzacuu', 'httpstco5lplhqgazw', 'httpstco5lpnpltp24', 'httpstco5mrvvzmekg', 'httpstco5ozlyf7qrf', 'httpstco5t9vgklwda', 'httpstco5u3fnqfhr1', 'httpstco5vcgj8o31r', 'httpstco5z9p2upkqs', 'httpstco5zsyalvczx', 'httpstco64ocngk3ey', 'httpstco6cetazsxco', 'httpstco6du46embni', 'httpstco6gbxaxtn4a', 'httpstco6go7ehq9qy', 'httpstco6gwwllixdg', 'httpstco6hvvkuqdon', 'httpstco6noglix6b5', 'httpstco6ohta09s5l', 'httpstco6ojfysuaxo', 'httpstco6ottsix8af', 'httpstco6qghblfrk8', 'httpstco6vz4xnohf9', 'httpstco6y42kmcpgk', 'httpstco712znztmbj', 'httpstco71cucbgpnx', 'httpstco79jvi22n2r', 'httpstco7c0v16wt6y', 'httpstco7elp9pf9sl', 'httpstco7hkza1ohe4', 'httpstco7j1c92hdjl', 'httpstco7ofbmy1n25', 'httpstco7ojorqnhb6', 'httpstco7ryvzrts18', 'httpstco8bvrd5vdu7', 'httpstco8ehbqc3fa0', 'httpstco8hj3vlxzfp', 'httpstco8lcu71xzvm', 'httpstco8lpvwbec4r', 'httpstco8pbsgffzrp', 'httpstco8pqh2kalcf', 'httpstco8r92iexvvn', 'httpstco8zbt9qjd9h', 'httpstco8zg37stxt9', 'httpstco941a2odu5h', 'httpstco9bgkez9d8a', 'httpstco9cbjmeaavw', 'httpstco9g2n7fvscz', 'httpstco9hoy0ldzg4', 'httpstco9ie40hoihr', 'httpstco9qxyxmmiuj', 'httpstco9sschdkfad', 'httpstco9wfkmyu2oj', 'httpstco9ybabezxcv', 'httpstco9z8ac6skqx', 'httpstcoa6kmk0pegm', 'httpstcoaayypcpp1i', 'httpstcoab5hamo3en', 'httpstcoackoizwcpw', 'httpstcoadojs2uce3', 'httpstcoaduotl537t', 'httpstcoafru9adajy', 'httpstcoag4rar6qnp', 'httpstcoaigaenc8f0', 'httpstcoaipo9gd8ek', 'httpstcoaiwrmzb3d1', 'httpstcoalewbz8nfl', 'httpstcoalexczij1l', 'httpstcoalg6ue95ve', 'httpstcoanite06dlj', 'httpstcoapzngmo0k7', 'httpstcoaqgi0cu2hn', 'httpstcoatqpexe6dk', 'httpstcoau32myf2rn', 'httpstcoawxtjefc2d', 'httpstcoaxz1yheldj', 'httpstcob3zxd384qd', 'httpstcobbchdqhjja', 'httpstcobey7pefpcj', 'httpstcobfverxpoqu', 'httpstcobixl4qih22', 'httpstcobjfjlczwdk', 'httpstcobki5sooroe', 'httpstcobkkeiiicye', 'httpstcobpzwersoys', 'httpstcobqa5piaonk', 'httpstcobqfd2kwhbn', 'httpstcobv5stdwngj', 'httpstcoby0oophpp7', 'httpstcobzc2lfdjzq', 'httpstcoc3o4rravz8', 'httpstcoc7dfuastpm', 'httpstcoc7no6bbwgc', 'httpstcocagyh9nnd0', 'httpstcocdll4ielju', 'httpstcoceofli8lzm', 'httpstcocfkfkffxp0', 'httpstcocgeweqny7s', 'httpstcocgxsnck6uv', 'httpstcochgqmaiyts', 'httpstcocjhtxcselt', 'httpstcocjsgr0sjit', 'httpstcocmvdkmrish', 'httpstcocn2bfbua5q', 'httpstcocnl6t0lq0g', 'httpstcocnof9yjpf1', 'httpstcocqo2rjlrbv', 'httpstcocsizk6sevu', 'httpstcoctbfloi1so', 'httpstcocvi0yrjobe', 'httpstcoczrhlolyvo', 'httpstcoczykfyo0ix', 'httpstcod0i2w8wnkg', 'httpstcod3jkoiasy7', 'httpstcod4uoa1jncx', 'httpstcodaqdiiwb9x', 'httpstcoddbxiodog1', 'httpstcodfwlhxu7ce', 'httpstcodjdzxq4maz', 'httpstcodlmy5rybrk', 'httpstcodm76fjq3hx', 'httpstcodmgov9rcnu', 'httpstcodnkkgadjq4', 'httpstcodsgvwdhgnv', 'httpstcodtpmdm3tqp', 'httpstcodvwzgtppda', 'httpstcodyl0p8xvuf', 'httpstcodynlt5ekgk', 'httpstcodyy2rmhgil', 'httpstcodzfr5bnbff', 'httpstcoe2kf57klxb', 'httpstcoe5wikiugkz', 'httpstcoea14fozdo8', 'httpstcoebknqm6qyf', 'httpstcoebojgshvrq', 'httpstcoecghh5ston', 'httpstcoej7iovx2w4', 'httpstcoekpg5qcbui', 'httpstcoemkzcfgarz', 'httpstcoemuxlx698g', 'httpstcoencu8cblpy', 'httpstcoes5garryvs', 'httpstcoescjtbzo9d', 'httpstcoetfp9ielrf', 'httpstcoetjxxiv2vq', 'httpstcoetxmtyp8hg', 'httpstcoeuxoocfr9t', 'httpstcoewnahc4ch0', 'httpstcoezlaxwg3rp', 'httpstcof0fib1w94z', 'httpstcof23fxqkbce', 'httpstcof2rxgcz964', 'httpstcof8rwy4exee', 'httpstcofa6kd61eba', 'httpstcofb7e5noq2e', 'httpstcofbhkiihsc3', 'httpstcofc9uhqsd7o', 'httpstcofcfjrcwmti', 'httpstcofcnopr2oii', 'httpstcofdligohk01', 'httpstcofdnxdwh4et', 'httpstcoffpvdsqruc', 'httpstcofjdhqrdvdb', 'httpstcofl4lwcp3q0', 'httpstcofo4xhxas9q', 'httpstcofpbckyfysh', 'httpstcofqzotwqt9d', 'httpstcofr9aucywco', 'httpstcofrezwjcwna', 'httpstcofs0pmcioic', 'httpstcofsf77xhiii', 'httpstcofsw5ianl0r', 'httpstcofsya3i0hru', 'httpstcofwk1zihfeg', 'httpstcofwxsmo0f8t', 'httpstcofy4nwwbx56', 'httpstcofyuuio5dtz', 'httpstcog27ohwvnxj', 'httpstcog2iniry9es', 'httpstcog5dlcmg7wc', 'httpstcog7vxpupkvn', 'httpstcogby9nacrsn', 'httpstcogdxmbzx0ct', 'httpstcogf0rg2qoaf', 'httpstcoggoesdif2j', 'httpstcoghoisz1v6r', 'httpstcogl0mhrqjxy', 'httpstcoglnevuneyl', 'httpstcoglz28kfvhu', 'httpstcogmlvewwxdp', 'httpstcognhci8reh3', 'httpstcogno8xfjx8b', 'httpstcogpcvjibtlm', 'httpstcogq1wayotir', 'httpstcogqtxqmpy48', 'httpstcogsj3np4cap', 'httpstcogtohclgj82', 'httpstcogvfc9m3bhz', 'httpstcogxnszacar3', 'httpstcogy4dt7pq9n', 'httpstcogy9a20ummx', 'httpstcogyfbe', 'httpstcogzljmnyciu', 'httpstcoh2xcsvngdo', 'httpstcoh8ps02oelk', 'httpstcohajhh7la7q', 'httpstcohbtdtjyttc', 'httpstcohbvuhwv3ab', 'httpstcohcrgyx42rn', 'httpstcohd0ibpx3t5', 'httpstcohdri4hfa8b', 'httpstcohez9otgjjh', 'httpstcohfuptnqipb', 'httpstcohi2od05ye8', 'httpstcohj0thlr48n', 'httpstcohjdd7bjke3', 'httpstcohkpwjnxsfc', 'httpstcoho7ygxas3a', 'httpstcohotdtlpdpw', 'httpstcohp3822z0dg', 'httpstcohppvgjfhms', 'httpstcohprgptt6ru', 'httpstcohscbef8mnf', 'httpstcohspkw3zk1y', 'httpstcohyfszsrm6m', 'httpstcoi046jbmc7o', 'httpstcoi2rrglbx8j', 'httpstcoiafpj491zz', 'httpstcoiakln5fvpb', 'httpstcoiaqicetdoa', 'httpstcoieaouisjri', 'httpstcoiha2drewu0', 'httpstcoihvpeox7m6', 'httpstcoiiraiesg5m', 'httpstcoik3tt1x4wp', 'httpstcoikcrzpyxtr', 'httpstcoinu2xajd7u', 'httpstcoirmxfy991y', 'httpstcoiu3lmuqes5', 'httpstcoiwvwca05hl', 'httpstcoixhyt6nuic', 'httpstcoiydkttvsqk', 'httpstcoiyhjznzobv', 'httpstcoizk0v9gi47', 'httpstcoj1m7whlrdr', 'httpstcoj2uvultatv', 'httpstcojcqiacxjno', 'httpstcoje4ei88hmv', 'httpstcojg0fi3chxc', 'httpstcojil6vzhqax', 'httpstcojjunwv2j94', 'httpstcojmabjuqfdf', 'httpstcojmkacbrb5d', 'httpstcojmojn9hhxs', 'httpstcojoetyskgp7', 'httpstcojs3zvm77rh', 'httpstcojtg944ercy', 'httpstcoju4wemvsjg', 'httpstcojwdcjarymj', 'httpstcojz6zmqgbo3', 'httpstcojzxsr4h8vs', 'httpstcok2cb4nimiy', 'httpstcok3v3yddg6j', 'httpstcok77wxq11yt', 'httpstcoka0iha7z6c', 'httpstcokaarajvl2b', 'httpstcokawwol54jg', 'httpstcokh4qryrkoe', 'httpstcokiegovt0rd', 'httpstcokknyqlet0o', 'httpstcokmassjctix', 'httpstcokmg7c9qf6h', 'httpstcokogvn4rmj8', 'httpstcokq81cqogfl', 'httpstcokrohkor6ae', 'httpstcoktppercwt5', 'httpstcokveprq79rl', 'httpstcokvhlbuee1u', 'httpstcokvkrwksvab', 'httpstcokvo5mbfnxt', 'httpstcokwtvwm7mbn', 'httpstcoky8h0oyzyx', 'httpstcokyenxz94oy', 'httpstcol07yc02p7g', 'httpstcol65zaxyctr', 'httpstcol8pv6okpky', 'httpstcol8xese456a', 'httpstcolb14pksayi', 'httpstcolbtg1sibuc', 'httpstcolckxzfpozx', 'httpstcole3r20bwid', 'httpstcolgpvl7k1mi', 'httpstcoli4o0tnml8', 'httpstcoln95reesbw', 'httpstcolqfdqwhh2g', 'httpstcolqnken5kjn', 'httpstcolqw6tympb7', 'httpstcolrqdirbiyd', 'httpstcoltqh2vulgc', 'httpstcolvc11nikql', 'httpstcolwfxhvksjf', 'httpstcom0wwqstaxm', 'httpstcom7dyvli4cx', 'httpstcom8vj2gaofs', 'httpstcom8xzlzvsaq', 'httpstcombesvnakad', 'httpstcomcxxfnsqfj', 'httpstcomdopo17yb9', 'httpstcomdv0vdefyc', 'httpstcomezrzcnewo', 'httpstcomg44mmkitx', 'httpstcomieahkgnfo', 'httpstcomilwsilvrt', 'httpstcomlpvbpni4y', 'httpstcomltbdsquty', 'httpstcomlxngcsa9t', 'httpstcommg5b8b40z', 'httpstcomn8192hueq', 'httpstcomnn6s3srre', 'httpstcomr18qv3goc', 'httpstcomr7vfiqwwf', 'httpstcomrutle8y2v', 'httpstcomvwgps9uqe', 'httpstcomwopr7w8kk', 'httpstcomwzjylhd88', 'httpstcon3rzp4udi1', 'httpstcon8djdlknbe', 'httpstconb5hl7gzlx', 'httpstconb92', 'httpstconbybbfx0t2', 'httpstconbzqekw0qx', 'httpstconcafknfzlc', 'httpstcondvuumms67', 'httpstconez5hkuc4a', 'httpstconkfvidsxpp', 'httpstconllipnbmxr', 'httpstconnbetmy1tr', 'httpstcono1z98a94f', 'httpstcoo1ojwfj2zg', 'httpstcoo2qpnv2qry', 'httpstcoo4fjcglahw', 'httpstcoo5fbbtan1s', 'httpstcoo5xaopsnw1', 'httpstcooalvzwcmio', 'httpstcoocy2gfryvn', 'httpstcooffoojcqnv', 'httpstcooggsw88yrz', 'httpstcooicfjt3gna', 'httpstcoomacmyqawx', 'httpstcoon2f1py5jt', 'httpstcooohnzzeh9v', 'httpstcoooj9pqayhj', 'httpstcoopgo08vd4y', 'httpstcoopouohyamu', 'httpstcooptz9urne0', 'httpstcootdwcsk3ck', 'httpstcoovaohsg1of', 'httpstcooy9yvm84xm', 'httpstcooycpr9i9hq', 'httpstcoozazv1igxa', 'httpstcop1agokwqpv', 'httpstcop2ic1crpef', 'httpstcopa8sgepv9y', 'httpstcopcybhfpuad', 'httpstcopczpbd8jj6', 'httpstcopgk24cph9e', 'httpstcopgzafesc7x', 'httpstcoph6x1plnam', 'httpstcopiqitzeia5', 'httpstcopktdfdizyc', 'httpstcopmgu4vhqez', 'httpstcopmyscvzozy', 'httpstcopoulbrgzfu', 'httpstcoppaereeo8y', 'httpstcoppsorkwdi8', 'httpstcoppzzhxbxgp', 'httpstcopqsjzopaj5', 'httpstcoptawt9dhhc', 'httpstcopteaj9z79i', 'httpstcopulpf49me1', 'httpstcopuyijcadd6', 'httpstcopyrcfe97xp', 'httpstcoq1vvqvmj2i', 'httpstcoq43vz6rmhd', 'httpstcoqbnt1dused', 'httpstcoqddlnxfgjg', 'httpstcoqe4jcezytq', 'httpstcoqivas5gtpc', 'httpstcoqmhipv5zqs', 'httpstcoqobvxgq8fz', 'httpstcoqpbew54rvm', 'httpstcoqpe', 'httpstcoqqdcdov2jo', 'httpstcoqrc6alads2', 'httpstcoqt502u08np', 'httpstcoqtiiwlxxpl', 'httpstcoqud9hwz9cx', 'httpstcoquf0hh8qcg', 'httpstcoqvgkyw2qd0', 'httpstcor1sox7vta8', 'httpstcor3yb6cmrb8', 'httpstcor4rrgvpvr0', 'httpstcorabjkrtqlw', 'httpstcoraxdlk9jti', 'httpstcorcyoxxptc2', 'httpstcorg2erwhznt', 'httpstcorgy1p1vgou', 'httpstcorhksb40xqr', 'httpstcorhuwk20egg', 'httpstcorj35a3vluf', 'httpstcorkfvjvotse', 'httpstcornsj5fkdxt', 'httpstcorq3awmzxvo', 'httpstcoruediphtil', 'httpstcorztkdzaewj', 'httpstcos3typirk4u', 'httpstcos4itp647wo', 'httpstcos8eo2xb2sf', 'httpstcos8mdwgcdfg', 'httpstcosdmxkbhdzd', 'httpstcosi63axbjbz', 'httpstcosiar8ifvwc', 'httpstcosklmil3oxt', 'httpstcosmk67d3fmx', 'httpstcosnigkxdxfp', 'httpstcosqgxv49yrs', 'httpstcosqlj63netb', 'httpstcossaqzj8act', 'httpstcostznan3vtx', 'httpstcosw5rbm1srb', 'httpstcoszc90hnti8', 'httpstcoszo3thmxqa', 'httpstcot0snf4ugyk', 'httpstcot42iuazmwh', 'httpstcot8d3yn4xry', 'httpstcotcivzvc5ra', 'httpstcotdf8u6nd4c', 'httpstcoteezkiwcmk', 'httpstcotgpwej7wqa', 'httpstcothniyssnwn', 'httpstcotjsh1exz1q', 'httpstcotkkruvgbth', 'httpstcotlfouiedfm', 'httpstcotm7cs8otdt', 'httpstcotmw6phbef0', 'httpstcotoysp1ukif', 'httpstcotsbttiduhj', 'httpstcotutackmifn', 'httpstcotv3pixzp4i', 'httpstcotwl0dgurmk', 'httpstcou1z2cprrqj', 'httpstcou2wi4cgi5t', 'httpstcou8kn4fzpj9', 'httpstcoueeocofctb', 'httpstcouetqvia4bp', 'httpstcoufay65lzjj', 'httpstcoujq94iwt88', 'httpstcouk6nspwr9r', 'httpstcouklsjffrjk', 'httpstcoukly4dwqur', 'httpstcoulxtclm1g6', 'httpstcoumfgjnkoxm', 'httpstcoumyur7yshy', 'httpstcounjgvlveuk', 'httpstcouotvmkgxqh', 'httpstcoup3t8ow5tf', 'httpstcourtpjn7amo', 'httpstcourudyt9eui', 'httpstcouruvc4qf1a', 'httpstcouscsep00aq', 'httpstcouwerahxuev', 'httpstcouxqmuvtwxf', 'httpstcouygaae7g3r', 'httpstcouysanpqtfi', 'httpstcouzcgikcikb', 'httpstcov0yo4jkbs2', 'httpstcov37qm1kycr', 'httpstcov6us36yho6', 'httpstcov7cffwac0a', 'httpstcov8muheapoq', 'httpstcovae3ppljox', 'httpstcovb4wd40bsc', 'httpstcovbiu7ds4uq', 'httpstcovc6isfxioz', 'httpstcovilv1s16yo', 'httpstcovjkf9bqbod', 'httpstcovk8nzlr0sz', 'httpstcovmq2atdv5d', 'httpstcovn0rv0yq5q', 'httpstcovnko0mtruc', 'httpstcovoive97vpr', 'httpstcovpiippdv02', 'httpstcovr7thokncp', 'httpstcovrwvop79qd', 'httpstcovso9h4ioed', 'httpstcovv2agje8mw', 'httpstcovv6tthkr55', 'httpstcovviuzwhodt', 'httpstcovxv7ghumbd', 'httpstcovybfavhkys', 'httpstcovyvivrtzsa', 'httpstcovzhxun6yie', 'httpstcow1goo6etzh', 'httpstcow66u5qduh9', 'httpstcowbk7zz0fqx', 'httpstcowdj9k2ujqk', 'httpstcowduz0wnuin', 'httpstcowesafntz7a', 'httpstcowfnfst3c5y', 'httpstcowgjvdsahmf', 'httpstcowhxamj12iq', 'httpstcowimdyfsuiq', 'httpstcowizyhed6pa', 'httpstcowj4ydjglsh', 'httpstcowjrzibkh1h', 'httpstcowmqwct2wfh', 'httpstcowo34fhkugu', 'httpstcowoiwia7ztn', 'httpstcowpeprv5s4r', 'httpstcows70uvcryn', 'httpstcowuhekj0hio', 'httpstcowvqfq4oqua', 'httpstcowzaddnxmid', 'httpstcowzg16taxee', 'httpstcox2drfewial', 'httpstcox32sda871g', 'httpstcox41ovmztgo', 'httpstcox57odvdauo', 'httpstcox83ovjb4pa', 'httpstcoxaimd6nljv', 'httpstcoxajan4j9zr', 'httpstcoxccokojylt', 'httpstcoxepds9ituw', 'httpstcoxjlljpljbp', 'httpstcoxkwyon48io', 'httpstcoxlbahahjoj', 'httpstcoxlbidpmuuq', 'httpstcoxmemo5nu0m', 'httpstcoxmqtbrldyp', 'httpstcoxmyi7qwsgw', 'httpstcoxndtxrdnl2', 'httpstcoxniptypahf', 'httpstcoxpnqrcxqnc', 'httpstcoxpx7j5snpy', 'httpstcoxqipquy4pl', 'httpstcoxtsukcc3tl', 'httpstcoxugrzqijzx', 'httpstcoxuzmulvfhf', 'httpstcoxvabeklh1q', 'httpstcoxvuoeig9ex', 'httpstcoxvvcualz2o', 'httpstcoxwm1fxmx0r', 'httpstcoxwpn09wtaw', 'httpstcoxxrxfrqhbs', 'httpstcoxxvcwmrtws', 'httpstcoxzx9ppvl92', 'httpstcoy5db5mkzpu', 'httpstcoy5njrepvtc', 'httpstcoy6gcysvghm', 'httpstcoy7lrlouxr9', 'httpstcoy8po10opqn', 'httpstcoy9wred78oj', 'httpstcoyc5gaa12dw', 'httpstcoygde1oszxa', 'httpstcoyjdogokx8q', 'httpstcoyjltt8peeu', 'httpstcoyky1llpumd', 'httpstcoynetmywfvg', 'httpstcoyp7djawiks', 'httpstcoytsk3lmfii', 'httpstcoywlqux5rbv', 'httpstcoywqqasrbt8', 'httpstcoyxmoofzu8n', 'httpstcoyzcixdgm38', 'httpstcoyztdfzlull', 'httpstcoz2umtgsaoi', 'httpstcoz2v15u7zcf', 'httpstcoz2yfaupdrd', 'httpstcoz9kxjt9umj', 'httpstcozbdygouhsz', 'httpstcozcnw4z3nxh', 'httpstcozfbqlhxk3f', 'httpstcozgxjfdzzrm', 'httpstcozhqxmco6gy', 'httpstcozjogq2ulvf', 'httpstcozk1vr9xwzl', 'httpstcozkoi8fpvzz', 'httpstcozm0sz9cbzg', 'httpstcozo01qsu1wt', 'httpstcozrur0ewnlv', 'httpstcoztrmvq6wvx', 'httpstcozugaquvpy7', 'httpstcozyf8efd6ih', 'httpstcozyj8zddfql', 'httpstcozynsxisp4n', 'huge', 'hugged', 'hulk', 'human', 'humanity', 'humidity', 'humor', 'hundred', 'hunkering', 'hurley', 'hurricane', 'hurt', 'hustle', 'hvac', 'hyd', 'hydraulic', 'hydraulics', 'hydrocarbon', 'hydrogen', 'hypocrisy', 'ice', 'idea', 'identify', 'ie', 'ignite', 'ignore', 'ihop', 'ihre', 'ii', 'iii', 'illuminaughty', 'im', 'image', 'imagined', 'imap', 'immediate', 'immediately', 'imo', 'impact', 'implant', 'implicit', 'importance', 'important', 'impossible', 'impossibleseeming', 'impressive', 'improv', 'improve', 'improved', 'improvement', 'improves', 'improving', 'inaccurate', 'inc', 'incar', 'includes', 'including', 'income', 'incorrect', 'incorrectly', 'increase', 'increased', 'increasing', 'increasingl', 'increasingly', 'incredible', 'incredibly', 'incremental', 'indeed', 'indicator', 'indirectly', 'individual', 'individualized', 'individually', 'indoor', 'induction', 'inductive', 'industry', 'inevitable', 'inference', 'inflationary', 'information', 'inherently', 'init', 'initial', 'initially', 'injury', 'inquire', 'insane', 'insanely', 'inside', 'insight', 'insightful', 'inspect', 'inspection', 'inspiration', 'inspired', 'inspiring', 'install', 'installation', 'installed', 'installer', 'instead', 'instruction', 'instructional', 'instrumental', 'insurance', 'int', 'integrated', 'intellectual', 'intelligence', 'intend', 'intended', 'intense', 'intention', 'intentional', 'intentionally', 'interest', 'interested', 'interesting', 'interface', 'interior', 'internal', 'internet', 'internship', 'intersect', 'intersection', 'interstellar', 'intervention', 'interview', 'intuitively', 'invented', 'inventor', 'investing', 'investo', 'investor', 'invitation', 'involves', 'ip', 'ipo', 'irl', 'iron', 'ironing', 'ironphosphate', 'irony', 'irrational', 'isp', 'issu', 'issue', 'ja', 'jack', 'jacket', 'james', 'jammed', 'jan', 'january', 'japan', 'jazz', 'jen', 'jet', 'jingle', 'jitb', 'job', 'joined', 'joke', 'journey', 'ju', 'july', 'jumping', 'junkyard', 'kafkaesque', 'kai', 'kann', 'kansa', 'kapital', 'kara', 'kebab', 'keep', 'keinen', 'kerosene', 'kevlar', 'key', 'kg', 'kid', 'kidding', 'kind', 'kinda', 'king', 'kingdom', 'km', 'kn', 'knee', 'knife', 'knit', 'knock', 'know', 'knowledge', 'koet', 'korolev', 'la', 'lab', 'labeling', 'labor', 'lake', 'land', 'landed', 'landing', 'langrangians', 'large', 'larger', 'largest', 'larry', 'laser', 'lasik', 'last', 'lat', 'latch', 'late', 'latency', 'later', 'latest', 'latitude', 'latte', 'latter', 'launch', 'launchamerica', 'launched', 'launching', 'law', 'lax', 'lc', 'le', 'lead', 'leader', 'leap', 'learned', 'learning', 'lease', 'leasing', 'least', 'leave', 'leaving', 'leeward', 'left', 'leg', 'legalize', 'legislate', 'lego', 'lehners', 'length', 'lengthy', 'lesson', 'let', 'letter', 'letting', 'level', 'lever', 'lex', 'lfp', 'lg', 'lhc', 'li', 'license', 'licensing', 'lidar', 'life', 'lifemonths', 'lifetime', 'lift', 'lifting', 'liftoff', 'light', 'like', 'liked', 'likely', 'lil', 'limit', 'limited', 'limiti', 'link', 'lipstick', 'liquid', 'liquor', 'list', 'lite', 'literal', 'literally', 'lithium', 'lithiumion', 'little', 'live', 'livestream', 'living', 'liz', 'lmk', 'lo', 'load', 'loaded', 'loan', 'local', 'locally', 'location', 'lockdown', 'lockheed', 'log', 'logic', 'logo', 'loki', 'london', 'long', 'longer', 'longlasting', 'longrange', 'longterm', 'look', 'looking', 'loooves', 'loop', 'lord', 'loses', 'losing', 'loss', 'lossy', 'lost', 'lot', 'lotr', 'louder', 'love', 'loved', 'lover', 'low', 'lowcost', 'lower', 'lowering', 'lowest', 'lowkey', 'lr', 'luck', 'ludicrous', 'lump', 'lunar', 'lurch', 'lyric', 'löffel', 'macedon', 'machen', 'machine', 'machinelearning', 'made', 'madness', 'magenta', 'magic', 'magical', 'magnitude', 'main', 'maintains', 'maintenance', 'major', 'majority', 'make', 'making', 'man', 'manage', 'maneuver', 'maneuvering', 'manifold', 'mannschaft', 'manufactured', 'manufacturing', 'many', 'map', 'mapping', 'mar', 'margin', 'marginal', 'mark', 'market', 'marketing', 'martian', 'martyte', 'marvin', 'mass', 'massive', 'masterpiece', 'mat', 'match', 'mate', 'material', 'math', 'mathias', 'matrix', 'matter', 'matterantimatter', 'mature', 'max', 'maximize', 'maximizing', 'maximum', 'maxwell', 'may', 'maybe', 'mayo', 'mcgregor', 'mean', 'meaningful', 'meaningfully', 'meant', 'measure', 'measured', 'mechanically', 'medical', 'medicine', 'medium', 'meet', 'meeting', 'megapack', 'megaton', 'mein', 'melted', 'melting', 'melty', 'meme', 'memery', 'memory', 'mention', 'merch', 'mercy', 'mere', 'merged', 'merlin', 'merry', 'message', 'metal', 'metaphor', 'meter', 'methane', 'method', 'mgmt', 'mhi', 'mi', 'michael', 'microcontrollers', 'microsoft', 'microverse', 'mid', 'middle', 'might', 'mild', 'mile', 'milestone', 'mill', 'milled', 'million', 'millisecond', 'mimecraft', 'min', 'mind', 'mine', 'miniverse', 'minor', 'minute', 'misleading', 'misperception', 'missing', 'mission', 'mistake', 'mit', 'mitochondrion', 'mobic', 'mobid', 'mobile', 'mobileye', 'mobility', 'mode', 'model', 'moderate', 'modern', 'moderna', 'mom', 'moment', 'momentinertiaphobia', 'monday', 'money', 'monitor', 'monopolist', 'monopoly', 'month', 'monty', 'moon', 'moreover', 'morning', 'moron', 'mostly', 'motion', 'moto', 'motor', 'mount', 'mountain', 'mounted', 'mounting', 'move', 'movie', 'moving', 'mph', 'mrna', 'mtf', 'mu', 'much', 'multiplanetary', 'multiplayer', 'multiple', 'munger', 'munro', 'music', 'musk', 'must', 'mutation', 'mutual', 'møtør', 'n1', 'n2', 'n3', 'nail', 'naked', 'name', 'named', 'nasa', 'natürlich', 'nav', 'ne', 'near', 'nearorbital', 'nearterm', 'necessarily', 'neck', 'need', 'needed', 'negati', 'negative', 'negativity', 'neither', 'net', 'neural', 'neuralink', 'neuralinks', 'neuron', 'neuroscience', 'never', 'new', 'news', 'next', 'nextlevel', 'nice', 'nickel', 'night', 'nightcap', 'nightmare', 'nn', 'nns', 'nobody', 'noch', 'noise', 'nomad', 'nonchalant', 'noninfectious', 'normal', 'norris', 'north', 'northern', 'norway', 'nose', 'nosecone', 'notable', 'note', 'nothin', 'nothing', 'noting', 'nozzle', 'npc', 'nuclear', 'nullius', 'number', 'numbering', 'nursing', 'nut', 'nutshell', 'nyquil', 'o2', 'object', 'objective', 'obscure', 'observatory', 'observed', 'observer', 'obstacle', 'obtrusive', 'obtuse', 'obv', 'obviates', 'obvious', 'obviously', 'occam', 'occasional', 'occasionally', 'occluded', 'ocean', 'oceanobserving', 'oct', 'october', 'odd', 'odds', 'offer', 'offering', 'offset', 'oh', 'oil', 'ok', 'old', 'olde', 'onboard', 'one', 'onion', 'online', 'open', 'openai', 'opening', 'opera', 'operating', 'operation', 'operational', 'operator', 'opinion', 'opposite', 'opposition', 'opt', 'optimal', 'optimistic', 'optimistica', 'optimized', 'option', 'orbit', 'orbital', 'order', 'organization', 'orifice', 'original', 'originally', 'ostrich', 'others', 'otherwise', 'outcome', 'outdoor', 'outer', 'outfit', 'output', 'outside', 'outstanding', 'ovaltine', 'oven', 'overall', 'overclock', 'overhaul', 'overkill', 'overlap', 'overload', 'overlooked', 'overseen', 'overweight', 'owner', 'ownership', 'ox', 'oxygen', 'pa', 'pace', 'pacific', 'pack', 'package', 'pad', 'padre', 'paid', 'pain', 'paint', 'paintball', 'palo', 'panasonic', 'panel', 'pant', 'panzer', 'paper', 'par', 'parachute', 'parallel', 'paramount', 'paranoid', 'parent', 'parrot', 'part', 'participant', 'participation', 'particulate', 'partly', 'partner', 'party', 'pas', 'pass', 'passed', 'password', 'past', 'pastry', 'patch', 'patent', 'path', 'patient', 'paved', 'pay', 'payload', 'payment', 'payne', 'payout', 'paypal', 'pc', 'pcr', 'peak', 'pedestrian', 'penguin', 'penn', 'people', 'per', 'percentage', 'perfectly', 'performance', 'performed', 'performing', 'perhaps', 'period', 'permission', 'perseverance', 'person', 'personal', 'perspiration', 'phantom', 'phased', 'phone', 'phot', 'photo', 'photon', 'physic', 'pic', 'pick', 'picked', 'picking', 'pie', 'piece', 'pin', 'pipe', 'pirate', 'pitch', 'pixel', 'place', 'plaid', 'plan', 'plane', 'planet', 'plant', 'plasma', 'plate', 'play', 'playability', 'playable', 'playing', 'please', 'plural', 'plus', 'pm', 'pneumatics', 'po', 'podcasts', 'point', 'pointer', 'pointier', 'pointless', 'pointy', 'pole', 'politician', 'pollution', 'polynesian', 'polytopia', 'pontificating', 'pony', 'poor', 'population', 'pose', 'poseur', 'posi', 'position', 'positive', 'possi', 'possibility', 'possible', 'possibly', 'post', 'postspacex', 'potential', 'pothole', 'pound', 'power', 'powered', 'powerglide', 'powerpack', 'powertrains', 'powerwall', 'ppl', 'pr', 'practical', 'practicing', 'prancing', 'preburner', 'preburners', 'precise', 'predict', 'predictable', 'predicting', 'prediction', 'prefabricated', 'prefer', 'present', 'presenta', 'presently', 'preserved', 'president', 'press', 'pressure', 'pretty', 'prevalence', 'previously', 'price', 'pricing', 'primarily', 'primary', 'print', 'printer', 'printing', 'prior', 'prioritizing', 'priority', 'priv', 'private', 'privilege', 'prize', 'prnd', 'pro', 'probability', 'probably', 'probe', 'problem', 'problemsolvers', 'proceeding', 'process', 'processing', 'produce', 'produced', 'producing', 'product', 'productio', 'production', 'productivity', 'prof', 'professional', 'profit', 'profound', 'program', 'progre', 'progress', 'prometheus', 'promise', 'promised', 'pronoun', 'proof', 'propaganda', 'propel', 'propellant', 'prophecy', 'proportionate', 'proportionately', 'propulsion', 'propulsive', 'propulsively', 'protec', 'protect', 'protein', 'prototy', 'prototype', 'proud', 'prove', 'provide', 'provided', 'provides', 'providing', 'proving', 'prufrock', 'pseudo', 'psyche', 'public', 'publicly', 'pull', 'pump', 'purchase', 'pure', 'push', 'pushed', 'pushing', 'put', 'putting', 'pyramid', 'python', 'q2', 'quality', 'quantum', 'quarantine', 'quarter', 'que', 'queen', 'question', 'queue', 'quiet', 'quite', 'rabies', 'radar', 'radio', 'rail', 'rain', 'rainforest', 'ramp', 'ramses', 'ranch', 'random', 'range', 'rapid', 'rapidly', 'raptor', 'rat', 'rate', 'rated', 'ratelimiter', 'ratelimiting', 'rather', 'ratio', 'rave', 'rawlinson', 'ray', 'razor', 'rcs', 'rea', 'reach', 'reached', 'reaching', 'reactor', 'read', 'readiness', 'reading', 'ready', 'real', 'reality', 'realize', 'really', 'realtime', 'realworld', 'rear', 'reason', 'reasonable', 'reasonably', 'received', 'receives', 'recent', 'recently', 'recognition', 'recognize', 'recommendation', 'recommended', 'record', 'recovery', 'recruiting', 'reduce', 'reduced', 'reduction', 'reference', 'referring', 'refilling', 'reflect', 'reflig', 'refurb', 'reg', 'regarded', 'regular', 'regulator', 'regulatory', 'rehearsal', 'reich', 'relatively', 'release', 'releasing', 'relevant', 'reliable', 'reliably', 'remain', 'remains', 'remake', 'remarkably', 'remind', 'reminder', 'reminds', 'remo', 'remotely', 'remov', 'render', 'renewable', 'repair', 'replace', 'replaced', 'replacement', 'reply', 'report', 'repositioning', 'represent', 'require', 'required', 'researcher', 'resistance', 'resistive', 'resonant', 'resource', 'respect', 'responder', 'responsible', 'rest', 'restaurant', 'restored', 'restriction', 'result', 'resume', 'resupp', 'resupply', 'retail', 'retiree', 'retrospect', 'return', 'returned', 'returning', 'reusability', 'reusable', 'reuse', 'reveals', 'revenue', 'review', 'revision', 'revolution', 'revolutionary', 'rewatched', 'rewrite', 'rewrote', 'rich', 'rid', 'ride', 'rideshare', 'right', 'ring', 'rise', 'risin', 'risk', 'risky', 'rn', 'rna', 'ro', 'road', 'roadster', 'roaring', 'robin', 'robot', 'robust', 'roc', 'rock', 'rocket', 'role', 'roll', 'rollout', 'rona', 'roof', 'room', 'roomy', 'rose', 'rotation', 'rough', 'roughly', 'round', 'rounded', 'route', 'rover', 'rubin', 'rud', 'ruds', 'rule', 'rumor', 'run', 'runway', 'russian', 'rutherford', 'rvac', 'sacrificed', 'sad', 'safe', 'safer', 'safety', 'said', 'sale', 'saliva', 'salty', 'sample', 'samwise', 'sandstorm', 'sandy', 'saocom', 'sarscov', 'saskatchewan', 'sat', 'satellite', 'satisfying', 'saturday', 'saturn', 'savage', 'save', 'saxon', 'say', 'saying', 'scalable', 'scale', 'scaling', 'scarier', 'school', 'science', 'scientist', 'scorcher', 'scrap', 'scratch', 'screen', 'scrotum', 'scrounged', 'scru', 'scrubbed', 'se', 'sea', 'sealing', 'search', 'seated', 'seater', 'seattle', 'sec', 'seco', 'second', 'secondengine', 'secret', 'section', 'sector', 'see', 'seeing', 'seek', 'seeking', 'seem', 'seemed', 'seems', 'seen', 'selected', 'selfdriving', 'selforient', 'selfperpetuating', 'sell', 'semi', 'send', 'sending', 'sense', 'sensed', 'sensible', 'sensor', 'sent', 'sentencing', 'sentience', 'sentinel', 'separate', 'separation', 'sequel', 'sequencing', 'sequestered', 'series', 'serine', 'serious', 'seriously', 'serve', 'served', 'serverside', 'service', 'set', 'setting', 'settle', 'seven', 'several', 'sexy', 'sh', 'shade', 'shake', 'shanghai', 'shanty', 'shaped', 'share', 'shattered', 'shear', 'sheer', 'shelter', 'shield', 'shielding', 'shifter', 'ship', 'shipped', 'shipping', 'shirt', 'shopify', 'short', 'shorter', 'shortfall', 'shorting', 'shortly', 'shortterm', 'shorty', 'shot', 'show', 'shower', 'shrubbery', 'shunt', 'shut', 'sick', 'side', 'sie', 'sigh', 'signal', 'significant', 'significantly', 'silent', 'silicon', 'sim', 'similar', 'simon', 'simplest', 'simplicity', 'simplified', 'simply', 'simulation', 'simultaneous', 'simultaneously', 'since', 'singing', 'single', 'sir', 'site', 'situation', 'six', 'size', 'sjm', 'sketchy', 'skill', 'skip', 'skirt', 'skoole', 'sky', 'skynet', 'slated', 'slc', 'slight', 'slightly', 'slip', 'slope', 'slow', 'slowing', 'sm', 'small', 'smaller', 'smallseeming', 'smart', 'smartwatches', 'smol', 'smoosh', 'smooth', 'smoother', 'sn', 'sn10', 'sn15', 'sn27', 'sn28', 'sn40', 'sn5', 'sn6', 'sn7', 'sn8', 'sn9', 'snail', 'snake', 'snakehead', 'sneaky', 'sniffle', 'snoopy', 'snout', 'snow', 'snowy', 'soc', 'social', 'socs', 'soft', 'software', 'soil', 'solar', 'solution', 'solvable', 'solve', 'solved', 'solves', 'solving', 'someone', 'something', 'sometimes', 'somewhere', 'son', 'song', 'soon', 'sooner', 'sooo', 'sorry', 'sort', 'soul', 'sound', 'south', 'soviet', 'spa', 'space', 'spacecraft', 'spaceflight', 'spaceports', 'spacex', 'spacexs', 'spacexstarship', 'spacs', 'spare', 'sparta', 'spaß', 'speaker', 'special', 'specialized', 'specie', 'specifically', 'spee', 'speech', 'speed', 'speedrunning', 'spend', 'spent', 'sperm', 'spherex', 'spike', 'spin', 'spine', 'spit', 'splash', 'splashdown', 'spoke', 'spoken', 'spot', 'spotlight', 'spqr', 'spreadsheet', 'squeeze', 'sr', 'st', 'stable', 'stack', 'stacking', 'stage', 'staggeringly', 'stainless', 'stake', 'stalk', 'stand', 'standing', 'star', 'starhammer', 'starhopper', 'starlink', 'starman', 'starship', 'start', 'started', 'starting', 'startup', 'state', 'static', 'station', 'stationary', 'stay', 'steal', 'steel', 'steep', 'steer', 'step', 'stephenson', 'steve', 'stick', 'still', 'stilton', 'stimulus', 'sting', 'stitched', 'stock', 'stole', 'stonecutter', 'stood', 'stop', 'storage', 'storm', 'story', 'straight', 'strange', 'stranger', 'strategic', 'strawberry', 'strength', 'stress', 'strident', 'strike', 'string', 'strive', 'strong', 'strongly', 'structural', 'structure', 'stuck', 'student', 'study', 'stunning', 'subaru', 'subject', 'suboptimal', 'subscale', 'subscription', 'subsidize', 'substantial', 'subtle', 'succeed', 'succeeded', 'success', 'successful', 'suck', 'sue', 'suggest', 'suicide', 'suit', 'sum', 'summarizes', 'summary', 'sun', 'sunday', 'sunny', 'sup', 'super', 'supercharger', 'supercharging', 'supercollider', 'supercomputer', 'superdraco', 'superheavy', 'superhuman', 'superpower', 'supersonic', 'supplier', 'supplying', 'support', 'supporting', 'surface', 'surgery', 'surprise', 'surprised', 'surreal', 'surround', 'suspect', 'suspension', 'sustainability', 'sustainable', 'suv', 'swap', 'sweden', 'sweet', 'swiftly', 'swing', 'switched', 'switching', 'switchover', 'sword', 'sxm', 'sym', 'symbiosis', 'symbiotic', 'symptom', 'sync', 'syntax', 'synthesizer', 'synthetic', 'syrinx', 'system', 'ta', 'table', 'tacheles', 'take', 'taken', 'taking', 'talent', 'talented', 'talk', 'talked', 'talking', 'tall', 'taller', 'tallest', 'tank', 'tanker', 'tanstaafl', 'tap', 'target', 'targeting', 'tarlek', 'taste', 'tasty', 'tax', 'tbd', 'tbh', 'te', 'team', 'tech', 'technical', 'technically', 'techno', 'technology', 'tedium', 'teen', 'tegmark', 'telegram', 'telepathy', 'tell', 'temp', 'temperature', 'tempting', 'ten', 'tension', 'teriyaki', 'term', 'terminal', 'terraformed', 'terraforming', 'terrifying', 'tesla', 'teslaquila', 'test', 'tested', 'tester', 'testing', 'tex', 'texas', 'text', 'th', 'thank', 'thanks', 'thanksgiving', 'thanos', 'thems', 'theoretically', 'theory', 'ther', 'there', 'thermodynamics', 'theyre', 'thicker', 'thickness', 'thing', 'think', 'thinking', 'third', 'tho', 'though', 'thought', 'thousand', 'thread', 'three', 'threephase', 'throttle', 'thrown', 'thrust', 'thruster', 'thursday', 'ti', 'tianwen', 'tiki', 'tiktok', 'tile', 'tim', 'time', 'timelapse', 'timeless', 'tiny', 'tip', 'tire', 'titanium', 'title', 'toastier', 'today', 'toddler', 'together', 'toilet', 'toilette', 'told', 'tom', 'tomorrow', 'ton', 'tone', 'tonight', 'tonnage', 'tony', 'took', 'tooling', 'top', 'toppled', 'torb', 'toss', 'total', 'totally', 'touch', 'touchdown', 'touched', 'touching', 'touché', 'tough', 'tour', 'towards', 'tower', 'toxic', 'toy', 'toyota', 'tracing', 'track', 'tracking', 'traded', 'tradein', 'traditional', 'traffic', 'training', 'trans', 'transaction', 'transcanada', 'transfer', 'transferring', 'transit', 'transpiration', 'trap', 'trapped', 'trash', 'travel', 'tree', 'tricky', 'tried', 'triggering', 'trillion', 'trillionaire', 'trip', 'trivial', 'trouble', 'truck', 'true', 'truly', 'truncate', 'truncated', 'truncating', 'trust', 'truth', 'try', 'trying', 'trèndé', 'tshirt', 'tuesday', 'tunnel', 'tunneling', 'turbomachinery', 'turbopump', 'turbopumpfed', 'turn', 'turnaround', 'turning', 'turok', 'turret', 'tvc', 'tweak', 'tweet', 'tweeting', 'twice', 'twin', 'twist', 'twisted', 'twitter', 'two', 'type', 'typewriter', 'typical', 'tyranny', 'u0001f1e6', 'u0001f1e7', 'u0001f1e8', 'u0001f1e9', 'u0001f1ea', 'u0001f1f4', 'u0001f1f8', 'u0001f1fa', 'u0001f30e', 'u0001f338', 'u0001f339', 'u0001f353', 'u0001f381', 'u0001f3a9', 'u0001f3af', 'u0001f3b6', 'u0001f3b7', 'u0001f3dd', 'u0001f409', 'u0001f40d', 'u0001f410', 'u0001f43b', 'u0001f440', 'u0001f446', 'u0001f447', 'u0001f44c', 'u0001f44d', 'u0001f476', 'u0001f47b', 'u0001f484', 'u0001f495', 'u0001f4a8', 'u0001f4a9', 'u0001f4ab', 'u0001f4af', 'u0001f4b0', 'u0001f4b5', 'u0001f534', 'u0001f54a', 'u0001f5a4', 'u0001f600', 'u0001f603', 'u0001f608', 'u0001f609', 'u0001f60e', 'u0001f60f', 'u0001f610', 'u0001f622', 'u0001f62c', 'u0001f62e', 'u0001f634', 'u0001f680', 'u0001f6f0', 'u0001f914', 'u0001f917', 'u0001f918', 'u0001f920', 'u0001f9d9', 'u0001f9db', 'u0001fa82', 'u041a', 'u041e', 'u0430', 'u0431', 'u0432', 'u0434', 'u0435', 'u0438', 'u043a', 'u043b', 'u043c', 'u043d', 'u043e', 'u043f', 'u0440', 'u0441', 'u044b', 'u044c', 'u0451', 'u200d', 'u2192', 'u2600', 'u263a', 'u2640', 'u2642', 'u2660', 'u2665', 'u26a1', 'u2705', 'uae', 'ufe0f', 'uh', 'ui', 'ukrainian', 'ula', 'ullage', 'ultimately', 'ultra', 'um', 'umm', 'un', 'unacceptably', 'unbound', 'uncorrelate', 'und', 'underdoge', 'underestimated', 'underground', 'underpayment', 'underrated', 'understand', 'understanding', 'understands', 'understates', 'understood', 'underway', 'underweight', 'undivided', 'unequivocal', 'unexpected', 'unfavorable', 'unfortunately', 'unhappy', 'uninterrupted', 'unique', 'unit', 'universal', 'universe', 'unknown', 'unless', 'unlike', 'unlikely', 'unlock', 'unsecure', 'untrue', 'unusual', 'unusually', 'unveil', 'unveiled', 'upcoming', 'update', 'upgra', 'upgradable', 'upgrade', 'upgraded', 'upgrading', 'upload', 'upper', 'upside', 'ur', 'urf', 'urgency', 'us', 'usable', 'use', 'used', 'useful', 'user', 'using', 'utc', 'utility', 'utterly', 'v1', 'v2', 'v8', 'vaccine', 'vacuum', 'valuable', 'value', 'valued', 'valve', 'vandenberg', 'vast', 'vault', 'vaulttec', 'vectorspace', 'vega', 'vehicle', 'veloci', 'velociraptor', 'velocity', 'vera', 'verba', 'verification', 'vers', 'version', 'vertical', 'vesting', 'veteransday', 'vi', 'via', 'viasat', 'vic', 'victor', 'video', 'videodrome', 'vielen', 'vielleicht', 'view', 'viewed', 'vir', 'viral', 'virus', 'vision', 'visit', 'visiting', 'visualization', 'visually', 'voice', 'void', 'volume', 'volumetrically', 'voted', 'vr', 'vtol', 'vying', 'wa', 'wack', 'wait', 'waiting', 'wall', 'wallet', 'wallpaper', 'want', 'wanted', 'warfare', 'warm', 'warming', 'warn', 'warp', 'watch', 'watching', 'water', 'watercooled', 'watt', 'wavelength', 'way', 'waymo', 'waypoints', 'weak', 'wealth', 'wear', 'wearable', 'wearing', 'weather', 'web', 'webcast', 'website', 'wed', 'wednesday', 'week', 'weekend', 'weird', 'wel', 'welcome', 'weld', 'well', 'went', 'west', 'westworld', 'wh', 'whatev', 'wheel', 'whenever', 'whereas', 'wherever', 'whether', 'whistle', 'whitewash', 'whoa', 'whole', 'wi', 'wid', 'wide', 'widen', 'wider', 'wifi', 'wig', 'wiki', 'wikipedia', 'wil', 'wild', 'wildly', 'williams', 'win', 'wind', 'winderhead', 'windward', 'wing', 'winning', 'winston', 'wird', 'wire', 'wiring', 'wise', 'wish', 'wit', 'witch', 'witchcraft', 'witcher', 'within', 'without', 'wkrp', 'wonder', 'wondered', 'woohoo', 'wool', 'word', 'work', 'worked', 'worker', 'working', 'world', 'worry', 'worst', 'worth', 'woul', 'wow', 'write', 'writer', 'writing', 'written', 'wrong', 'wtf', 'xpeng', 'xprize', 'ya', 'yahoo', 'yaw', 'ye', 'yea', 'yeah', 'year', 'yearold', 'yesterday', 'yet', 'yo', 'yoda', 'yolt', 'york', 'young', 'yup', 'zealand', 'zenit', 'zero', 'zip', 'zon', 'zone', 'ðogecoin']\n"
     ]
    }
   ],
   "source": [
    "print(tf.get_feature_names())"
   ]
  },
  {
   "cell_type": "code",
   "execution_count": 24,
   "id": "0858fa99",
   "metadata": {
    "ExecuteTime": {
     "end_time": "2023-03-08T21:38:59.894739Z",
     "start_time": "2023-03-08T21:38:59.862722Z"
    },
    "collapsed": true
   },
   "outputs": [
    {
     "name": "stdout",
     "output_type": "stream",
     "text": [
      "{'alien': 212, 'ray': 3132, 'tracing': 3832, 'cyberpunk': 820, 'hdr': 1459, 'nextlevel': 2734, 'tried': 3853, 'interview': 2312, 'doge': 948, 'underestimated': 4003, 'congratulation': 718, 'china': 621, 'amazing': 235, 'execution': 1125, 'last': 2397, 'year': 4229, 'next': 2733, 'even': 1100, 'happy': 1441, 'new': 2731, 'ox': 2853, 'httpstco9wfkmyu2oj': 1640, 'frodo': 1297, 'underdoge': 4002, 'thought': 3774, 'fail': 1163, 'httpstcozgxjfdzzrm': 2170, 'thanks': 3756, 'indeed': 2251, 'tweet': 3885, 'definitely': 859, 'represent': 3206, 'realworld': 3149, 'time': 3790, 'allocation': 215, 'entertaining': 1070, 'outcome': 2833, 'likely': 2457, 'sent': 3365, 'agree': 195, 'clubhouse': 653, 'httpstco3rwe9uhsts': 1578, 'getting': 1358, 'real': 3144, 'bought': 483, 'dogecoin': 950, 'lil': 2458, 'toddler': 3800, 'hodler': 1508, 'issue': 2331, 'sentencing': 3366, 'seems': 3351, 'bit': 443, 'high': 1496, 'fixing': 1237, 'please': 2953, 'unlock': 4029, 'account': 150, 'true': 3861, 'power': 2988, 'httpstcofc9uhqsd7o': 1744, 'crypto': 801, 'wallet': 4118, 'give': 1369, 'private': 3029, 'key': 2364, 'avoided': 358, 'cost': 763, 'app': 266, 'suck': 3638, 'nasa': 2709, 'selected': 3353, 'falcon': 1171, 'heavy': 1472, 'first': 1231, 'two': 3892, 'element': 1036, 'lunar': 2523, 'gateway': 1340, 'together': 3801, 'one': 2803, 'mission': 2647, 'httpstco3pwt': 1576, 'predict': 3002, 'cash': 573, 'flow': 1250, 'reasonably': 3153, 'well': 4153, 'starlink': 3574, 'ipo': 2322, 'staggeringly': 3565, 'difficult': 915, 'technical': 3724, 'economic': 1012, 'endeavor': 1057, 'however': 1533, 'httpstco9z8ac6skqx': 1642, 'spacex': 3526, 'need': 2718, 'pas': 2886, 'deep': 856, 'chasm': 613, 'negative': 2721, 'httpstco7j1c92hdjl': 1618, 'lowest': 2517, 'per': 2910, 'ton': 3807, 'carbon': 562, 'sequestered': 3373, 'net': 2724, 'value': 4065, 'product': 3045, 'made': 2531, 'must': 2698, 'scalable': 3316, 'httpstcoxmyi7qwsgw': 2127, 'meant': 2589, 'price': 3018, 'country': 772, 'difference': 912, 'tax': 3718, 'shipping': 3404, 'intended': 2295, 'earth': 1003, 'may': 2582, 'idea': 2204, 'apply': 273, 'mar': 2555, 'xprize': 4222, 'team': 3722, 'manage': 2545, '100m': 6, 'capture': 559, 'prize': 3031, 'httpstcofsw5ianl0r': 1759, 'everyone': 1106, 'receives': 3155, 'stock': 3599, 'comp': 688, 'option': 2822, 'take': 3698, 'table': 3696, 'missing': 2646, 'back': 367, 'work': 4205, 'go': 1378, 'seem': 3349, 'appears': 270, 'inflationary': 2263, 'meaningfully': 2588, 'fixed': 1236, 'coin': 661, 'unit': 4022, 'whereas': 4161, 'httpstco4uh4rarc6t': 1586, 'wow': 4214, 'orbital': 2824, 'tower': 3828, 'stack': 3562, 'enough': 1066, 'raptor': 3122, 'orbit': 2823, 'booster': 477, 'improve': 2230, 'ship': 3402, 'mass': 2564, 'tonight': 3809, 'ðogecoin': 4245, 'instructional': 2287, 'video': 4091, 'httpstcoueeocofctb': 2041, 'people': 2909, 'spoken': 3553, 'httpstcox41ovmztgo': 2114, 'cute': 817, 'u0001f495': 3927, 'extremely': 1147, 'misleading': 2644, 'image': 2215, 'reflect': 3171, 'rain': 3113, 'pain': 2863, 'u0001f3b6': 3912, 'let': 2435, 'hodl': 1507, 'rainforest': 3114, 'finally': 1216, 'come': 674, 'httpstcogf0rg2qoaf': 1771, 'fun': 1309, 'simplicity': 3433, 'genius': 1352, 'yup': 4238, 'easy': 1008, 'decade': 847, 'intense': 2296, 'look': 2497, 'old': 2800, 'note': 2756, 'email': 1041, 'text': 3753, 'lesson': 2434, 'learned': 2418, 'tell': 3733, 'story': 3606, 'read': 3140, 'second': 3340, 'kingdom': 2371, 'httpstcoje4ei88hmv': 1835, 'heard': 1466, 'name': 2707, 'dogecake': 949, 'yolt': 4235, 'httpstcocnof9yjpf1': 1693, 'damian': 829, 'yeah': 4228, 'thing': 3768, 'restaurant': 3218, 'get': 1357, 'hang': 1433, 'stranger': 3609, 'sjm': 3447, 'future': 1318, 'currency': 810, 'scratch': 3325, 'much': 2690, 'u0001f5a4': 3936, 'destiny': 891, 'franz': 1286, 'essential': 1085, 'said': 3295, 'landing': 2389, 'burn': 522, 'clear': 642, 'solution': 3500, 'greate': 1403, 'httpstcoe5wikiugkz': 1719, 'still': 3594, 'use': 4051, 'hot': 1528, 'gas': 1336, 'maneuvering': 2547, 'rcs': 3134, 'thruster': 3782, 'httpstcovso9h4ioed': 2082, 'higher': 1498, 'isp': 2329, 'intuitively': 2313, 'turbopumpfed': 3877, 'mu': 2689, 'httpstcolbtg1sibuc': 1876, 'spherex': 3545, 'collect': 664, 'data': 837, '300': 68, 'million': 2635, 'galaxy': 1325, 'explore': 1140, 'un': 3997, 'launch': 2407, '60': 104, 'satellite': 3307, 'pad': 2860, '39a': 82, 'deck': 852, 'httpstco71cucbgpnx': 1613, 'default': 858, 'engine': 1062, 'least': 2422, 'lever': 2439, 'arm': 294, 'shut': 3419, 'min': 2638, 'throttle': 3779, 'point': 2960, 'flameout': 1240, 'risk': 3251, 'la': 2382, 'httpstcothniyssnwn': 2027, 'foolish': 1262, 'start': 3577, 'immediately': 2219, 'needed': 2719, 'land': 2387, 'become': 399, 'meme': 2604, 'destroyer': 892, 'short': 3407, 'might': 2629, 'actually': 167, 'happen': 1436, 'sandstorm': 3301, 'masterpiece': 2566, 'dumb': 987, 'try': 3868, 'pull': 3087, 'method': 2619, 'httpstcoj1m7whlrdr': 1832, 'lowkey': 2518, 'loki': 2490, 'low': 2513, 'gigachad': 1362, 'ur': 4046, 'welcome': 4151, 'httpstcoe2kf57klxb': 1718, 'httpstcovviuzwhodt': 2085, 'sea': 3332, 'wind': 4182, 'tough': 3825, 'httpstcobey7pefpcj': 1666, 'watch': 4127, 'u2192': 3977, 'httpstcobjfjlczwdk': 1669, 'httpstcoln95reesbw': 1881, 'twitter': 3891, 'filled': 1211, 'graffiti': 1394, 'art': 301, 'u043c': 3967, 'u044b': 3973, 'u0441': 3972, 'u0434': 3962, 'u0435': 3963, 'u043b': 3966, 'u0430': 3959, 'giga': 1361, 'berlin': 416, 'progress': 3055, 'httpstcoekpg5qcbui': 1725, 'neuralink': 2726, 'working': 4208, 'super': 3650, 'hard': 1442, 'ensure': 1067, 'implant': 2222, 'safety': 3294, 'close': 648, 'communication': 685, 'httpstcoyky1llpumd': 2154, 'enables': 1053, 'access': 145, 'everyday': 1105, 'dream': 972, 'going': 1380, 'space': 3522, 'announcing': 249, 'commercial': 682, 'astronaut': 315, 'aboard': 124, 'dragon': 968, 'httpstcombesvnakad': 1893, 'httpstcouklsjffrjk': 2046, 'worked': 4206, 'advanced': 179, 'wearable': 4139, 'phone': 2925, 'robot': 3260, 'skill': 3449, 'feel': 1199, 'weird': 4149, 'helping': 1484, 'make': 2542, 'hopefully': 1522, 'version': 4082, 'consider': 722, 'shortterm': 3412, 'solve': 3502, 'brain': 489, 'spine': 3548, 'injury': 2269, 'longterm': 2496, 'human': 2186, 'ai': 200, 'symbiosis': 3686, 'latte': 2405, 'httpstcoqrc6alads2': 1981, 'httpstcoxccokojylt': 2119, '10pm': 8, 'tom': 3805, 'experim': 1134, 'httpstcoteezkiwcmk': 2025, 'alert': 208, 'u0001f680': 3948, 'targeting': 3714, 'earlier': 998, 'april': 284, '20': 31, 'crew': 790, 'rotation': 3273, 'mi': 2622, 'became': 397, 'big': 433, 'fan': 1178, 'methane': 2618, 'httpstcomdv0vdefyc': 1896, 'sound': 3518, 'correct': 760, 'certainly': 594, 'deserves': 886, 'lot': 2507, 'cre': 784, 'httpstcohdri4hfa8b': 1798, 'instrumental': 2288, 'developing': 901, 'early': 999, 'vers': 4081, 'httpstcoulxtclm1g6': 2048, '15': 18, 'accelerate': 137, 'unusually': 4033, 'fast': 1185, 'important': 2225, 'reusable': 3232, 'httpstcou1z2cprrqj': 2038, 'escaping': 1082, 'whole': 4167, 'article': 302, 'warm': 4123, 'sunny': 3648, 'day': 839, 'snowy': 3492, 'mountain': 2680, 'httpstco2k8psyqu4j': 1562, 'beautiful': 396, 'httpstcoescjtbzo9d': 1730, 'dr': 964, 'frankensteen': 1283, 'httpstcowdj9k2ujqk': 2093, 'never': 2730, 'used': 4052, 'guy': 1423, 'gave': 1343, 'talk': 3703, 'halo': 1429, 'httpstcopyrcfe97xp': 1969, 'hope': 1521, 'cryoproof': 800, 'install': 2281, 'starship': 3576, 'sn9': 3483, 'sn10': 3474, 'httpstcourtpjn7amo': 2054, 'retrospect': 3227, 'inevitable': 2261, 'shot': 3414, 'live': 2473, 'sword': 3683, 'die': 909, 'entropy': 1073, 'buy': 529, 'hold': 1509, 'company': 689, 'good': 1383, 'produce': 3042, 'service': 3381, 'love': 2510, 'small': 3464, 'smaller': 3465, 'httpstcogtohclgj82': 1784, 'u0001f440': 3919, 'hotfixes': 1529, 'literally': 2469, 'game': 1326, 'httpstcoa6kmk0pegm': 1643, 'dollar': 952, 'shorting': 3410, 'shopify': 3406, 'economy': 1013, 'making': 2543, 'useful': 4053, 'providing': 3080, 'matter': 2574, 'tanstaafl': 3711, 'better': 425, 'fee': 1196, 'latter': 2406, 'robin': 3259, 'httpstcoczrhlolyvo': 1698, 'shorty': 3413, 'apologist': 265, 'respect': 3214, 'sell': 3357, 'house': 1531, 'car': 561, 'sh': 3388, 'httpstcovjkf9bqbod': 2073, 'finishing': 1225, 'engineering': 1064, 'production': 3047, 'aiming': 202, 'release': 3182, 'candidate': 550, 'desig': 887, 'httpstcobfverxpoqu': 1667, 'absolutely': 128, 'unlike': 4027, 'aircraft': 204, 'division': 939, 'fine': 1222, 'faa': 1150, 'fundamentally': 1314, 'broken': 507, 'reg': 3174, 'httpstcosi63axbjbz': 2008, 'nomad': 2745, 'u0001f917': 3951, 'esthetic': 1089, 'incredible': 2248, 'btw': 511, 'interior': 2304, 'design': 888, 'u0001f44c': 3922, 'major': 2540, 'improvement': 2232, 'coming': 677, 'little': 2472, 'roadster': 3257, 'part': 2879, 'rocket': 3264, 'storage': 3604, 'easily': 1007, 'upgradable': 4039, 'httpstcodjdzxq4maz': 1706, 'probably': 3035, 'month': 2669, 'drive': 974, 'without': 4198, 'using': 4055, 'prnd': 3032, 'stalk': 3568, 'stick': 3593, 'annoying': 250, 'shifter': 3401, 'guess': 1419, 'direction': 923, 'based': 384, 'obstacle': 2777, 'see': 3345, 'context': 737, 'nav': 2711, 'map': 2553, 'httpstco6go7ehq9qy': 1602, 'hedge': 1473, 'fund': 1312, 'shrubbery': 3417, 'httpstcom0wwqstaxm': 1889, 'also': 227, 'rear': 3150, 'screen': 3326, '155mph': 21, 'trap': 3847, 'speed': 3540, '14': 15, 'mile': 2631, '200mph': 35, 'top': 3814, 'right': 3247, 'tire': 3795, 'ever': 1103, 'achieve': 155, 'mph': 2686, 'le': 2414, 'play': 2949, 'plaid': 2942, 'model': 2657, 'httpstcohfuptnqipb': 1800, 'discord': 927, 'gone': 1381, 'corpo': 757, 'wild': 4178, 'httpstcof23fxqkbce': 1738, 'waiting': 4116, 'review': 3236, 'gamestonk': 1328, 'httpstcorztkdzaewj': 2002, 'passed': 2888, 'initial': 2267, 'pressure': 3014, 'test': 3747, 'httpstcov7cffwac0a': 2066, 'hand': 1432, 'knit': 2376, 'wool': 4203, 'marvin': 2563, 'martian': 2561, 'helm': 1481, 'dog': 947, 'httpstcogpcvjibtlm': 1780, 'kinda': 2369, 'etsy': 1093, 'serve': 3378, 'public': 3085, 'hamstring': 1431, 'today': 3799, 'amazon': 236, 'system': 3694, 'httpstcosnigkxdxfp': 2012, 'hoping': 1523, 'approval': 278, 'flight': 1245, 'tomorrow': 3806, 'afternoon': 191, 'entire': 1072, 'collection': 665, 'labeling': 2384, 'inference': 2262, 'surround': 3669, 'th': 3754, 'although': 228, 'crazy': 783, 'turn': 3878, 'fsd': 1301, 'moving': 2685, 'nns': 2741, 'camera': 546, 'enable': 1052, 'superhuman': 3657, 'selfdriving': 3354, 'tyranny': 3896, 'road': 3256, 'hell': 1479, 'mostly': 2675, 'paved': 2896, 'bad': 371, 'intention': 2297, 'catchy': 578, 'httpstcoau32myf2rn': 1661, 'sat': 3306, 'launched': 2409, 'laser': 2395, 'link': 2462, 'httpstcoceofli8lzm': 1683, 'ground': 1411, 'station': 3583, 'pole': 2965, 'sorry': 3515, 'confusion': 716, 'v8': 4061, 'say': 3314, 'separate': 3369, 'number': 2764, 'rest': 3217, 'surprise': 3666, 'hardware': 1448, 'software': 3497, 'waymo': 4134, 'money': 2665, 'float': 1247, 'falloutthemed': 1175, 'opening': 2808, 'party': 2885, 'vega': 4073, 'loop': 2500, 'happening': 1438, 'soon': 3512, 'allowed': 217, 'tunnel': 3873, 'yesterday': 4231, 'boy': 487, 'httpstcotlfouiedfm': 2030, 'rideshare': 3246, 'offering': 2795, 'provides': 3079, 'increased': 2244, 'operator': 2813, 'seeking': 3348, 'reliable': 3185, 'affordable': 189, 'rid': 3244, 'stage': 3564, 'landed': 2388, 'course': 773, 'droneship': 979, 'httpstco6gwwllixdg': 1603, 'liftoff': 2453, 'httpstcojs3zvm77rh': 1843, 'u0001f4af': 3931, 'switching': 3681, 'sensible': 3363, 'numbering': 2765, 'distinguish': 934, 'minor': 2642, 'update': 4037, 'httpstcoqmhipv5zqs': 1976, 'week': 4147, 'due': 985, 'unfavorable': 4017, 'weather': 4141, 'standing': 3570, 'continue': 738, 'countdown': 768, '30': 67, 'seco': 3339, 'given': 1370, 'many': 2552, 'depending': 877, 'scru': 3329, 'httpstcogby9nacrsn': 1769, 'launching': 2410, 'wide': 4170, 'range': 3119, 'customer': 814, 'excited': 1120, 'lowcost': 2514, 'httpstcow66u5qduh9': 2091, 'require': 3207, 'fresh': 1292, 'water': 4129, 'something': 3507, 'httpstcofwxsmo0f8t': 1762, 'httpstcokwtvwm7mbn': 1868, 'path': 2894, 'fully': 1308, 'renewable': 3198, 'energy': 1060, 'solves': 3504, 'problem': 3037, 'longer': 2493, 'chain': 598, 'hyd': 2197, 'httpstcoxugrzqijzx': 2134, 'detail': 893, 'donating': 957, 'towards': 3827, 'best': 421, 'technology': 3727, 'pretty': 3015, 'mean': 2586, 'civilization': 637, 'gr': 1393, 'httpstcosiar8ifvwc': 2009, 'httpstcovv6tthkr55': 2084, 'rock': 3263, 'eighth': 1026, 'httpstcozyj8zddfql': 2181, 'ratelimiting': 3127, 'process': 3040, 'cell': 588, 'constantly': 727, 'changing': 607, 'truck': 3860, 'stuck': 3622, 'traffic': 3838, 'generate': 1349, 'megaton': 2599, 'toxic': 3829, 'particulate': 2882, 'httpstcojcqiacxjno': 1834, 'giant': 1360, 'casting': 575, 'machine': 2529, 'trying': 3869, 'fullsize': 1307, 'httpstcochgqmaiyts': 1687, 'tegmark': 3730, 'exceptionally': 1118, 'smart': 3467, 'manufacturing': 2551, 'ultra': 3994, 'volume': 4107, 'industry': 2260, 'like': 2455, 'food': 1260, 'beverage': 428, 'medical': 2593, 'eg': 1022, 'syrinx': 3693, 'toy': 3830, 'battery': 387, 'fundamental': 1313, 'ratelimiter': 3126, 'slowing': 3462, 'sustainable': 3673, 'pr': 2995, 'httpstco9ybabezxcv': 1641, 'looking': 2498, 'question': 3105, 'viewed': 4096, 'valuable': 4064, 'tradein': 3836, 'glad': 1372, 'ok': 2799, 'whistle': 4164, 'cybertruck': 822, 'garage': 1333, 'awesome': 364, 'serverside': 3380, 'code': 659, 'birthday': 441, 'wikipedia': 4176, 'exist': 1126, 'watching': 4128, 'cobra': 658, 'kai': 2354, 'fallout': 1174, 'texas': 3752, 'chuck': 630, 'norris': 2749, 'divide': 938, 'zero': 4241, 'call': 540, 'information': 2264, 'labor': 2385, 'actuall': 166, 'httpstcojz6zmqgbo3': 1847, 'monty': 2670, 'python': 3097, 'httpstcoujq94iwt88': 2044, 'twist': 3889, 'knife': 2375, 'show': 3415, 'wise': 4191, 'ease': 1005, 'swap': 3675, 'hour': 1530, 'slight': 3457, 'repair': 3199, 'switched': 3680, 'nice': 2735, 'school': 3320, 'internship': 2307, 'college': 666, 'prototype': 3074, 'positive': 2978, 'excruciating': 1123, 'physic': 2929, 'splashdown': 3551, 'confirmed': 714, 'completing': 699, '21st': 48, 'resupply': 3224, 'return': 3228, 'cargo': 566, 'resupp': 3223, 'detanking': 894, 'inspection': 2277, 'hop': 1520, 'goal': 1379, 'three': 3777, 'static': 3582, 'fire': 1227, 'completed': 697, 'ruds': 3282, 'happened': 1437, '10': 2, 'fair': 1168, 'httpstcoho7ygxas3a': 1805, 'shanty': 3392, 'tiktok': 3787, 'level': 2438, 'actual': 165, 'pirate': 2938, 'practicing': 2997, 'held': 1476, 'massive': 2565, 'pin': 2936, 'fir': 1226, 'httpstcoqtiiwlxxpl': 1983, 'promised': 3058, 'legalize': 2428, 'comedy': 675, 'steal': 3586, 'logo': 2489, 'sue': 3639, 'help': 1482, 'appreciated': 276, 'star': 3571, 'field': 1208, 'background': 368, 'separation': 3370, 'performing': 2915, 'departure': 875, 'move': 2683, 'away': 363, 'httpstcog27ohwvnxj': 1765, 'suicide': 3641, 'double': 961, 'homicide': 1516, 'httpstcomvwgps9uqe': 1910, 'hey': 1492, 'queen': 3104, 'gonna': 1382, 'httpstcolrqdirbiyd': 1885, 'hate': 1453, '300km': 69, 'every': 1104, 'millisecond': 2636, 'wish': 4192, 'faster': 1186, 'httpstcotkkruvgbth': 2029, 'httpstcoocy2gfryvn': 1932, 'httpstcobkkeiiicye': 1671, 'protec': 3070, 'u0001f476': 3924, 'yoda': 4234, 'httpstco1dvhg0ntku': 1549, 'u041e': 3958, 'u043d': 3968, 'u0431': 3960, 'u0432': 3961, 'u0438': 3964, 'u043a': 3965, 'u043e': 3969, 'u043f': 3970, 'distinction': 933, 'increasing': 2245, 'rapidly': 3121, 'happens': 1439, 'imagined': 2216, 'factory': 1161, 'commenting': 681, 'replacement': 3202, 'glass': 1373, 'junkyard': 2352, 'place': 2941, 'spare': 3530, 'unhappy': 4019, 'west': 4155, 'coast': 657, 'tech': 3723, 'de': 841, 'facto': 1158, 'arbiter': 288, 'free': 1287, 'speech': 3539, 'already': 226, 'donated': 956, 'signal': 3424, 'ago': 193, 'donate': 955, 'primarily': 3020, 'advance': 178, 'cause': 582, 'extending': 1142, 'life': 2448, 'consciousness': 721, 'beyond': 430, 'httpstcovybfavhkys': 2087, 'maybe': 2583, 'later': 2402, 'prancing': 2998, 'pony': 2971, 'u0001f622': 3944, 'long': 2492, 'seemed': 3350, 'optimistic': 2819, 'yearold': 4230, 'son': 3510, 'saxon': 3313, '2021': 39, 'thinking': 3770, 'boca': 463, 'tour': 3826, 'community': 686, 'support': 3662, 'around': 296, 'site': 3443, 'wherever': 4162, 'done': 958, 'httpstcowmqwct2wfh': 2103, 'catapult': 576, 'air': 203, 'roof': 3269, 'base': 383, 'jumping': 2351, 'parachute': 2873, 'way': 4133, 'travel': 3850, 'building': 517, 'futuristic': 1319, 'bar': 378, 'httpstcoz2umtgsaoi': 2163, 'increase': 2243, 'neither': 2723, 'solar': 3499, 'installation': 2282, 'large': 2391, 'reactor': 3139, 'po': 2958, 'httpstcoph6x1plnam': 1955, 'sick': 3420, 'beat': 395, 'httpstco8pbsgffzrp': 1627, 'dozen': 963, 'primary': 3021, 'decisionmakers': 851, 'technically': 3725, 'verification': 4080, 'ascribe': 304, 'credibilit': 789, 'httpstcoju4wemvsjg': 1845, 'underway': 4012, 'httpstcowbk7zz0fqx': 2092, 'critical': 795, 'feedback': 1198, 'always': 233, 'really': 3147, 'harder': 1444, 'indirectly': 2253, 'electric': 1032, 'possible': 2981, 'electricity': 1034, 'convert': 748, 'co2': 656, 'h2o': 1425, 'ch4': 596, 'o2': 2770, 'httpstcofqzotwqt9d': 1754, 'unfortunately': 4018, 'photon': 2928, 'emission': 1046, 'powered': 2989, 'matterantimatter': 2575, 'annihila': 248, 'httpstcoy8po10opqn': 2148, 'vehicle': 4074, 'playing': 2952, 'wing': 4185, 'moon': 2671, 'def': 857, 'runway': 3286, 'hamiltonians': 1430, '2v': 66, 'potential': 2985, 'langrangians': 2390, 'httpstco2ja38z8mre': 1561, 'strange': 3608, 'ya': 4223, 'reminds': 3193, 'timeless': 3792, 'classic': 641, 'httpstcogq1wayotir': 1781, 'tiny': 3793, 'occam': 2784, 'razor': 3133, 'third': 3771, 'seen': 3352, 'external': 1144, 'observer': 2776, 'participant': 2880, 'dumber': 988, 'movie': 2684, 'tho': 3772, 'called': 541, 'domino': 954, 'effect': 1018, 'httpstcoqpbew54rvm': 1978, 'httpstcoes5garryvs': 1729, 'footprint': 1264, 'flat': 1243, 'tall': 3706, 'snow': 3491, 'falling': 1173, 'httpstcoetxmtyp8hg': 1733, 'u0001f609': 3940, 'responsible': 3216, '23': 51, 'personal': 2921, 'professional': 3050, 'combined': 671, 'worth': 4212, 'proud': 3075, 'achieving': 158, 'milestone': 2632, 'optimistica': 2820, 'httpstco1wlybpkmzj': 1554, '2020': 38, 'produced': 3043, 'delivered': 862, 'half': 1427, 'huge': 2183, 'httpstcoq43vz6rmhd': 1971, 'um': 3995, 'fusion': 1317, 'sky': 3453, 'maintenance': 2539, 'full': 1306, 'average': 355, 'driver': 976, 'httpstcojmabjuqfdf': 1839, 'dojo': 951, 'safer': 3293, 'aut': 335, 'httpstcodyy2rmhgil': 1716, 'ignore': 2208, 'heading': 1463, 'mathias': 2572, 'döpfner': 996, 'httpstcoewnahc4ch0': 1735, 'u0001f3a9': 3910, 'greatest': 1405, 'gatsby': 1341, 'inspired': 2279, 'ballet': 373, 'motion': 2676, 'vertical': 4083, 'want': 4120, 'open': 2806, 'roaring': 3258, 'lump': 2522, 'along': 224, '1000': 4, 'create': 785, 'httpstcoxjlljpljbp': 2121, 'exactly': 1112, 'press': 3013, 'header': 1462, 'tank': 3709, 'helium': 1478, 'debate': 846, 'httpstcokawwol54jg': 1854, 'leg': 2427, 'step': 3590, 'save': 3312, 'immediate': 2218, 'repositioning': 3205, 'mount': 2679, 'rea': 3135, 'httpstcojwdcjarymj': 1846, 'catch': 577, 'grid': 1409, 'fin': 1214, 'load': 2479, 'snakehead': 3486, 'undivided': 4014, 'attention': 326, 'winderhead': 4183, 'ostrich': 2830, 'came': 545, 'gliding': 1374, 'nonchalant': 2746, 'httpstcodtpmdm3tqp': 1712, 'odd': 2792, 'opposition': 2816, 'group': 1413, 'bmw': 458, 'home': 1513, 'state': 3581, 'baveria': 390, 'far': 1180, 'brande': 491, 'httpstcom7dyvli4cx': 1890, 'anywhere': 261, 'cannot': 552, 'everywhere': 1108, 'final': 1215, 'httpstcoppaereeo8y': 1961, 'mark': 2558, 'dankberg': 834, 'action': 162, 'wack': 4114, 'dank': 833, 'westworld': 4156, 'visualization': 4103, 'could': 766, 'add': 170, 'voice': 4105, 'cheese': 617, 'cake': 536, 'trouble': 3859, 'everything': 1107, 'httpstcoomacmyqawx': 1936, 'think': 3769, 'httpstco5mrvvzmekg': 1591, 'cgi': 595, 'httpstcovoive97vpr': 2078, 'ui': 3989, 'overhaul': 2844, 'incremental': 2250, 'codebase': 660, 'build': 516, 'httpstco07puoramgo': 1537, 'pose': 2974, 'hazard': 1458, 'viasat': 4088, 'profit': 3051, 'stop': 3603, 'sneaky': 3487, 'charlie': 611, 'ergen': 1079, 'entertainment': 1071, 'meeting': 2597, 'larry': 2394, 'ellison': 1038, 'seek': 3347, 'advice': 183, 'end': 1056, 'quarter': 3102, 'incar': 2237, 'gaming': 1330, 'autonomous': 348, 'world': 4209, 'taste': 3716, 'polytopia': 2969, 'multiplayer': 2692, 'online': 2805, 'focus': 1256, 'truly': 3862, 'total': 3818, 'pie': 2934, 'bigger': 434, 'instead': 2285, 'en': 1051, 'httpstcoqe4jcezytq': 1974, 'roughly': 3275, '95': 119, 'unique': 4021, 'pro': 3033, 'httpstcor3yb6cmrb8': 1988, 'able': 122, 'check': 614, 'speaker': 3533, 'interesting': 2302, 'liz': 2476, '25': 55, 'successful': 3637, 'majority': 2541, 'pa': 2855, 'httpstcopmgu4vhqez': 1958, 'vaccine': 4062, 'capable': 555, 'theory': 3761, 'curing': 808, 'almost': 221, 'anything': 258, 'medicine': 2594, 'httpstcouruvc4qf1a': 2056, 'offer': 2794, 'multiple': 2693, 'display': 931, 'revision': 3237, 'beta': 424, '11': 10, 'subtle': 3633, 'canada': 547, 'rule': 3283, 'bu': 512, 'httpstcoxzx9ppvl92': 2143, 'match': 2568, 'setting': 3383, '12': 11, 'pedestrian': 2906, 'httpstco7hkza1ohe4': 1617, 'writing': 4217, 'nightmare': 2739, 'seeing': 3346, 'upload': 4043, 'custom': 813, 'music': 2696, 'otherwise': 2832, 'generator': 1350, 'except': 1116, 'horn': 1524, 'change': 606, 'u0001f410': 3917, 'u0001f40d': 3916, 'u0001f3b7': 3913, 'u0001f4a8': 3928, 'holiday': 1511, 'jingle': 2343, 'latest': 2403, 'merry': 2613, 'christmas': 626, 'u0001f381': 3909, 'httpstcouk6nspwr9r': 2045, 'sense': 3361, 'revenue': 3235, 'growth': 1414, 'predictable': 3003, 'general': 1347, 'operation': 2811, 'absorb': 129, 'vast': 4069, 'mind': 2639, 'li': 2444, 'httpstcovxv7ghumbd': 2086, 'controlled': 743, 'fall': 1172, 'httpstcohcrgyx42rn': 1796, 'ironing': 2325, 'bug': 514, 'owner': 2851, 'taking': 3700, 'delivery': 863, 'frictionless': 1293, 'possibly': 2982, 'wrong': 4219, 'darkest': 836, 'program': 3053, 'reached': 3137, 'tim': 3789, 'cook': 750, 'discus': 929, 'possibility': 2980, 'httpstcooptz9urne0': 1942, 'us': 4049, 'ironphosphate': 2326, 'medium': 2595, 'shanghai': 3391, 'httpstcomilwsilvrt': 1900, 'sparta': 3531, 'reply': 3203, 'macedon': 2527, 'hi': 1494, 'heart': 1468, 'seriously': 3377, 'twisted': 3890, 'affair': 187, 'kind': 2368, 'supercharger': 3651, 'accessible': 146, 'photo': 2927, 'httpstco095whx44bx': 1538, 'httpstco6ojfysuaxo': 1607, 'transaction': 3841, 'u2665': 3983, 'ufe0f': 3987, 'ppl': 2994, 'sigh': 3423, 'main': 2537, 'hanging': 1435, 'pseudo': 3083, 'intellectual': 2292, 'conversation': 747, 'httpstco0s0ybscm0p': 1544, 'comment': 680, 'stay': 3585, 'u0001f484': 3926, 'subscription': 3630, 'word': 4204, 'bitcoin': 444, 'fiat': 1206, 'nail': 2705, 'lipstick': 2463, 'httpstcodvwzgtppda': 1713, 'httpstcoebojgshvrq': 1722, 'lord': 2501, 'edge': 1014, 'branding': 493, 'kidding': 2367, 'safe': 3292, 'anyway': 260, 'zone': 4244, 'httpstcomr18qv3goc': 1907, 'httpstcoag4rar6qnp': 1650, 'inspect': 2276, 'slightly': 3458, 'upper': 4044, 'liquid': 2464, 'oxygen': 2854, 'impressive': 2228, 'quite': 3108, 'grumpy': 1415, 'know': 2378, 'absurdly': 132, 'autopilot': 351, 'ther': 3762, 'httpstcov8muheapoq': 2067, 'light': 2454, 'bright': 499, 'httpstco6cetazsxco': 1599, 'incorrect': 2241, 'visually': 4104, 'stunning': 3625, 'playability': 2950, 'tshirt': 3871, 'armor': 295, 'kevlar': 2363, 'chest': 619, 'plate': 2948, 'absence': 126, 'magic': 2534, 'httpstcoiydkttvsqk': 1829, 'oh': 2797, 'umm': 3996, 'httpstcojtg944ercy': 1844, 'trans': 3840, 'pronoun': 3059, 'max': 2577, 'thrust': 3781, 'blown': 456, 'altit': 229, 'httpstcoikcrzpyxtr': 1823, 'loaded': 2480, 'slow': 3461, 'imo': 2220, 'improving': 2234, 'mere': 2610, 'surface': 3664, 'woul': 4213, 'httpstcozm0sz9cbzg': 2175, 'perhaps': 2916, 'confident': 712, 'view': 4095, 'output': 2837, 'httpstcorkfvjvotse': 1998, 'dankeschön': 835, 'brandenburg': 492, 'und': 4001, 'grünheide': 1416, 'berlinbrandenburg': 417, 'structural': 3620, 'pack': 2858, 'architecture': 290, '4680': 96, 'httpstcowesafntz7a': 2095, 'original': 2828, 'deus': 898, 'ex': 1110, 'revolution': 3238, 'objective': 2772, 'reality': 3145, 'impossible': 2226, 'run': 3285, 'httpstcozo01qsu1wt': 2176, 'flip': 1246, 'maneuver': 2546, 'httpstcoqud9hwz9cx': 1984, 'ascent': 303, 'heaven': 1471, 'httpstcooggsw88yrz': 1934, 'briefly': 498, 'picked': 2932, 'pick': 2931, 'httpstconllipnbmxr': 1923, 'httpstcoaayypcpp1i': 1644, 'hehe': 1474, 'httpstcosklmil3oxt': 2010, 'httpstcorhksb40xqr': 1995, 'httpstcokmg7c9qf6h': 1859, 'httpstcosdmxkbhdzd': 2007, 'httpstcoqbnt1dused': 1972, 'sxm': 3684, '25th': 60, 'httpstcozrur0ewnlv': 2177, 'init': 2266, 'void': 4106, 'cooling': 754, 'soft': 3496, 'spot': 3554, 'transpiration': 3846, 'cooking': 752, 'httpstco9sschdkfad': 1639, 'leeward': 2425, 'side': 3421, 'bare': 380, 'metal': 2615, 'windward': 4184, 'black': 448, 'hexagonal': 1491, 'heat': 1469, 'shield': 3399, 'tile': 3788, 'cant': 553, 'wait': 4115, 'spacexstarship': 3528, 'httpstcoynetmywfvg': 2155, 'agreed': 196, 'preserved': 3011, 'memory': 2606, 'sn8': 3482, 'httpstco5ozlyf7qrf': 1592, 'woohoo': 4202, 'reaching': 3138, 'apogee': 264, 'controlling': 744, 'putting': 3095, 'httpstcoxwm1fxmx0r': 2139, 'thank': 3755, 'south': 3519, 'universe': 4024, 'httpstco1zczinfc4u': 1556, 'fuel': 1304, 'causing': 583, 'touchdown': 3821, 'velocity': 4077, 'rud': 3281, 'got': 1385, 'httpstcowgjvdsahmf': 2097, 'switchover': 3682, 'precise': 3001, 'flap': 1242, 'control': 742, 'httpstcoiiraiesg5m': 1821, 'u0001f920': 3953, 'nearorbital': 2714, 'fastest': 1187, 'distance': 932, 'spee': 3538, 'httpstcovyvivrtzsa': 2088, 'timelapse': 3791, 'approach': 277, 'docked': 944, 'httpstcoi046jbmc7o': 1813, 'orifice': 2827, 'message': 2614, 'decrypted': 855, '13': 13, 'chance': 604, 'flying': 1255, 'success': 3636, '140': 16, 'pm': 2956, 'et': 1091, 'upgraded': 4041, 'spacecraft': 3523, 'autonomously': 349, 'u0001f409': 3915, '1st': 30, 'httpstcorcyoxxptc2': 1992, 'night': 2737, 'period': 2917, '130': 14, 'docking': 945, 'crewdragon': 792, 'morning': 2673, 'earthling': 1004, 'u2600': 3978, 'journey': 2348, 'continues': 739, 'dock': 943, 'knock': 2377, 'singing': 3440, 'telegram': 3731, 'carrying': 570, 'symbiotic': 3687, 'bacteria': 370, '40': 86, 'trillion': 3855, 'mobile': 2653, 'colony': 668, '100': 3, 'tracking': 3834, 'footage': 1263, 'helicopter': 1477, 'lc': 2413, 'httpstco7ryvzrts18': 1621, 'genuinely': 1353, 'magical': 2535, 'person': 2920, 'chica': 620, 'quiet': 3107, 'serine': 3375, 'im': 2214, 'gespräch': 1356, 'mit': 2649, 'httpstcobqa5piaonk': 1673, 'approximately': 282, 'httpstcocnl6t0lq0g': 1692, 'httpstcopgk24cph9e': 1953, 'rave': 3130, 'httpstcod3jkoiasy7': 1701, 'toilet': 3802, 'paper': 2871, 'demolition': 867, 'man': 2544, 'prometheus': 3056, 'unbound': 3999, 'supporting': 3663, 'previously': 3017, 'bob': 462, 'behnken': 409, 'doug': 962, 'hurley': 2192, 'beast': 394, 'compared': 690, 'vic': 4089, 'award': 361, 'accepted': 144, 'behalf': 406, 'boring': 479, 'co': 655, 'science': 3321, 'scientist': 3322, 'roc': 3262, 'httpstcows70uvcryn': 2107, 'discovering': 928, 'truth': 3867, 'exists': 1127, 'creating': 786, 'httpstcoxmqtbrldyp': 2126, 'cold': 662, 'paint': 2864, 'congrats': 717, 'hardest': 1445, 'httpstcocsizk6sevu': 1695, 'risky': 3252, 'wednesday': 4146, 'sad': 3291, 'news': 2732, 'tony': 3811, 'pic': 2930, 'thanos': 3758, 'truncate': 3863, 'round': 3276, 'wider': 4172, 'fp16': 1279, 'digit': 918, 'truncated': 3864, 'fp32': 1280, 'betting': 427, 'training': 3839, 'int': 2290, 'lifting': 2452, 'httpstcolb14pksayi': 1875, 'httpstcommg5b8b40z': 1904, 'thanksgiving': 3757, 'overall': 2842, 'suspension': 3671, 'height': 1475, 'damping': 831, 'algorithm': 211, 'httpstcoopgo08vd4y': 1940, 'promise': 3057, 'greatly': 1406, 'special': 3534, 'color': 669, 'savage': 3311, 'wondered': 4201, 'leader': 2416, 'normal': 2748, 'httpstcoetfp9ielrf': 1731, 'subject': 3627, 'upgrade': 4040, 'slated': 3455, 'sn15': 3475, 'similar': 3430, 'wiring': 4190, 'robust': 3261, 'mat': 2567, 'httpstco7ofbmy1n25': 1619, 'sn': 3473, '15km': 22, '50k': 103, 'ft': 1302, 'altitude': 230, 'engin': 1061, 'httpstco7ojorqnhb6': 1620, 'depends': 878, 'yet': 4232, 'bay': 391, 'propel': 3062, 'httpstcoj2uvultatv': 1833, 'rapid': 3120, 'complete': 696, 'reuse': 3233, 'propellant': 3063, 'refilling': 3170, 'httpstcoumyur7yshy': 2050, 'simply': 3435, 'biggest': 435, 'gamechanger': 1327, 'cu': 804, 'httpstconb5hl7gzlx': 1915, 'significant': 3425, 'exciting': 1122, 'yea': 4227, '7th': 114, 'queue': 3106, 'u0001f62c': 3945, 'fate': 1189, 'irony': 2327, 'hypocrisy': 2202, 'secondengine': 3341, 'fairing': 1169, 'european': 1096, 'sentinel': 3368, 'michael': 2623, 'freilich': 1289, 'oceanobserving': 2789, 'u0001f603': 3938, 'center': 590, 'named': 2708, 'skynet': 3454, 'joke': 2347, 'tempting': 3736, 'producing': 3044, 'largest': 2393, 'cast': 574, 'titanium': 3796, 'shielding': 3400, 'vandenberg': 4068, 'afb': 186, 'california': 539, 'httpstco46j2gccjp0': 1582, 'httpstcofr9aucywco': 1755, 'investor': 2318, 'investing': 2316, 'httpstcowduz0wnuin': 2094, 'httpstcoffpvdsqruc': 1749, 'ahead': 198, 'httpstcoapzngmo0k7': 1658, 'httpstcolqw6tympb7': 1884, 'pointy': 2964, 'cool': 753, 'nothing': 2758, 'httpstcoxajan4j9zr': 2118, 'vision': 4100, 'margin': 2556, 'ghostworld': 1359, 'radar': 3110, 'wavelength': 4132, 'httpstcodmgov9rcnu': 1709, 'misperception': 2645, 'developed': 900, 'lidar': 2447, 'httpstco3i0bwgjlqp': 1574, 'fly': 1254, 'turbopump': 3876, 'internal': 2305, 'ballpark': 374, 'httpstco0srlfg03fg': 1545, 'xpeng': 4221, 'andrej': 246, 'talented': 3702, 'httpstco64ocngk3ey': 1598, 'stole': 3600, 'apple': 271, 'httpstcogy4dt7pq9n': 1787, 'nn': 2740, 'computer': 705, 'caution': 584, 'strongly': 3619, 'advised': 184, 'spacs': 3529, 'sexy': 3387, 'cropping': 796, 'champion': 603, 'widen': 4171, 'liquor': 2465, 'distribution': 936, 'httpstcokvhlbuee1u': 1865, 'fix': 1235, 'httpstcobv5stdwngj': 1675, 'billion': 437, 'decide': 850, 'spent': 3543, 'dealing': 844, 'terraforming': 3743, 'relevant': 3184, 'lifetime': 2450, 'establish': 1088, 'httpstcouygaae7g3r': 2060, 'httpstcofrezwjcwna': 1756, 'publicly': 3086, 'traded': 3835, 'bogle': 466, 'thems': 3759, 'httpstcoencu8cblpy': 1728, 'mild': 2630, 'bro': 504, 'cov': 775, 'though': 3773, 'pc': 2903, 'viral': 4098, 'httpstcouysanpqtfi': 2061, 'dome': 953, 'eventually': 1102, 'terraformed': 3742, 'sim': 3429, 'obvious': 2782, 'deveras': 903, 'case': 572, 'noninfectious': 2747, 'ct': 803, 'quarantine': 3101, 'another': 252, 'httpstcooalvzwcmio': 1931, 'wanted': 4121, 'mercy': 2609, 'httpstco9ie40hoihr': 1637, 'u0001f60f': 3942, 'cut': 816, 'someone': 3506, 'took': 3812, 'bite': 445, 'sentience': 3367, 'learning': 2419, 'httpstco5zsyalvczx': 1597, 'designed': 889, 'multiplanetary': 2691, 'extreme': 1146, 'overkill': 2845, 'sector': 3344, 'activity': 164, 'httpstcoyjltt8peeu': 2153, 'blessing': 453, 'sort': 3516, 'groundswell': 1412, 'believed': 413, 'httpstcofwk1zihfeg': 1761, 'nullius': 2763, 'verba': 4079, 'marginal': 2557, '1m': 29, 'httpstcornsj5fkdxt': 1999, 'merlin': 2612, 'strong': 3618, 'local': 2482, 'maximum': 2580, 'kerosene': 2362, 'suboptimal': 3628, 'httpstcojoetyskgp7': 1842, 'visiting': 4102, 'american': 238, 'ah': 197, 'pcr': 2904, 'unequivocal': 4015, 'httpstcoyjdogokx8q': 2152, 'notable': 2755, 'figurative': 1209, 'literal': 2468, 'dust': 991, 'settle': 3384, 'dayquil': 840, 'frankly': 1285, 'httpstcohj0thlr48n': 1802, 'avionics': 357, 'cable': 535, 'steel': 3587, 'pipe': 2937, 'adding': 172, 'watercooled': 4130, 'sec': 3338, 'starting': 3579, 'martyte': 2562, 'covering': 778, 'concrete': 708, 'shattered': 3395, 'sending': 3360, 'blade': 450, 'httpstcovilv1s16yo': 2072, 'sometimes': 3508, 'blow': 455, 'httpstcoeuxoocfr9t': 1734, 'count': 767, 'atom': 321, 'testing': 3750, '90': 115, 'httpstcotv3pixzp4i': 2036, 'tbh': 3720, 'httpstcoy5njrepvtc': 2145, 'teslaquila': 3746, 'permission': 2918, 'received': 3154, 'stonecutter': 3601, 'guild': 1420, 'httpstcosw5rbm1srb': 2017, 'u0001f47b': 3925, 'u0001f4b5': 3933, 'httpstcouwerahxuev': 2058, 'damn': 830, 'russian': 3287, 'ukrainian': 3990, 'arrived': 299, 'toss': 3817, 'witcher': 4196, 'enter': 1069, '448': 94, 'est': 1087, '948': 118, 'utc': 4056, 'curevac': 807, 'moderna': 2660, 'others': 2831, 'kn': 2373, 'httpstcokveprq79rl': 1864, 'synthetic': 3692, 'mrna': 2687, 'cure': 806, 'httpstcoyp7djawiks': 2156, 'thread': 3776, 'asking': 308, 'symptom': 3688, 'past': 2890, 'apart': 263, 'fatigue': 1190, 'unless': 4026, 'chang': 605, 'httpstcos8eo2xb2sf': 2005, 'minute': 2643, 'channel': 608, 'integrated': 2291, 'chamber': 602, 'wall': 4117, 'either': 1030, 'abort': 125, 'obviates': 2781, 'hover': 1532, 'propulsively': 3069, 'httpstcomr7vfiqwwf': 1908, 'enabling': 1054, 'capability': 554, 'httpstcokrohkor6ae': 1862, 'song': 3511, 'ride': 3245, 'launchamerica': 2408, 'httpstcovzhxun6yie': 2089, '22': 49, 'beginning': 405, 'spaceflight': 3524, 'currently': 812, 'returning': 3230, 'amount': 239, 'priv': 3028, 'customtailored': 815, 'suit': 3642, 'route': 3278, 'protect': 3071, 'event': 1101, 'cabin': 534, 'depressu': 880, 'ready': 3143, 'coverage': 777, '727': 111, 'operational': 2812, 'board': 460, 'httpstc': 1536, 'four': 1277, 'boa': 459, 'sym': 3685, 'httpstcogl0mhrqjxy': 1774, 'several': 3386, 'different': 913, 'lab': 2383, 'administered': 175, 'rn': 3253, 'httpstcohajhh7la7q': 1793, 'obv': 2780, 'insanely': 2272, 'pointless': 2963, 'argument': 292, 'httpstco3fazzgss8c': 1573, 'u0001f338': 3906, 'girl': 1367, 'japan': 2339, 'spotlight': 3555, 'arrive': 298, 'u0001f534': 3934, 'rover': 3279, 'crew1': 791, 'finished': 1224, 'dress': 973, 'rehearsal': 3179, 'saturday': 3309, 'behind': 408, 'kid': 2366, 'wig': 4174, 'granular': 1396, 'result': 3221, 'complex': 700, 'ie': 2206, 'reading': 3142, 'curious': 809, 'rona': 3268, 'httpstcofa6kd61eba': 1741, 'blood': 454, 'ju': 2349, 'httpstcotwl0dgurmk': 2037, 'regular': 3176, 'body': 464, 'achy': 159, 'cloudy': 652, 'head': 1460, 'httpstcoihvpeox7m6': 1820, 'opinion': 2814, 'n1': 2702, 'gene': 1346, 'regarded': 3175, 'httpstcoemuxlx698g': 1727, 'cautious': 585, 'expect': 1130, 'forward': 1273, 'merged': 2611, 'buff': 513, 'wildly': 4179, 'moderate': 2658, 'covid': 779, 'httpstcoxlbahahjoj': 2123, 'npc': 2761, 'ahem': 199, 'dmt': 941, 'law': 2411, 'thermodynamics': 3764, 'win': 4181, 'break': 495, 'shake': 3390, 'fist': 1232, 'expansion': 1128, 'thursday': 3783, 'saliva': 3297, 'sample': 3299, 'httpstcotm7cs8otdt': 2031, 'honey': 1517, 'accurate': 153, 'u0001f600': 3937, 'u0001f4ab': 3930, 'degree': 861, 'heneghan': 1485, 'hilarious': 1502, 'clarify': 639, 'httpstcomlxngcsa9t': 1903, 'amplification': 240, 'cycle': 823, 'required': 3208, 'detect': 895, 'virus': 4099, 'rough': 3274, 'indicator': 2252, 'vir': 4097, 'httpstcomn8192hueq': 1905, 'reference': 3168, 'closed': 649, 'httpstcopuyijcadd6': 1968, 'httpstcomwopr7w8kk': 1911, 'fwiw': 1321, 'spoke': 3552, 'dicey': 907, 'httpstcok77wxq11yt': 1851, 'detection': 897, 'n3': 2704, 'spike': 3546, 'protein': 3072, 'directly': 924, 'search': 3334, 'httpstcox57odvdauo': 2115, 'explanation': 1138, 'dramatic': 969, 'decline': 853, 'flu': 1253, 'prevalence': 3016, 'prior': 3025, 'httpstcogmlvewwxdp': 1777, 'moreover': 2672, 'lower': 2515, 'false': 1176, 'httpstcoxvabeklh1q': 2136, 'httpstco42z7vrpb9c': 1580, 'httpstcoxtsukcc3tl': 2133, 'hear': 1465, 'approximate': 281, 'posi': 2976, 'httpstcolvc11nikql': 1887, 'population': 2973, 'knowledge': 2379, 'accuracy': 152, 'sarscov': 3304, 'httpstcovbiu7ds4uq': 2070, 'identify': 2205, 'httpstcom8vj2gaofs': 1891, 'sniffle': 3488, 'cough': 765, 'fever': 1205, 'nyquil': 2769, 'tested': 3748, 'twice': 3887, 'elon': 1039, 'musk': 2697, 'negati': 2720, 'httpstco6ohta09s5l': 1606, 'carousel': 567, 'typical': 3895, 'unusual': 4032, '24': 53, 'bogus': 467, 'cam': 544, 'httpstcoz2v15u7zcf': 2164, 'burst': 524, 'disk': 930, 'melted': 2601, 'preburner': 2999, 'manifold': 2548, 'whatev': 4158, 'httpstco5elyx8pjlg': 1587, 'lost': 2506, 'pneumatics': 2957, 'reason': 3151, 'unknown': 4025, 'present': 3008, 'risin': 3250, 'httpstcoszc90hnti8': 2018, 'u0001f44d': 3923, 'list': 2466, 'attractive': 327, 'employer': 1050, 'student': 3623, 'httpstcokknyqlet0o': 1857, 'cape': 556, 'httpstcouzcgikcikb': 2062, 'luck': 2520, 'superpower': 3658, 'served': 3379, 'sacrificed': 3290, 'veteransday': 4085, 'httpstcou8kn4fzpj9': 2040, 'swing': 3679, 'httpstcoxaimd6nljv': 2117, 'honor': 1518, 'choose': 623, 'strive': 3617, 'httpstcootdwcsk3ck': 1943, 'privilege': 3030, 'blessed': 452, 'readiness': 3141, 'concluded': 707, 'httpstcohbvuhwv3ab': 1795, 'financially': 1218, 'material': 2570, 'entry': 1074, 'httpstconcafknfzlc': 1919, 'rna': 3254, 'bioreactor': 439, 'httpstcoopouohyamu': 1941, 'hangar': 1434, 'checking': 615, 'tedium': 3728, 'fear': 1194, 'canceled': 549, 'rumor': 3284, 'austin': 333, 'chalk': 599, 'geologically': 1354, 'soil': 3498, 'tunneling': 3874, 'find': 1221, 'job': 2345, 'avai': 353, 'httpstcod0i2w8wnkg': 1700, 'cookie': 751, 'browser': 510, 'engineer': 1063, 'httpstco2zlkc8fc2d': 1568, 'accidental': 148, 'shortly': 3411, '20k': 43, 'counting': 770, 'httpstcourudyt9eui': 2055, 'httpstcohprgptt6ru': 1809, 'chip': 622, 'temp': 3734, 'sensor': 3364, 'automatically': 346, 'maintains': 2538, 'prototy': 3073, 'httpstcotgpwej7wqa': 2026, 'overclock': 2843, 'transfer': 3843, 'processing': 3041, 'supercomputer': 3654, 'extension': 1143, 'yo': 4233, 'httpstconbybbfx0t2': 1917, 'rewrote': 3242, '4d': 99, 'single': 3441, 'phot': 2926, 'httpstcomltbdsquty': 1902, 'appear': 268, 'calculation': 537, 'understands': 4009, 'profound': 3052, 'importance': 2224, 'reusability': 3231, 'era': 1078, 'expendable': 1132, 'u2660': 3982, 'dynamically': 994, 'occluded': 2787, 'object': 2771, 'especially': 1084, 'intersection': 2309, 'httpstcoooj9pqayhj': 1939, 'httpstco5u3fnqfhr1': 1594, 'phantom': 2923, 'opera': 2809, 'inside': 2273, 'u0001f1e8': 3899, 'u0001f1e6': 3897, 'problemsolvers': 3038, 'urgency': 4048, 'care': 564, 'went': 4154, 'resume': 3222, 'describe': 884, 'solved': 3503, 'banner': 377, 'left': 2426, 'simulation': 3436, 'faraday': 1181, 'invented': 2314, 'motor': 2678, 'commutatorfree': 687, 'threephase': 3778, 'ac': 133, 'induction': 2258, 'httpstcocqo2rjlrbv': 1694, 'maxwell': 2581, 'recognition': 3158, 'inc': 2236, 'httpstco6y42kmcpgk': 1611, '420': 89, 'ten': 3737, '42': 88, 'deployment': 879, 'gps': 1390, 'iii': 2212, 'httpstcofcfjrcwmti': 1745, 'httpstcohd0ibpx3t5': 1797, 'httpstcoli4o0tnml8': 1880, 'awaiting': 360, 'canadian': 548, 'authority': 337, 'recruiting': 3164, 'ace': 154, 'send': 3359, '25gunsteslacom': 58, 'chad': 597, 'uh': 3988, 'wtf': 4220, 'einstein': 1028, 'succeed': 3634, 'relatively': 3181, 'user': 4054, 'ocean': 2788, 'rise': 3249, 'httpstcotmw6phbef0': 2032, 'appreciate': 275, 'steve': 3592, 'convertible': 749, 'loan': 2481, 'httpstcoej7iovx2w4': 1724, 'closest': 650, 'ramp': 3115, 'stress': 3613, 'httpstcowuhekj0hio': 2108, 'put': 3094, 'eithe': 1029, 'httpstco9bgkez9d8a': 1633, 'funding': 1315, '6pm': 110, 'eve': 1099, '2008': 33, 'investo': 2317, 'httpstcoumfgjnkoxm': 2049, 'lowering': 2516, 'terminal': 3741, 'rather': 3128, 'challenge': 600, 'regulatory': 3178, 'middle': 2628, 'set': 3382, 'httpstco8ehbqc3fa0': 1623, 'norway': 2752, 'realize': 3146, 'current': 811, 'approved': 280, 'europe': 1095, 'individually': 2256, 'euwide': 1097, 'httpstco8zbt9qjd9h': 1630, 'latitude': 2404, 'position': 2977, 'january': 2338, 'thousand': 3775, 'participation': 2881, 'invitation': 2319, 'tweak': 3884, 'expected': 1131, 'httpstcoruediphtil': 2001, 'supercollider': 3653, 'considerably': 723, 'larger': 2392, 'httpstcos3typirk4u': 2003, 'httpstcopqsjzopaj5': 1964, 'httpstcoozazv1igxa': 1947, 'tex': 3751, 'httpstcog2iniry9es': 1766, 'penguin': 2907, 'random': 3118, 'u0001f634': 3947, 'livestream': 2474, 'provide': 3077, 'wa': 4113, 'httpstcojmojn9hhxs': 1841, 'subscale': 3629, 'active': 163, 'aero': 185, 'clos': 647, 'httpstcom8xzlzvsaq': 1892, 'httpstcohez9otgjjh': 1799, 'fails': 1166, 'httpstcodaqdiiwb9x': 1703, 'understanding': 4008, 'pitch': 2939, 'yaw': 4225, 'roll': 3266, 'duri': 990, 'httpstco79jvi22n2r': 1614, 'fortunately': 1272, 'stable': 3561, 'descent': 883, 'transferring': 3844, 'httpstcovpiippdv02': 2079, 'fault': 1191, 'probability': 3034, 'wi': 4168, 'httpstcoinu2xajd7u': 1824, 'measure': 2590, 'intervention': 2311, 'addressed': 174, 'issu': 2330, 'httpstcozyf8efd6ih': 2180, 'neural': 2725, 'httpstcomnn6s3srre': 1906, 'latency': 2401, 'significantly': 3426, 'sweden': 3676, 'death': 845, 'oct': 2790, 'attack': 324, 'easier': 1006, 'pump': 3088, '37': 79, 'gravity': 1402, 'talking': 3705, 'stephenson': 3591, '218': 47, 'constellation': 728, 'scrotum': 3327, 'fry': 1300, 'sun': 3646, 'httpstco2hx6tla8f7': 1559, 'sunday': 3647, 'fiction': 1207, 'urf': 4047, 'smol': 3469, 'told': 3804, 'eaten': 1009, 'jitb': 2344, 'teriyaki': 3739, 'bowl': 485, 'jack': 2333, 'box': 486, 'footstool': 1265, 'log': 2487, 'rate': 3124, 'bot': 482, 'combat': 670, 'phased': 2924, 'array': 297, 'antenna': 254, 'catgirl': 579, 'crane': 780, 'u0001f447': 3921, 'mayo': 2584, 'salty': 3298, 'payne': 2900, 'silent': 3427, 'hill': 1503, 'duty': 992, 'sperm': 3544, 'donor': 959, 'clinic': 645, 'modern': 2659, 'graphic': 1398, 'scarier': 3319, 'creatively': 788, 'horror': 1525, 'dead': 842, 'haunt': 1454, 'httpstcop1agokwqpv': 1948, 'equipment': 1077, 'usable': 4050, 'upgra': 4038, 'httpstcovrwvop79qd': 2081, 'hardly': 1446, 'scrap': 3324, 'scrounged': 3328, 'spa': 3521, 'httpstcoywqqasrbt8': 2159, 'employee': 1049, 'gm': 1377, 'toyota': 3831, 'httpstcoc7dfuastpm': 1679, 'bettern': 426, 'nothin': 2757, 'u0001f4b0': 3932, 'u0001f6f0': 3949, 'capex': 557, 'efficiency': 1019, '2017': 37, 'trash': 3849, 'license': 2445, 'print': 3022, 'helpful': 1483, 'tester': 3749, 'excellent': 1115, 'autonomy': 350, 'supersonic': 3659, 'jet': 2342, 'humanity': 2187, 'httpstcono1z98a94f': 1925, 'mine': 2640, 'tone': 3808, 'intentionally': 2299, 'strident': 3614, 'httpstcovb4wd40bsc': 2069, 'form': 1269, 'written': 4218, 'piece': 2935, 'website': 4144, 'meaningful': 2587, 'fwd': 1320, 'situation': 3444, 'pace': 2856, 'improv': 2229, 'httpstcoh2xcsvngdo': 1791, 'fart': 1184, 'command': 678, 'pushed': 3092, 'applies': 272, 'clock': 646, 'countr': 771, 'httpstcocjhtxcselt': 1688, '360': 78, 'deg': 860, 'tbd': 3719, 'functionality': 1311, 'improves': 2233, 'ti': 3784, 'httpstcoxmemo5nu0m': 2125, 'performance': 2913, 'smallseeming': 3466, 'loss': 2504, 'serious': 3376, 'httpstcozk1vr9xwzl': 2173, 'limited': 2460, '2k': 63, 'monday': 2664, 'regulator': 3177, 'approve': 279, 'differe': 911, 'httpstcod4uoa1jncx': 1702, 'dependent': 876, 'proving': 3081, 'intentional': 2298, 'theoretically': 3760, 'httpstcopczpbd8jj6': 1952, 'gotta': 1386, 'tiki': 3786, 'nosecone': 2754, 'httpstco9qxyxmmiuj': 1638, 'melty': 2603, 'pushing': 3093, 'nearterm': 2715, 'httpstcopulpf49me1': 1967, 'encountering': 1055, '210': 46, 'mtf': 2688, 'httpstcorg2erwhznt': 1993, 'rollout': 3267, 'proceeding': 3039, 'mate': 2569, 'lifemonths': 2449, 'lockdown': 2485, 'restriction': 3220, 'httpstco0ct2svangy': 1540, 'httpstcogy9a20ummx': 1788, 'firmware': 1230, 'description': 885, 'there': 3763, 'kansa': 2356, 'ranch': 3117, 'installed': 2283, 'mobic': 2651, 'mobility': 2655, 'mobid': 2652, 'neck': 2717, 'httpstco2vcoaxsrv3': 1564, 'disc': 926, 'c5': 531, 'c6': 532, 'surgery': 3665, 'failed': 1164, 'remov': 3196, 'httpstcoczykfyo0ix': 1699, 'dna': 942, 'sequencing': 3372, 'httpstcoy6gcysvghm': 2146, 'london': 2491, 'beijing': 411, 'trip': 3857, 'møtør': 2701, 'trèndé': 3870, 'httpstcov0yo4jkbs2': 2063, 'snoopy': 3489, 'ice': 2203, 'europa': 1094, 'httpstcoizk0v9gi47': 1831, 'sr': 3559, 'consumption': 735, 'bevs': 429, 'report': 3204, 'httpstco7c0v16wt6y': 1615, 'creative': 787, 'conveniently': 745, 'httpstco3r0owmreup': 1577, 'autodelete': 343, 'tension': 3738, 'seater': 3336, 'december': 848, 'gauntlet': 1342, 'thrown': 3780, 'prophecy': 3064, 'fulfilled': 1305, '69420': 107, 'httpstco2z5mrscc4g': 1567, 'meter': 2617, 'diameter': 905, 'roomy': 3271, 'vacuum': 4063, 'added': 171, 'httpstcopktdfdizyc': 1957, 'prufrock': 3082, 'touch': 3820, 'simplified': 3434, 'basically': 386, 'tesla': 3745, 'httpstco1xhs2awxb9': 1555, 'sweet': 3677, 'baby': 366, 'hurt': 2194, 'winston': 4187, 'churchill': 631, 'weak': 4136, 'turret': 3882, 'allow': 216, 'strategic': 3610, 'freedom': 1288, 'torb': 3816, 'goosebump': 1384, 'merch': 2608, 'hg2g': 1493, 'lotr': 2508, 'u0001f918': 3952, 'illuminaughty': 2213, 'knee': 2374, 'carry': 569, '50': 101, 'payload': 2898, 'departed': 874, 'hawthorne': 1457, 'dy': 993, 'httpstcotdf8u6nd4c': 2024, 'grief': 1410, 'ear': 997, 'httpstcov37qm1kycr': 2064, 'hit': 1506, 'ceiling': 587, 'graph': 1397, 'upside': 4045, 'sheer': 3397, 'magnitude': 2536, 'productio': 3046, 'httpstcoh8ps02oelk': 1792, 'order': 2825, 'configurator': 713, 'jan': 2337, 'releasing': 3183, 'tuesday': 3872, 'httpstco4qrymb7ii0': 1585, 'soc': 3493, 'sync': 3689, 'exchanging': 1119, 'httpstco9cbjmeaavw': 1634, 'dual': 984, 'socs': 3495, 'function': 1310, 'twin': 3888, 'plane': 2944, 'httpstcodfwlhxu7ce': 1705, 'analysis': 243, 'ego': 1023, 'intelligence': 2293, 'mobileye': 2654, 'httpstcofdligohk01': 1747, 'jen': 2341, 'lite': 2467, 'httpstcoghoisz1v6r': 1773, 'deal': 843, 'evidence': 1109, 'advanc': 177, 'httpstcohbtdtjyttc': 1794, 'face': 1152, 'dichotomy': 908, 'applying': 274, 'resource': 3213, 'ne': 2712, 'httpstco6qghblfrk8': 1609, 'poor': 2972, 'inventor': 2315, 'card': 563, 'rich': 3243, 'httpstco205zz8al33': 1557, 'sketchy': 3448, 'edits': 1016, 'wiki': 4175, 'whitewash': 4165, 'eberhard': 1010, 'glorify': 1376, 'role': 3265, 'httpstcoppsorkwdi8': 1962, 'fired': 1228, 'ceo': 591, 'mid': 2627, '2007': 32, 'httpstco8hj3vlxzfp': 1624, 'marketing': 2560, 'compelling': 691, 'ev': 1098, 'httpstcoxlbidpmuuq': 2124, 'exact': 1111, 'failure': 1167, 'nursing': 2766, 'mistake': 2648, 'httpstcocmvdkmrish': 1690, 'httpstcobzc2lfdjzq': 1677, 'httpstcolgpvl7k1mi': 1879, 'valve': 4067, 'mechanically': 2592, 'attached': 323, 'httpstcowhxamj12iq': 2098, 'httpstcoxpnqrcxqnc': 2130, 'compiler': 695, 'type': 3893, 'pointer': 2961, 'detected': 896, 'httpstcon3rzp4udi1': 1913, 'nose': 2753, 'pointier': 2962, 'suv': 3674, 'track': 3833, 'lead': 2415, 'cryo': 799, 'proof': 3060, 'contest': 736, 'crush': 798, 'bestcase': 422, '3d': 83, 'printing': 3024, 'wel': 4150, 'httpstcouscsep00aq': 2057, 'flag': 1238, 'additive': 173, 'costly': 764, 'tooling': 3813, 'accel': 135, 'httpstcoz9kxjt9umj': 2166, 'starman': 3575, 'leaving': 2424, 'within': 4197, '005': 1, 'astronomical': 317, 'mill': 2633, 'barked': 381, 'tree': 3851, 'httpstcoaigaenc8f0': 1651, 'snake': 3485, 'jazz': 2340, 'provided': 3078, 'gear': 1344, 'autocoupler': 341, 'highly': 1499, 'specialized': 3535, 'lat': 2398, 'httpstcobbchdqhjja': 1665, 'allowing': 218, 'drop': 980, 'render': 3197, 'httpstco9g2n7fvscz': 1635, 'mimecraft': 2637, 'complicated': 701, 'aspiring': 309, 'flame': 1239, 'diverter': 937, 'httpstcokyenxz94oy': 1870, 'ball': 372, 'financing': 1220, 'tasty': 3717, 'pastry': 2891, 'visit': 4101, 'ratio': 3129, 'denser': 871, 'httpstcognhci8reh3': 1778, 'kebab': 2359, 'outside': 2838, 'tacheles': 3697, 'httpstcodsgvwdhgnv': 1711, 'döner': 995, 'gantry': 1331, 'httpstcomieahkgnfo': 1899, 'crash': 781, 'absorption': 130, 'rail': 3112, 'replaced': 3201, 'bolted': 471, 'collision': 667, 'sandy': 3302, 'munro': 2695, 'licensing': 2446, 'battlestar': 389, 'galactica': 1324, 'buil': 515, 'httpstcohi2od05ye8': 1801, 'gigafactory': 1363, 'bonded': 473, 'structure': 3621, 'shear': 3396, 'httpstconbzqekw0qx': 1918, 'understand': 4007, 'competitive': 694, 'advantage': 180, 'chrysler': 629, 'bankrupt': 376, '2009': 34, 'ford': 1267, 'httpstcoieaouisjri': 1818, 'agony': 194, 'te': 3721, 'httpstcozhqxmco6gy': 2171, 'bringing': 502, 'inspiration': 2278, '99': 120, 'perspiration': 2922, 'st': 3560, 'httpstcog5dlcmg7wc': 1767, 'kg': 2365, 'burdened': 520, 'ta': 3695, 'httpstcoo1ojwfj2zg': 1926, 'lfp': 2441, 'stationary': 3584, 'front': 1298, 'httpstcopteaj9z79i': 1966, 'spreadsheet': 3557, 'moment': 2662, 'httpstcolckxzfpozx': 1877, 'absolute': 127, 'httpstcoafru9adajy': 1649, 'succeeded': 3635, 'httpstco2wyticewfr': 1565, 'sooner': 3513, 'spacexs': 3527, '43rd': 92, 'flown': 1252, 'http': 1535, 'reach': 3136, 'target': 3713, 'fairly': 1170, 'httpstco2klhnfmgz1': 1563, 'httpstcox83ovjb4pa': 2116, 'reflig': 3172, 'httpstcozugaquvpy7': 2179, 'turnaround': 3879, 'meet': 2596, 'demand': 864, 'httpstcoyxmoofzu8n': 2160, '3rd': 85, 'httpstcoawxtjefc2d': 1662, '4th': 100, 'httpstcouotvmkgxqh': 2052, 'httpstcoon2f1py5jt': 1937, 'subsidize': 3631, 'pollution': 2967, 'dense': 870, 'city': 636, 'httpstcoackoizwcpw': 1646, 'aim': 201, '2026': 41, 'ro': 3255, 'httpstco6hvvkuqdon': 1604, 'powerglide': 2990, 'httpstcol07yc02p7g': 1871, 'louder': 2509, 'httpstcoab5hamo3en': 1645, 'favorite': 1193, 'writer': 4216, 'foundation': 1275, 'outstanding': 2839, 'httpstcoglnevuneyl': 1775, 'rewatched': 3240, 'young': 4237, 'frankenstein': 1284, 'weekend': 4148, 'ovaltine': 2840, 'httpstcowimdyfsuiq': 2099, 'remake': 3189, 'liked': 2456, 'hollywood': 1512, 'sequel': 3371, 'skip': 3450, 'financials': 1219, 'lithium': 2470, 'factor': 1159, 'presently': 3010, '10x': 9, 'httpstco8pqh2kalcf': 1628, 'shortfall': 3409, 'gravitas': 1401, 'escape': 1081, 'hole': 1510, 'driving': 977, 'booty': 478, 'httpstcohyfszsrm6m': 1812, 'vectorspace': 4072, 'bird': 440, 'eye': 1148, 'unexpected': 4016, 'turbomachinery': 3875, 'broad': 505, 'propulsion': 3067, 'av': 352, 'httpstconkfvidsxpp': 1922, '48': 98, 'lex': 2440, 'httpstcozfbqlhxk3f': 2169, 'httpstcohscbef8mnf': 1810, 'brown': 508, 'httpstcoggoesdif2j': 1772, 'httpstcopiqitzeia5': 1956, 'httpstcoetjxxiv2vq': 1732, 'httpstcor4rrgvpvr0': 1989, 'optimized': 2821, 'tanker': 3710, 'httpstcosmk67d3fmx': 2011, 'connectivity': 719, 'esp': 1083, 'httpstcobqfd2kwhbn': 1674, 'letter': 2436, 'increasingl': 2246, 'httpstcoxkwyon48io': 2122, 'ring': 3248, 'thicker': 3766, 'httpstcos4itp647wo': 2004, 'u0001f4a9': 3929, 'mom': 2661, 'inspiring': 2280, 'httpstcorj35a3vluf': 1997, 'circumferentia': 635, 'httpstco6ottsix8af': 1608, 'httpstco7elp9pf9sl': 1616, 'suspect': 3670, 'ca': 533, 'httpstcopmyscvzozy': 1959, 'weld': 4152, 'upcoming': 4036, 'shower': 3416, 'simultaneously': 3438, 'arrives': 300, 'magenta': 2533, '240': 54, '31': 75, 'ast': 312, 'httpstcokh4qryrkoe': 1855, 'loooves': 2499, 'prioritizing': 3026, 'emergency': 1045, 'responder': 3215, 'location': 2484, 'internet': 2306, 'market': 2559, '20m': 45, '2030': 42, 'httpstcogxnszacar3': 1786, 'seven': 3385, '30m': 74, 'six': 3445, 'five': 1234, 'ye': 4226, 'httpstcofy4nwwbx56': 1763, 'cutting': 818, '25k': 59, 'referring': 3169, 'paintball': 2865, 'gun': 1422, 'mounted': 2681, 'bed': 402, 'supplier': 3660, 'nickel': 2736, 'presenta': 3009, 'httpstcol8pv6okpky': 1873, 'httpstcor1sox7vta8': 1987, 'httpstcoquf0hh8qcg': 1985, 'totally': 3819, 'near': 2713, 'completely': 698, 'driven': 975, 'gearbox': 1345, 'hydraulics': 2199, 'accommodating': 149, 'httpstcoppzzhxbxgp': 1963, 'living': 2475, 'dilbert': 919, 'cartoon': 571, 'specie': 3536, 'stood': 3602, '304l': 72, '301': 70, 'broke': 506, '304': 71, 'interface': 2303, 'httpstcowpeprv5s4r': 2106, 'differential': 914, 'ullage': 3992, 'httpstcoqvgkyw2qd0': 1986, 'drawing': 971, 'se': 3331, 'httpstcopgzafesc7x': 1954, '50000': 102, 'httpstcogdxmbzx0ct': 1770, 'httpstcov6us36yho6': 2065, 'interstellar': 2310, 'mapping': 2554, 'acceleration': 140, 'probe': 3036, 'imap': 2217, 'researcher': 3209, 'typewriter': 3894, 'httpstcokaarajvl2b': 1853, 'centaur': 589, 'bow': 484, 'obviously': 2783, 'httpstcocfkfkffxp0': 1684, 'httpstcondvuumms67': 1920, 'wheel': 4159, '9007mm': 116, 'appealing': 267, 'hawking': 1456, 'hartle': 1450, 'turok': 3881, 'feldbrugge': 1201, 'lehners': 2431, 'algo': 210, 'practical': 2996, 'size': 3446, 'constraint': 731, 'fit': 1233, 'httpstcoaxz1yheldj': 1663, 'area': 291, '330': 77, 'httpstco0gutz4kgij': 1541, 'httpstcogzljmnyciu': 1790, 'preburners': 3000, 'ignite': 2207, 'prediction': 3005, 'inaccurate': 2235, 'besides': 420, 'genetic': 1351, '107': 7, 'nozzle': 2760, 'duration': 989, 'development': 902, 'facility': 1155, 'mcgregor': 2585, 'rvac': 3289, 'scale': 3317, 'httpstcoxqipquy4pl': 2132, 'ludicrous': 2521, 'httpstcorhuwk20egg': 1996, 'opposite': 2815, 'openai': 2807, 'essentially': 1086, 'captured': 560, 'microsoft': 2625, 'yahoo': 4224, 'finance': 1217, 'atv': 328, 'semi': 3358, 'httpstco4aq1a5cykh': 1584, 'challenging': 601, 'httpstcoygde1oszxa': 2151, 'irl': 2323, 'drove': 982, 'plus': 2955, '4227': 90, 'believe': 412, '430': 91, 'explain': 1137, 'difficulty': 916, 'scaling': 3318, 'understood': 4011, '10000': 5, 'httpstcomcxxfnsqfj': 1894, 'intend': 2294, 'reduce': 3165, 'purchase': 3089, 'panasonic': 2867, 'lg': 2442, 'catl': 580, 'partner': 2884, 'httpstcofl4lwcp3q0': 1751, 'unveil': 4034, 'affect': 188, 'cybertr': 821, 'httpstcofo4xhxas9q': 1752, 'fold': 1258, 'tip': 3794, 'force': 1266, 'httpstcodynlt5ekgk': 1715, 'mature': 2576, 'autocorrect': 340, 'bus': 525, 'efficient': 1020, 'machinelearning': 2530, 'web': 4142, 'chop': 624, '16': 23, 'httpstcomlpvbpni4y': 1901, 'httpstcooicfjt3gna': 1935, 'waypoints': 4135, 'floating': 1248, 'truncating': 3865, 'httpstcobixl4qih22': 1668, 'green': 1408, 'continuous': 740, 'httpstcorabjkrtqlw': 1990, 'shaped': 3393, 'diamond': 906, 'aligned': 213, 'north': 2750, 'record': 3162, 'exceptional': 1117, 'achievement': 157, 'experience': 1133, 'httpstcowzaddnxmid': 2110, 'incorrectly': 2242, 'overlooked': 2848, 'declined': 854, 'lmk': 2477, 'httpstcohp3822z0dg': 1807, 'felt': 1202, 'zip': 4242, 'paypal': 2902, 'httpstcoctbfloi1so': 1696, 'utterly': 4058, 'insane': 2271, 'frank': 1282, 'httpstcocn2bfbua5q': 1691, 'irrational': 2328, 'funny': 1316, 'planet': 2945, 'speedrunning': 3541, 'factorio': 1160, 'iron': 2324, 'partly': 2883, 'offset': 2796, 'httpstconez5hkuc4a': 1921, 'shelter': 3398, 'tap': 3712, 'button': 527, 'implicit': 2223, 'conflation': 715, 'capital': 558, 'foundational': 1276, 'error': 1080, 'radio': 3111, 'httpstcogno8xfjx8b': 1779, 'eerie': 1017, 'parallel': 2874, 'vaulttec': 4071, 'built': 518, 'demonstration': 869, 'vault': 4070, 'underground': 4004, 'nuclear': 2762, 'httpstcocvi0yrjobe': 1697, 'obscure': 2773, 'starhammer': 3572, 'stainless': 3566, 'rat': 3123, 'parrot': 2878, 'remind': 3191, 'httpstcoqt502u08np': 1982, 'httpstcovn0rv0yq5q': 2076, 'warp': 4126, 'httpstcowizyhed6pa': 2100, 'hugged': 2184, 'gary': 1335, 'snail': 3484, 'winning': 4186, 'gaining': 1323, 'embrace': 1044, 'depth': 881, 'httpstcolqfdqwhh2g': 1882, 'teen': 3729, 'stacking': 3563, 'limiti': 2461, 'httpstcoatqpexe6dk': 1660, 'crater': 782, 'httpstcowvqfq4oqua': 2109, 'extend': 1141, 'smartwatches': 3468, 'neuralinks': 2727, 'outfit': 2836, 'ancient': 245, 'greece': 1407, 'committed': 683, 'nobody': 2742, 'dig': 917, 'grave': 1400, 'lego': 2430, 'book': 474, 'dry': 983, 'httpstco46lbcix7fi': 1583, 'wearing': 4140, 'shirt': 3405, 'cumulative': 805, 'correc': 759, 'httpstco8lcu71xzvm': 1625, 'anyone': 257, 'tonnage': 3810, 'excitement': 1121, 'guaranteed': 1417, 'greater': 1404, 'padre': 2861, 'brownsville': 509, 'checkout': 616, '60000': 105, 'boat': 461, 'insight': 2274, 'frame': 1281, 'stitched': 3598, 'tricky': 3852, 'overlap': 2846, 'httpstcoyzcixdgm38': 2161, 'opt': 2817, 'httpstcooycpr9i9hq': 1946, 'dramatically': 970, 'aka': 207, 'simultaneous': 3437, 'clue': 654, 'figure': 1210, 'unveiled': 4035, '922': 117, 'u26a1': 3984, 'hvac': 2196, 'hepa': 1486, 'filter': 1213, 'reich': 3180, 'global': 1375, 'warming': 4124, 'u0001f1e9': 3900, 'u0001f1ea': 3901, 'natürlich': 2710, 'bitte': 446, 'arbeiten': 287, 'sie': 3422, 'bei': 410, 'wird': 4188, 'spaß': 3532, 'machen': 2528, 'httpstcofcnopr2oii': 1746, 'prefer': 3007, 'subaru': 3626, 'vera': 4078, 'rubin': 3280, 'observatory': 2774, 'munger': 2694, 'httpstcof8rwy4exee': 1740, 'blackscholes': 449, 'formula': 1271, 'approximation': 283, 'pure': 3090, 'math': 2571, 'startup': 3580, 'series': 3374, 'increasingly': 2247, 'httpstcozynsxisp4n': 2182, 'productivity': 3048, 'caliber': 538, 'talent': 3701, 'hospitalgrade': 1526, 'healt': 1464, 'httpstcoytsk3lmfii': 2157, 'hiring': 1504, 'york': 4236, 'accelerated': 138, 'httpstcoiha2drewu0': 1819, 'touché': 3824, 'worker': 4207, 'compensation': 692, 'proportionately': 3066, 'moron': 2674, 'onboard': 2802, 'saocom': 3303, '1b': 28, 'httpstco2iezyiyyg5': 1560, 'rawlinson': 3131, 'joined': 2346, 'lurch': 2524, 'httpstcooy9yvm84xm': 1945, 'limit': 2459, 'milled': 2634, 'copper': 755, 'ja': 2332, 'httpstcot8d3yn4xry': 2022, 'guerre': 1418, 'comme': 679, 'tweeting': 3886, 'bombard': 472, 'emits': 1047, 'ak': 206, 'bidirectional': 432, 'via': 4087, 'lo': 2478, 'httpstcot42iuazmwh': 2021, 'gimbal': 1365, 'noting': 2759, 'bell': 414, 'httpstcokiegovt0rd': 1856, 'shipped': 3403, 'dev': 899, 'chart': 612, 'understates': 4010, 'lithiumion': 2471, 'rated': 3125, 'httpstco26dagjltdy': 1558, 'httpstcofjdhqrdvdb': 1750, 'sn6': 3480, 'flew': 1244, 'asimilar': 305, 'sn5': 3479, 'smoother': 3472, 'mannschaft': 2549, 'vielen': 4093, 'für': 1322, 'ihre': 2210, 'hervorragende': 1488, 'arbeit': 286, 'httpstcokvo5mbfnxt': 1867, 'germany': 1355, 'government': 1388, 'httpstcoddbxiodog1': 1704, 'httpstcostznan3vtx': 2016, 'trust': 3866, 'butt': 526, 'u0001f353': 3908, 'picking': 2933, 'strawberry': 3611, 'forever': 1268, 'outer': 2835, 'httpstco5z9p2upkqs': 1596, 'resonant': 3212, 'mode': 2656, 'arise': 293, '28': 61, 'hav': 1455, 'httpstcossaqzj8act': 2015, 'videodrome': 4092, 'httpstco0ckvhrmtf1': 1539, 'httpstcoqobvxgq8fz': 1977, 'sir': 3442, 'momentinertiaphobia': 2663, 'fourth': 1278, 'httpstcotutackmifn': 2035, 'lhc': 2443, 'httpstcoovaohsg1of': 1944, 'accelerator': 141, 'straight': 3607, 'circular': 634, 'zon': 4243, 'httpstcogqtxqmpy48': 1782, 'httpstco0y5fkvqpk8': 1547, 'httpstcoaiwrmzb3d1': 1653, 'snout': 3490, 'boops': 475, 'httpstcozjogq2ulvf': 2172, 'else': 1040, 'recommendation': 3160, 'httpstcoixhyt6nuic': 1828, 'printer': 3023, 'ip': 2321, 'httpstcox32sda871g': 2113, 'james': 2335, 'watt': 4131, 'measured': 2591, 'rounded': 3277, 'httpstcovnko0mtruc': 2077, 'alexander': 209, 'hellenism': 1480, 'film': 1212, 'study': 3624, 'loved': 2511, 'astronomy': 318, 'penn': 2908, 'class': 640, 'httpstcoo4fjcglahw': 1928, 'mutual': 2700, 'prof': 3049, 'friend': 1295, 'caltech': 543, 'cern': 593, 'ba': 365, 'httpstcotjsh1exz1q': 2028, 'embarrassing': 1042, 'fermilab': 1204, 'homework': 1515, 'u263a': 3979, 'common': 684, 'academia': 134, 'overweight': 2850, 'underweight': 4013, 'httpstcooffoojcqnv': 1933, 'unlikely': 4028, 'alone': 223, 'httpstcog7vxpupkvn': 1768, 'headed': 1461, 'convers': 746, 'httpstcoqqdcdov2jo': 1980, 'antibody': 255, 'halflife': 1428, 'harvard': 1451, 'httpstcodyl0p8xvuf': 1714, 'hospitalized': 1527, 'condition': 709, 'httpstcounjgvlveuk': 2051, 'initially': 2268, 'including': 2239, 'fro': 1296, 'httpstcoby0oophpp7': 1676, 'httpstcoo2qpnv2qry': 1927, 'predicting': 3004, 'httpstcoi2rrglbx8j': 1814, 'blanket': 451, 'boost': 476, 'httpstcovv2agje8mw': 2083, 'device': 904, 'syntax': 3690, 'improved': 2231, 'esthetically': 1090, 'avoids': 359, 'warfare': 4122, 'nightcap': 2738, 'summary': 3645, 'conceptual': 706, 'telepathy': 3732, 'fantasize': 1179, '1880s': 27, 'edison': 1015, 'httpstcoecghh5ston': 1723, 'trivial': 3858, 'becomes': 400, 'rutherford': 3288, 'gap': 1332, 'experimental': 1135, 'patient': 2895, 'wid': 4169, 'httpstcof0fib1w94z': 1737, 'shorter': 3408, 'skirt': 3451, 'length': 2432, 'demo': 865, 'webcast': 4143, 'httpstcoy9wred78oj': 2149, '230': 52, 'pound': 2987, 'peak': 2905, 'wit': 4193, 'httpstco1spnwbelpa': 1552, 'slip': 3459, 'october': 2791, 'progre': 3054, 'httpstcocjsgr0sjit': 1689, 'reasonable': 3152, 'drone': 978, 'httpstcohspkw3zk1y': 1811, 'hardworking': 1449, 'brave': 494, 'starhopper': 3573, 'carried': 568, 'httpstco19h4u8ta2a': 1548, 'obtuse': 2779, 'foldedover': 1259, 'httpstcoalexczij1l': 1655, 'surprised': 3667, 'across': 161, 'silicon': 3428, 'anode': 251, 'httpstcooohnzzeh9v': 1938, 'leave': 2423, 'parent': 2877, 'bang': 375, 'started': 3578, 'httpstcoxvvcualz2o': 2138, 'httpstco8r92iexvvn': 1629, 'asimov': 306, 'proportionate': 3065, 'olde': 2801, 'skoole': 3452, 'analog': 242, 'synthesizer': 3691, 'britain': 503, 'httpstcojg0fi3chxc': 1836, 'httpstcowoiwia7ztn': 2105, 'calm': 542, 'brake': 490, 'miniverse': 2641, 'microverse': 2626, 'httpstcoaduotl537t': 1648, 'focused': 1257, 'v2': 4060, 'lasik': 2396, 'lengthy': 2433, 'httpstcoz2yfaupdrd': 2165, 'friday': 1294, '3pm': 84, 'pacific': 2857, 'httpstcopoulbrgzfu': 1960, 'astronaughty': 314, 'httpstcotoysp1ukif': 2033, '78': 113, 'plant': 2946, 'enou': 1065, 'httpstco1tukv0hvig': 1553, 'candy': 551, 'frozen': 1299, 'heating': 1470, 'densify': 872, 'atmosphere': 319, 'solvable': 3501, 'northern': 2751, 'reliably': 3186, 'httpstcozcnw4z3nxh': 2168, 'gpus': 1392, 'core': 756, 'dot': 960, 'sup': 3649, 'httpstcol8xese456a': 1874, 'occasional': 2785, 'frequent': 1291, 'daily': 827, '30km': 73, '18': 26, 'httpstco5lliqzacuu': 1588, 'warn': 4125, 'dug': 986, '400': 87, 'wh': 4157, 'zenit': 4240, 'spaceports': 3525, 'satisfying': 3308, 'age': 192, 'reveals': 3234, 'httpstcoka0iha7z6c': 1852, 'httpstcoxuzmulvfhf': 2135, 'metaphor': 2616, 'httpstcocdll4ielju': 1682, 'flowing': 1251, 'grateful': 1399, 'powerwall': 2993, '162': 24, 'uninterrupted': 4020, 'backup': 369, 'ht': 1534, 'httpstcozbdygouhsz': 2167, 'httpstcohkpwjnxsfc': 1804, 'strike': 3615, 'noise': 2744, 'reduction': 3167, 'gotten': 1387, 'recently': 3157, 'hardcore': 1443, 'techno': 3726, 'aber': 121, 'vielleicht': 4094, 'ein': 1027, 'bisschen': 442, 'fahrstuhlmusik': 1162, 'auf': 329, 'der': 882, 'toilette': 3803, 'feature': 1195, 'polynesian': 2968, 'elevator': 1037, 'httpstcobki5sooroe': 1670, 'achieved': 156, 'selfperpetuating': 3356, 'autocracy': 342, 'farcical': 1182, 'aquatic': 285, 'ceremony': 592, 'king': 2370, 'chosen': 625, 'panzer': 2870, 'lake': 2386, 'direct': 922, 'democracy': 866, 'comprehensible': 702, 'voted': 4109, 'write': 4215, 'cover': 776, 'basic': 385, 'httpstcoywlqux5rbv': 2158, 'gpt': 1391, 'simon': 3431, 'garfunkel': 1334, 'lyric': 2525, 'bureaucracy': 521, 'inherently': 2265, 'kafkaesque': 2353, 'u0001f446': 3920, 'aok': 262, 'httpstcoztrmvq6wvx': 2178, 'president': 3012, '2024': 40, 'httpstcowo34fhkugu': 2104, 'hydrocarbon': 2200, 'combustion': 673, 'temperature': 3735, 'httpstcoezlaxwg3rp': 1736, 'lease': 2420, 'payment': 2899, 'specifically': 3537, 'expec': 1129, 'httpstcovae3ppljox': 2068, 'push': 3091, 'replace': 3200, 'individual': 2254, 'httpstcofdnxdwh4et': 1748, 'whenever': 4160, 'httpstcoy5db5mkzpu': 2144, 'u0001f3dd': 3914, 'cavalier': 586, 'possi': 2979, 'httpstco3dhapzhixh': 1572, 'since': 3439, 'august': 332, 'humidity': 2188, 'httpstcoxepds9ituw': 2120, 'v1': 4059, 'httpstcotsbttiduhj': 2034, 'scorcher': 3323, 'vi': 4086, 'httpstco34o80p1hi6': 1570, 'underrated': 4006, 'counterintuitive': 769, 'httpstcocagyh9nnd0': 1681, 'transcanada': 3842, 'supercharging': 3652, 'u2705': 3985, 'leasing': 2421, 'u0001f3af': 3911, 'httpstcogyfbe': 1789, 'f9': 1149, 'recovery': 3163, 'refurb': 3173, 'httpstcosqgxv49yrs': 2013, 'nut': 2767, 'adult': 176, 'squeeze': 3558, 'flamethrower': 1241, 'dof': 946, 'compression': 703, 'httpstcoukly4dwqur': 2047, 'aloha': 222, 'httpstcoxwpn09wtaw': 2140, 'post': 2983, 'worst': 4211, 'vying': 4112, 'title': 3797, 'chute': 632, 'closing': 651, 'locally': 2483, 'operating': 2810, 'httpstcosqlj63netb': 2014, 'u0001f610': 3943, 'somewhere': 3509, 'cruising': 797, 'httpstcopcybhfpuad': 1951, 'spit': 3549, 'dirt': 925, 'swiftly': 3678, 'becoming': 401, 'percentage': 2911, 'compute': 704, 'demonstrated': 868, '225': 50, 'httpstco44fge3giee': 1581, 'sn40': 3478, 'httpstcovk8nzlr0sz': 2074, 'exploding': 1139, 'httpstcokvkrwksvab': 1866, '20km': 44, 'naked': 2706, 'httpstcoup3t8ow5tf': 2053, 'sting': 3597, 'httpstcoxvuoeig9ex': 2137, 'comet': 676, 'intersect': 2308, 'observed': 2775, 'httpstcomezrzcnewo': 1897, 'package': 2859, 'httpstco6vz4xnohf9': 1610, 'buttontwiddling': 528, 'httpstcof2rxgcz964': 1739, 'memery': 2605, 'httpstcok3v3yddg6j': 1850, 'africa': 190, 'bold': 468, 'honored': 1519, 'begging': 404, 'history': 1505, 'victor': 4090, 'barbie': 379, 'plural': 2954, 'cyber': 819, 'httpstcodm76fjq3hx': 1708, 'crysis': 802, 'exaflop': 1113, 'fudgelike': 1303, 'consistency': 725, 'melting': 2602, 'smoosh': 3470, 'httpstcomdopo17yb9': 1895, 'httpstco326rkueyw8': 1569, 'km': 2372, 'httpstco38fzby8pno': 1571, 'hasty': 1452, 'govt': 1389, 'remains': 3188, 'httpstcowzg16taxee': 2111, 'trapped': 3848, 'uncorrelate': 4000, 'httpstcow1goo6etzh': 2090, 'httpstcolqnken5kjn': 1883, 'palo': 2866, 'alto': 231, 'seattle': 3337, 'remotely': 3195, 'acceptable': 143, 'vtol': 4111, 'sooo': 3514, 'overload': 2847, 'asteroid': 313, 'impact': 2221, 'worry': 4210, 'patch': 2892, 'httpstcop2ic1crpef': 1949, 'recent': 3156, 'httpstco6gbxaxtn4a': 1601, 'embarrassingly': 1043, 'late': 2400, 'authentication': 336, 'sm': 3463, 'httpstcoraxdlk9jti': 1991, 'bump': 519, 'pothole': 2986, 'steer': 3589, 'perfectly': 2912, 'httpstco3s2xzanace': 1579, 'httpstcoxpx7j5snpy': 2131, 'quantum': 3100, 'leap': 2417, 'architectural': 289, 'rewrite': 3241, 'httpstcok2cb4nimiy': 1849, 'httpstcoaipo9gd8ek': 1652, 'httpstcojjunwv2j94': 1838, 'n2': 2703, 'chrome': 627, 'aluminum': 232, 'necessarily': 2716, 'httpstcoiaqicetdoa': 1817, 'odds': 2793, 'httpstcoktppercwt5': 1863, 'psyche': 3084, 'httpstcozkoi8fpvzz': 2174, 'utility': 4057, 'restored': 3219, 'powerpack': 2991, 'megapack': 2598, 'httpstco712znztmbj': 1612, 'wil': 4177, 'httpstcou2wi4cgi5t': 2039, 'substantial': 3632, 'underpayment': 4005, 'ula': 3991, 'madness': 2532, 'boeing': 465, 'lockheed': 2486, 'suggest': 3640, 'buying': 530, 'airplane': 205, 'absurd': 131, 'generally': 1348, 'patent': 2893, 'efficiently': 1021, 'becau': 398, 'httpstcoalg6ue95ve': 1656, 'httpstcomwzjylhd88': 1912, 'toastier': 3798, 'hex': 1490, 'mounting': 2682, 'section': 3343, 'httpstcoxniptypahf': 2129, 'sn7': 3481, 'alloy': 220, 'taken': 3699, 'httpstco8bvrd5vdu7': 1622, 'wear': 4138, 'httpstcot0snf4ugyk': 2020, 'herb': 1487, 'tarlek': 3715, 'wkrp': 4199, 'httpstco0rc72s0zay': 1543, 'fabulous': 1151, 'jacket': 2334, 'gingham': 1366, 'combo': 672, 'cousin': 774, 'farm': 1183, 'saskatchewan': 3305, '17': 25, 'barnraising': 382, 'httpstcoy7lrlouxr9': 2147, 'httpstcocgxsnck6uv': 1686, 'clearly': 643, 'superheavy': 3656, 'fat': 1188, 'share': 3394, 'ownership': 2852, 'diluted': 920, 'httpstcoaqgi0cu2hn': 1659, 'amaze': 234, 'astronomer': 316, 'koet': 2380, 'saturn': 3310, 'appearing': 269, 'wonder': 4200, 'feed': 1197, 'httpstcovc6isfxioz': 2071, 'oil': 2798, 'interest': 2300, 'distract': 935, 'httpstcoptawt9dhhc': 1965, 'includes': 2238, 'paid': 2862, 'httpstcoiakln5fvpb': 1816, 'velociraptor': 4076, '2m': 64, 'veloci': 4075, 'par': 2872, 'httpstcodlmy5rybrk': 1707, '122m': 12, '394': 81, 'failing': 1165, 'elderly': 1031, 'atrisk': 322, 'recognize': 3159, 'httpstcokogvn4rmj8': 1860, 'construction': 732, 'httpstcopa8sgepv9y': 1950, 'httpstcoszo3thmxqa': 2019, 'httpstcoglz28kfvhu': 1776, 'httpstcoiafpj491zz': 1815, 'httpstcoiwvwca05hl': 1827, 'smooth': 3471, 'taller': 3707, 'httpstcocgeweqny7s': 1685, 'accelerating': 139, '150': 19, 'sn27': 3476, 'fact': 1157, 'scrubbed': 3330, 'spin': 3547, 'triggering': 3854, 'automatic': 345, 'abo': 123, 'httpstcoqddlnxfgjg': 1973, 'room': 3270, 'attempt': 325, '33': 76, 'confess': 711, 'occasionally': 2786, 'pontificating': 2970, 'highconcept': 1497, 'recommended': 3161, 'assured': 311, 'anybody': 256, 'touched': 3822, 'endeavour': 1058, 'cherish': 618, 'touching': 3823, 'postspacex': 2984, 'dm': 940, 'conference': 710, '445': 93, 'httpstcoqpe': 1979, 'crewed': 793, 'u0001f1fa': 3904, 'u0001f1f8': 3903, 'returned': 3229, 'httpstco0vas3cck9p': 1546, 'acquisition': 160, 'atmospheric': 320, 'plasma': 2947, 'zealand': 4239, 'florida': 1249, 'httpstcodzfr5bnbff': 1717, 'prove': 3076, 'superdraco': 3655, 'propulsive': 3068, 'originally': 2829, 'httpstco941a2odu5h': 1632, 'spend': 3542, 'homeland': 1514, 'monitor': 2666, 'httpstcoea14fozdo8': 1720, 'depart': 873, 'splash': 3550, 'simplest': 3432, 'accident': 147, '4530': 95, '000': 0, '479000': 97, 'httpstconnbetmy1tr': 1924, 'q2': 3098, 'httpstcoc7no6bbwgc': 1680, 'u0001f9d9': 3954, 'u200d': 3976, 'u2642': 3981, 'httpstcoxxvcwmrtws': 2142, 'longlasting': 2494, 'incredibly': 2249, 'bbc': 392, 'httpstcole3r20bwid': 1878, 'remain': 3187, 'plan': 2943, 'bring': 501, 'theyre': 3765, 'u0001f30e': 3905, 'u0001fa82': 3956, 'aug': 330, 'dra': 965, 'pyramid': 3096, 'tallest': 3708, '3800': 80, 'eight': 1025, 'hundred': 2190, 'httpstco6du46embni': 1600, 'ramses': 3116, 'ii': 2211, 'u0001f60e': 3941, 'egypt': 1024, 'stand': 3569, 'witch': 4194, 'logic': 2488, 'httpstcoo5xaopsnw1': 1930, 'granted': 1395, 'burned': 523, 'stake': 3567, 'witchcraft': 4195, 'que': 3103, 'construimos': 733, 'httpstco2yg5gatgv9': 1566, 'httpstco8lpvwbec4r': 1626, '150m': 20, 'u0001f9db': 3955, 'u2640': 3980, 'eclipse': 1011, 'httpstcon8djdlknbe': 1914, 'u0001f62e': 3946, 'aware': 362, 'hearing': 1467, 'frequency': 1290, 'amplitude': 241, 'remo': 3194, 'httpstcoc3o4rravz8': 1678, 'shunt': 3418, 'cortex': 762, 'microcontrollers': 2624, 'httpstcohppvgjfhms': 1808, 'neuron': 2728, 'firing': 1229, 'realtime': 3148, '28th': 62, 'matrix': 2573, 'httpstcoky8h0oyzyx': 1869, 'httpstcokmassjctix': 1858, 'adagio': 169, 'string': 3616, 'httpstcorgy1p1vgou': 1994, 'losing': 2503, 'httpstco9hoy0ldzg4': 1636, 'mein': 2600, 'herz': 1489, 'brennt': 496, 'bos': 481, 'battle': 388, 'httpstcojil6vzhqax': 1837, 'died': 910, 'bill': 436, 'gate': 1339, 'lover': 2512, 'untrue': 4031, 'httpstco5lpnpltp24': 1590, 'httpstcos8mdwgcdfg': 2006, 'rabies': 3109, 'httpstcofsf77xhiii': 1758, 'httpstco0kaav0dtnn': 1542, 'billy': 438, 'letting': 2437, 'sum': 3643, 'secret': 3342, 'supplying': 3661, 'powertrains': 2992, 'accelera': 136, 'httpstco5t9vgklwda': 1593, 'monopolist': 2667, 'corporation': 758, 'bernie': 419, 'httpstcoadojs2uce3': 1647, 'u0001f54a': 3935, 'feeling': 1200, 'bern': 418, 'tvc': 3883, 'hydraulic': 2198, 'behavior': 407, 'connector': 720, 'damaged': 828, 'storm': 3605, 'httpstcofb7e5noq2e': 1742, 'whether': 4163, 'monopoly': 2668, 'da': 824, 'kapital': 2357, 'nutshell': 2768, 'httpstcomg44mmkitx': 1898, 'humor': 2189, 'beer': 403, 'httpstcoik3tt1x4wp': 1822, 'onion': 2804, 'rose': 3272, 'dropped': 981, 'u0001f339': 3907, 'energetic': 1059, 'wallpaper': 4119, 'charge': 609, 'adventure': 181, 'httpstcohotdtlpdpw': 1806, 'impossibleseeming': 2227, 'prefabricated': 3006, 'httpstcox2drfewial': 2112, 'br': 488, 'httpstcoufay65lzjj': 2043, 'claire': 638, 'httpstcowj4ydjglsh': 2101, 'highvolume': 1501, 'longrange': 2495, 'australia': 334, 'httpstcokq81cqogfl': 1861, 'whoa': 4166, 'blue': 457, 'brinell': 500, 'hardness': 1447, 'corrosion': 761, 'resistance': 3210, 'faceted': 1154, 'httpstcodnkkgadjq4': 1710, 'turning': 3880, 'shade': 3389, 'outdoor': 2834, 'httpstcoemkzcfgarz': 1726, 'auto': 338, 'ep': 1075, 'httpstco3lc3l2rgcj': 1575, 'httpstcol65zaxyctr': 1872, 'httpstcogsj3np4cap': 1783, 'bolivia': 469, 'u0001f1e7': 3898, 'u0001f1f4': 3902, 'toppled': 3815, 'bolivian': 470, 'httpstcoyc5gaa12dw': 2150, 'kara': 2358, 'hunkering': 2191, 'hurricane': 2193, 'pass': 2887, 'httpstcohjdd7bjke3': 1803, 'lift': 2451, 'hydrogen': 2201, 'fool': 1261, '6k': 109, 'bet': 423, 'guillotine': 1421, 'poseur': 2975, 'drag': 966, 'cigarette': 633, 'facebook': 1153, 'politician': 2966, 'legislate': 2429, 'wealth': 4137, 'trillionaire': 3856, 'jammed': 2336, 'gill': 1364, 'earmark': 1000, 'stimulus': 3596, 'consumer': 734, 'maximize': 2578, 'happiness': 1440, 'giving': 1371, 'allows': 219, 'decid': 849, 'httpstcolwfxhvksjf': 1888, 'reminder': 3192, 'favor': 1192, 'universal': 4023, 'income': 2240, 'panel': 2868, '149': 17, 'httpstco5lplhqgazw': 1589, 'competition': 693, 'ensures': 1068, 'revolutionary': 3239, 'actuary': 168, 'insurance': 2289, 'inquire': 2270, 'interested': 2301, 'performed': 2914, 'habitability': 1426, 'assessment': 310, 'drago': 967, 'retail': 3225, 'remarkably': 3190, 'insightful': 2275, 'volumetrically': 4108, 'constrained': 730, 'h2': 1424, 'soviet': 3520, 'httpstcoalewbz8nfl': 1654, 'pixel': 2940, 'emphasize': 1048, 'oven': 2841, 'keep': 2360, 'wifi': 4173, 'password': 2889, 'tianwen': 3785, 'httpstcofsya3i0hru': 1760, 'httpstcojmkacbrb5d': 1840, 'soul': 3517, 'httpstcoo5fbbtan1s': 1929, 'individualized': 2255, 'transit': 3845, 'seated': 3335, 'httpstco6noglix6b5': 1605, 'overseen': 2849, 'involves': 2320, 'u0001f43b': 3918, 'finish': 1223, 'upgrading': 4042, 'steep': 3588, 'slope': 3460, 'gaslit': 1338, 'gaslight': 1337, 'brian': 497, 'williams': 4180, 'httpstcoyztdfzlull': 2162, 'constituent': 729, 'forming': 1270, 'traditional': 3837, 'httpstcofyuuio5dtz': 1764, 'advertising': 182, 'quality': 3099, 'anasisii': 244, 'httpstcoiyhjznzobv': 1830, 'kann': 2355, 'noch': 2743, 'keinen': 2361, 'löffel': 2526, 'benutzen': 415, 'httpstcouetqvia4bp': 2042, 'talked': 3704, 'vr': 4110, 'avatar': 354, 'saying': 3315, 'mention': 2607, 'u0001f608': 3939, 'sale': 3296, 'caught': 581, 'instruction': 2286, 'httpstcofpbckyfysh': 1753, 'httpstco1oltpnw929': 1551, 'alpha': 225, 'found': 1274, 'mhi': 2621, 'uae': 3986, 'stilton': 3595, 'crimson': 794, 'born': 480, '2012': 36, 'sn28': 3477, 'httpstcomrutle8y2v': 1909, 'organization': 2826, 'america': 237, 'httpstconb92': 1916, 'wed': 4145, 'earnings': 1002, 'httpstcoanite06dlj': 1657, 'manufactured': 2550, 'lax': 2412, 'contribute': 741, 'chromosome': 628, 'mitochondrion': 2650, 'constant': 726, 'mutation': 2699, 'automated': 344, 'ultimately': 3993, 'fermi': 1203, 'ask': 307, 'httpstcovr7thokncp': 2080, 'bde': 393, 'hulk': 2185, 'loses': 2502, 'pant': 2869, 'neuroscience': 2729, 'electrical': 1033, 'electronic': 1035, 'httpstcovmq2atdv5d': 2075, 'july': 2350, 'slc': 3456, 'solving': 3505, 'highreliability': 1500, 'valued': 4066, 'sealing': 3333, 'inductive': 2259, 'charging': 610, 'mgmt': 2620, 'httpstcorq3awmzxvo': 2000, 'summarizes': 3644, 'biz': 447, 'httpstcoebknqm6qyf': 1721, 'excuse': 1124, 'negativity': 2722, 'bias': 431, 'hustle': 2195, 'carefully': 565, 'hidden': 1495, 'indoor': 2257, 'httpstcouxqmuvtwxf': 2059, 'retiree': 3226, 'httpstcoqivas5gtpc': 1975, 'considering': 724, 'latch': 2399, 'ethernet': 1092, 'wire': 4189, 'obtrusive': 2778, 'httpstcoxxrxfrqhbs': 2141, 'lossy': 2505, 'unsecure': 4030, 'database': 838, 'allocati': 214, 'httpstco5vcgj8o31r': 1595, 'example': 1114, 'collapse': 663, '2nd': 65, 'danger': 832, 'httpstcoq1vvqvmj2i': 1970, 'selforient': 3355, 'optimal': 2818, 'angle': 247, 'expert': 1136, 'installer': 2284, 'httpstcoxndtxrdnl2': 2128, 'u0001f914': 3950, 'httpstcoirmxfy991y': 1825, 'term': 3740, 'aviation': 356, 'autobahn': 339, 'strength': 3612, 'perseverance': 2919, 'despite': 890, 'facing': 1156, 'playable': 2951, 'accura': 151, 'httpstcoltqh2vulgc': 1886, 'httpstcowfnfst3c5y': 2096, 'extra': 1145, 'paranoid': 2876, 'maximizing': 2579, 'paramount': 2875, 'anytime': 259, 'sustainability': 3672, 'httpstcojzxsr4h8vs': 1848, 'httpstcofs0pmcioic': 1757, 'reduced': 3166, 'pricing': 3019, 'lr': 2519, 'moto': 2677, 'httpstcofbhkiihsc3': 1743, '250kw': 57, 'unacceptably': 3998, '250': 56, 'epa': 1076, 'thickness': 3767, 'resistive': 3211, 'httpstcotcivzvc5ra': 2023, 'httpstcoiu3lmuqes5': 1826, 'da2': 826, 'da1': 825, '65': 106, '74': 112, '6f': 108, 'httpstco1mqxfakpzf': 1550, 'korolev': 2381, 'family': 1177, 'u041a': 3957, 'u0440': 3971, 'u044c': 3974, 'u0451': 3975, 'podcasts': 2959, 'spqr': 3556, 'httpstcogvfc9m3bhz': 1785, 'earning': 1001, 'augmentation': 331, 'pay': 2897, 'httpstcobpzwersoys': 1672, 'automotive': 347, 'ihop': 2209, 'github': 1368, 'terrifying': 3744, 'sensed': 3362, 'httpstcob3zxd384qd': 1664, 'payout': 2901, 'vesting': 4084, 'httpstco8zg37stxt9': 1631, 'answer': 253, 'dire': 921, 'priority': 3027, 'surreal': 3668, 'propaganda': 3061, 'social': 3494, 'httpstcowjrzibkh1h': 2102, 'clicking': 644, 'accept': 142, 'samwise': 3300, 'gamgee': 1329}\n"
     ]
    }
   ],
   "source": [
    "print(tf.vocabulary_)"
   ]
  },
  {
   "cell_type": "code",
   "execution_count": 19,
   "id": "6ff66ee2",
   "metadata": {
    "ExecuteTime": {
     "end_time": "2023-03-08T21:36:59.296864Z",
     "start_time": "2023-03-08T21:36:59.249615Z"
    },
    "collapsed": true
   },
   "outputs": [
    {
     "data": {
      "text/html": [
       "<div>\n",
       "<style scoped>\n",
       "    .dataframe tbody tr th:only-of-type {\n",
       "        vertical-align: middle;\n",
       "    }\n",
       "\n",
       "    .dataframe tbody tr th {\n",
       "        vertical-align: top;\n",
       "    }\n",
       "\n",
       "    .dataframe thead th {\n",
       "        text-align: right;\n",
       "    }\n",
       "</style>\n",
       "<table border=\"1\" class=\"dataframe\">\n",
       "  <thead>\n",
       "    <tr style=\"text-align: right;\">\n",
       "      <th></th>\n",
       "      <th>000</th>\n",
       "      <th>005</th>\n",
       "      <th>10</th>\n",
       "      <th>100</th>\n",
       "      <th>1000</th>\n",
       "      <th>10000</th>\n",
       "      <th>100m</th>\n",
       "      <th>107</th>\n",
       "      <th>10pm</th>\n",
       "      <th>10x</th>\n",
       "      <th>...</th>\n",
       "      <th>york</th>\n",
       "      <th>young</th>\n",
       "      <th>yup</th>\n",
       "      <th>zealand</th>\n",
       "      <th>zenit</th>\n",
       "      <th>zero</th>\n",
       "      <th>zip</th>\n",
       "      <th>zon</th>\n",
       "      <th>zone</th>\n",
       "      <th>ðogecoin</th>\n",
       "    </tr>\n",
       "  </thead>\n",
       "  <tbody>\n",
       "    <tr>\n",
       "      <th>0</th>\n",
       "      <td>0.0</td>\n",
       "      <td>0.0</td>\n",
       "      <td>0.0</td>\n",
       "      <td>0.0</td>\n",
       "      <td>0.0</td>\n",
       "      <td>0.0</td>\n",
       "      <td>0.0</td>\n",
       "      <td>0.0</td>\n",
       "      <td>0.0</td>\n",
       "      <td>0.0</td>\n",
       "      <td>...</td>\n",
       "      <td>0.0</td>\n",
       "      <td>0.0</td>\n",
       "      <td>0.0</td>\n",
       "      <td>0.0</td>\n",
       "      <td>0.0</td>\n",
       "      <td>0.0</td>\n",
       "      <td>0.0</td>\n",
       "      <td>0.0</td>\n",
       "      <td>0.0</td>\n",
       "      <td>0.0</td>\n",
       "    </tr>\n",
       "    <tr>\n",
       "      <th>1</th>\n",
       "      <td>0.0</td>\n",
       "      <td>0.0</td>\n",
       "      <td>0.0</td>\n",
       "      <td>0.0</td>\n",
       "      <td>0.0</td>\n",
       "      <td>0.0</td>\n",
       "      <td>0.0</td>\n",
       "      <td>0.0</td>\n",
       "      <td>0.0</td>\n",
       "      <td>0.0</td>\n",
       "      <td>...</td>\n",
       "      <td>0.0</td>\n",
       "      <td>0.0</td>\n",
       "      <td>0.0</td>\n",
       "      <td>0.0</td>\n",
       "      <td>0.0</td>\n",
       "      <td>0.0</td>\n",
       "      <td>0.0</td>\n",
       "      <td>0.0</td>\n",
       "      <td>0.0</td>\n",
       "      <td>0.0</td>\n",
       "    </tr>\n",
       "    <tr>\n",
       "      <th>2</th>\n",
       "      <td>0.0</td>\n",
       "      <td>0.0</td>\n",
       "      <td>0.0</td>\n",
       "      <td>0.0</td>\n",
       "      <td>0.0</td>\n",
       "      <td>0.0</td>\n",
       "      <td>0.0</td>\n",
       "      <td>0.0</td>\n",
       "      <td>0.0</td>\n",
       "      <td>0.0</td>\n",
       "      <td>...</td>\n",
       "      <td>0.0</td>\n",
       "      <td>0.0</td>\n",
       "      <td>0.0</td>\n",
       "      <td>0.0</td>\n",
       "      <td>0.0</td>\n",
       "      <td>0.0</td>\n",
       "      <td>0.0</td>\n",
       "      <td>0.0</td>\n",
       "      <td>0.0</td>\n",
       "      <td>0.0</td>\n",
       "    </tr>\n",
       "    <tr>\n",
       "      <th>3</th>\n",
       "      <td>0.0</td>\n",
       "      <td>0.0</td>\n",
       "      <td>0.0</td>\n",
       "      <td>0.0</td>\n",
       "      <td>0.0</td>\n",
       "      <td>0.0</td>\n",
       "      <td>0.0</td>\n",
       "      <td>0.0</td>\n",
       "      <td>0.0</td>\n",
       "      <td>0.0</td>\n",
       "      <td>...</td>\n",
       "      <td>0.0</td>\n",
       "      <td>0.0</td>\n",
       "      <td>0.0</td>\n",
       "      <td>0.0</td>\n",
       "      <td>0.0</td>\n",
       "      <td>0.0</td>\n",
       "      <td>0.0</td>\n",
       "      <td>0.0</td>\n",
       "      <td>0.0</td>\n",
       "      <td>0.0</td>\n",
       "    </tr>\n",
       "    <tr>\n",
       "      <th>4</th>\n",
       "      <td>0.0</td>\n",
       "      <td>0.0</td>\n",
       "      <td>0.0</td>\n",
       "      <td>0.0</td>\n",
       "      <td>0.0</td>\n",
       "      <td>0.0</td>\n",
       "      <td>0.0</td>\n",
       "      <td>0.0</td>\n",
       "      <td>0.0</td>\n",
       "      <td>0.0</td>\n",
       "      <td>...</td>\n",
       "      <td>0.0</td>\n",
       "      <td>0.0</td>\n",
       "      <td>0.0</td>\n",
       "      <td>0.0</td>\n",
       "      <td>0.0</td>\n",
       "      <td>0.0</td>\n",
       "      <td>0.0</td>\n",
       "      <td>0.0</td>\n",
       "      <td>0.0</td>\n",
       "      <td>0.0</td>\n",
       "    </tr>\n",
       "    <tr>\n",
       "      <th>...</th>\n",
       "      <td>...</td>\n",
       "      <td>...</td>\n",
       "      <td>...</td>\n",
       "      <td>...</td>\n",
       "      <td>...</td>\n",
       "      <td>...</td>\n",
       "      <td>...</td>\n",
       "      <td>...</td>\n",
       "      <td>...</td>\n",
       "      <td>...</td>\n",
       "      <td>...</td>\n",
       "      <td>...</td>\n",
       "      <td>...</td>\n",
       "      <td>...</td>\n",
       "      <td>...</td>\n",
       "      <td>...</td>\n",
       "      <td>...</td>\n",
       "      <td>...</td>\n",
       "      <td>...</td>\n",
       "      <td>...</td>\n",
       "      <td>...</td>\n",
       "    </tr>\n",
       "    <tr>\n",
       "      <th>1994</th>\n",
       "      <td>0.0</td>\n",
       "      <td>0.0</td>\n",
       "      <td>0.0</td>\n",
       "      <td>0.0</td>\n",
       "      <td>0.0</td>\n",
       "      <td>0.0</td>\n",
       "      <td>0.0</td>\n",
       "      <td>0.0</td>\n",
       "      <td>0.0</td>\n",
       "      <td>0.0</td>\n",
       "      <td>...</td>\n",
       "      <td>0.0</td>\n",
       "      <td>0.0</td>\n",
       "      <td>0.0</td>\n",
       "      <td>0.0</td>\n",
       "      <td>0.0</td>\n",
       "      <td>0.0</td>\n",
       "      <td>0.0</td>\n",
       "      <td>0.0</td>\n",
       "      <td>0.0</td>\n",
       "      <td>0.0</td>\n",
       "    </tr>\n",
       "    <tr>\n",
       "      <th>1995</th>\n",
       "      <td>0.0</td>\n",
       "      <td>0.0</td>\n",
       "      <td>0.0</td>\n",
       "      <td>0.0</td>\n",
       "      <td>0.0</td>\n",
       "      <td>0.0</td>\n",
       "      <td>0.0</td>\n",
       "      <td>0.0</td>\n",
       "      <td>0.0</td>\n",
       "      <td>0.0</td>\n",
       "      <td>...</td>\n",
       "      <td>0.0</td>\n",
       "      <td>0.0</td>\n",
       "      <td>0.0</td>\n",
       "      <td>0.0</td>\n",
       "      <td>0.0</td>\n",
       "      <td>0.0</td>\n",
       "      <td>0.0</td>\n",
       "      <td>0.0</td>\n",
       "      <td>0.0</td>\n",
       "      <td>0.0</td>\n",
       "    </tr>\n",
       "    <tr>\n",
       "      <th>1996</th>\n",
       "      <td>0.0</td>\n",
       "      <td>0.0</td>\n",
       "      <td>0.0</td>\n",
       "      <td>0.0</td>\n",
       "      <td>0.0</td>\n",
       "      <td>0.0</td>\n",
       "      <td>0.0</td>\n",
       "      <td>0.0</td>\n",
       "      <td>0.0</td>\n",
       "      <td>0.0</td>\n",
       "      <td>...</td>\n",
       "      <td>0.0</td>\n",
       "      <td>0.0</td>\n",
       "      <td>0.0</td>\n",
       "      <td>0.0</td>\n",
       "      <td>0.0</td>\n",
       "      <td>0.0</td>\n",
       "      <td>0.0</td>\n",
       "      <td>0.0</td>\n",
       "      <td>0.0</td>\n",
       "      <td>0.0</td>\n",
       "    </tr>\n",
       "    <tr>\n",
       "      <th>1997</th>\n",
       "      <td>0.0</td>\n",
       "      <td>0.0</td>\n",
       "      <td>0.0</td>\n",
       "      <td>0.0</td>\n",
       "      <td>0.0</td>\n",
       "      <td>0.0</td>\n",
       "      <td>0.0</td>\n",
       "      <td>0.0</td>\n",
       "      <td>0.0</td>\n",
       "      <td>0.0</td>\n",
       "      <td>...</td>\n",
       "      <td>0.0</td>\n",
       "      <td>0.0</td>\n",
       "      <td>0.0</td>\n",
       "      <td>0.0</td>\n",
       "      <td>0.0</td>\n",
       "      <td>0.0</td>\n",
       "      <td>0.0</td>\n",
       "      <td>0.0</td>\n",
       "      <td>0.0</td>\n",
       "      <td>0.0</td>\n",
       "    </tr>\n",
       "    <tr>\n",
       "      <th>1998</th>\n",
       "      <td>0.0</td>\n",
       "      <td>0.0</td>\n",
       "      <td>0.0</td>\n",
       "      <td>0.0</td>\n",
       "      <td>0.0</td>\n",
       "      <td>0.0</td>\n",
       "      <td>0.0</td>\n",
       "      <td>0.0</td>\n",
       "      <td>0.0</td>\n",
       "      <td>0.0</td>\n",
       "      <td>...</td>\n",
       "      <td>0.0</td>\n",
       "      <td>0.0</td>\n",
       "      <td>0.0</td>\n",
       "      <td>0.0</td>\n",
       "      <td>0.0</td>\n",
       "      <td>0.0</td>\n",
       "      <td>0.0</td>\n",
       "      <td>0.0</td>\n",
       "      <td>0.0</td>\n",
       "      <td>0.0</td>\n",
       "    </tr>\n",
       "  </tbody>\n",
       "</table>\n",
       "<p>1999 rows × 4246 columns</p>\n",
       "</div>"
      ],
      "text/plain": [
       "      000  005   10  100  1000  10000  100m  107  10pm  10x  ...  york  young  \\\n",
       "0     0.0  0.0  0.0  0.0   0.0    0.0   0.0  0.0   0.0  0.0  ...   0.0    0.0   \n",
       "1     0.0  0.0  0.0  0.0   0.0    0.0   0.0  0.0   0.0  0.0  ...   0.0    0.0   \n",
       "2     0.0  0.0  0.0  0.0   0.0    0.0   0.0  0.0   0.0  0.0  ...   0.0    0.0   \n",
       "3     0.0  0.0  0.0  0.0   0.0    0.0   0.0  0.0   0.0  0.0  ...   0.0    0.0   \n",
       "4     0.0  0.0  0.0  0.0   0.0    0.0   0.0  0.0   0.0  0.0  ...   0.0    0.0   \n",
       "...   ...  ...  ...  ...   ...    ...   ...  ...   ...  ...  ...   ...    ...   \n",
       "1994  0.0  0.0  0.0  0.0   0.0    0.0   0.0  0.0   0.0  0.0  ...   0.0    0.0   \n",
       "1995  0.0  0.0  0.0  0.0   0.0    0.0   0.0  0.0   0.0  0.0  ...   0.0    0.0   \n",
       "1996  0.0  0.0  0.0  0.0   0.0    0.0   0.0  0.0   0.0  0.0  ...   0.0    0.0   \n",
       "1997  0.0  0.0  0.0  0.0   0.0    0.0   0.0  0.0   0.0  0.0  ...   0.0    0.0   \n",
       "1998  0.0  0.0  0.0  0.0   0.0    0.0   0.0  0.0   0.0  0.0  ...   0.0    0.0   \n",
       "\n",
       "      yup  zealand  zenit  zero  zip  zon  zone  ðogecoin  \n",
       "0     0.0      0.0    0.0   0.0  0.0  0.0   0.0       0.0  \n",
       "1     0.0      0.0    0.0   0.0  0.0  0.0   0.0       0.0  \n",
       "2     0.0      0.0    0.0   0.0  0.0  0.0   0.0       0.0  \n",
       "3     0.0      0.0    0.0   0.0  0.0  0.0   0.0       0.0  \n",
       "4     0.0      0.0    0.0   0.0  0.0  0.0   0.0       0.0  \n",
       "...   ...      ...    ...   ...  ...  ...   ...       ...  \n",
       "1994  0.0      0.0    0.0   0.0  0.0  0.0   0.0       0.0  \n",
       "1995  0.0      0.0    0.0   0.0  0.0  0.0   0.0       0.0  \n",
       "1996  0.0      0.0    0.0   0.0  0.0  0.0   0.0       0.0  \n",
       "1997  0.0      0.0    0.0   0.0  0.0  0.0   0.0       0.0  \n",
       "1998  0.0      0.0    0.0   0.0  0.0  0.0   0.0       0.0  \n",
       "\n",
       "[1999 rows x 4246 columns]"
      ]
     },
     "execution_count": 19,
     "metadata": {},
     "output_type": "execute_result"
    }
   ],
   "source": [
    "data = pd.DataFrame(y.toarray(), columns=tf.get_feature_names_out())\n",
    "data"
   ]
  },
  {
   "cell_type": "markdown",
   "id": "d978e605",
   "metadata": {},
   "source": [
    "### 3. N-gram"
   ]
  },
  {
   "cell_type": "code",
   "execution_count": 25,
   "id": "66716fa3",
   "metadata": {
    "ExecuteTime": {
     "end_time": "2023-03-08T21:39:21.131365Z",
     "start_time": "2023-03-08T21:39:21.100027Z"
    },
    "collapsed": true
   },
   "outputs": [
    {
     "data": {
      "text/plain": [
       "[WordList(['ray', 'tracing']),\n",
       " WordList(['tracing', 'cyberpunk']),\n",
       " WordList(['cyberpunk', 'hdr']),\n",
       " WordList(['hdr', 'nextlevel']),\n",
       " WordList(['nextlevel', 'tried'])]"
      ]
     },
     "execution_count": 25,
     "metadata": {},
     "output_type": "execute_result"
    }
   ],
   "source": [
    "TextBlob(txt[1]).ngrams(2)"
   ]
  },
  {
   "cell_type": "markdown",
   "id": "91f2b91e",
   "metadata": {},
   "source": [
    "### 4. Sentiment Analysis"
   ]
  },
  {
   "cell_type": "code",
   "execution_count": 21,
   "id": "1d131f00",
   "metadata": {
    "ExecuteTime": {
     "end_time": "2023-03-08T21:36:59.517380Z",
     "start_time": "2023-03-08T21:36:59.312607Z"
    },
    "collapsed": true
   },
   "outputs": [
    {
     "data": {
      "text/plain": [
       "0                                    (-0.25, 0.75)\n",
       "1                                       (0.0, 0.0)\n",
       "2                                       (0.0, 0.0)\n",
       "3                                       (0.0, 0.0)\n",
       "4       (0.20000000000000004, 0.32222222222222224)\n",
       "                           ...                    \n",
       "1994     (0.15238095238095237, 0.4928571428571429)\n",
       "1995                                    (0.0, 0.0)\n",
       "1996                                    (0.0, 0.0)\n",
       "1997                                 (-0.375, 0.5)\n",
       "1998                                    (0.0, 0.0)\n",
       "Name: Text, Length: 1999, dtype: object"
      ]
     },
     "execution_count": 21,
     "metadata": {},
     "output_type": "execute_result"
    }
   ],
   "source": [
    "txt.apply(lambda x: TextBlob(x).sentiment)"
   ]
  },
  {
   "cell_type": "code",
   "execution_count": 22,
   "id": "8bc3b66b",
   "metadata": {
    "ExecuteTime": {
     "end_time": "2023-03-08T21:36:59.533035Z",
     "start_time": "2023-03-08T21:36:59.517380Z"
    },
    "collapsed": true
   },
   "outputs": [
    {
     "data": {
      "text/html": [
       "<div>\n",
       "<style scoped>\n",
       "    .dataframe tbody tr th:only-of-type {\n",
       "        vertical-align: middle;\n",
       "    }\n",
       "\n",
       "    .dataframe tbody tr th {\n",
       "        vertical-align: top;\n",
       "    }\n",
       "\n",
       "    .dataframe thead th {\n",
       "        text-align: right;\n",
       "    }\n",
       "</style>\n",
       "<table border=\"1\" class=\"dataframe\">\n",
       "  <thead>\n",
       "    <tr style=\"text-align: right;\">\n",
       "      <th></th>\n",
       "      <th>Text</th>\n",
       "    </tr>\n",
       "  </thead>\n",
       "  <tbody>\n",
       "    <tr>\n",
       "      <th>0</th>\n",
       "      <td>alien</td>\n",
       "    </tr>\n",
       "    <tr>\n",
       "      <th>1</th>\n",
       "      <td>ray tracing cyberpunk hdr nextlevel tried</td>\n",
       "    </tr>\n",
       "    <tr>\n",
       "      <th>2</th>\n",
       "      <td>interview</td>\n",
       "    </tr>\n",
       "    <tr>\n",
       "      <th>3</th>\n",
       "      <td>doge underestimated</td>\n",
       "    </tr>\n",
       "    <tr>\n",
       "      <th>4</th>\n",
       "      <td>congratulation china amazing execution last ye...</td>\n",
       "    </tr>\n",
       "    <tr>\n",
       "      <th>...</th>\n",
       "      <td>...</td>\n",
       "    </tr>\n",
       "    <tr>\n",
       "      <th>1994</th>\n",
       "      <td>true sound surreal negative propaganda still e...</td>\n",
       "    </tr>\n",
       "    <tr>\n",
       "      <th>1995</th>\n",
       "      <td>make read ur term condition clicking accept</td>\n",
       "    </tr>\n",
       "    <tr>\n",
       "      <th>1996</th>\n",
       "      <td>samwise gamgee</td>\n",
       "    </tr>\n",
       "    <tr>\n",
       "      <th>1997</th>\n",
       "      <td>dumb dumber</td>\n",
       "    </tr>\n",
       "    <tr>\n",
       "      <th>1998</th>\n",
       "      <td>progress update august 28</td>\n",
       "    </tr>\n",
       "  </tbody>\n",
       "</table>\n",
       "<p>1999 rows × 1 columns</p>\n",
       "</div>"
      ],
      "text/plain": [
       "                                                   Text\n",
       "0                                                 alien\n",
       "1             ray tracing cyberpunk hdr nextlevel tried\n",
       "2                                             interview\n",
       "3                                   doge underestimated\n",
       "4     congratulation china amazing execution last ye...\n",
       "...                                                 ...\n",
       "1994  true sound surreal negative propaganda still e...\n",
       "1995        make read ur term condition clicking accept\n",
       "1996                                     samwise gamgee\n",
       "1997                                        dumb dumber\n",
       "1998                          progress update august 28\n",
       "\n",
       "[1999 rows x 1 columns]"
      ]
     },
     "execution_count": 22,
     "metadata": {},
     "output_type": "execute_result"
    }
   ],
   "source": [
    "data = pd.DataFrame(txt, columns=['Text'])\n",
    "data"
   ]
  },
  {
   "cell_type": "code",
   "execution_count": 23,
   "id": "61cd86bc",
   "metadata": {
    "ExecuteTime": {
     "end_time": "2023-03-08T21:36:59.894209Z",
     "start_time": "2023-03-08T21:36:59.533035Z"
    },
    "collapsed": true
   },
   "outputs": [
    {
     "data": {
      "text/html": [
       "<div>\n",
       "<style scoped>\n",
       "    .dataframe tbody tr th:only-of-type {\n",
       "        vertical-align: middle;\n",
       "    }\n",
       "\n",
       "    .dataframe tbody tr th {\n",
       "        vertical-align: top;\n",
       "    }\n",
       "\n",
       "    .dataframe thead th {\n",
       "        text-align: right;\n",
       "    }\n",
       "</style>\n",
       "<table border=\"1\" class=\"dataframe\">\n",
       "  <thead>\n",
       "    <tr style=\"text-align: right;\">\n",
       "      <th></th>\n",
       "      <th>Text</th>\n",
       "      <th>sentiment- Polarity</th>\n",
       "      <th>sentiment- Subjectivity</th>\n",
       "    </tr>\n",
       "  </thead>\n",
       "  <tbody>\n",
       "    <tr>\n",
       "      <th>0</th>\n",
       "      <td>alien</td>\n",
       "      <td>-0.250000</td>\n",
       "      <td>0.750000</td>\n",
       "    </tr>\n",
       "    <tr>\n",
       "      <th>1</th>\n",
       "      <td>ray tracing cyberpunk hdr nextlevel tried</td>\n",
       "      <td>0.000000</td>\n",
       "      <td>0.000000</td>\n",
       "    </tr>\n",
       "    <tr>\n",
       "      <th>2</th>\n",
       "      <td>interview</td>\n",
       "      <td>0.000000</td>\n",
       "      <td>0.000000</td>\n",
       "    </tr>\n",
       "    <tr>\n",
       "      <th>3</th>\n",
       "      <td>doge underestimated</td>\n",
       "      <td>0.000000</td>\n",
       "      <td>0.000000</td>\n",
       "    </tr>\n",
       "    <tr>\n",
       "      <th>4</th>\n",
       "      <td>congratulation china amazing execution last ye...</td>\n",
       "      <td>0.200000</td>\n",
       "      <td>0.322222</td>\n",
       "    </tr>\n",
       "    <tr>\n",
       "      <th>...</th>\n",
       "      <td>...</td>\n",
       "      <td>...</td>\n",
       "      <td>...</td>\n",
       "    </tr>\n",
       "    <tr>\n",
       "      <th>1994</th>\n",
       "      <td>true sound surreal negative propaganda still e...</td>\n",
       "      <td>0.152381</td>\n",
       "      <td>0.492857</td>\n",
       "    </tr>\n",
       "    <tr>\n",
       "      <th>1995</th>\n",
       "      <td>make read ur term condition clicking accept</td>\n",
       "      <td>0.000000</td>\n",
       "      <td>0.000000</td>\n",
       "    </tr>\n",
       "    <tr>\n",
       "      <th>1996</th>\n",
       "      <td>samwise gamgee</td>\n",
       "      <td>0.000000</td>\n",
       "      <td>0.000000</td>\n",
       "    </tr>\n",
       "    <tr>\n",
       "      <th>1997</th>\n",
       "      <td>dumb dumber</td>\n",
       "      <td>-0.375000</td>\n",
       "      <td>0.500000</td>\n",
       "    </tr>\n",
       "    <tr>\n",
       "      <th>1998</th>\n",
       "      <td>progress update august 28</td>\n",
       "      <td>0.000000</td>\n",
       "      <td>0.000000</td>\n",
       "    </tr>\n",
       "  </tbody>\n",
       "</table>\n",
       "<p>1999 rows × 3 columns</p>\n",
       "</div>"
      ],
      "text/plain": [
       "                                                   Text  sentiment- Polarity  \\\n",
       "0                                                 alien            -0.250000   \n",
       "1             ray tracing cyberpunk hdr nextlevel tried             0.000000   \n",
       "2                                             interview             0.000000   \n",
       "3                                   doge underestimated             0.000000   \n",
       "4     congratulation china amazing execution last ye...             0.200000   \n",
       "...                                                 ...                  ...   \n",
       "1994  true sound surreal negative propaganda still e...             0.152381   \n",
       "1995        make read ur term condition clicking accept             0.000000   \n",
       "1996                                     samwise gamgee             0.000000   \n",
       "1997                                        dumb dumber            -0.375000   \n",
       "1998                          progress update august 28             0.000000   \n",
       "\n",
       "      sentiment- Subjectivity  \n",
       "0                    0.750000  \n",
       "1                    0.000000  \n",
       "2                    0.000000  \n",
       "3                    0.000000  \n",
       "4                    0.322222  \n",
       "...                       ...  \n",
       "1994                 0.492857  \n",
       "1995                 0.000000  \n",
       "1996                 0.000000  \n",
       "1997                 0.500000  \n",
       "1998                 0.000000  \n",
       "\n",
       "[1999 rows x 3 columns]"
      ]
     },
     "execution_count": 23,
     "metadata": {},
     "output_type": "execute_result"
    }
   ],
   "source": [
    "data['sentiment- Polarity'] = data['Text'].apply(lambda x: TextBlob(x).sentiment.polarity)\n",
    "data['sentiment- Subjectivity'] = data['Text'].apply(lambda x: TextBlob(x).sentiment.subjectivity)\n",
    "data"
   ]
  },
  {
   "cell_type": "code",
   "execution_count": null,
   "id": "a2b23cf8",
   "metadata": {},
   "outputs": [],
   "source": []
  }
 ],
 "metadata": {
  "kernelspec": {
   "display_name": "Python 3 (ipykernel)",
   "language": "python",
   "name": "python3"
  },
  "language_info": {
   "codemirror_mode": {
    "name": "ipython",
    "version": 3
   },
   "file_extension": ".py",
   "mimetype": "text/x-python",
   "name": "python",
   "nbconvert_exporter": "python",
   "pygments_lexer": "ipython3",
   "version": "3.9.12"
  }
 },
 "nbformat": 4,
 "nbformat_minor": 5
}
