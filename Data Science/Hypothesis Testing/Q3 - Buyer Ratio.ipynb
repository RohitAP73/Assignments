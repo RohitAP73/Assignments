{
 "cells": [
  {
   "cell_type": "markdown",
   "id": "9eaf3c0f",
   "metadata": {},
   "source": [
    "### Sales of products in four different regions is tabulated for males and females. Find if male-female buyer rations are similar across regions."
   ]
  },
  {
   "cell_type": "markdown",
   "id": "5fdea24d",
   "metadata": {},
   "source": [
    "    Ho = Male and Female columns are independent.\n",
    "    Ha = Male and Female columns are dependent.\n",
    "    alpha = significance level = 5% = 0.05.\n",
    "    For above example we use Chi-Square test."
   ]
  },
  {
   "cell_type": "code",
   "execution_count": 1,
   "id": "a7b031ef",
   "metadata": {
    "ExecuteTime": {
     "end_time": "2023-01-11T18:55:01.512756Z",
     "start_time": "2023-01-11T18:55:00.909340Z"
    }
   },
   "outputs": [],
   "source": [
    "import pandas as pd\n",
    "import numpy as np\n",
    "import scipy.stats as st"
   ]
  },
  {
   "cell_type": "code",
   "execution_count": 2,
   "id": "5b367563",
   "metadata": {
    "ExecuteTime": {
     "end_time": "2023-01-11T18:55:01.544486Z",
     "start_time": "2023-01-11T18:55:01.513339Z"
    }
   },
   "outputs": [
    {
     "data": {
      "text/html": [
       "<div>\n",
       "<style scoped>\n",
       "    .dataframe tbody tr th:only-of-type {\n",
       "        vertical-align: middle;\n",
       "    }\n",
       "\n",
       "    .dataframe tbody tr th {\n",
       "        vertical-align: top;\n",
       "    }\n",
       "\n",
       "    .dataframe thead th {\n",
       "        text-align: right;\n",
       "    }\n",
       "</style>\n",
       "<table border=\"1\" class=\"dataframe\">\n",
       "  <thead>\n",
       "    <tr style=\"text-align: right;\">\n",
       "      <th></th>\n",
       "      <th>East</th>\n",
       "      <th>West</th>\n",
       "      <th>North</th>\n",
       "      <th>South</th>\n",
       "    </tr>\n",
       "    <tr>\n",
       "      <th>Observed Values</th>\n",
       "      <th></th>\n",
       "      <th></th>\n",
       "      <th></th>\n",
       "      <th></th>\n",
       "    </tr>\n",
       "  </thead>\n",
       "  <tbody>\n",
       "    <tr>\n",
       "      <th>Males</th>\n",
       "      <td>50</td>\n",
       "      <td>142</td>\n",
       "      <td>131</td>\n",
       "      <td>70</td>\n",
       "    </tr>\n",
       "    <tr>\n",
       "      <th>Females</th>\n",
       "      <td>435</td>\n",
       "      <td>1523</td>\n",
       "      <td>1356</td>\n",
       "      <td>750</td>\n",
       "    </tr>\n",
       "  </tbody>\n",
       "</table>\n",
       "</div>"
      ],
      "text/plain": [
       "                 East  West  North  South\n",
       "Observed Values                          \n",
       "Males              50   142    131     70\n",
       "Females           435  1523   1356    750"
      ]
     },
     "execution_count": 2,
     "metadata": {},
     "output_type": "execute_result"
    }
   ],
   "source": [
    "df = pd.read_csv(r\"C:\\Users\\rohit\\Downloads\\Assignments\\data science assignment\\Hypothesis Testing\\BuyerRatio.csv\",\n",
    "                 index_col=0)\n",
    "df"
   ]
  },
  {
   "cell_type": "code",
   "execution_count": 3,
   "id": "e40f101e",
   "metadata": {
    "ExecuteTime": {
     "end_time": "2023-01-11T18:55:01.560456Z",
     "start_time": "2023-01-11T18:55:01.544486Z"
    }
   },
   "outputs": [],
   "source": [
    "obs = [[50,142,131,70],\n",
    "       [435,1523,1356,750]]"
   ]
  },
  {
   "cell_type": "code",
   "execution_count": 4,
   "id": "2463b5ff",
   "metadata": {
    "ExecuteTime": {
     "end_time": "2023-01-11T18:55:01.576444Z",
     "start_time": "2023-01-11T18:55:01.560456Z"
    }
   },
   "outputs": [
    {
     "data": {
      "text/plain": [
       "(1.595945538661058,\n",
       " 0.6603094907091882,\n",
       " 3,\n",
       " array([[  42.76531299,  146.81287862,  131.11756787,   72.30424052],\n",
       "        [ 442.23468701, 1518.18712138, 1355.88243213,  747.69575948]]))"
      ]
     },
     "execution_count": 4,
     "metadata": {},
     "output_type": "execute_result"
    }
   ],
   "source": [
    "test_stats, p, dof, exp = st.chi2_contingency(obs)\n",
    "test_stats, p, dof, exp"
   ]
  },
  {
   "cell_type": "code",
   "execution_count": 5,
   "id": "5e80c0fa",
   "metadata": {
    "ExecuteTime": {
     "end_time": "2023-01-11T18:55:01.592081Z",
     "start_time": "2023-01-11T18:55:01.576444Z"
    }
   },
   "outputs": [],
   "source": [
    "observed = np.array([50, 142, 131, 70, 435, 1523, 1356, 750])\n",
    "expected = np.array([42.76531299, 146.81287862, 131.11756787, 72.30424052, 442.23468701, 1518.18712138, 1355.88243213, 747.69575948])"
   ]
  },
  {
   "cell_type": "code",
   "execution_count": 7,
   "id": "d4829627",
   "metadata": {
    "ExecuteTime": {
     "end_time": "2023-01-11T18:55:52.475113Z",
     "start_time": "2023-01-11T18:55:52.459638Z"
    }
   },
   "outputs": [
    {
     "data": {
      "text/plain": [
       "(1.5959455390914483, 0.8095206646905712)"
      ]
     },
     "execution_count": 7,
     "metadata": {},
     "output_type": "execute_result"
    }
   ],
   "source": [
    "test_stats, p_value = st.chisquare(observed,expected,ddof=3)\n",
    "test_stats, p_value"
   ]
  },
  {
   "cell_type": "code",
   "execution_count": 8,
   "id": "2109775b",
   "metadata": {
    "ExecuteTime": {
     "end_time": "2023-01-11T18:56:58.817215Z",
     "start_time": "2023-01-11T18:56:58.801535Z"
    }
   },
   "outputs": [
    {
     "data": {
      "text/plain": [
       "0.8095206646905712"
      ]
     },
     "execution_count": 8,
     "metadata": {},
     "output_type": "execute_result"
    }
   ],
   "source": [
    "p_value"
   ]
  },
  {
   "cell_type": "code",
   "execution_count": 9,
   "id": "6b72deac",
   "metadata": {
    "ExecuteTime": {
     "end_time": "2023-01-11T18:57:07.375687Z",
     "start_time": "2023-01-11T18:57:07.360121Z"
    }
   },
   "outputs": [],
   "source": [
    "alpha = 0.05"
   ]
  },
  {
   "cell_type": "markdown",
   "id": "c0f03bf1",
   "metadata": {},
   "source": [
    "As (p > alpha), we fail to reject Ho. Hence, Male and Female columns are independent and male-female buyer rations are similar across regions."
   ]
  }
 ],
 "metadata": {
  "kernelspec": {
   "display_name": "Python 3 (ipykernel)",
   "language": "python",
   "name": "python3"
  },
  "language_info": {
   "codemirror_mode": {
    "name": "ipython",
    "version": 3
   },
   "file_extension": ".py",
   "mimetype": "text/x-python",
   "name": "python",
   "nbconvert_exporter": "python",
   "pygments_lexer": "ipython3",
   "version": "3.9.12"
  }
 },
 "nbformat": 4,
 "nbformat_minor": 5
}
